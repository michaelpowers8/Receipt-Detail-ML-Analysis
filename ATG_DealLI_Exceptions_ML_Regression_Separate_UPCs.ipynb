{
 "cells": [
  {
   "cell_type": "markdown",
   "metadata": {},
   "source": [
    "# ATG_DealLI_Exceptions_ML_OI_Predictions"
   ]
  },
  {
   "cell_type": "markdown",
   "metadata": {},
   "source": [
    "## Importing Libraries"
   ]
  },
  {
   "cell_type": "code",
   "execution_count": null,
   "metadata": {},
   "outputs": [],
   "source": [
    "from pandas import set_option,concat,DataFrame,Series,to_numeric,to_datetime,options,read_csv,read_excel\n",
    "from numpy import concatenate,random,unique,round\n",
    "from pyodbc import connect\n",
    "from warnings import filterwarnings\n",
    "# from matplotlib.pyplot import subplots,tight_layout,savefig,close,figure,scatter,plot,title,legend\n",
    "import matplotlib.pyplot as plt\n",
    "from sklearn.metrics import mean_absolute_error,mean_squared_error\n",
    "from sklearn.metrics import median_absolute_error,r2_score,max_error\n",
    "from sklearn.ensemble import RandomForestRegressor,GradientBoostingRegressor,HistGradientBoostingRegressor \n",
    "from sklearn.linear_model import LinearRegression\n",
    "from sklearn.dummy import DummyRegressor\n",
    "#from sklearn.utils import shuffle\n",
    "from sklearn.tree import DecisionTreeRegressor#,plot_tree\n",
    "from sklearn.model_selection import GridSearchCV,train_test_split#,cross_val_score\n",
    "from sklearn.preprocessing import StandardScaler#,LabelBinarizer,label_binarize,MaxAbsScaler\n",
    "#from sklearn.feature_extraction import FeatureHasher\n",
    "from catboost import CatBoostRegressor\n",
    "from xgboost import XGBRegressor\n",
    "from lightgbm import LGBMRegressor\n",
    "from IPython.display import clear_output\n",
    "from sklearn.neighbors import *\n",
    "from re import search#,match\n",
    "from random import randint\n",
    "from time import time\n",
    "from smtplib import SMTP_SSL\n",
    "from ssl import create_default_context\n",
    "from os import path,walk\n",
    "from zipfile import ZipFile, ZIP_DEFLATED\n",
    "from datetime import datetime\n",
    "from time import time#,sleep"
   ]
  },
  {
   "cell_type": "code",
   "execution_count": null,
   "metadata": {},
   "outputs": [],
   "source": [
    "filterwarnings('ignore')\n",
    "set_option('display.max_rows', None)\n",
    "set_option('display.max_columns', None)"
   ]
  },
  {
   "cell_type": "markdown",
   "metadata": {},
   "source": [
    "## SQL Connect"
   ]
  },
  {
   "cell_type": "code",
   "execution_count": null,
   "metadata": {},
   "outputs": [],
   "source": [
    "server = 'troy'\n",
    "database = 'prod_Costco_RecoverNow'\n",
    "connectionString = f'DRIVER={{ODBC Driver 17 for SQL Server}};SERVER={server};DATABASE={database};Integrated Security={True};Autocommit={True};Trusted_Connection=yes;'\n",
    "conn = connect(connectionString)\n",
    "cursor_1 = conn.cursor()"
   ]
  },
  {
   "cell_type": "markdown",
   "metadata": {},
   "source": [
    "## Supporting Functions"
   ]
  },
  {
   "cell_type": "code",
   "execution_count": null,
   "metadata": {},
   "outputs": [],
   "source": [
    "def export_to_sql(data: DataFrame):\n",
    "    server = 'barney'\n",
    "    database = 'sandbox_mp'\n",
    "    connectionString = f'DRIVER={{ODBC Driver 17 for SQL Server}};SERVER={server};DATABASE={database};Integrated Security={True};Autocommit={True};Trusted_Connection=yes;'\n",
    "    conn = connect(connectionString)\n",
    "    cursor = conn.cursor()\n",
    "    insert_sql = \"\"\"\n",
    "        INSERT INTO Weis_Market_Claim_Discrepancies_PdOI_ATG (\n",
    "            ATG_DealLI_Exceptions_IsClaimFlg,\n",
    "            ATG_DealLI_Exceptions_Checked,\n",
    "            ATG_DealLI_Exceptions_ATG_Ref,\n",
    "            ATG_DealLI_Exceptions_LI_ATG_Ref,\n",
    "            ATG_DealLI_Exceptions_BatchNbr,\n",
    "            ATG_DealLI_Exceptions_CATEGORY_ATG,\n",
    "            ATG_DealLI_Exceptions_ClaimType,\n",
    "            ATG_DealLI_Exceptions_AP_VndNbr,\n",
    "            ATG_DealLI_Exceptions_AP_VndrName,\n",
    "            ATG_DealLI_Exceptions_OOB_ATG,\n",
    "            ATG_DealLI_Exceptions_ItemNbr,\n",
    "            ATG_DealLI_Exceptions_UPCNbr,\n",
    "            ATG_DealLI_Exceptions_UPCUnit,\n",
    "            ATG_DealLI_Exceptions_ItemDescription,\n",
    "            ATG_DealLI_Exceptions_ItemShipPack,\n",
    "            ATG_DealLI_Exceptions_PoNbr,\n",
    "            ATG_DealLI_Exceptions_PODate,\n",
    "            ATG_DealLI_Exceptions_ReceivingDate,\n",
    "            ATG_DealLI_Exceptions_TurnRatio_ATG,\n",
    "            ATG_DealLI_Exceptions_TurnQty_ATG,\n",
    "            ATG_DealLI_Exceptions_OrdQty,\n",
    "            ATG_DealLI_Exceptions_PdQty_ATG,\n",
    "            ATG_DealLI_Exceptions_PdGross_ATG,\n",
    "            ATG_DealLI_Exceptions_PdBB_ATG,\n",
    "            ATG_DealLI_Exceptions_PdNet_ATG,\n",
    "            ATG_DealLI_Exceptions_DealNbr,\n",
    "            ATG_DealLI_Exceptions_OrdStartDate_ATG,\n",
    "            ATG_DealLI_Exceptions_OrdEndDate_ATG,\n",
    "            ATG_DealLI_Exceptions_DateStartArrival_ATG,\n",
    "            ATG_DealLI_Exceptions_DateEndArrival_ATG,\n",
    "            ATG_DealLI_Exceptions_DLAmtOI,\n",
    "            ATG_DealLI_Exceptions_DLAmtBB,\n",
    "            ATG_DealLI_Exceptions_PdOI_ATG_Before_AI,\n",
    "            Linear_Model_Predictions_ATG_DealLI_Exceptions_PdOI_ATG,\n",
    "            DecisionTree_Model_Predictions_ATG_DealLI_Exceptions_PdOI_ATG,\n",
    "            RandomForest_Predictions_ATG_DealLI_Exceptions_PdOI_ATG,\n",
    "            XGBoost_Model_Predictions_ATG_DealLI_Exceptions_PdOI_ATG,\n",
    "            GradientBoost_Model_Predictions_ATG_DealLI_Exceptions_PdOI_ATG,\n",
    "            LGBM_Model_Predictions_ATG_DealLI_Exceptions_PdOI_ATG,\n",
    "            CatBoost_Model_Predictions_ATG_DealLI_Exceptions_PdOI_ATG,\n",
    "            KNeighbors_Model_Predictions_ATG_DealLI_Exceptions_PdOI_ATG\n",
    "        ) VALUES (?,?,?,?,?,?,?,?,?,?,?,?,?,?,?,?,?,?,?,?,?,?,?,?,?,?,?,?,?,?,?,?,?,?,?,?,?,?,?,?,?)\n",
    "    \"\"\"\n",
    "    for row in data.index:\n",
    "        if(int(row)%100==0):\n",
    "            clear_output(wait=False)\n",
    "            print(f\"{row:,}\")\n",
    "        current_row = list(data.iloc[int(row)])\n",
    "        del current_row[33]\n",
    "        cols = list(data.columns)\n",
    "        for index in range(len(current_row)):\n",
    "            if(index>=33):\n",
    "                current_row[index] = round(current_row[index],4)\n",
    "            if(index in [2,3,4]):\n",
    "                current_row[index] = int(current_row[index])\n",
    "            else:\n",
    "                current_row[index] = str(current_row[index])\n",
    "        current_row.insert(33,current_row[23])\n",
    "        del current_row[23]\n",
    "        cursor.execute(insert_sql, current_row)\n",
    "        conn.commit()\n",
    "    cursor.close()\n",
    "    conn.close()"
   ]
  },
  {
   "cell_type": "code",
   "execution_count": null,
   "metadata": {},
   "outputs": [],
   "source": [
    "def scatter_plot_models(target: Series,predictions: Series,model_name: str, show: bool=False):\n",
    "    plt.figure(figsize=(6,5))\n",
    "    plt.scatter(target,predictions,color='blue',label='Test_Data',linewidths=.1)\n",
    "    plt.plot([Series(target).min(),Series(target).max()],\n",
    "            [Series(target).min(),Series(target).max()],'k--',lw=1)\n",
    "    plt.xlabel('PdOI_ATG_Before_AI')\n",
    "    plt.ylabel('PdOI_ATG_After_AI')\n",
    "    plt.savefig(f\"C:/Code/Python/Machine_Learning_AI/Model_Analysis/{model_name}_Scatter.png\")\n",
    "    if(show):\n",
    "        plt.show()\n",
    "    else:\n",
    "        plt.close()"
   ]
  },
  {
   "cell_type": "code",
   "execution_count": null,
   "metadata": {},
   "outputs": [],
   "source": [
    "def get_scores(target, predictions):\n",
    "    mse = mean_squared_error(target, predictions)\n",
    "    rmse = mse**0.5\n",
    "    median_ae = median_absolute_error(target,predictions)\n",
    "    mean_ae = mean_absolute_error(target,predictions)\n",
    "    max_errors = max_error(target,predictions)\n",
    "    r2 = r2_score(target,predictions)\n",
    "    display(concat([target,predictions],axis=1).head(25))\n",
    "    return [mse,rmse,mean_ae,median_ae,max_errors,r2]"
   ]
  },
  {
   "cell_type": "code",
   "execution_count": null,
   "metadata": {},
   "outputs": [],
   "source": [
    "def run_and_analyze_model(model,features_train: DataFrame,target_train: Series,features_test: Series,target_test: Series,model_scores: DataFrame,model_name: str):\n",
    "    model.fit(features_train,target_train)\n",
    "    predictions = Series(model.predict(features_test),name=model_name)\n",
    "    model_scores.loc[model_name] = get_scores(target_test,predictions)\n",
    "    try:\n",
    "        model_importances = DataFrame([model.feature_importances_],columns=features_train.columns,index=[model_name]).T\n",
    "        return model,predictions,model_scores,model_importances\n",
    "    except:\n",
    "        model_importances = DataFrame([[1/len(features_train.columns) for _ in range(len(features_train.columns))]],columns=list(features_train.columns),index=[model_name]).T\n",
    "        return model,predictions,model_scores,model_importances"
   ]
  },
  {
   "cell_type": "code",
   "execution_count": null,
   "metadata": {},
   "outputs": [],
   "source": [
    "def empty_string_to_null(string: str):\n",
    "    if(len(str(string))==0 or len(str(string).replace(' ',''))==0):\n",
    "        return \"None\"\n",
    "    return string"
   ]
  },
  {
   "cell_type": "code",
   "execution_count": null,
   "metadata": {},
   "outputs": [],
   "source": [
    "def object_to_int(original,lookup_table):\n",
    "    for row in lookup_table.index:\n",
    "        for col in lookup_table.columns:\n",
    "            if(original==lookup_table[col][row]):\n",
    "                return int(col)"
   ]
  },
  {
   "cell_type": "code",
   "execution_count": null,
   "metadata": {},
   "outputs": [],
   "source": [
    "def random_int(min_val, max_val):\n",
    "    # Get the current time in microseconds\n",
    "    current_time = int(time() * 1000000)\n",
    "    \n",
    "    # Use the current time as a seed and perform some operations to get more randomness\n",
    "    seed = (current_time ^ (current_time >> randint(1,20))) & 0xFFFFFFFF\n",
    "    seed = (seed ^ (seed << randint(1,20))) & 0xFFFFFFFF\n",
    "    seed = (seed ^ (seed >> randint(1,20))) & 0xFFFFFFFF\n",
    "    \n",
    "    # Scale the seed to the desired range\n",
    "    random_value = min_val + (seed % (max_val - min_val + 1))\n",
    "    \n",
    "    return random_value"
   ]
  },
  {
   "cell_type": "code",
   "execution_count": null,
   "metadata": {},
   "outputs": [],
   "source": [
    "def random_features(columns):\n",
    "    subset = []\n",
    "    columns = list(columns)\n",
    "    while(len(subset)<50):\n",
    "        random_index = random_int(0,len(list(columns))-1)\n",
    "        while(columns[random_index] in subset):\n",
    "            random_index = random_int(0,len(list(columns))-1)\n",
    "        subset.append(columns[random_index])\n",
    "    return subset"
   ]
  },
  {
   "cell_type": "code",
   "execution_count": null,
   "metadata": {},
   "outputs": [],
   "source": [
    "def send_email_to_self(subject: str,body: str):\n",
    "    port = 465  # For SSL\n",
    "    smtp_server = \"smtp.gmail.com\"\n",
    "    sender_email = \"micpowers98@gmail.com\"  # Enter your address\n",
    "    receiver_email = \"micpowers98@gmail.com\"  # Enter receiver address\n",
    "    password = 'efex cwhv gppq ueob'\n",
    "    message = \"Subject: \"+subject+\"\\n\"+body\n",
    "\n",
    "    context = create_default_context()\n",
    "    with SMTP_SSL(smtp_server, port, context=context) as server:\n",
    "        server.login(sender_email, password)\n",
    "        server.sendmail(sender_email, receiver_email, message)"
   ]
  },
  {
   "cell_type": "code",
   "execution_count": null,
   "metadata": {},
   "outputs": [],
   "source": [
    "def get_data(columns: list):\n",
    "\tcursor_1.execute(\"\"\"\n",
    "\t\t\tselect\n",
    "\t\t\t\tcase when (li.checked='true' and ds.checked='claim') then 'Y' else 'N' end as IsClaimFlg, li.checked,\n",
    "\t\t\t\t\tli.[ATG_Ref],\n",
    "\t\t\t\t\tli.[ATG_LI_Ref],\n",
    "\t\t\t\t\tli.[BatchNbr],\n",
    "\t\t\t\t\tli.[CATEGORY_ATG],\n",
    "\t\t\t\t\tli.[ClaimType],\n",
    "\t\t\t\t\tli.[AP_VndNbr],\n",
    "\t\t\t\t\tli.[APVndrName],\n",
    "\t\t\t\t\tli.[OOB_ATG],\n",
    "\t\t\t\t\tli.[ItemNbr],\n",
    "\t\t\t\t\tli.[UPCNbr],\n",
    "\t\t\t\t\tli.[UPCUnit],\n",
    "\t\t\t\t\tli.[ItemDescription],\n",
    "\t\t\t\t\tli.[ItemShipPack],\n",
    "\t\t\t\t\tli.[PoNbr],\n",
    "\t\t\t\t\tli.[PODate],\n",
    "\t\t\t\t\tli.[ReceivingDate],\n",
    "\t\t\t\t\tli.[TurnRatio_ATG],\n",
    "\t\t\t\t\tli.[TurnQty_ATG],\n",
    "\t\t\t\t\tli.[OrdQty],\n",
    "\t\t\t\t\tli.[PdQty_ATG],\n",
    "\t\t\t\t\tli.[PdGross_ATG],\n",
    "\t\t\t\t\tli.[PdOI_ATG],\n",
    "\t\t\t\t\tli.[PdBB_ATG],\n",
    "\t\t\t\t\tli.[PdNet_ATG],\n",
    "\t\t\t\t\tli.[DealNbr],\n",
    "\t\t\t\t\tli.[OrdStartDate_ATG],\n",
    "\t\t\t\t\tli.[OrdEndDate_ATG],\n",
    "\t\t\t\t\tli.[DateStartArrival_ATG],\n",
    "\t\t\t\t\tli.[DateEndArrival_ATG],\n",
    "\t\t\t\t\tli.[DLAmtOI],\n",
    "\t\t\t\t\tli.[DLAmtBB]\n",
    "\t\t\tfrom     \n",
    "\t\t\t\t[MOE].[prod_WeisMarkets_RecoverNow].[dbo].[ATG_DealLI_Exceptions] li\n",
    "\t\t\t\t\t\tjoin  [MOE].[prod_WeisMarkets_RecoverNow].[dbo].[ATG_Deal_Summary] ds\n",
    "\t\t\t\t\t\ton (li.BatchNbr = ds.BatchNbr)\n",
    "\t\t\t\t\t\tand (li.DLVendorNbr = ds.DLVendorNbr)\n",
    "\t\t\t\t\t\tand (li.DealNbr = ds.DealNbr)\n",
    "\t\t\t\t\t\tand (li.CATEGORY_ATG = ds.CATEGORY_ATG)\n",
    "\t\t\t\t\t\tand (li.ClaimType = ds.ClaimType_ATG)\n",
    "\t\t\twhere li.ClaimType = 'IN DEAL' and ds.CATEGORY_ATG = 'SAME VENDOR - AMT DEALS'\n",
    "\t\t\torder by 8,12,17\t\t\t\n",
    "\t\t\"\"\")\n",
    "\ttrain_data = cursor_1.fetchall()\n",
    "\ttrain_data_list = []\n",
    "\tfor index in range(len(train_data)):\n",
    "\t\ttrain_data_list.append(list(train_data[index]))\n",
    "\tdel train_data\n",
    "\treturn DataFrame(data=train_data_list,columns=columns)"
   ]
  },
  {
   "cell_type": "code",
   "execution_count": null,
   "metadata": {},
   "outputs": [],
   "source": [
    "def get_test_data(batch_number: int, columns: list):\n",
    "    cursor_1.execute(f\"\"\"\n",
    "\t\t    select \n",
    "                case when (li.checked = 'true' and ds.checked = 'claim') then 'Y' else 'N' end as IsClaimFlg, li.Checked, \n",
    "                    li.[ATG_Ref],\n",
    "                    li.[ATG_LI_Ref],\n",
    "                    li.[BatchNbr],\n",
    "                    li.[CATEGORY_ATG],\n",
    "                    li.[ClaimType],\n",
    "                    li.[AP_VndNbr],\n",
    "                    li.[APVndrName],\n",
    "                    li.[OOB_ATG],\n",
    "                    li.[ItemNbr],\n",
    "                    li.[UPCNbr],\n",
    "                    li.[UPCUnit],\n",
    "                    li.[ItemDescription],\n",
    "                    li.[ItemShipPack],\n",
    "                    li.[PoNbr],\n",
    "                    li.[PODate],\n",
    "                    li.[ReceivingDate],\n",
    "                    li.[TurnRatio_ATG],\n",
    "                    li.[TurnQty_ATG],\n",
    "                    li.[OrdQty],\n",
    "                    li.[PdQty_ATG],\n",
    "                    li.[PdGross_ATG],\n",
    "                    li.[PdOI_ATG],\n",
    "                    li.[PdBB_ATG],\n",
    "                    li.[PdNet_ATG],\n",
    "                    li.[DealNbr],\n",
    "                    li.[OrdStartDate_ATG],\n",
    "                    li.[OrdEndDate_ATG],\n",
    "                    li.[DateStartArrival_ATG],\n",
    "                    li.[DateEndArrival_ATG],\n",
    "                    li.[DLAmtOI],\n",
    "                    li.[DLAmtBB]--,\n",
    "\t\t\t    from    \n",
    "                    [MOE].[prod_WeisMarkets_RecoverNow].[dbo].[ATG_DealLI_Exceptions] li\n",
    "                    join  [MOE].[prod_WeisMarkets_RecoverNow].[dbo].[ATG_Deal_Summary]  ds\n",
    "                    on (li.BatchNbr = ds.BatchNbr)\n",
    "                    and (li.DLVendorNbr = ds.DLVendorNbr)\n",
    "                    and (li.DealNbr = ds.DealNbr)\n",
    "                    and (li.CATEGORY_ATG = ds.CATEGORY_ATG)\n",
    "                    and (li.ClaimType = ds.ClaimType_ATG)\n",
    "                where\n",
    "                    li.BatchNbr=67\n",
    "                    and\n",
    "                    li.ClaimType = 'IN DEAL' \n",
    "                    and \n",
    "                    ds.CATEGORY_ATG = 'SAME VENDOR - AMT DEALS' \n",
    "                    and \n",
    "                    li.checked='x' \n",
    "                    and \n",
    "                    ds.checked='x'\n",
    "\n",
    "\t\t    union\n",
    "\n",
    "\t\t\tselect top(1) \n",
    "                case when (li.checked = 'true' and ds.checked = 'claim') then 'Y' else 'N' end as IsClaimFlg, li.Checked, \n",
    "                    li.[ATG_Ref],\n",
    "                    li.[ATG_LI_Ref],\n",
    "                    li.[BatchNbr],\n",
    "                    li.[CATEGORY_ATG],\n",
    "                    li.[ClaimType],\n",
    "                    li.[AP_VndNbr],\n",
    "                    li.[APVndrName],\n",
    "                    li.[OOB_ATG],\n",
    "                    li.[ItemNbr],\n",
    "                    li.[UPCNbr],\n",
    "                    li.[UPCUnit],\n",
    "                    li.[ItemDescription],\n",
    "                    li.[ItemShipPack],\n",
    "                    li.[PoNbr],\n",
    "                    li.[PODate],\n",
    "                    li.[ReceivingDate],\n",
    "                    li.[TurnRatio_ATG],\n",
    "                    li.[TurnQty_ATG],\n",
    "                    li.[OrdQty],\n",
    "                    li.[PdQty_ATG],\n",
    "                    li.[PdGross_ATG],\n",
    "                    li.[PdOI_ATG],\n",
    "                    li.[PdBB_ATG],\n",
    "                    li.[PdNet_ATG],\n",
    "                    li.[DealNbr],\n",
    "                    li.[OrdStartDate_ATG],\n",
    "                    li.[OrdEndDate_ATG],\n",
    "                    li.[DateStartArrival_ATG],\n",
    "                    li.[DateEndArrival_ATG],\n",
    "                    li.[DLAmtOI],\n",
    "                    li.[DLAmtBB]--,\n",
    "\t\t\t    from     \n",
    "                    [MOE].[prod_WeisMarkets_RecoverNow].[dbo].[ATG_DealLI_Exceptions] li\n",
    "                    join  [MOE].[prod_WeisMarkets_RecoverNow].[dbo].[ATG_Deal_Summary]  ds\n",
    "                    on (li.BatchNbr = ds.BatchNbr)\n",
    "                    and (li.DLVendorNbr = ds.DLVendorNbr)\n",
    "                    and (li.DealNbr = ds.DealNbr)\n",
    "                    and (li.CATEGORY_ATG = ds.CATEGORY_ATG)\n",
    "                    and (li.ClaimType = ds.ClaimType_ATG)\n",
    "\t\t\twhere\n",
    "                li.ClaimType = 'IN DEAL' \n",
    "                and \n",
    "                ds.CATEGORY_ATG = 'SAME VENDOR - AMT DEALS' \n",
    "                and \n",
    "                li.checked='true' \n",
    "                and \n",
    "                ds.checked='claim'\n",
    "        \"\"\")\n",
    "    test_data = cursor_1.fetchall()\n",
    "    test_data_list = []\n",
    "    for index in range(len(test_data)):\n",
    "        test_data_list.append(list(test_data[index]))\n",
    "    del test_data\n",
    "    return DataFrame(data=test_data_list,columns=columns)"
   ]
  },
  {
   "cell_type": "code",
   "execution_count": null,
   "metadata": {},
   "outputs": [],
   "source": [
    "def compress_folder_to_zip(folder_path, output_zip_file):\n",
    "    # Create a ZipFile object\n",
    "    with ZipFile(output_zip_file, 'w', ZIP_DEFLATED) as zipf:\n",
    "        # Walk through the folder\n",
    "        for root, dirs, files in walk(folder_path):\n",
    "            for file in files:\n",
    "                # Create the full file path\n",
    "                file_path = path.join(root, file)\n",
    "                # Add file to zip, using relative path to maintain folder structure\n",
    "                arcname = path.relpath(file_path, start=folder_path)\n",
    "                zipf.write(file_path, arcname=arcname)"
   ]
  },
  {
   "cell_type": "markdown",
   "metadata": {},
   "source": [
    "## Global Variables"
   ]
  },
  {
   "cell_type": "code",
   "execution_count": null,
   "metadata": {},
   "outputs": [],
   "source": [
    "columns: list = ['IsClaimFlg','Checked','ATG_Ref','ATG_LI_Ref','BatchNbr','CATEGORY_ATG','ClaimType','AP_VndNbr','APVndrName',\n",
    "                 'OOB_ATG','ItemNbr','UPCNbr','UPCUnit','ItemDescription','ItemShipPack','PoNbr','PODate','ReceivingDate','TurnRatio_ATG',\n",
    "                 'TurnQty_ATG','OrdQty','PdQty_ATG','PdGross_ATG','PdOI_ATG','PdBB_ATG','PdNet_ATG','DealNbr','OrdStartDate_ATG',\n",
    "                 'OrdEndDate_ATG','DateStartArrival_ATG','DateEndArrival_ATG','DLAmtOI','DLAmtBB']"
   ]
  },
  {
   "cell_type": "code",
   "execution_count": null,
   "metadata": {},
   "outputs": [],
   "source": [
    "upc_number = '76172005820'"
   ]
  },
  {
   "cell_type": "markdown",
   "metadata": {},
   "source": [
    "## Open Initial Data"
   ]
  },
  {
   "cell_type": "code",
   "execution_count": null,
   "metadata": {},
   "outputs": [],
   "source": [
    "train: DataFrame = get_data(columns=columns)\n",
    "#train: DataFrame = read_excel('Top_10000_Rows_Order_By_UPC.xlsx')"
   ]
  },
  {
   "cell_type": "code",
   "execution_count": null,
   "metadata": {},
   "outputs": [],
   "source": [
    "upc_counts = train['UPCNbr'].value_counts()\n",
    "\n",
    "# Step 2: Filter upcs that occur more than 100 times\n",
    "upcs_to_keep = upc_counts[upc_counts >= 100].index\n",
    "upcs_to_toss = upc_counts[upc_counts < 100].index\n",
    "\n",
    "# Step 3: Filter the dataframe to keep only the rows with the selected upcs\n",
    "train = train[train['UPCNbr'].isin(upcs_to_keep)]"
   ]
  },
  {
   "cell_type": "code",
   "execution_count": null,
   "metadata": {},
   "outputs": [],
   "source": [
    "subject = 'Data Collected'\n",
    "body = f\"\"\"\n",
    "        {len(train):,} total rows of data for UPC {upc_number}.\n",
    "    \"\"\"\n",
    "#send_email_to_self(subject,body)"
   ]
  },
  {
   "cell_type": "markdown",
   "metadata": {},
   "source": [
    "## Data Preprocessing"
   ]
  },
  {
   "cell_type": "markdown",
   "metadata": {},
   "source": [
    "### Dropping Useless Columns"
   ]
  },
  {
   "cell_type": "code",
   "execution_count": null,
   "metadata": {},
   "outputs": [],
   "source": [
    "for col in train.columns:\n",
    "    if train[col].dtype == 'object':\n",
    "        try:\n",
    "            train[col] = train[col].astype(float)\n",
    "        except:\n",
    "            try:\n",
    "                train[col] = train[col].astype(int)\n",
    "            except Exception as e: pass"
   ]
  },
  {
   "cell_type": "code",
   "execution_count": null,
   "metadata": {},
   "outputs": [],
   "source": [
    "empty_col = []\n",
    "for col in train.columns:\n",
    "    if train[col].dtype == 'object':\n",
    "        if(train[col].nunique()>1000):\n",
    "            print(col)\n",
    "            empty_col.append(col)\n",
    "train = train.drop(empty_col,axis=1)"
   ]
  },
  {
   "cell_type": "markdown",
   "metadata": {},
   "source": [
    "### Converting Numerical Strings to Numbers"
   ]
  },
  {
   "cell_type": "code",
   "execution_count": null,
   "metadata": {},
   "outputs": [],
   "source": [
    "for col in train.columns:\n",
    "    if train[col].dtype == 'object' and not(col=='PdOI_ATG'):\n",
    "        try:\n",
    "            train[col] = train[col].astype(float)\n",
    "        except:\n",
    "            try:\n",
    "                train[col] = train[col].astype(int)\n",
    "            except Exception as e: pass"
   ]
  },
  {
   "cell_type": "raw",
   "metadata": {
    "vscode": {
     "languageId": "raw"
    }
   },
   "source": [
    "for col in train.columns:\n",
    "    if train[col].dtype == 'object':\n",
    "        train[col] = train[col].fillna('None')\n",
    "    elif train[col].dtype == 'int64':\n",
    "        train[col] = train[col].fillna(-1)\n",
    "    elif train[col].dtype == 'float64':\n",
    "        train[col] = train[col].fillna(-1)"
   ]
  },
  {
   "cell_type": "code",
   "execution_count": null,
   "metadata": {},
   "outputs": [],
   "source": [
    "for col in train.columns:\n",
    "    if train[col].dtype == 'object' and not(col=='PdOI_ATG'):\n",
    "        try:\n",
    "            train[col] = train[col].astype(float)\n",
    "        except:\n",
    "            try:\n",
    "                train[col] = train[col].astype(int)\n",
    "            except Exception as e: pass"
   ]
  },
  {
   "cell_type": "code",
   "execution_count": null,
   "metadata": {},
   "outputs": [],
   "source": [
    "category_values = {}\n",
    "category_new_values = {}\n",
    "for col in train.columns:\n",
    "    if train[col].dtype == 'object' and train[col].nunique()<=1000 and not(col=='PdOI_ATG'):\n",
    "        train[col] = train[col].apply(empty_string_to_null)\n",
    "        # categorical_columns.append(col)\n",
    "        category_values[col] = Series(list(train[col].unique())).unique()"
   ]
  },
  {
   "cell_type": "code",
   "execution_count": null,
   "metadata": {},
   "outputs": [],
   "source": [
    "max_length = 0\n",
    "for key,item in category_values.items():\n",
    "    if(len(item)>max_length):\n",
    "        max_length = len(item)\n",
    "for key in category_values:\n",
    "    category_values[key] = concatenate((category_values[key],['None'] * (max_length - len(category_values[key]))))\n",
    "lookup_table = DataFrame.from_dict(category_values, orient='index')\n",
    "lookup_table.columns = range(max_length)\n",
    "for col in lookup_table.columns:\n",
    "    lookup_table[col] = lookup_table[col].astype(str)\n",
    "#lookup_table.to_csv(f'C:/Code/Python/Machine_Learning_AI/Lookup_Table_Batch_{batch_number}.csv')\n",
    "lookup_table.to_csv(f\"C:/Code/Python/Machine_Learning_AI/Lookup_Table.csv\")\n",
    "del lookup_table"
   ]
  },
  {
   "cell_type": "code",
   "execution_count": null,
   "metadata": {},
   "outputs": [],
   "source": [
    "subject = 'Lookup Table Created'\n",
    "body = f\"\"\"\n",
    "        Starting long category_new_values section.\n",
    "    \"\"\"\n",
    "#send_email_to_self(subject,body)"
   ]
  },
  {
   "cell_type": "markdown",
   "metadata": {},
   "source": [
    "### Converting Categorical Data To Numerical"
   ]
  },
  {
   "cell_type": "code",
   "execution_count": null,
   "metadata": {},
   "outputs": [],
   "source": [
    "category_new_values = {}\n",
    "count = 0\n",
    "for key,item in category_values.items():\n",
    "    clear_output(wait=False)\n",
    "    # print(f\"Categories Read: {count}\\nCategories Left: {len(category_values)-count}\")\n",
    "    count += 1\n",
    "    for new_value in item:\n",
    "        try:\n",
    "            category_new_values[f\"{key} : {new_value}\"] = list(Series(list(train[str(key)].unique())+list(train[str(key)].unique())).unique()).index(new_value)\n",
    "        except:\n",
    "            category_new_values[f\"{key} : {new_value}\"] = len(list(Series(list(train[str(key)].unique())+list(train[str(key)].unique())).unique()))\n",
    "            break\n",
    "del category_values"
   ]
  },
  {
   "cell_type": "code",
   "execution_count": null,
   "metadata": {},
   "outputs": [],
   "source": [
    "count = 0\n",
    "for key,item in category_new_values.items():\n",
    "    full_value = f\"{key} : {item}\"\n",
    "    # print(f\"Categories Read: {count}\\nCategories Left: {len(category_new_values)-count}\\n{full_value}\\n\")\n",
    "    count += 1\n",
    "    col = search(r\"[A-Za-z\\_\\s]{1,}:\",full_value).group()\n",
    "    col = full_value.split(':')[0]\n",
    "    # print(f\"{col[:-1]}\")\n",
    "    col_value = search(\":.+:\",full_value).group()#search(r\":[A-Za-z0-9\\_\\s\\-\\/\\<\\>\\=\\'\\.\\+\\,\\&]{1,}:\",full_value).group()\n",
    "    col_value = full_value.split(':')[1]\n",
    "    # print(col_value[1:-1])\n",
    "    new_value = search(r\": [0-9]{1,}\",full_value).group().replace(' ','').replace(':','')\n",
    "    # print(new_value)\n",
    "    # print()\n",
    "    train[col[:-1]] = train[col[:-1]].replace({col_value[1:-1]: new_value})\n",
    "del category_new_values"
   ]
  },
  {
   "cell_type": "code",
   "execution_count": null,
   "metadata": {},
   "outputs": [],
   "source": [
    "subject = 'New categories completed'\n",
    "body = f\"\"\"\n",
    "        About to prepare for machine learning testing.\n",
    "    \"\"\"\n",
    "#send_email_to_self(subject,body)"
   ]
  },
  {
   "cell_type": "code",
   "execution_count": null,
   "metadata": {},
   "outputs": [],
   "source": [
    "for col in train.columns:\n",
    "    if train[col].dtype == 'object':# and not(col=='checked'):\n",
    "        try:\n",
    "            train[col] = train[col].astype(float)\n",
    "        except Exception as e:pass\n",
    "            # train = DataFrame(train.drop(col,axis=1))\n",
    "            # test = DataFrame(test.drop(col,axis=1))\n",
    "            # print(f\"{col}: {str(e)}\")"
   ]
  },
  {
   "cell_type": "code",
   "execution_count": null,
   "metadata": {},
   "outputs": [],
   "source": [
    "datetime_columns = []\n",
    "for col in train.columns:\n",
    "    if train[col].dtype == 'datetime64[ns]':\n",
    "        datetime_columns.append(col)\n",
    "for col in datetime_columns:\n",
    "    train[col] = to_numeric(train[col])\n",
    "datetime_columns = []\n",
    "del datetime_columns"
   ]
  },
  {
   "cell_type": "markdown",
   "metadata": {},
   "source": [
    "## ML Preparation"
   ]
  },
  {
   "cell_type": "code",
   "execution_count": null,
   "metadata": {},
   "outputs": [],
   "source": [
    "random_state = 2974306530\n",
    "model_scores = DataFrame(None,columns=['Mean_Squared_Error','Root_Mean_Squared_Error','Mean_Absolute_Error','Median_Absolute_Error','Max_Error','R2'])\n",
    "options.display.float_format = '{:.10f}'.format\n",
    "additional_excluded_columns = [\n",
    "    'IsClaimFlg',\n",
    "    'Checked',\n",
    "    'ATG_Ref',\n",
    "    'ATG_LI_Ref',\n",
    "    'BatchNbr',\n",
    "    'CATEGORY_ATG',\n",
    "    'ClaimType',\n",
    "    'AP_VndNbr',\n",
    "    'APVndrName',\n",
    "    'OOB_ATG',\n",
    "    'ItemNbr',\n",
    "    'UPCNbr',\n",
    "    'UPCUnit',\n",
    "    'ItemDescription',\n",
    "    'ItemShipPack',\n",
    "    'PoNbr',\n",
    "    'PODate',\n",
    "    'ReceivingDate',\n",
    "    'TurnRatio_ATG',\n",
    "    'DealNbr',\n",
    "    'OrdStartDate_ATG',\n",
    "    'OrdEndDate_ATG',\n",
    "    'DateStartArrival_ATG',\n",
    "    'DateEndArrival_ATG',\n",
    "    'DLAmtOI',\n",
    "    'DLAmtBB'\n",
    "]"
   ]
  },
  {
   "cell_type": "code",
   "execution_count": null,
   "metadata": {},
   "outputs": [],
   "source": [
    "#additional_excluded_columns.extend(empty_col)\n",
    "unique_excluded_columns = []\n",
    "for col in additional_excluded_columns:\n",
    "    if col in unique_excluded_columns or not(col in list(train.columns)):\n",
    "        pass\n",
    "    else:\n",
    "        unique_excluded_columns.append(col)\n",
    "additional_excluded_columns = unique_excluded_columns.copy()\n",
    "additional_excluded_columns = ['IsClaimFlg','Checked','ATG_Ref','ATG_LI_Ref']\n",
    "del unique_excluded_columns\n",
    "excluded_features = train[additional_excluded_columns]"
   ]
  },
  {
   "cell_type": "code",
   "execution_count": null,
   "metadata": {},
   "outputs": [],
   "source": [
    "# features = train[train['UPCNbr']==int(upc_number)].drop(['PdOI_ATG','checked']+additional_excluded_columns,axis=1)\n",
    "# target = train[train['UPCNbr']==int(upc_number)]['PdOI_ATG']\n",
    "features = train.drop(['PdOI_ATG']+additional_excluded_columns,axis=1)\n",
    "target = train['PdOI_ATG']"
   ]
  },
  {
   "cell_type": "code",
   "execution_count": null,
   "metadata": {},
   "outputs": [],
   "source": [
    "features_train,features_test,target_train,target_test = train_test_split(features,target,random_state=random_state,test_size=0.95,shuffle=True)"
   ]
  },
  {
   "cell_type": "code",
   "execution_count": null,
   "metadata": {},
   "outputs": [],
   "source": [
    "scaler = StandardScaler()\n",
    "scaler.fit(features_train)\n",
    "features_train_scaled = DataFrame(scaler.transform(features_train),columns=features.columns)\n",
    "features_test_scaled = DataFrame(scaler.transform(features_test),columns=features.columns)\n",
    "target_test = target_test.reset_index(drop=True)"
   ]
  },
  {
   "cell_type": "markdown",
   "metadata": {},
   "source": [
    "## ML Models"
   ]
  },
  {
   "cell_type": "code",
   "execution_count": null,
   "metadata": {},
   "outputs": [],
   "source": [
    "dc = DummyRegressor(strategy='median')\n",
    "dc,dc_predictions,model_scores,dc_model_importances = run_and_analyze_model(dc,features_train_scaled,target_train,features_test_scaled,target_test,model_scores,'Dummy')\n",
    "clear_output(wait=False)"
   ]
  },
  {
   "cell_type": "code",
   "execution_count": null,
   "metadata": {},
   "outputs": [],
   "source": [
    "lr = LinearRegression()\n",
    "lr,lr_predictions,model_scores,lr_model_importances = run_and_analyze_model(lr,features_train_scaled,target_train,features_test_scaled,target_test,model_scores,'Linear')\n",
    "clear_output(wait=False)"
   ]
  },
  {
   "cell_type": "code",
   "execution_count": null,
   "metadata": {},
   "outputs": [],
   "source": [
    "dt = DecisionTreeRegressor(criterion='absolute_error',random_state=random_state)\n",
    "dt,dt_predictions,model_scores,dt_model_importances = run_and_analyze_model(dt,features_train_scaled,target_train,features_test_scaled,target_test,model_scores,'DecisionTree')\n",
    "clear_output(wait=False)"
   ]
  },
  {
   "cell_type": "code",
   "execution_count": null,
   "metadata": {},
   "outputs": [],
   "source": [
    "rf = RandomForestRegressor(criterion='absolute_error',random_state=random_state,verbose=10,warm_start=True,max_depth=4)\n",
    "rf,rf_predictions,model_scores,rf_model_importances = run_and_analyze_model(rf,features_train_scaled,target_train,features_test_scaled,target_test,model_scores,'RandomForest')\n",
    "clear_output(wait=False)"
   ]
  },
  {
   "cell_type": "code",
   "execution_count": null,
   "metadata": {},
   "outputs": [],
   "source": [
    "xgb = XGBRegressor(max_depth=6,random_state=random_state)\n",
    "xgb,xgb_predictions,model_scores,xgb_model_importances = run_and_analyze_model(xgb,features_train_scaled,target_train,features_test_scaled,target_test,model_scores,'XGBoost')\n",
    "clear_output(wait=False)"
   ]
  },
  {
   "cell_type": "code",
   "execution_count": null,
   "metadata": {},
   "outputs": [],
   "source": [
    "lgbm = LGBMRegressor(n_estimators=1000,learning_rate=0.0025,random_state=random_state)\n",
    "lgbm,lgbm_predictions,model_scores,lgbm_model_importances = run_and_analyze_model(lgbm,features_train_scaled,target_train,features_test_scaled,target_test,model_scores,'LGBM')\n",
    "lgbm_model_importances['LGBM'] = (lgbm_model_importances['LGBM'])/(lgbm_model_importances['LGBM'].sum())\n",
    "clear_output(wait=False)"
   ]
  },
  {
   "cell_type": "code",
   "execution_count": null,
   "metadata": {},
   "outputs": [],
   "source": [
    "gb = GradientBoostingRegressor(loss='absolute_error',warm_start=True,n_estimators=10000,learning_rate=0.0025,random_state=random_state,verbose=10,n_iter_no_change=3)\n",
    "gb,gb_predictions,model_scores,gb_model_importances = run_and_analyze_model(gb,features_train_scaled,target_train,features_test_scaled,target_test,model_scores,'GradientBoost')\n",
    "clear_output(wait=False)"
   ]
  },
  {
   "cell_type": "code",
   "execution_count": null,
   "metadata": {},
   "outputs": [],
   "source": [
    "knn = KNeighborsRegressor(n_neighbors=3)\n",
    "knn,knn_predictions,model_scores,knn_model_importances = run_and_analyze_model(knn,features_train_scaled,target_train,features_test_scaled,target_test,model_scores,'KNeighbors')\n",
    "clear_output(wait=False)"
   ]
  },
  {
   "cell_type": "code",
   "execution_count": null,
   "metadata": {},
   "outputs": [],
   "source": [
    "cb = CatBoostRegressor(verbose=10,iterations=100000,learning_rate=0.0025,random_state=random_state,early_stopping_rounds=3)\n",
    "cb,cb_predictions,model_scores,cb_model_importances = run_and_analyze_model(cb,features_train_scaled,target_train,features_test_scaled,target_test,model_scores,'CatBoost')\n",
    "cb_model_importances['CatBoost'] = (cb_model_importances['CatBoost'])/(cb_model_importances['CatBoost'].sum())\n",
    "clear_output(wait=False)"
   ]
  },
  {
   "cell_type": "markdown",
   "metadata": {},
   "source": [
    "## Model Analysis"
   ]
  },
  {
   "cell_type": "code",
   "execution_count": null,
   "metadata": {},
   "outputs": [],
   "source": [
    "model_scores.to_csv(f\"C:/Code/Python/Machine_Learning_AI/Model_Analysis/Model_Scores.csv\")\n",
    "model_scores"
   ]
  },
  {
   "cell_type": "code",
   "execution_count": null,
   "metadata": {},
   "outputs": [],
   "source": [
    "feature_importances = concat([dc_model_importances,lr_model_importances,dt_model_importances,rf_model_importances,\n",
    "                              xgb_model_importances,gb_model_importances,lgbm_model_importances,\n",
    "                              cb_model_importances,knn_model_importances],axis=1)\n",
    "feature_importances['SUM'] = feature_importances['Dummy']+feature_importances['Linear']+feature_importances['DecisionTree']+feature_importances['RandomForest']+feature_importances['XGBoost']+feature_importances['GradientBoost']+feature_importances['LGBM']+feature_importances['CatBoost']+feature_importances['KNeighbors']"
   ]
  },
  {
   "cell_type": "code",
   "execution_count": null,
   "metadata": {},
   "outputs": [],
   "source": [
    "feature_importances.to_csv('C:/Code/Python/Machine_Learning_AI/Model_Analysis/Feature_Importances.csv')"
   ]
  },
  {
   "cell_type": "code",
   "execution_count": null,
   "metadata": {},
   "outputs": [],
   "source": [
    "scatter_plot_models(target_test,dc_predictions,'Dummy')\n",
    "scatter_plot_models(target_test,lr_predictions,'Linear')\n",
    "scatter_plot_models(target_test,dt_predictions,'DecisionTree',show=True)\n",
    "scatter_plot_models(target_test,rf_predictions,'RandomForest')\n",
    "scatter_plot_models(target_test,xgb_predictions,'XGBoost')\n",
    "scatter_plot_models(target_test,gb_predictions,'GradientBoost')\n",
    "scatter_plot_models(target_test,knn_predictions,'KNeighbors')\n",
    "scatter_plot_models(target_test,cb_predictions,'CatBoost')"
   ]
  },
  {
   "cell_type": "markdown",
   "metadata": {},
   "source": [
    "## Reconstructing Original Data"
   ]
  },
  {
   "cell_type": "code",
   "execution_count": null,
   "metadata": {},
   "outputs": [],
   "source": [
    "original_data = get_data(columns=columns)"
   ]
  },
  {
   "cell_type": "code",
   "execution_count": null,
   "metadata": {},
   "outputs": [],
   "source": [
    "original_data['PdOI_ATG'] = original_data['PdOI_ATG'].astype(float)"
   ]
  },
  {
   "cell_type": "code",
   "execution_count": null,
   "metadata": {},
   "outputs": [],
   "source": [
    "features_train_unscaled,features_test_unscaled = train_test_split(original_data,random_state=random_state,test_size=0.95,shuffle=True)"
   ]
  },
  {
   "cell_type": "code",
   "execution_count": null,
   "metadata": {},
   "outputs": [],
   "source": [
    "df_with_predictions = concat([DataFrame(features_test_unscaled).reset_index(drop=True),dc_predictions,lr_predictions,dt_predictions,rf_predictions,xgb_predictions,gb_predictions,lgbm_predictions,cb_predictions,knn_predictions],axis=1)"
   ]
  },
  {
   "cell_type": "markdown",
   "metadata": {},
   "source": [
    "## Displaying Discrepancies"
   ]
  },
  {
   "cell_type": "code",
   "execution_count": null,
   "metadata": {},
   "outputs": [],
   "source": [
    "options.display.float_format = '{:.4f}'.format"
   ]
  },
  {
   "cell_type": "code",
   "execution_count": null,
   "metadata": {},
   "outputs": [],
   "source": [
    "df_with_predictions[(abs(df_with_predictions['DecisionTree']-df_with_predictions['PdOI_ATG'])>(df_with_predictions['PdOI_ATG']/20))&\n",
    "                    (abs(df_with_predictions['PdOI_ATG']-df_with_predictions['DecisionTree'])>0.001)].to_csv(\"C:/Code/Python/Machine_Learning_AI/Discrepancies/Worst_Discrepancies.csv\",index=False)"
   ]
  },
  {
   "cell_type": "code",
   "execution_count": null,
   "metadata": {},
   "outputs": [],
   "source": [
    "df_with_predictions[(abs(df_with_predictions['DecisionTree']-df_with_predictions['PdOI_ATG'])>(df_with_predictions['PdOI_ATG']/20))&\n",
    "                    (abs(df_with_predictions['PdOI_ATG']-df_with_predictions['DecisionTree'])>0.001)].sample(5)"
   ]
  },
  {
   "cell_type": "code",
   "execution_count": null,
   "metadata": {},
   "outputs": [],
   "source": [
    "df_with_predictions[\n",
    "                        (\n",
    "                            (abs(df_with_predictions['PdOI_ATG']-df_with_predictions['Linear'])>=(df_with_predictions['PdOI_ATG']/5))&\n",
    "                            (abs(df_with_predictions['PdOI_ATG']-df_with_predictions['DecisionTree'])>=(df_with_predictions['PdOI_ATG']/5))&\n",
    "                            (abs(df_with_predictions['PdOI_ATG']-df_with_predictions['RandomForest'])>=(df_with_predictions['PdOI_ATG']/5))&\n",
    "                            (abs(df_with_predictions['PdOI_ATG']-df_with_predictions['XGBoost'])>=(df_with_predictions['PdOI_ATG']/5))&\n",
    "                            (abs(df_with_predictions['PdOI_ATG']-df_with_predictions['GradientBoost'])>=(df_with_predictions['PdOI_ATG']/5))&\n",
    "                            (abs(df_with_predictions['PdOI_ATG']-df_with_predictions['LGBM'])>=(df_with_predictions['PdOI_ATG']/5))&\n",
    "                            (abs(df_with_predictions['PdOI_ATG']-df_with_predictions['CatBoost'])>=(df_with_predictions['PdOI_ATG']/5))&\n",
    "                            (abs(df_with_predictions['PdOI_ATG']-df_with_predictions['KNeighbors'])>=(df_with_predictions['PdOI_ATG']/5))&\n",
    "                            (df_with_predictions['PdOI_ATG']<0.01)\n",
    "                        )\n",
    "                    ].to_csv(f\"C:/Code/Python/Machine_Learning_AI/Discrepancies/PdOI_Before_AI_0_And_Models_Not_0.csv\")"
   ]
  },
  {
   "cell_type": "markdown",
   "metadata": {},
   "source": [
    "## Export Discrepancies to SQL"
   ]
  },
  {
   "cell_type": "code",
   "execution_count": null,
   "metadata": {},
   "outputs": [],
   "source": [
    "data = df_with_predictions[\n",
    "                        (\n",
    "                            (abs(df_with_predictions['PdOI_ATG']-df_with_predictions['Linear'])>=(df_with_predictions['PdOI_ATG']/5))&\n",
    "                            (abs(df_with_predictions['PdOI_ATG']-df_with_predictions['DecisionTree'])>=(df_with_predictions['PdOI_ATG']/5))&\n",
    "                            (abs(df_with_predictions['PdOI_ATG']-df_with_predictions['RandomForest'])>=(df_with_predictions['PdOI_ATG']/5))&\n",
    "                            (abs(df_with_predictions['PdOI_ATG']-df_with_predictions['XGBoost'])>=(df_with_predictions['PdOI_ATG']/5))&\n",
    "                            (abs(df_with_predictions['PdOI_ATG']-df_with_predictions['GradientBoost'])>=(df_with_predictions['PdOI_ATG']/5))&\n",
    "                            (abs(df_with_predictions['PdOI_ATG']-df_with_predictions['LGBM'])>=(df_with_predictions['PdOI_ATG']/5))&\n",
    "                            (abs(df_with_predictions['PdOI_ATG']-df_with_predictions['CatBoost'])>=(df_with_predictions['PdOI_ATG']/5))&\n",
    "                            (abs(df_with_predictions['PdOI_ATG']-df_with_predictions['KNeighbors'])>=(df_with_predictions['PdOI_ATG']/5))&\n",
    "                            (df_with_predictions['PdOI_ATG']<0.01)\n",
    "                        )\n",
    "                    ].reset_index(drop=True)"
   ]
  },
  {
   "cell_type": "code",
   "execution_count": null,
   "metadata": {},
   "outputs": [],
   "source": [
    "data.to_csv(\"C:/Code/Python/Machine_Learning_AI/Discrepancies/All_Model_Predictions_Significantly_Different_From_Original_PdOI_ATG_Where_Pd_OI_Zero.csv\",index=False)"
   ]
  },
  {
   "cell_type": "code",
   "execution_count": null,
   "metadata": {},
   "outputs": [],
   "source": [
    "data_2 = df_with_predictions[\n",
    "                        (\n",
    "                            (df_with_predictions['Linear']>(df_with_predictions['PdOI_ATG']))&\n",
    "                            (df_with_predictions['DecisionTree']>(df_with_predictions['PdOI_ATG']))&\n",
    "                            (df_with_predictions['RandomForest']>(df_with_predictions['PdOI_ATG']))&\n",
    "                            (df_with_predictions['XGBoost']>(df_with_predictions['PdOI_ATG']))&\n",
    "                            (df_with_predictions['GradientBoost']>(df_with_predictions['PdOI_ATG']))&\n",
    "                            (df_with_predictions['LGBM']>(df_with_predictions['PdOI_ATG']))&\n",
    "                            (df_with_predictions['CatBoost']>(df_with_predictions['PdOI_ATG']))&\n",
    "                            (df_with_predictions['KNeighbors']>(df_with_predictions['PdOI_ATG']))\n",
    "                        )\n",
    "                    ].reset_index(drop=True)"
   ]
  },
  {
   "cell_type": "code",
   "execution_count": null,
   "metadata": {},
   "outputs": [],
   "source": [
    "data_2.to_csv(\"C:/Code/Python/Machine_Learning_AI/Discrepancies/All_Model_Predictions_Bigger_Than_Original_PdOI_ATG.csv\",index=False)"
   ]
  },
  {
   "cell_type": "code",
   "execution_count": null,
   "metadata": {},
   "outputs": [],
   "source": [
    "data_3 = df_with_predictions[\n",
    "                        (\n",
    "                            (abs(df_with_predictions['PdOI_ATG']-df_with_predictions['Linear'])>=(df_with_predictions['PdOI_ATG']/5))&\n",
    "                            (abs(df_with_predictions['PdOI_ATG']-df_with_predictions['DecisionTree'])>=(df_with_predictions['PdOI_ATG']/5))&\n",
    "                            (abs(df_with_predictions['PdOI_ATG']-df_with_predictions['RandomForest'])>=(df_with_predictions['PdOI_ATG']/5))&\n",
    "                            (abs(df_with_predictions['PdOI_ATG']-df_with_predictions['XGBoost'])>=(df_with_predictions['PdOI_ATG']/5))&\n",
    "                            (abs(df_with_predictions['PdOI_ATG']-df_with_predictions['GradientBoost'])>=(df_with_predictions['PdOI_ATG']/5))&\n",
    "                            (abs(df_with_predictions['PdOI_ATG']-df_with_predictions['LGBM'])>=(df_with_predictions['PdOI_ATG']/5))&\n",
    "                            (abs(df_with_predictions['PdOI_ATG']-df_with_predictions['CatBoost'])>=(df_with_predictions['PdOI_ATG']/5))&\n",
    "                            (abs(df_with_predictions['PdOI_ATG']-df_with_predictions['KNeighbors'])>=(df_with_predictions['PdOI_ATG']/5))&\n",
    "                            (df_with_predictions['PdOI_ATG']>0.01)\n",
    "                        )\n",
    "                    ].reset_index(drop=True)"
   ]
  },
  {
   "cell_type": "code",
   "execution_count": null,
   "metadata": {},
   "outputs": [],
   "source": [
    "data_3.to_csv(\"C:/Code/Python/Machine_Learning_AI/Discrepancies/All_Model_Predictions_Significantly_Different_From_Original_PdOI_ATG_Where_Pd_OI_NOT_Zero.csv\",index=False)"
   ]
  },
  {
   "cell_type": "code",
   "execution_count": null,
   "metadata": {},
   "outputs": [],
   "source": [
    "export_to_sql(data)"
   ]
  },
  {
   "cell_type": "code",
   "execution_count": null,
   "metadata": {},
   "outputs": [],
   "source": [
    "export_to_sql(data_2)"
   ]
  },
  {
   "cell_type": "code",
   "execution_count": null,
   "metadata": {},
   "outputs": [],
   "source": [
    "export_to_sql(data_3)"
   ]
  }
 ],
 "metadata": {
  "kernelspec": {
   "display_name": "Python 3",
   "language": "python",
   "name": "python3"
  },
  "language_info": {
   "codemirror_mode": {
    "name": "ipython",
    "version": 3
   },
   "file_extension": ".py",
   "mimetype": "text/x-python",
   "name": "python",
   "nbconvert_exporter": "python",
   "pygments_lexer": "ipython3",
   "version": "3.10.10"
  }
 },
 "nbformat": 4,
 "nbformat_minor": 2
}
