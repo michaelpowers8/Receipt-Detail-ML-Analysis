{
 "cells": [
  {
   "cell_type": "markdown",
   "metadata": {},
   "source": [
    "# Receipt Detail ML PdOI_ATG"
   ]
  },
  {
   "cell_type": "markdown",
   "metadata": {},
   "source": [
    "## Import Libraries"
   ]
  },
  {
   "cell_type": "code",
   "execution_count": 1,
   "metadata": {},
   "outputs": [],
   "source": [
    "from pandas import set_option,concat,DataFrame,Series,to_numeric,options\n",
    "from numpy import concatenate,round\n",
    "from pyodbc import connect\n",
    "from warnings import filterwarnings\n",
    "import matplotlib.pyplot as plt\n",
    "from sklearn.metrics import mean_absolute_error,mean_squared_error,median_absolute_error,r2_score,max_error\n",
    "from sklearn.ensemble import RandomForestRegressor,GradientBoostingRegressor,HistGradientBoostingRegressor \n",
    "from sklearn.linear_model import LinearRegression\n",
    "from sklearn.dummy import DummyRegressor\n",
    "from sklearn.tree import DecisionTreeRegressor#,plot_tree\n",
    "from sklearn.model_selection import GridSearchCV,train_test_split#,cross_val_score\n",
    "from sklearn.preprocessing import StandardScaler#,LabelBinarizer,label_binarize,MaxAbsScaler\n",
    "from catboost import CatBoostRegressor\n",
    "from xgboost import XGBRegressor\n",
    "from lightgbm import LGBMRegressor\n",
    "from sklearn.neighbors import *\n",
    "from re import search#,match\n",
    "from random import randint\n",
    "from time import time\n",
    "from smtplib import SMTP_SSL\n",
    "from ssl import create_default_context\n",
    "from os import path,walk\n",
    "from zipfile import ZipFile, ZIP_DEFLATED\n",
    "from time import time,sleep"
   ]
  },
  {
   "cell_type": "code",
   "execution_count": 2,
   "metadata": {},
   "outputs": [],
   "source": [
    "filterwarnings('ignore')\n",
    "set_option('display.max_rows', None)\n",
    "set_option('display.max_columns', None)"
   ]
  },
  {
   "cell_type": "markdown",
   "metadata": {},
   "source": [
    "## Connect to SQL"
   ]
  },
  {
   "cell_type": "code",
   "execution_count": 3,
   "metadata": {},
   "outputs": [],
   "source": [
    "server = 'MOE'\n",
    "database = 'prod_WeisMarkets_RecoverNow'\n",
    "connectionString = f'DRIVER={{ODBC Driver 17 for SQL Server}};SERVER={server};DATABASE={database};Integrated Security={True};Autocommit={True};Trusted_Connection=yes;'\n",
    "conn = connect(connectionString)\n",
    "cursor_1 = conn.cursor()"
   ]
  },
  {
   "cell_type": "markdown",
   "metadata": {},
   "source": [
    "## Supporting Functions"
   ]
  },
  {
   "cell_type": "code",
   "execution_count": 4,
   "metadata": {},
   "outputs": [],
   "source": [
    "def export_to_sql(data: DataFrame):\n",
    "    server = 'barney'\n",
    "    database = 'sandbox_mp'\n",
    "    connectionString = f'DRIVER={{ODBC Driver 17 for SQL Server}};SERVER={server};DATABASE={database};Integrated Security={True};Autocommit={True};Trusted_Connection=yes;'\n",
    "    conn = connect(connectionString)\n",
    "    cursor = conn.cursor()\n",
    "    for index in range(len(list(data.columns))):\n",
    "        if(not(index in [202,201,200,199,198,197,196,195,181])):\n",
    "            data[list(data.columns)[index]] = data[list(data.columns)[index]].astype(str)\n",
    "        else:\n",
    "            data[list(data.columns)[index]] = data[list(data.columns)[index]].astype(float)\n",
    "            data[list(data.columns)[index]] = data[list(data.columns)[index]].round(4)\n",
    "    insert_sql = \"\"\"\n",
    "        INSERT INTO Weis_Market_Claim_With_ML_Predictions_PdOI_ATG (\n",
    "\t\t\tATG_RCPT_DTL_DS_Checked,\n",
    "\t\t\tATG_RCPT_DTL_DE_Checked,\n",
    "\t\t\tATG_RCPT_DTL_ClientFamilyID_ATG,\n",
    "\t\t\tATG_RCPT_DTL_BusinessUnit,\n",
    "\t\t\tATG_RCPT_DTL_ReceiptNbr,\n",
    "\t\t\tATG_RCPT_DTL_ReceiptSfx,\n",
    "\t\t\tATG_RCPT_DTL_PONbr,\n",
    "\t\t\tATG_RCPT_DTL_PODate,\n",
    "\t\t\tATG_RCPT_DTL_ReceiptDate,\n",
    "\t\t\tATG_RCPT_DTL_POVendorNbr,\n",
    "\t\t\tATG_RCPT_DTL_GrossWght,\n",
    "\t\t\tATG_RCPT_DTL_UnitOfWeight,\n",
    "\t\t\tATG_RCPT_DTL_POQty,\n",
    "\t\t\tATG_RCPT_DTL_ReceiptQty,\n",
    "\t\t\tATG_RCPT_DTL_ShortQty_ATG,\n",
    "\t\t\tATG_RCPT_DTL_VarWghtInd,\n",
    "\t\t\tATG_RCPT_DTL_ItemNbr,\n",
    "\t\t\tATG_RCPT_DTL_ItemDescr,\n",
    "\t\t\tATG_RCPT_DTL_Dept,\n",
    "\t\t\tATG_RCPT_DTL_UPCNbr,\n",
    "\t\t\tATG_RCPT_DTL_ItemSize,\n",
    "\t\t\tATG_RCPT_DTL_CasePack,\n",
    "\t\t\tATG_RCPT_DTL_TurnQty_ATG,\n",
    "\t\t\tATG_RCPT_DTL_TurnUnitQty_ATG,\n",
    "\t\t\tATG_RCPT_DTL_TurnRatio_ATG,\n",
    "\t\t\tATG_RCPT_DTL_ListCostSB_ATG,\n",
    "\t\t\tATG_RCPT_DTL_ChangeDate_ATG,\n",
    "\t\t\tATG_RCPT_DTL_EndDate_ATG,\n",
    "\t\t\tATG_RCPT_DTL_NextCost_ATG,\n",
    "\t\t\tATG_RCPT_DTL_PrevCost_ATG,\n",
    "\t\t\tATG_RCPT_DTL_CostDiff_ATG,\n",
    "\t\t\tATG_RCPT_DTL_IncDecFlag_ATG,\n",
    "\t\t\tATG_RCPT_DTL_CostType_ATG,\n",
    "\t\t\tATG_RCPT_DTL_AddDate_ATG,\n",
    "\t\t\tATG_RCPT_DTL_SellEffDate_ATG,\n",
    "\t\t\tATG_RCPT_DTL_LastShipDate_ATG,\n",
    "\t\t\tATG_RCPT_DTL_ATG_Cost_Ref,\n",
    "\t\t\tATG_RCPT_DTL_PdGross_ATG,\n",
    "\t\t\tATG_RCPT_DTL_PdNet_ATG,\n",
    "\t\t\tATG_RCPT_DTL_PdQty_ATG,\n",
    "\t\t\tATG_RCPT_DTL_PdUnitGross_ATG,\n",
    "\t\t\tATG_RCPT_DTL_PdUnitNet_ATG,\n",
    "\t\t\tATG_RCPT_DTL_PdUnitQty_ATG,\n",
    "\t\t\tATG_RCPT_DTL_Facility,\n",
    "\t\t\tATG_RCPT_DTL_ATG_Hdr_Ref,\n",
    "\t\t\tATG_RCPT_DTL_SourceFile_ATG,\n",
    "\t\t\tATG_RCPT_DTL_ATG_Ref,\n",
    "\t\t\tATG_RCPT_DTL_ATG_ItemID,\n",
    "\t\t\tATG_RCPT_DTL_RcptFacility,\n",
    "\t\t\tATG_RCPT_DTL_APVendorNbr,\n",
    "\t\t\tATG_RCPT_DTL_Merchndsr,\n",
    "\t\t\tATG_RCPT_DTL_ShipWght,\n",
    "\t\t\tATG_RCPT_DTL_ShipCube,\n",
    "\t\t\tATG_RCPT_DTL_PalltQty,\n",
    "\t\t\tATG_RCPT_DTL_QualifyAmt,\n",
    "\t\t\tATG_RCPT_DTL_RepckRatio,\n",
    "\t\t\tATG_RCPT_DTL_Status,\n",
    "\t\t\tATG_RCPT_DTL_ExcptnDate,\n",
    "\t\t\tATG_RCPT_DTL_OKDate,\n",
    "\t\t\tATG_RCPT_DTL_AdjCde1,\n",
    "\t\t\tATG_RCPT_DTL_AdjQty1,\n",
    "\t\t\tATG_RCPT_DTL_AdjCde2,\n",
    "\t\t\tATG_RCPT_DTL_AdjQty2,\n",
    "\t\t\tATG_RCPT_DTL_ListCost,\n",
    "\t\t\tATG_RCPT_DTL_OI,\n",
    "\t\t\tATG_RCPT_DTL_FreeGds,\n",
    "\t\t\tATG_RCPT_DTL_WhseDisc,\n",
    "\t\t\tATG_RCPT_DTL_UpDnAmt,\n",
    "\t\t\tATG_RCPT_DTL_UpDnInd,\n",
    "\t\t\tATG_RCPT_DTL_BB,\n",
    "\t\t\tATG_RCPT_DTL_LastCost,\n",
    "\t\t\tATG_RCPT_DTL_LastCost_Orig,\n",
    "\t\t\tATG_RCPT_DTL_CashDisc,\n",
    "\t\t\tATG_RCPT_DTL_FrghtAllw,\n",
    "\t\t\tATG_RCPT_DTL_FrghtAllwInd,\n",
    "\t\t\tATG_RCPT_DTL_VndrUpDn,\n",
    "\t\t\tATG_RCPT_DTL_VndrUpDnInd,\n",
    "\t\t\tATG_RCPT_DTL_PPayAdd,\n",
    "\t\t\tATG_RCPT_DTL_PrePayAddExInd,\n",
    "\t\t\tATG_RCPT_DTL_FrghtBill,\n",
    "\t\t\tATG_RCPT_DTL_Bckhl,\n",
    "\t\t\tATG_RCPT_DTL_VarWght,\n",
    "\t\t\tATG_RCPT_DTL_InvQty,\n",
    "\t\t\tATG_RCPT_DTL_InvListCost,\n",
    "\t\t\tATG_RCPT_DTL_InvOI,\n",
    "\t\t\tATG_RCPT_DTL_InvFreeGds,\n",
    "\t\t\tATG_RCPT_DTL_InvWhseDisc,\n",
    "\t\t\tATG_RCPT_DTL_InvUpDnAmt,\n",
    "\t\t\tATG_RCPT_DTL_InvUpDnInd,\n",
    "\t\t\tATG_RCPT_DTL_InvBB,\n",
    "\t\t\tATG_RCPT_DTL_InvLastCost,\n",
    "\t\t\tATG_RCPT_DTL_InvLastCost_Orig,\n",
    "\t\t\tATG_RCPT_DTL_InvCashDisc,\n",
    "\t\t\tATG_RCPT_DTL_InvFrghtAllw,\n",
    "\t\t\tATG_RCPT_DTL_InvFrghtAllwExInd,\n",
    "\t\t\tATG_RCPT_DTL_InvVndrUpDn,\n",
    "\t\t\tATG_RCPT_DTL_InvVndrUpDnInd,\n",
    "\t\t\tATG_RCPT_DTL_InvPPayAdd,\n",
    "\t\t\tATG_RCPT_DTL_InvPPayAddExInd,\n",
    "\t\t\tATG_RCPT_DTL_InvFrghtBill,\n",
    "\t\t\tATG_RCPT_DTL_InvBckhl,\n",
    "\t\t\tATG_RCPT_DTL_InvWght,\n",
    "\t\t\tATG_RCPT_DTL_InvVarWght,\n",
    "\t\t\tATG_RCPT_DTL_AdjQty,\n",
    "\t\t\tATG_RCPT_DTL_AdjListCost,\n",
    "\t\t\tATG_RCPT_DTL_AdjOI,\n",
    "\t\t\tATG_RCPT_DTL_AdjFreeGds,\n",
    "\t\t\tATG_RCPT_DTL_AdjWhseDisc,\n",
    "\t\t\tATG_RCPT_DTL_AdjUpDnAmt,\n",
    "\t\t\tATG_RCPT_DTL_AdjBB,\n",
    "\t\t\tATG_RCPT_DTL_AdjLastCost,\n",
    "\t\t\tATG_RCPT_DTL_AdjLastCost_Orig,\n",
    "\t\t\tATG_RCPT_DTL_AdjFrghtAllw,\n",
    "\t\t\tATG_RCPT_DTL_AdjVndrUpDn,\n",
    "\t\t\tATG_RCPT_DTL_AdjPPayAdd,\n",
    "\t\t\tATG_RCPT_DTL_AdjFrghtBill,\n",
    "\t\t\tATG_RCPT_DTL_AdjBckhl,\n",
    "\t\t\tATG_RCPT_DTL_AdjWght,\n",
    "\t\t\tATG_RCPT_DTL_AdjVarWght,\n",
    "\t\t\tATG_RCPT_DTL_AdjUpDnInd,\n",
    "\t\t\tATG_RCPT_DTL_AdjVndrUpDnInd,\n",
    "\t\t\tATG_RCPT_DTL_Toggle,\n",
    "\t\t\tATG_RCPT_DTL_LastRcvCorrDate,\n",
    "\t\t\tATG_RCPT_DTL_Comment,\n",
    "\t\t\tATG_RCPT_DTL_FreeCs,\n",
    "\t\t\tATG_RCPT_DTL_Trans,\n",
    "\t\t\tATG_RCPT_DTL_TransQty,\n",
    "\t\t\tATG_RCPT_DTL_Trans2RcvNbr,\n",
    "\t\t\tATG_RCPT_DTL_Trans2RcvSfx,\n",
    "\t\t\tATG_RCPT_DTL_Trans2Qty,\n",
    "\t\t\tATG_RCPT_DTL_TransFromRcvNbr,\n",
    "\t\t\tATG_RCPT_DTL_TransFromRcvSfx,\n",
    "\t\t\tATG_RCPT_DTL_TransFromQty,\n",
    "\t\t\tATG_RCPT_DTL_ItmFrtAllwExInd,\n",
    "\t\t\tATG_RCPT_DTL_AdjPPayAddExInd,\n",
    "\t\t\tATG_RCPT_DTL_FrghtBillExInd,\n",
    "\t\t\tATG_RCPT_DTL_InvFrghtBillExInd,\n",
    "\t\t\tATG_RCPT_DTL_AdjFrghtBillExInd,\n",
    "\t\t\tATG_RCPT_DTL_BckhlExInd,\n",
    "\t\t\tATG_RCPT_DTL_InvBckhlExInd,\n",
    "\t\t\tATG_RCPT_DTL_AdjBckhlExInd,\n",
    "\t\t\tATG_RCPT_DTL_DealFlg,\n",
    "\t\t\tATG_RCPT_DTL_DealStatus,\n",
    "\t\t\tATG_RCPT_DTL_InvQualifyAmt,\n",
    "\t\t\tATG_RCPT_DTL_InvFreeCs,\n",
    "\t\t\tATG_RCPT_DTL_AdjQualifyAmt,\n",
    "\t\t\tATG_RCPT_DTL_AdjFreeCs,\n",
    "\t\t\tATG_RCPT_DTL_CsUnitFctr,\n",
    "\t\t\tATG_RCPT_DTL_InvSurchgInd,\n",
    "\t\t\tATG_RCPT_DTL_HiOldAvgCost,\n",
    "\t\t\tATG_RCPT_DTL_ACChgTkn,\n",
    "\t\t\tATG_RCPT_DTL_ExcptnUsrID,\n",
    "\t\t\tATG_RCPT_DTL_OKUsrID,\n",
    "\t\t\tATG_RCPT_DTL_WDCostFlg,\n",
    "\t\t\tATG_RCPT_DTL_OICostFlg,\n",
    "\t\t\tATG_RCPT_DTL_FGCostFlg,\n",
    "\t\t\tATG_RCPT_DTL_FACostFlg,\n",
    "\t\t\tATG_RCPT_DTL_PPAddCostFlg,\n",
    "\t\t\tATG_RCPT_DTL_BBCostFlg,\n",
    "\t\t\tATG_RCPT_DTL_UDCostFlg,\n",
    "\t\t\tATG_RCPT_DTL_VndUDCostFlg,\n",
    "\t\t\tATG_RCPT_DTL_FBCostFlg,\n",
    "\t\t\tATG_RCPT_DTL_BHCostFlg,\n",
    "\t\t\tATG_RCPT_DTL_FullCostFlg,\n",
    "\t\t\tATG_RCPT_DTL_DSDItmDueVndr,\n",
    "\t\t\tATG_RCPT_DTL_ATG_Ref_Orig,\n",
    "\t\t\tATG_RCPT_DTL_ItemFacility,\n",
    "\t\t\tATG_RCPT_DTL_ATG_PO_Ref,\n",
    "\t\t\tATG_RCPT_DTL_IncvOI_ATG,\n",
    "\t\t\tATG_RCPT_DTL_IncvBB_ATG,\n",
    "\t\t\tATG_RCPT_DTL_FlatAmtOI_ATG,\n",
    "\t\t\tATG_RCPT_DTL_FlatAmtBB_ATG,\n",
    "\t\t\tATG_RCPT_DTL_Contact,\n",
    "\t\t\tATG_RCPT_DTL_BestOI_ATG,\n",
    "\t\t\tATG_RCPT_DTL_BestBB_ATG,\n",
    "\t\t\tATG_RCPT_DTL_UPCUnit,\n",
    "\t\t\tATG_RCPT_DTL_BalFlag_ATG,\n",
    "\t\t\tATG_RCPT_DTL_OOB_ATG,\n",
    "\t\t\tATG_RCPT_DTL_PdHdrFrtVar_ATG,\n",
    "\t\t\tATG_RCPT_DTL_MiscAdj_ATG,\n",
    "\t\t\tATG_RCPT_DTL_PdOI_ATG_BeforeAI,\n",
    "\t\t\tATG_RCPT_DTL_PdBB_ATG,\n",
    "\t\t\tATG_RCPT_DTL_PdUpDn_ATG,\n",
    "\t\t\tATG_RCPT_DTL_PdIncvOI_ATG,\n",
    "\t\t\tATG_RCPT_DTL_PdFlatOI_ATG,\n",
    "\t\t\tATG_RCPT_DTL_PdFlatBB_ATG,\n",
    "\t\t\tATG_RCPT_DTL_PdBckHl_ATG,\n",
    "\t\t\tATG_RCPT_DTL_PdPPayAdd_ATG,\n",
    "\t\t\tATG_RCPT_DTL_PdFrtBil_ATG,\n",
    "\t\t\tATG_RCPT_DTL_PdFrtAlw_ATG,\n",
    "\t\t\tATG_RCPT_DTL_PdShortOI_ATG,\n",
    "\t\t\tATG_RCPT_DTL_PdShortBB_ATG,\n",
    "\t\t\tATG_RCPT_DTL_PdShortBckHl_ATG,\n",
    "\t\t\tLinear_Model_Predictions_ATG_RCPT_DTL_PdOI_ATG,\n",
    "\t\t\tDecisionTree_Model_Predictions_ATG_RCPT_DTL_PdOI_ATG,\n",
    "\t\t\tRandomForest_Model_Predictions_ATG_RCPT_DTL_PdOI_ATG,\n",
    "\t\t\tXGBoost_Model_Predictions_ATG_RCPT_DTL_PdOI_ATG,\n",
    "\t\t\tGradientBoost_Model_Predictions_ATG_RCPT_DTL_PdOI_ATG,\n",
    "\t\t\tLGBM_Model_Predictions_ATG_RCPT_DTL_PdOI_ATG,\n",
    "\t\t\tCatBoost_Model_Predictions_ATG_RCPT_DTL_PdOI_ATG,\n",
    "\t\t\tKNeighbors_Model_Predictions_ATG_RCPT_DTL_PdOI_ATG\n",
    "        )\n",
    "        VALUES \n",
    "            (?,?,?,?,?,?,?,?,?,?,?,?,?,?,?,?,?,?,?,?,?,?,?,?,?,?,?,?,?,?,?,?,?,?,?,?,?,?,?,?,?,?,?,?,?,?,?,?,?,?,?,?,?,?,?,?,?,?,?,?,?,\n",
    "            ?,?,?,?,?,?,?,?,?,?,?,?,?,?,?,?,?,?,?,?,?,?,?,?,?,?,?,?,?,?,?,?,?,?,?,?,?,?,?,?,?,?,?,?,?,?,?,?,?,?,?,?,?,?,?,?,?,?,?,?,?,?,?,?,?,?,\n",
    "            ?,?,?,?,?,?,?,?,?,?,?,?,?,?,?,?,?,?,?,?,?,?,?,?,?,?,?,?,?,?,?,?,?,?,?,?,?,?,?,?,?,?,?,?,?,?,?,?,?,?,?,?,?,?,?,?,?,?,?,?,?,?,?,?,?,?,\n",
    "            ?,?,?,?,?,?,?,?) \n",
    "    \"\"\"\n",
    "    for row in data.index:\n",
    "        if(int(row)%100==0):\n",
    "            print(f\"{row:,}\")\n",
    "        current_row = list(data.iloc[int(row)])\n",
    "        # for item in current_row:\n",
    "        #     print(f\"{item}: {type(item)}\")\n",
    "        # del current_row[33]\n",
    "        # for index in range(len(current_row)):\n",
    "        #     if(index>=33):\n",
    "        #         current_row[index] = round(current_row[index],4)\n",
    "        #     if(index in [2,3,4]):\n",
    "        #         current_row[index] = int(current_row[index])\n",
    "        #     else:\n",
    "        #         current_row[index] = str(current_row[index])\n",
    "        # current_row.insert(33,current_row[23])\n",
    "        # del current_row[23]\n",
    "        try:\n",
    "            cursor.execute(insert_sql, current_row)\n",
    "            conn.commit()\n",
    "        except:\n",
    "            pass\n",
    "    cursor.close()\n",
    "    conn.close()"
   ]
  },
  {
   "cell_type": "code",
   "execution_count": 5,
   "metadata": {},
   "outputs": [],
   "source": [
    "def scatter_plot_models(target: Series,predictions: Series,model_name: str, show: bool=False):\n",
    "    plt.figure(figsize=(6,5))\n",
    "    plt.scatter(target,predictions,color='blue',label='Test_Data',linewidths=.1)\n",
    "    plt.plot([Series(target).min(),Series(target).max()],\n",
    "            [Series(target).min(),Series(target).max()],'k--',lw=1)\n",
    "    plt.xlabel('PdOI_ATG_Before_AI')\n",
    "    plt.ylabel('PdOI_ATG_After_AI')\n",
    "    plt.savefig(f\"C:/Code/Python/Machine_Learning_AI/Model_Analysis/{model_name}_Scatter.png\")\n",
    "    if(show):\n",
    "        plt.show()\n",
    "    else:\n",
    "        plt.close()"
   ]
  },
  {
   "cell_type": "code",
   "execution_count": 6,
   "metadata": {},
   "outputs": [],
   "source": [
    "def get_scores(target, predictions):\n",
    "    mse = mean_squared_error(target, predictions)\n",
    "    rmse = mse**0.5\n",
    "    median_ae = median_absolute_error(target,predictions)\n",
    "    mean_ae = mean_absolute_error(target,predictions)\n",
    "    max_errors = max_error(target,predictions)\n",
    "    r2 = r2_score(target,predictions)\n",
    "    return [mse,rmse,mean_ae,median_ae,max_errors,r2]"
   ]
  },
  {
   "cell_type": "code",
   "execution_count": 7,
   "metadata": {},
   "outputs": [],
   "source": [
    "def run_and_analyze_model(model,features_train_subset: DataFrame,target_train_subset: Series,features_test: Series,target_test: Series,model_scores: DataFrame,model_name: str):\n",
    "    model.fit(features_train_subset,target_train_subset)\n",
    "    train_predictions = Series(model.predict(features_train_subset),name=model_name)\n",
    "    train_predictions = train_predictions.round(4)\n",
    "    predictions = Series(model.predict(features_test),name=model_name)\n",
    "    predictions = predictions.round(4)\n",
    "    model_scores.loc[model_name] = get_scores(target_test,predictions)\n",
    "    try:\n",
    "        model_importances = DataFrame([model.feature_importances_],columns=features_train_subset.columns,index=[model_name]).T\n",
    "        return model,train_predictions,predictions,model_scores,model_importances\n",
    "    except:\n",
    "        model_importances = DataFrame([[1/len(features_train_subset.columns) for _ in range(len(features_train_subset.columns))]],columns=list(features_train_subset.columns),index=[model_name]).T\n",
    "        return model,train_predictions,predictions,model_scores,model_importances"
   ]
  },
  {
   "cell_type": "code",
   "execution_count": 8,
   "metadata": {},
   "outputs": [],
   "source": [
    "def empty_string_to_null(string: str):\n",
    "    if(len(str(string))==0 or len(str(string).replace(' ',''))==0):\n",
    "        return \"None\"\n",
    "    return string"
   ]
  },
  {
   "cell_type": "code",
   "execution_count": 9,
   "metadata": {},
   "outputs": [],
   "source": [
    "def object_to_int(original,lookup_table):\n",
    "    for row in lookup_table.index:\n",
    "        for col in lookup_table.columns:\n",
    "            if(original==lookup_table[col][row]):\n",
    "                return int(col)"
   ]
  },
  {
   "cell_type": "code",
   "execution_count": 10,
   "metadata": {},
   "outputs": [],
   "source": [
    "def random_int(min_val, max_val):\n",
    "    # Get the current time in microseconds\n",
    "    current_time = int(time() * 1000000)\n",
    "    \n",
    "    # Use the current time as a seed and perform some operations to get more randomness\n",
    "    seed = (current_time ^ (current_time >> randint(1,20))) & 0xFFFFFFFF\n",
    "    seed = (seed ^ (seed << randint(1,20))) & 0xFFFFFFFF\n",
    "    seed = (seed ^ (seed >> randint(1,20))) & 0xFFFFFFFF\n",
    "    \n",
    "    # Scale the seed to the desired range\n",
    "    random_value = min_val + (seed % (max_val - min_val + 1))\n",
    "    \n",
    "    return random_value"
   ]
  },
  {
   "cell_type": "code",
   "execution_count": 11,
   "metadata": {},
   "outputs": [],
   "source": [
    "def random_features(columns):\n",
    "    subset = []\n",
    "    columns = list(columns)\n",
    "    while(len(subset)<50):\n",
    "        random_index = random_int(0,len(list(columns))-1)\n",
    "        while(columns[random_index] in subset):\n",
    "            random_index = random_int(0,len(list(columns))-1)\n",
    "        subset.append(columns[random_index])\n",
    "    return subset"
   ]
  },
  {
   "cell_type": "code",
   "execution_count": 12,
   "metadata": {},
   "outputs": [],
   "source": [
    "def send_email_to_self(subject: str,body: str):\n",
    "    port = 465  # For SSL\n",
    "    smtp_server = \"smtp.gmail.com\"\n",
    "    sender_email = \"micpowers98@gmail.com\"  # Enter your address\n",
    "    receiver_email = \"micpowers98@gmail.com\"  # Enter receiver address\n",
    "    password = 'efex cwhv gppq ueob'\n",
    "    message = \"Subject: \"+subject+\"\\n\"+body\n",
    "\n",
    "    context = create_default_context()\n",
    "    with SMTP_SSL(smtp_server, port, context=context) as server:\n",
    "        server.login(sender_email, password)\n",
    "        server.sendmail(sender_email, receiver_email, message)"
   ]
  },
  {
   "cell_type": "code",
   "execution_count": 13,
   "metadata": {},
   "outputs": [],
   "source": [
    "def get_data(columns: list):\n",
    "\tcursor_1.execute(\"\"\"\n",
    "\t\t\tselect \n",
    "\t\t\t\tcase when (li.checked='true' and ds.checked='claim') then 'Y' else 'N' end as IsClaimFlg, li.checked,\n",
    "\t\t\t\t\tli.[ATG_Ref],\n",
    "\t\t\t\t\tli.[ATG_LI_Ref],\n",
    "\t\t\t\t\tli.[BatchNbr],\n",
    "\t\t\t\t\tli.[CATEGORY_ATG],\n",
    "\t\t\t\t\tli.[ClaimType],\n",
    "\t\t\t\t\tli.[AP_VndNbr],\n",
    "\t\t\t\t\tli.[APVndrName],\n",
    "\t\t\t\t\tli.[OOB_ATG],\n",
    "\t\t\t\t\tli.[ItemNbr],\n",
    "\t\t\t\t\tli.[UPCNbr],\n",
    "\t\t\t\t\tli.[UPCUnit],\n",
    "\t\t\t\t\tli.[ItemDescription],\n",
    "\t\t\t\t\tli.[ItemShipPack],\n",
    "\t\t\t\t\tli.[PoNbr],\n",
    "\t\t\t\t\tli.[PODate],\n",
    "\t\t\t\t\tli.[ReceivingDate],\n",
    "\t\t\t\t\tli.[TurnRatio_ATG],\n",
    "\t\t\t\t\tli.[TurnQty_ATG],\n",
    "\t\t\t\t\tli.[OrdQty],\n",
    "\t\t\t\t\tli.[PdQty_ATG],\n",
    "\t\t\t\t\tli.[PdGross_ATG],\n",
    "\t\t\t\t\tli.[PdOI_ATG],\n",
    "\t\t\t\t\tli.[PdBB_ATG],\n",
    "\t\t\t\t\tli.[PdNet_ATG],\n",
    "\t\t\t\t\tli.[DealNbr],\n",
    "\t\t\t\t\tli.[OrdStartDate_ATG],\n",
    "\t\t\t\t\tli.[OrdEndDate_ATG],\n",
    "\t\t\t\t\tli.[DateStartArrival_ATG],\n",
    "\t\t\t\t\tli.[DateEndArrival_ATG],\n",
    "\t\t\t\t\tli.[DLAmtOI],\n",
    "\t\t\t\t\tli.[DLAmtBB]\n",
    "\t\t\tfrom     \n",
    "\t\t\t\t[MOE].[prod_WeisMarkets_RecoverNow].[dbo].[ATG_DealLI_Exceptions] li\n",
    "\t\t\t\t\t\tjoin  [MOE].[prod_WeisMarkets_RecoverNow].[dbo].[ATG_Deal_Summary] ds\n",
    "\t\t\t\t\t\ton (li.BatchNbr = ds.BatchNbr)\n",
    "\t\t\t\t\t\tand (li.DLVendorNbr = ds.DLVendorNbr)\n",
    "\t\t\t\t\t\tand (li.DealNbr = ds.DealNbr)\n",
    "\t\t\t\t\t\tand (li.CATEGORY_ATG = ds.CATEGORY_ATG)\n",
    "\t\t\t\t\t\tand (li.ClaimType = ds.ClaimType_ATG)\n",
    "\t\t\twhere li.ClaimType = 'IN DEAL' and ds.CATEGORY_ATG = 'SAME VENDOR - AMT DEALS'\n",
    "\t\t\torder by 8,12,17\t\t\t\n",
    "\t\t\"\"\")\n",
    "\ttrain_subset_data = cursor_1.fetchall()\n",
    "\ttrain_subset_data_list = []\n",
    "\tfor index in range(len(train_subset_data)):\n",
    "\t\ttrain_subset_data_list.append(list(train_subset_data[index]))\n",
    "\tdel train_subset_data\n",
    "\treturn DataFrame(data=train_subset_data_list,columns=columns)"
   ]
  },
  {
   "cell_type": "code",
   "execution_count": 14,
   "metadata": {},
   "outputs": [],
   "source": [
    "def get_big_data(columns: list):\n",
    "\tcursor_1.execute(\"\"\"\n",
    "            SELECT DS.checked as DS_Checked, DE.checked as DE_Checked, RD.*\n",
    "                FROM \n",
    "                    MOE.prod_WeisMarkets_RecoverNow.dbo.ATG_RCPT_DTL as RD LEFT OUTER JOIN\n",
    "                        MOE.prod_WeisMarkets_RecoverNow.dbo.ATG_DealLI_Exceptions_TBL as DE \n",
    "                        ON RD.ATG_Ref = DE.ATG_LI_Ref LEFT OUTER JOIN\n",
    "                        MOE.prod_WeisMarkets_RecoverNow.dbo.ATG_Deal_Summary_TBL as DS\n",
    "                            ON DE.ClaimType = DS.ClaimType_ATG\n",
    "                                AND DE.DealNbr = DS.DealNbr\n",
    "                                AND DE.DLVendorNbr = DS.DLVendorNbr\n",
    "                                AND DE.BatchNbr = DS.BatchNbr\t\t\n",
    "\t\t\"\"\")\n",
    "\ttrain_subset_data = cursor_1.fetchall()\n",
    "\ttrain_subset_data_list = []\n",
    "\tfor index in range(len(train_subset_data)):\n",
    "\t\ttrain_subset_data_list.append(list(train_subset_data[index]))\n",
    "\tdel train_subset_data\n",
    "\treturn DataFrame(data=train_subset_data_list,columns=columns)"
   ]
  },
  {
   "cell_type": "code",
   "execution_count": 15,
   "metadata": {},
   "outputs": [],
   "source": [
    "def get_individual_upc(columns: list, upc: str):\n",
    "    cursor_1.execute(f\"\"\"\n",
    "            SELECT DS.checked as DS_Checked, DE.checked as DE_Checked, RD.*\n",
    "                FROM \n",
    "                    MOE.prod_WeisMarkets_RecoverNow.dbo.ATG_RCPT_DTL as RD LEFT OUTER JOIN\n",
    "                        MOE.prod_WeisMarkets_RecoverNow.dbo.ATG_DealLI_Exceptions_TBL as DE \n",
    "                        ON RD.ATG_Ref = DE.ATG_LI_Ref LEFT OUTER JOIN\n",
    "                        MOE.prod_WeisMarkets_RecoverNow.dbo.ATG_Deal_Summary_TBL as DS\n",
    "                            ON DE.ClaimType = DS.ClaimType_ATG\n",
    "                                AND DE.DealNbr = DS.DealNbr\n",
    "                                AND DE.DLVendorNbr = DS.DLVendorNbr\n",
    "                                AND DE.BatchNbr = DS.BatchNbr\n",
    "                WHERE\n",
    "                    RD.UPCNbr={upc}\n",
    "\t\t\"\"\")\n",
    "    train_subset_data = cursor_1.fetchall()\n",
    "    train_subset_data_list = []\n",
    "    for index in range(len(train_subset_data)):\n",
    "        train_subset_data_list.append(list(train_subset_data[index]))\n",
    "    del train_subset_data\n",
    "    #print(DataFrame(data=train_subset_data_list,columns=columns).info(max_cols=1000))\n",
    "    train = DataFrame(data=train_subset_data_list,columns=columns)\n",
    "    train = train.drop('ClaimActivityID_ATGSYS',axis=1)\n",
    "    train = train.fillna('None')\n",
    "    return train"
   ]
  },
  {
   "cell_type": "code",
   "execution_count": 16,
   "metadata": {},
   "outputs": [],
   "source": [
    "def get_test_data(batch_number: int, columns: list):\n",
    "    cursor_1.execute(f\"\"\"\n",
    "\t\t    select \n",
    "                case when (li.checked = 'true' and ds.checked = 'claim') then 'Y' else 'N' end as IsClaimFlg, li.Checked, \n",
    "                    li.[ATG_Ref],\n",
    "                    li.[ATG_LI_Ref],\n",
    "                    li.[BatchNbr],\n",
    "                    li.[CATEGORY_ATG],\n",
    "                    li.[ClaimType],\n",
    "                    li.[AP_VndNbr],\n",
    "                    li.[APVndrName],\n",
    "                    li.[OOB_ATG],\n",
    "                    li.[ItemNbr],\n",
    "                    li.[UPCNbr],\n",
    "                    li.[UPCUnit],\n",
    "                    li.[ItemDescription],\n",
    "                    li.[ItemShipPack],\n",
    "                    li.[PoNbr],\n",
    "                    li.[PODate],\n",
    "                    li.[ReceivingDate],\n",
    "                    li.[TurnRatio_ATG],\n",
    "                    li.[TurnQty_ATG],\n",
    "                    li.[OrdQty],\n",
    "                    li.[PdQty_ATG],\n",
    "                    li.[PdGross_ATG],\n",
    "                    li.[PdOI_ATG],\n",
    "                    li.[PdBB_ATG],\n",
    "                    li.[PdNet_ATG],\n",
    "                    li.[DealNbr],\n",
    "                    li.[OrdStartDate_ATG],\n",
    "                    li.[OrdEndDate_ATG],\n",
    "                    li.[DateStartArrival_ATG],\n",
    "                    li.[DateEndArrival_ATG],\n",
    "                    li.[DLAmtOI],\n",
    "                    li.[DLAmtBB]--,\n",
    "\t\t\t    from    \n",
    "                    [MOE].[prod_WeisMarkets_RecoverNow].[dbo].[ATG_DealLI_Exceptions] li\n",
    "                    join  [MOE].[prod_WeisMarkets_RecoverNow].[dbo].[ATG_Deal_Summary]  ds\n",
    "                    on (li.BatchNbr = ds.BatchNbr)\n",
    "                    and (li.DLVendorNbr = ds.DLVendorNbr)\n",
    "                    and (li.DealNbr = ds.DealNbr)\n",
    "                    and (li.CATEGORY_ATG = ds.CATEGORY_ATG)\n",
    "                    and (li.ClaimType = ds.ClaimType_ATG)\n",
    "                where\n",
    "                    li.BatchNbr=67\n",
    "                    and\n",
    "                    li.ClaimType = 'IN DEAL' \n",
    "                    and \n",
    "                    ds.CATEGORY_ATG = 'SAME VENDOR - AMT DEALS' \n",
    "                    and \n",
    "                    li.checked='x' \n",
    "                    and \n",
    "                    ds.checked='x'\n",
    "\n",
    "\t\t    union\n",
    "\n",
    "\t\t\tselect top(1) \n",
    "                case when (li.checked = 'true' and ds.checked = 'claim') then 'Y' else 'N' end as IsClaimFlg, li.Checked, \n",
    "                    li.[ATG_Ref],\n",
    "                    li.[ATG_LI_Ref],\n",
    "                    li.[BatchNbr],\n",
    "                    li.[CATEGORY_ATG],\n",
    "                    li.[ClaimType],\n",
    "                    li.[AP_VndNbr],\n",
    "                    li.[APVndrName],\n",
    "                    li.[OOB_ATG],\n",
    "                    li.[ItemNbr],\n",
    "                    li.[UPCNbr],\n",
    "                    li.[UPCUnit],\n",
    "                    li.[ItemDescription],\n",
    "                    li.[ItemShipPack],\n",
    "                    li.[PoNbr],\n",
    "                    li.[PODate],\n",
    "                    li.[ReceivingDate],\n",
    "                    li.[TurnRatio_ATG],\n",
    "                    li.[TurnQty_ATG],\n",
    "                    li.[OrdQty],\n",
    "                    li.[PdQty_ATG],\n",
    "                    li.[PdGross_ATG],\n",
    "                    li.[PdOI_ATG],\n",
    "                    li.[PdBB_ATG],\n",
    "                    li.[PdNet_ATG],\n",
    "                    li.[DealNbr],\n",
    "                    li.[OrdStartDate_ATG],\n",
    "                    li.[OrdEndDate_ATG],\n",
    "                    li.[DateStartArrival_ATG],\n",
    "                    li.[DateEndArrival_ATG],\n",
    "                    li.[DLAmtOI],\n",
    "                    li.[DLAmtBB]--,\n",
    "\t\t\t    from     \n",
    "                    [MOE].[prod_WeisMarkets_RecoverNow].[dbo].[ATG_DealLI_Exceptions] li\n",
    "                    join  [MOE].[prod_WeisMarkets_RecoverNow].[dbo].[ATG_Deal_Summary]  ds\n",
    "                    on (li.BatchNbr = ds.BatchNbr)\n",
    "                    and (li.DLVendorNbr = ds.DLVendorNbr)\n",
    "                    and (li.DealNbr = ds.DealNbr)\n",
    "                    and (li.CATEGORY_ATG = ds.CATEGORY_ATG)\n",
    "                    and (li.ClaimType = ds.ClaimType_ATG)\n",
    "\t\t\twhere\n",
    "                li.ClaimType = 'IN DEAL' \n",
    "                and \n",
    "                ds.CATEGORY_ATG = 'SAME VENDOR - AMT DEALS' \n",
    "                and \n",
    "                li.checked='true' \n",
    "                and \n",
    "                ds.checked='claim'\n",
    "        \"\"\")\n",
    "    test_data = cursor_1.fetchall()\n",
    "    test_data_list = []\n",
    "    for index in range(len(test_data)):\n",
    "        test_data_list.append(list(test_data[index]))\n",
    "    del test_data\n",
    "    return DataFrame(data=test_data_list,columns=columns)"
   ]
  },
  {
   "cell_type": "code",
   "execution_count": 17,
   "metadata": {},
   "outputs": [],
   "source": [
    "def compress_folder_to_zip(folder_path, output_zip_file):\n",
    "    # Create a ZipFile object\n",
    "    with ZipFile(output_zip_file, 'w', ZIP_DEFLATED) as zipf:\n",
    "        # Walk through the folder\n",
    "        for root, dirs, files in walk(folder_path):\n",
    "            for file in files:\n",
    "                # Create the full file path\n",
    "                file_path = path.join(root, file)\n",
    "                # Add file to zip, using relative path to maintain folder structure\n",
    "                arcname = path.relpath(file_path, start=folder_path)\n",
    "                zipf.write(file_path, arcname=arcname)"
   ]
  },
  {
   "cell_type": "markdown",
   "metadata": {},
   "source": [
    "## Global Variables"
   ]
  },
  {
   "cell_type": "code",
   "execution_count": 18,
   "metadata": {},
   "outputs": [],
   "source": [
    "old_columns:list = ['IsClaimFlg','Checked','ATG_Ref','ATG_LI_Ref','BatchNbr','CATEGORY_ATG','ClaimType','AP_VndNbr','APVndrName',\n",
    "                 'OOB_ATG','ItemNbr','UPCNbr','UPCUnit','ItemDescription','ItemShipPack','PoNbr','PODate','ReceivingDate','TurnRatio_ATG',\n",
    "                 'TurnQty_ATG','OrdQty','PdQty_ATG','PdGross_ATG','PdOI_ATG','PdBB_ATG','PdNet_ATG','DealNbr','OrdStartDate_ATG',\n",
    "                 'OrdEndDate_ATG','DateStartArrival_ATG','DateEndArrival_ATG','DLAmtOI','DLAmtBB']"
   ]
  },
  {
   "cell_type": "code",
   "execution_count": 19,
   "metadata": {},
   "outputs": [],
   "source": [
    "columns:list = [\n",
    "        'DS_Checked','DE_Checked','ClientFamilyID_ATG','BusinessUnit','ReceiptNbr','ReceiptSfx','PONbr','PODate','ReceiptDate','POVendorNbr',\n",
    "        'GrossWght','UnitOfWeight','POQty','ReceiptQty','ShortQty_ATG','VarWghtInd','ItemNbr','ItemDescr','Dept','UPCNbr',\n",
    "        'ItemSize','CasePack','TurnQty_ATG','TurnUnitQty_ATG','TurnRatio_ATG','ListCostSB_ATG','ChangeDate_ATG','EndDate_ATG','NextCost_ATG','PrevCost_ATG',\n",
    "        'CostDiff_ATG','IncDecFlag_ATG','CostType_ATG','AddDate_ATG','SellEffDate_ATG','LastShipDate_ATG','ATG_Cost_Ref','PdGross_ATG','PdNet_ATG','PdQty_ATG',\n",
    "        'PdUnitGross_ATG','PdUnitNet_ATG','PdUnitQty_ATG','Facility','ATG_Hdr_Ref','SourceFile_ATG','ATG_Ref','ATG_ItemID','RcptFacility','APVendorNbr',\n",
    "        'Merchndsr','ShipWght','ShipCube','PalltQty','QualifyAmt','RepckRatio','Status','ExcptnDate','OKDate','AdjCde1',\n",
    "        'AdjQty1','AdjCde2','AdjQty2','ListCost','OI','FreeGds','WhseDisc','UpDnAmt','UpDnInd','BB',\n",
    "        'LastCost','LastCost_Orig','CashDisc','FrghtAllw','FrghtAllwInd','VndrUpDn','VndrUpDnInd','PPayAdd','PrePayAddExInd','FrghtBill',\n",
    "        'Bckhl','VarWght','InvQty','InvListCost','InvOI','InvFreeGds','InvWhseDisc','InvUpDnAmt','InvUpDnInd','InvBB',\n",
    "        'InvLastCost','InvLastCost_Orig','InvCashDisc','InvFrghtAllw','InvFrghtAllwExInd','InvVndrUpDn','InvVndrUpDnInd','InvPPayAdd','InvPPayAddExInd','InvFrghtBill',\n",
    "        'InvBckhl','InvWght','InvVarWght','AdjQty','AdjListCost','AdjOI','AdjFreeGds','AdjWhseDisc','AdjUpDnAmt','AdjBB',\n",
    "        'AdjLastCost','AdjLastCost_Orig','AdjFrghtAllw','AdjVndrUpDn','AdjPPayAdd','AdjFrghtBill','AdjBckhl','AdjWght','AdjVarWght','AdjUpDnInd',\n",
    "        'AdjVndrUpDnInd','Toggle','LastRcvCorrDate','Comment','FreeCs','Trans','TransQty','Trans2RcvNbr','Trans2RcvSfx','Trans2Qty',\n",
    "        'TransFromRcvNbr','TransFromRcvSfx','TransFromQty','ItmFrtAllwExInd','AdjPPayAddExInd','FrghtBillExInd','InvFrghtBillExInd','AdjFrghtBillExInd','BckhlExInd','InvBckhlExInd',\n",
    "        'AdjBckhlExInd','DealFlg','DealStatus','InvQualifyAmt','InvFreeCs','AdjQualifyAmt','AdjFreeCs','CsUnitFctr','InvSurchgInd','HiOldAvgCost',\n",
    "        'ACChgTkn','ExcptnUsrID','OKUsrID','WDCostFlg','OICostFlg','FGCostFlg','FACostFlg','PPAddCostFlg','BBCostFlg','UDCostFlg',\n",
    "        'VndUDCostFlg','FBCostFlg','BHCostFlg','FullCostFlg','DSDItmDueVndr','ATG_Ref_Orig','ItemFacility','ATG_PO_Ref','IncvOI_ATG','IncvBB_ATG',\n",
    "        'FlatAmtOI_ATG','FlatAmtBB_ATG','Contact','BestOI_ATG','BestBB_ATG','UPCUnit','BalFlag_ATG','OOB_ATG','PdHdrFrtVar_ATG','MiscAdj_ATG',\n",
    "        'PdOI_ATG','PdBB_ATG','PdUpDn_ATG','PdIncvOI_ATG','PdFlatOI_ATG','PdFlatBB_ATG','PdBckHl_ATG','PdPPayAdd_ATG','PdFrtBil_ATG','PdFrtAlw_ATG',\n",
    "        'PdShortOI_ATG','PdShortBB_ATG','PdShortBckHl_ATG','ClaimActivityID_ATGSYS'\n",
    "    ]"
   ]
  },
  {
   "cell_type": "code",
   "execution_count": 20,
   "metadata": {},
   "outputs": [],
   "source": [
    "additional_excluded_columns:list = ['BusinessUnit','ReceiptSfx','UnitOfWeight','VarWghtInd','ItemSize','SourceFile_ATG','ATG_Ref','ATG_ItemID',\n",
    "                                   'RcptFacility','Merchndsr','Status','ExcptnDate','OKDate','AdjCde1','AdjQty1','AdjCde2','AdjQty2','ListCost','FreeGds',\n",
    "                                   'WhseDisc','UpDnAmt','UpDnInd','BB','LastCost','LastCost_Orig','CashDisc','FrghtAllwInd','VndrUpDn','VndrUpDnInd',\n",
    "                                   'PPayAdd','PrePayAddExInd','FrghtBill','Bckhl','VarWght','InvQty','InvListCost','InvOI','InvFreeGds','InvWhseDisc',\n",
    "                                   'InvUpDnInd','InvBB','InvLastCost','InvLastCost_Orig','InvCashDisc','InvFrghtAllw','InvFrghtAllwExInd','InvVndrUpDn',\n",
    "                                   'InvPPayAdd','InvFrghtBill','InvBckhl','InvWght','InvVarWght','AdjQty','AdjListCost','AdjOI','AdjFreeGds','AdjWhseDisc',\n",
    "                                   'AdjUpDnAmt','AdjBB','AdjLastCost','AdjLastCost_Orig','AdjFrghtAllw','DS_Checked','DE_Checked','ClientFamilyID_ATG',\n",
    "                                   'AdjVndrUpDn','AdjPPayAdd','AdjFrghtBill','AdjBckhl','AdjWght','AdjVarWght','AdjUpDnInd','AdjVndrUpDnInd','Toggle',\n",
    "                                   'LastRcvCorrDate','Comment','FreeCs','Trans','TransQty','Trans2RcvNbr','Trans2RcvSfx','Trans2Qty','TransFromRcvNbr',\n",
    "                                   'TransFromRcvSfx','TransFromQty','ItmFrtAllwExInd','AdjPPayAddExInd','FrghtBillExInd','InvFrghtBillExInd','AdjFrghtBillExInd',\n",
    "                                   'BckhlExInd','InvBckhlExInd','AdjBckhlExInd','DealFlg','DealStatus','InvQualifyAmt','InvFreeCs',\n",
    "                                   'AdjQualifyAmt','AdjFreeCs','CsUnitFctr','InvSurchgInd','HiOldAvgCost','ACChgTkn','ExcptnUsrID','OKUsrID','WDCostFlg',\n",
    "                                   'OICostFlg','FGCostFlg','FACostFlg','PPAddCostFlg','BBCostFlg','UDCostFlg','VndUDCostFlg','FBCostFlg','BHCostFlg',\n",
    "                                   'FullCostFlg','DSDItmDueVndr','ATG_Ref_Orig','ItemFacility','ATG_PO_Ref','IncvOI_ATG','IncvBB_ATG','FlatAmtOI_ATG',\n",
    "                                   'FlatAmtBB_ATG','Contact','BalFlag_ATG','OOB_ATG','PdHdrFrtVar_ATG','MiscAdj_ATG','ReceiptNbr','PONbr','ReceiptDate',\n",
    "                                   'POVendorNbr','ItemDescr','ItemNbr','Dept','UPCNbr','ChangeDate_ATG','EndDate_ATG','NextCost_ATG','PrevCost_ATG',\n",
    "                                   'CostDiff_ATG','IncDecFlag_ATG','CostType_ATG','AddDate_ATG','SellEffDate_ATG','LastShipDate_ATG','ATG_Cost_Ref',\n",
    "                                   'Facility','ATG_Hdr_Ref','APVendorNbr','InvUpDnAmt','InvVndrUpDnInd','InvPPayAddExInd','UPCUnit','ListCostSB_ATG',\n",
    "                                   'RepckRatio','QualifyAmt','ShipCube','BestOI_ATG','OI','PODate','PdIncvOI_ATG','PdUpDn_ATG','PdShortOI_ATG','PdFlatOI_ATG']"
   ]
  },
  {
   "cell_type": "markdown",
   "metadata": {},
   "source": [
    "## Loading Data"
   ]
  },
  {
   "cell_type": "code",
   "execution_count": 21,
   "metadata": {},
   "outputs": [],
   "source": [
    "train: DataFrame = get_big_data(columns=columns)"
   ]
  },
  {
   "cell_type": "code",
   "execution_count": null,
   "metadata": {},
   "outputs": [],
   "source": [
    "print(f\"{len(train):,}\")"
   ]
  },
  {
   "cell_type": "code",
   "execution_count": null,
   "metadata": {},
   "outputs": [],
   "source": [
    "train_subset_original: DataFrame = train.copy()"
   ]
  },
  {
   "cell_type": "code",
   "execution_count": null,
   "metadata": {},
   "outputs": [],
   "source": [
    "train_subset: DataFrame = train.copy()\n",
    "train = train.drop(additional_excluded_columns,axis=1)"
   ]
  },
  {
   "cell_type": "code",
   "execution_count": null,
   "metadata": {},
   "outputs": [],
   "source": [
    "print(f\"{len(train_subset):,} total rows of data.\")"
   ]
  },
  {
   "cell_type": "code",
   "execution_count": null,
   "metadata": {},
   "outputs": [],
   "source": [
    "subject = 'Data Collected'\n",
    "body = f\"\"\"\n",
    "        {len(train_subset):,} total rows of data.\n",
    "    \"\"\"\n",
    "# send_email_to_self(subject,body)"
   ]
  },
  {
   "cell_type": "markdown",
   "metadata": {},
   "source": [
    "## Convert Strings to Numbers"
   ]
  },
  {
   "cell_type": "code",
   "execution_count": null,
   "metadata": {},
   "outputs": [],
   "source": [
    "for col in train_subset.columns:\n",
    "    if train_subset[col].dtype == 'object':\n",
    "        try:\n",
    "            train_subset[col] = train_subset[col].astype(float)\n",
    "        except:\n",
    "            try:\n",
    "                train_subset[col] = train_subset[col].astype(int)\n",
    "            except Exception as e: pass\n",
    "print(f\"Initial conversions from strings to numbers\")"
   ]
  },
  {
   "cell_type": "code",
   "execution_count": null,
   "metadata": {},
   "outputs": [],
   "source": [
    "empty_col = []\n",
    "for col in train_subset.columns:\n",
    "    if train_subset[col].dtype == 'object':\n",
    "        if(train_subset[col].nunique()>1000):\n",
    "            print(col)\n",
    "            empty_col.append(col)"
   ]
  },
  {
   "cell_type": "code",
   "execution_count": null,
   "metadata": {},
   "outputs": [],
   "source": [
    "train_subset = train_subset.drop(empty_col,axis=1)"
   ]
  },
  {
   "cell_type": "code",
   "execution_count": null,
   "metadata": {},
   "outputs": [],
   "source": [
    "for col in train_subset.columns:\n",
    "    if train_subset[col].dtype == 'object' and not(col=='PdOI_ATG'):\n",
    "        try:\n",
    "            train_subset[col] = train_subset[col].astype(float)\n",
    "        except:\n",
    "            try:\n",
    "                train_subset[col] = train_subset[col].astype(int)\n",
    "            except Exception as e: pass"
   ]
  },
  {
   "cell_type": "markdown",
   "metadata": {},
   "source": [
    "## Fill NULL Values"
   ]
  },
  {
   "cell_type": "code",
   "execution_count": null,
   "metadata": {},
   "outputs": [],
   "source": [
    "for col in train_subset.columns:\n",
    "    if train_subset[col].dtype == 'object':\n",
    "        train_subset[col] = train_subset[col].fillna('None')\n",
    "    elif train_subset[col].dtype == 'int64':\n",
    "        train_subset[col] = train_subset[col].fillna(-1)\n",
    "    elif train_subset[col].dtype == 'float64':\n",
    "        train_subset[col] = train_subset[col].fillna(-1)"
   ]
  },
  {
   "cell_type": "code",
   "execution_count": null,
   "metadata": {},
   "outputs": [],
   "source": [
    "for col in train_subset.columns:\n",
    "    if train_subset[col].dtype == 'object' and not(col=='PdOI_ATG'):\n",
    "        try:\n",
    "            train_subset[col] = train_subset[col].astype(float)\n",
    "        except:\n",
    "            try:\n",
    "                train_subset[col] = train_subset[col].astype(int)\n",
    "            except Exception as e: pass"
   ]
  },
  {
   "cell_type": "markdown",
   "metadata": {},
   "source": [
    "## Creating Categories"
   ]
  },
  {
   "cell_type": "code",
   "execution_count": null,
   "metadata": {},
   "outputs": [],
   "source": [
    "category_values: dict = {}\n",
    "category_new_values: dict = {}\n",
    "for col in train_subset.columns:\n",
    "    if train_subset[col].dtype == 'object' and train_subset[col].nunique()<=1000 and not(col=='PdOI_ATG'):\n",
    "        train_subset[col] = train_subset[col].apply(empty_string_to_null)\n",
    "        # categorical_columns.append(col)\n",
    "        category_values[col] = Series(list(train_subset[col].unique())).unique()"
   ]
  },
  {
   "cell_type": "code",
   "execution_count": null,
   "metadata": {},
   "outputs": [],
   "source": [
    "max_length = 0\n",
    "for key,item in category_values.items():\n",
    "    if(len(item)>max_length):\n",
    "        max_length = len(item)"
   ]
  },
  {
   "cell_type": "code",
   "execution_count": null,
   "metadata": {},
   "outputs": [],
   "source": [
    "for key in category_values:\n",
    "    category_values[key] = concatenate((category_values[key],['None'] * (max_length - len(category_values[key]))))"
   ]
  },
  {
   "cell_type": "code",
   "execution_count": null,
   "metadata": {},
   "outputs": [],
   "source": [
    "lookup_table = DataFrame.from_dict(category_values, orient='index')\n",
    "lookup_table.columns = range(max_length)"
   ]
  },
  {
   "cell_type": "code",
   "execution_count": null,
   "metadata": {},
   "outputs": [],
   "source": [
    "for col in lookup_table.columns:\n",
    "    lookup_table[col] = lookup_table[col].astype(str)"
   ]
  },
  {
   "cell_type": "code",
   "execution_count": null,
   "metadata": {},
   "outputs": [],
   "source": [
    "lookup_table.to_csv(f\"C:/Code/Python/Machine_Learning_AI/DealLI_Exceptions/Lookup_Table.csv\")\n",
    "del lookup_table"
   ]
  },
  {
   "cell_type": "code",
   "execution_count": null,
   "metadata": {},
   "outputs": [],
   "source": [
    "subject = 'Lookup Table Created'\n",
    "body = f'''\n",
    "        Starting long category_new_values section.\n",
    "    '''\n",
    "# send_email_to_self(subject,body)"
   ]
  },
  {
   "cell_type": "markdown",
   "metadata": {},
   "source": [
    "## Converting Categorical Data to Numerical"
   ]
  },
  {
   "cell_type": "code",
   "execution_count": null,
   "metadata": {},
   "outputs": [],
   "source": [
    "category_new_values = {}\n",
    "count = 0\n",
    "for key,item in category_values.items():\n",
    "    # print(f\"Categories Read: {count}\\nCategories Left: {len(category_values)-count}\")\n",
    "    count += 1\n",
    "    for new_value in item:\n",
    "        try:\n",
    "            category_new_values[f\"{key} : {new_value}\"] = list(Series(list(train_subset[str(key)].unique())+list(train_subset[str(key)].unique())).unique()).index(new_value)\n",
    "        except:\n",
    "            category_new_values[f\"{key} : {new_value}\"] = len(list(Series(list(train_subset[str(key)].unique())+list(train_subset[str(key)].unique())).unique()))\n",
    "            break\n",
    "del category_values"
   ]
  },
  {
   "cell_type": "code",
   "execution_count": null,
   "metadata": {},
   "outputs": [],
   "source": [
    "count = 0\n",
    "for key,item in category_new_values.items():\n",
    "    full_value = f\"{key} : {item}\"\n",
    "    # print(f\"Categories Read: {count}\\nCategories Left: {len(category_new_values)-count}\\n{full_value}\\n\")\n",
    "    count += 1\n",
    "    col = search(r\"[A-Za-z\\_\\s]{1,}:\",full_value).group()\n",
    "    col = full_value.split(':')[0]\n",
    "    # print(f\"{col[:-1]}\")\n",
    "    col_value = search(\":.+:\",full_value).group()#search(r\":[A-Za-z0-9\\_\\s\\-\\/\\<\\>\\=\\'\\.\\+\\,\\&]{1,}:\",full_value).group()\n",
    "    col_value = full_value.split(':')[1]\n",
    "    # print(col_value[1:-1])\n",
    "    new_value = search(r\": [0-9]{1,}\",full_value).group().replace(' ','').replace(':','')\n",
    "    # print(new_value)\n",
    "    # print()\n",
    "    train_subset[col[:-1]] = train_subset[col[:-1]].replace({col_value[1:-1]: new_value})\n",
    "del category_new_values"
   ]
  },
  {
   "cell_type": "code",
   "execution_count": null,
   "metadata": {},
   "outputs": [],
   "source": [
    "subject = 'New categories completed'\n",
    "body = f\"\"\"\n",
    "        About to prepare for machine learning testing.\n",
    "    \"\"\"\n",
    "# send_email_to_self(subject,body)"
   ]
  },
  {
   "cell_type": "code",
   "execution_count": null,
   "metadata": {},
   "outputs": [],
   "source": [
    "for col in train_subset.columns:\n",
    "    if train_subset[col].dtype == 'object':# and not(col=='checked'):\n",
    "        try:\n",
    "            train_subset[col] = train_subset[col].astype(float)\n",
    "        except Exception as e:pass\n",
    "            # train_subset = DataFrame(train_subset.drop(col,axis=1))\n",
    "            # test = DataFrame(test.drop(col,axis=1))\n",
    "            # print(f\"{col}: {str(e)}\")"
   ]
  },
  {
   "cell_type": "markdown",
   "metadata": {},
   "source": [
    "## Datetime to Numerical"
   ]
  },
  {
   "cell_type": "code",
   "execution_count": null,
   "metadata": {},
   "outputs": [],
   "source": [
    "datetime_columns = []\n",
    "for col in train_subset.columns:\n",
    "    if train_subset[col].dtype == 'datetime64[ns]':\n",
    "        datetime_columns.append(col)\n",
    "for col in datetime_columns:\n",
    "    train_subset[col] = to_numeric(train_subset[col])\n",
    "datetime_columns = []\n",
    "del datetime_columns"
   ]
  },
  {
   "cell_type": "markdown",
   "metadata": {},
   "source": [
    "## Machine Learning Preparation"
   ]
  },
  {
   "cell_type": "code",
   "execution_count": null,
   "metadata": {},
   "outputs": [],
   "source": [
    "random_state = 2974306530\n",
    "model_scores = DataFrame(None,columns=['Mean_Squared_Error','Root_Mean_Squared_Error','Mean_Absolute_Error','Median_Absolute_Error','Max_Error','R2'])\n",
    "options.display.float_format = '{:.10f}'.format"
   ]
  },
  {
   "cell_type": "code",
   "execution_count": null,
   "metadata": {},
   "outputs": [],
   "source": [
    "additional_excluded_columns_old = [\n",
    "        'IsClaimFlg',\n",
    "        'Checked',\n",
    "        'ATG_Ref',\n",
    "        'ATG_LI_Ref',\n",
    "        'BatchNbr',\n",
    "        'CATEGORY_ATG',\n",
    "        'ClaimType',\n",
    "        'AP_VndNbr',\n",
    "        'APVndrName',\n",
    "        'OOB_ATG',\n",
    "        'ItemNbr',\n",
    "        'UPCNbr',\n",
    "        'UPCUnit',\n",
    "        'ItemDescription',\n",
    "        'ItemShipPack',\n",
    "        'PoNbr',\n",
    "        'PODate',\n",
    "        'ReceivingDate',\n",
    "        'TurnRatio_ATG',\n",
    "        'DealNbr',\n",
    "        'OrdStartDate_ATG',\n",
    "        'OrdEndDate_ATG',\n",
    "        'DateStartArrival_ATG',\n",
    "        'DateEndArrival_ATG',\n",
    "        'DLAmtOI',\n",
    "        'DLAmtBB'\n",
    "    ]"
   ]
  },
  {
   "cell_type": "code",
   "execution_count": null,
   "metadata": {},
   "outputs": [],
   "source": [
    "unique_excluded_columns = []\n",
    "for col in additional_excluded_columns:\n",
    "    if col in unique_excluded_columns or not(col in list(train_subset.columns)):\n",
    "        pass\n",
    "    else:\n",
    "        unique_excluded_columns.append(col)\n",
    "additional_excluded_columns = unique_excluded_columns.copy()"
   ]
  },
  {
   "cell_type": "code",
   "execution_count": null,
   "metadata": {},
   "outputs": [],
   "source": [
    "del unique_excluded_columns"
   ]
  },
  {
   "cell_type": "code",
   "execution_count": null,
   "metadata": {},
   "outputs": [],
   "source": [
    "excluded_features = train_subset[additional_excluded_columns]"
   ]
  },
  {
   "cell_type": "markdown",
   "metadata": {},
   "source": [
    "## Split Train/Test Data"
   ]
  },
  {
   "cell_type": "code",
   "execution_count": null,
   "metadata": {},
   "outputs": [],
   "source": [
    "features = train_subset.drop(['PdOI_ATG']+additional_excluded_columns,axis=1)\n",
    "target = train_subset['PdOI_ATG']"
   ]
  },
  {
   "cell_type": "code",
   "execution_count": null,
   "metadata": {},
   "outputs": [],
   "source": [
    "features_train_subset,features_test,target_train_subset,target_test = train_test_split(features,target,random_state=random_state,test_size=0.5,shuffle=True)"
   ]
  },
  {
   "cell_type": "code",
   "execution_count": null,
   "metadata": {},
   "outputs": [],
   "source": [
    "scaler = StandardScaler()\n",
    "scaler.fit(features_train_subset)\n",
    "features_train_subset_scaled = DataFrame(scaler.transform(features_train_subset),columns=features.columns)\n",
    "features_test_scaled = DataFrame(scaler.transform(features_test),columns=features.columns)\n",
    "target_test = target_test.reset_index(drop=True)"
   ]
  },
  {
   "cell_type": "markdown",
   "metadata": {},
   "source": [
    "## ML Models"
   ]
  },
  {
   "cell_type": "code",
   "execution_count": null,
   "metadata": {},
   "outputs": [],
   "source": [
    "dc = DummyRegressor(strategy='median')\n",
    "dc,dc_train_predictions,dc_predictions,model_scores,dc_model_importances = run_and_analyze_model(dc,features_train_subset_scaled,target_train_subset,features_test_scaled,target_test,model_scores,'Dummy')\n",
    "print(f\"Dummy model predictions complete.\")\n",
    "subject = 'Dummy Model Predictions Complete'\n",
    "body = f\"\"\n",
    "# send_email_to_self(subject,body)"
   ]
  },
  {
   "cell_type": "code",
   "execution_count": null,
   "metadata": {},
   "outputs": [],
   "source": [
    "lr = LinearRegression()\n",
    "lr,lr_train_predictions,lr_predictions,model_scores,lr_model_importances = run_and_analyze_model(lr,features_train_subset_scaled,target_train_subset,features_test_scaled,target_test,model_scores,'Linear')\n",
    "print(f\"Linear model predictions complete.\")\n",
    "subject = 'Linear Model Predictions Complete'\n",
    "# send_email_to_self(subject,body)"
   ]
  },
  {
   "cell_type": "code",
   "execution_count": null,
   "metadata": {},
   "outputs": [],
   "source": [
    "dt = DecisionTreeRegressor(criterion='absolute_error',random_state=random_state,max_depth=4,max_features=None)\n",
    "dt,dt_train_predictions,dt_predictions,model_scores,dt_model_importances = run_and_analyze_model(dt,features_train_subset_scaled,target_train_subset,features_test_scaled,target_test,model_scores,'DecisionTree')\n",
    "print(f\"Decision Tree model predictions complete.\")\n",
    "subject = 'Decision Tree Model Predictions Complete'\n",
    "# send_email_to_self(subject,body)"
   ]
  },
  {
   "cell_type": "code",
   "execution_count": null,
   "metadata": {},
   "outputs": [],
   "source": [
    "rf = RandomForestRegressor(criterion='absolute_error',random_state=random_state,verbose=0,warm_start=True,max_depth=4,n_estimators=100)\n",
    "rf,rf_train_predictions,rf_predictions,model_scores,rf_model_importances = run_and_analyze_model(rf,features_train_subset_scaled,target_train_subset,features_test_scaled,target_test,model_scores,'RandomForest')\n",
    "print(f\"Random Forest model predictions complete.\")\n",
    "subject = 'Random Forest Model Predictions Complete'\n",
    "# send_email_to_self(subject,body)"
   ]
  },
  {
   "cell_type": "code",
   "execution_count": null,
   "metadata": {},
   "outputs": [],
   "source": [
    "xgb = XGBRegressor(max_depth=6,random_state=random_state)\n",
    "xgb,xgb_train_predictions,xgb_predictions,model_scores,xgb_model_importances = run_and_analyze_model(xgb,features_train_subset_scaled,target_train_subset,features_test_scaled,target_test,model_scores,'XGBoost')\n",
    "print(f\"XGB model predictions complete.\")\n",
    "subject = 'XGBoost Model Predictions Complete'\n",
    "# send_email_to_self(subject,body)"
   ]
  },
  {
   "cell_type": "code",
   "execution_count": null,
   "metadata": {},
   "outputs": [],
   "source": [
    "lgbm = LGBMRegressor(n_estimators=1000,learning_rate=0.01,random_state=random_state,verbose=-1)\n",
    "lgbm,lgbm_train_predictions,lgbm_predictions,model_scores,lgbm_model_importances = run_and_analyze_model(lgbm,features_train_subset_scaled,target_train_subset,features_test_scaled,target_test,model_scores,'LGBM')\n",
    "lgbm_model_importances['LGBM'] = (lgbm_model_importances['LGBM'])/(lgbm_model_importances['LGBM'].sum())\n",
    "print(f\"LGBM model predictions complete.\")\n",
    "subject = 'LGBM Model Predictions Complete'\n",
    "# send_email_to_self(subject,body)"
   ]
  },
  {
   "cell_type": "code",
   "execution_count": null,
   "metadata": {},
   "outputs": [],
   "source": [
    "gb = GradientBoostingRegressor(loss='absolute_error',warm_start=True,n_estimators=10000,learning_rate=0.0025,random_state=random_state,verbose=0,n_iter_no_change=3)\n",
    "gb,gb_train_predictions,gb_predictions,model_scores,gb_model_importances = run_and_analyze_model(gb,features_train_subset_scaled,target_train_subset,features_test_scaled,target_test,model_scores,'GradientBoost')\n",
    "print(f\"Gradient Boost model predictions complete.\")\n",
    "subject = 'Gradient Boost Model Predictions Complete'\n",
    "# send_email_to_self(subject,body)"
   ]
  },
  {
   "cell_type": "code",
   "execution_count": null,
   "metadata": {},
   "outputs": [],
   "source": [
    "knn = KNeighborsRegressor(n_neighbors=3)\n",
    "knn,knn_train_predictions,knn_predictions,model_scores,knn_model_importances = run_and_analyze_model(knn,features_train_subset_scaled,target_train_subset,features_test_scaled,target_test,model_scores,'KNeighbors')\n",
    "print(f\"KNeighbors model predictions complete.\")\n",
    "subject = 'KNearest Neighbors Predictions Complete'\n",
    "# send_email_to_self(subject,body)"
   ]
  },
  {
   "cell_type": "code",
   "execution_count": null,
   "metadata": {},
   "outputs": [],
   "source": [
    "cb = CatBoostRegressor(verbose=0,iterations=10000,learning_rate=0.0075,random_state=random_state,early_stopping_rounds=3)\n",
    "cb,cb_train_predictions,cb_predictions,model_scores,cb_model_importances = run_and_analyze_model(cb,features_train_subset_scaled,target_train_subset,features_test_scaled,target_test,model_scores,'CatBoost')\n",
    "cb_model_importances['CatBoost'] = (cb_model_importances['CatBoost'])/(cb_model_importances['CatBoost'].sum())\n",
    "print(f\"Cat Boost model predictions complete.\")\n",
    "subject = 'Cat Boost Model Predictions Complete'\n",
    "# send_email_to_self(subject,body)"
   ]
  },
  {
   "cell_type": "markdown",
   "metadata": {},
   "source": [
    "## Analyze Models"
   ]
  },
  {
   "cell_type": "code",
   "execution_count": null,
   "metadata": {},
   "outputs": [],
   "source": [
    "model_scores.to_csv(f\"C:/Code/Python/Machine_Learning_AI/DealLI_Exceptions/Model_Analysis/Model_Scores/Model_Scores_{upc}.csv\")"
   ]
  },
  {
   "cell_type": "code",
   "execution_count": null,
   "metadata": {},
   "outputs": [],
   "source": [
    "feature_importances = concat([dc_model_importances,lr_model_importances,dt_model_importances,rf_model_importances,\n",
    "                            xgb_model_importances,gb_model_importances,lgbm_model_importances,\n",
    "                            cb_model_importances,knn_model_importances],axis=1)\n",
    "feature_importances['SUM'] = feature_importances['Dummy']+feature_importances['Linear']+feature_importances['DecisionTree']+feature_importances['RandomForest']+feature_importances['XGBoost']+feature_importances['GradientBoost']+feature_importances['LGBM']+feature_importances['CatBoost']+feature_importances['KNeighbors']"
   ]
  },
  {
   "cell_type": "code",
   "execution_count": null,
   "metadata": {},
   "outputs": [],
   "source": [
    "feature_importances.to_csv(f'C:/Code/Python/Machine_Learning_AI/DealLI_Exceptions/Model_Analysis/Feature_Importances/Feature_Importances_{upc}.csv')"
   ]
  },
  {
   "cell_type": "markdown",
   "metadata": {},
   "source": [
    "## Reconstructing Original Data With Predictions"
   ]
  },
  {
   "cell_type": "code",
   "execution_count": null,
   "metadata": {},
   "outputs": [],
   "source": [
    "train_subset_original['PdOI_ATG'] = train_subset_original['PdOI_ATG'].astype(float)"
   ]
  },
  {
   "cell_type": "code",
   "execution_count": null,
   "metadata": {},
   "outputs": [],
   "source": [
    "features_train_unscaled,features_test_unscaled = train_test_split(train_subset_original,random_state=random_state,test_size=0.5,shuffle=True)"
   ]
  },
  {
   "cell_type": "code",
   "execution_count": null,
   "metadata": {},
   "outputs": [],
   "source": [
    "df_with_predictions_test = concat([DataFrame(features_test_unscaled).reset_index(drop=True),lr_predictions,dt_predictions,rf_predictions,xgb_predictions,gb_predictions,lgbm_predictions,cb_predictions,knn_predictions],axis=1)\n",
    "df_with_predictions_train = concat([DataFrame(features_train_unscaled).reset_index(drop=True),\n",
    "                                    lr_train_predictions,dt_train_predictions,\n",
    "                                    rf_train_predictions,xgb_train_predictions,gb_train_predictions,\n",
    "                                    lgbm_train_predictions,cb_train_predictions,knn_train_predictions],axis=1)"
   ]
  },
  {
   "cell_type": "code",
   "execution_count": null,
   "metadata": {},
   "outputs": [],
   "source": [
    "df_with_predictions = concat([df_with_predictions_test,df_with_predictions_train],ignore_index=True,axis=0)"
   ]
  },
  {
   "cell_type": "code",
   "execution_count": null,
   "metadata": {},
   "outputs": [],
   "source": [
    "options.display.float_format = '{:.4f}'.format"
   ]
  },
  {
   "cell_type": "markdown",
   "metadata": {},
   "source": [
    "## Showing Discrepancies"
   ]
  },
  {
   "cell_type": "code",
   "execution_count": null,
   "metadata": {},
   "outputs": [],
   "source": [
    "df_with_predictions.sort_values(by='UPCNbr').to_csv(f'Data_With_ML_Predictions.csv',index=False)\n",
    "subject = 'Data with Model Predictions Added to CSV'\n",
    "# send_email_to_self(subject,body)"
   ]
  },
  {
   "cell_type": "code",
   "execution_count": null,
   "metadata": {},
   "outputs": [],
   "source": [
    "data = df_with_predictions[\n",
    "                        (\n",
    "                            (abs(df_with_predictions['PdOI_ATG']-df_with_predictions['Linear'])>=(df_with_predictions['PdOI_ATG']/5))&\n",
    "                            (abs(df_with_predictions['PdOI_ATG']-df_with_predictions['DecisionTree'])>=(df_with_predictions['PdOI_ATG']/5))&\n",
    "                            (abs(df_with_predictions['PdOI_ATG']-df_with_predictions['RandomForest'])>=(df_with_predictions['PdOI_ATG']/5))&\n",
    "                            (abs(df_with_predictions['PdOI_ATG']-df_with_predictions['XGBoost'])>=(df_with_predictions['PdOI_ATG']/5))&\n",
    "                            (abs(df_with_predictions['PdOI_ATG']-df_with_predictions['GradientBoost'])>=(df_with_predictions['PdOI_ATG']/5))&\n",
    "                            (abs(df_with_predictions['PdOI_ATG']-df_with_predictions['LGBM'])>=(df_with_predictions['PdOI_ATG']/5))&\n",
    "                            (abs(df_with_predictions['PdOI_ATG']-df_with_predictions['CatBoost'])>=(df_with_predictions['PdOI_ATG']/5))&\n",
    "                            (abs(df_with_predictions['PdOI_ATG']-df_with_predictions['KNeighbors'])>=(df_with_predictions['PdOI_ATG']/5))&\n",
    "                            (df_with_predictions['PdOI_ATG']<0.01)\n",
    "                        )\n",
    "                    ].reset_index(drop=True)\n",
    "data.to_csv(\"C:/Code/Python/Machine_Learning_AI/DealLI_Exceptions/Discrepancies/All_Model_Predictions_Significantly_Different_From_Original_PdOI_ATG_Where_Pd_OI_Zero.csv\",index=False)"
   ]
  },
  {
   "cell_type": "code",
   "execution_count": null,
   "metadata": {},
   "outputs": [],
   "source": [
    "data_2 = df_with_predictions[\n",
    "                        (\n",
    "                            (df_with_predictions['Linear']>(df_with_predictions['PdOI_ATG']))&\n",
    "                            (df_with_predictions['DecisionTree']>(df_with_predictions['PdOI_ATG']))&\n",
    "                            (df_with_predictions['RandomForest']>(df_with_predictions['PdOI_ATG']))&\n",
    "                            (df_with_predictions['XGBoost']>(df_with_predictions['PdOI_ATG']))&\n",
    "                            (df_with_predictions['GradientBoost']>(df_with_predictions['PdOI_ATG']))&\n",
    "                            (df_with_predictions['LGBM']>(df_with_predictions['PdOI_ATG']))&\n",
    "                            (df_with_predictions['CatBoost']>(df_with_predictions['PdOI_ATG']))&\n",
    "                            (df_with_predictions['KNeighbors']>(df_with_predictions['PdOI_ATG']))\n",
    "                        )\n",
    "                    ].reset_index(drop=True)\n",
    "data_2.to_csv(\"C:/Code/Python/Machine_Learning_AI/DealLI_Exceptions/Discrepancies/All_Model_Predictions_Bigger_Than_Original_PdOI_ATG.csv\",index=False)"
   ]
  },
  {
   "cell_type": "code",
   "execution_count": null,
   "metadata": {},
   "outputs": [],
   "source": [
    "data_3 = df_with_predictions[\n",
    "                        (\n",
    "                            (abs(df_with_predictions['PdOI_ATG']-df_with_predictions['Linear'])>=(df_with_predictions['PdOI_ATG']/5))&\n",
    "                            (abs(df_with_predictions['PdOI_ATG']-df_with_predictions['DecisionTree'])>=(df_with_predictions['PdOI_ATG']/5))&\n",
    "                            (abs(df_with_predictions['PdOI_ATG']-df_with_predictions['RandomForest'])>=(df_with_predictions['PdOI_ATG']/5))&\n",
    "                            (abs(df_with_predictions['PdOI_ATG']-df_with_predictions['XGBoost'])>=(df_with_predictions['PdOI_ATG']/5))&\n",
    "                            (abs(df_with_predictions['PdOI_ATG']-df_with_predictions['GradientBoost'])>=(df_with_predictions['PdOI_ATG']/5))&\n",
    "                            (abs(df_with_predictions['PdOI_ATG']-df_with_predictions['LGBM'])>=(df_with_predictions['PdOI_ATG']/5))&\n",
    "                            (abs(df_with_predictions['PdOI_ATG']-df_with_predictions['CatBoost'])>=(df_with_predictions['PdOI_ATG']/5))&\n",
    "                            (abs(df_with_predictions['PdOI_ATG']-df_with_predictions['KNeighbors'])>=(df_with_predictions['PdOI_ATG']/5))&\n",
    "                            (df_with_predictions['PdOI_ATG']>0.01)\n",
    "                        )\n",
    "                    ].reset_index(drop=True)\n",
    "data_3.to_csv(\"C:/Code/Python/Machine_Learning_AI/DealLI_Exceptions/Discrepancies/All_Model_Predictions_Significantly_Different_From_Original_PdOI_ATG_Where_Pd_OI_NOT_Zero.csv\",index=False)"
   ]
  },
  {
   "cell_type": "code",
   "execution_count": null,
   "metadata": {},
   "outputs": [],
   "source": [
    "print(f\"{len(df_with_predictions):,} rows being exported to SQL.\\n\")\n",
    "export_to_sql(df_with_predictions)"
   ]
  }
 ],
 "metadata": {
  "kernelspec": {
   "display_name": "Python 3",
   "language": "python",
   "name": "python3"
  },
  "language_info": {
   "codemirror_mode": {
    "name": "ipython",
    "version": 3
   },
   "file_extension": ".py",
   "mimetype": "text/x-python",
   "name": "python",
   "nbconvert_exporter": "python",
   "pygments_lexer": "ipython3",
   "version": "3.10.10"
  }
 },
 "nbformat": 4,
 "nbformat_minor": 2
}
