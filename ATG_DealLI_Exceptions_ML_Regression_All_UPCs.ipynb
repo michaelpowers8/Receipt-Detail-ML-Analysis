{
 "cells": [
  {
   "cell_type": "markdown",
   "metadata": {},
   "source": [
    "# ATG_DealLI_Exceptions_ML_OI_Predictions"
   ]
  },
  {
   "cell_type": "markdown",
   "metadata": {},
   "source": [
    "## Importing Libraries"
   ]
  },
  {
   "cell_type": "code",
   "execution_count": 1,
   "metadata": {},
   "outputs": [],
   "source": [
    "from pandas import set_option,concat,DataFrame,Series,to_numeric,to_datetime,options,read_csv,read_excel\n",
    "from numpy import concatenate,random,unique,round\n",
    "from pyodbc import connect\n",
    "from warnings import filterwarnings\n",
    "# from matplotlib.pyplot import subplots,tight_layout,savefig,close,figure,scatter,plot,title,legend\n",
    "import matplotlib.pyplot as plt\n",
    "from sklearn.metrics import mean_absolute_error,mean_squared_error\n",
    "from sklearn.metrics import median_absolute_error,r2_score,max_error\n",
    "from sklearn.ensemble import RandomForestRegressor,GradientBoostingRegressor,HistGradientBoostingRegressor \n",
    "from sklearn.linear_model import LinearRegression\n",
    "from sklearn.dummy import DummyRegressor\n",
    "#from sklearn.utils import shuffle\n",
    "from sklearn.tree import DecisionTreeRegressor#,plot_tree\n",
    "from sklearn.model_selection import GridSearchCV,train_test_split#,cross_val_score\n",
    "from sklearn.preprocessing import StandardScaler#,LabelBinarizer,label_binarize,MaxAbsScaler\n",
    "#from sklearn.feature_extraction import FeatureHasher\n",
    "from catboost import CatBoostRegressor\n",
    "from xgboost import XGBRegressor\n",
    "from lightgbm import LGBMRegressor\n",
    "from IPython.display import clear_output\n",
    "from sklearn.neighbors import *\n",
    "from re import search#,match\n",
    "from random import randint\n",
    "from time import time\n",
    "from smtplib import SMTP_SSL\n",
    "from ssl import create_default_context\n",
    "from os import path,walk\n",
    "from zipfile import ZipFile, ZIP_DEFLATED\n",
    "from datetime import datetime\n",
    "from time import time#,sleep"
   ]
  },
  {
   "cell_type": "code",
   "execution_count": 2,
   "metadata": {},
   "outputs": [],
   "source": [
    "filterwarnings('ignore')\n",
    "set_option('display.max_rows', None)\n",
    "set_option('display.max_columns', None)"
   ]
  },
  {
   "cell_type": "markdown",
   "metadata": {},
   "source": [
    "## SQL Connect"
   ]
  },
  {
   "cell_type": "code",
   "execution_count": 3,
   "metadata": {},
   "outputs": [],
   "source": [
    "server = 'troy'\n",
    "database = 'prod_Costco_RecoverNow'\n",
    "connectionString = f'DRIVER={{ODBC Driver 17 for SQL Server}};SERVER={server};DATABASE={database};Integrated Security={True};Autocommit={True};Trusted_Connection=yes;'\n",
    "conn = connect(connectionString)\n",
    "cursor_1 = conn.cursor()"
   ]
  },
  {
   "cell_type": "markdown",
   "metadata": {},
   "source": [
    "## Supporting Functions"
   ]
  },
  {
   "cell_type": "code",
   "execution_count": 92,
   "metadata": {},
   "outputs": [],
   "source": [
    "def export_to_sql(data: DataFrame):\n",
    "    server = 'barney'\n",
    "    database = 'sandbox_mp'\n",
    "    connectionString = f'DRIVER={{ODBC Driver 17 for SQL Server}};SERVER={server};DATABASE={database};Integrated Security={True};Autocommit={True};Trusted_Connection=yes;'\n",
    "    conn = connect(connectionString)\n",
    "    cursor = conn.cursor()\n",
    "    insert_sql = \"\"\"\n",
    "        INSERT INTO Weis_Market_Claim_Discrepancies_PdOI_ATG (\n",
    "            ATG_DealLI_Exceptions_IsClaimFlg,\n",
    "            ATG_DealLI_Exceptions_Checked,\n",
    "            ATG_DealLI_Exceptions_ATG_Ref,\n",
    "            ATG_DealLI_Exceptions_LI_ATG_Ref,\n",
    "            ATG_DealLI_Exceptions_BatchNbr,\n",
    "            ATG_DealLI_Exceptions_CATEGORY_ATG,\n",
    "            ATG_DealLI_Exceptions_ClaimType,\n",
    "            ATG_DealLI_Exceptions_AP_VndNbr,\n",
    "            ATG_DealLI_Exceptions_AP_VndrName,\n",
    "            ATG_DealLI_Exceptions_OOB_ATG,\n",
    "            ATG_DealLI_Exceptions_ItemNbr,\n",
    "            ATG_DealLI_Exceptions_UPCNbr,\n",
    "            ATG_DealLI_Exceptions_UPCUnit,\n",
    "            ATG_DealLI_Exceptions_ItemDescription,\n",
    "            ATG_DealLI_Exceptions_ItemShipPack,\n",
    "            ATG_DealLI_Exceptions_PoNbr,\n",
    "            ATG_DealLI_Exceptions_PODate,\n",
    "            ATG_DealLI_Exceptions_ReceivingDate,\n",
    "            ATG_DealLI_Exceptions_TurnRatio_ATG,\n",
    "            ATG_DealLI_Exceptions_TurnQty_ATG,\n",
    "            ATG_DealLI_Exceptions_OrdQty,\n",
    "            ATG_DealLI_Exceptions_PdQty_ATG,\n",
    "            ATG_DealLI_Exceptions_PdGross_ATG,\n",
    "            ATG_DealLI_Exceptions_PdBB_ATG,\n",
    "            ATG_DealLI_Exceptions_PdNet_ATG,\n",
    "            ATG_DealLI_Exceptions_DealNbr,\n",
    "            ATG_DealLI_Exceptions_OrdStartDate_ATG,\n",
    "            ATG_DealLI_Exceptions_OrdEndDate_ATG,\n",
    "            ATG_DealLI_Exceptions_DateStartArrival_ATG,\n",
    "            ATG_DealLI_Exceptions_DateEndArrival_ATG,\n",
    "            ATG_DealLI_Exceptions_DLAmtOI,\n",
    "            ATG_DealLI_Exceptions_DLAmtBB,\n",
    "            ATG_DealLI_Exceptions_PdOI_ATG_Before_AI,\n",
    "            Linear_Model_Predictions_ATG_DealLI_Exceptions_PdOI_ATG,\n",
    "            DecisionTree_Model_Predictions_ATG_DealLI_Exceptions_PdOI_ATG,\n",
    "            RandomForest_Predictions_ATG_DealLI_Exceptions_PdOI_ATG,\n",
    "            XGBoost_Model_Predictions_ATG_DealLI_Exceptions_PdOI_ATG,\n",
    "            GradientBoost_Model_Predictions_ATG_DealLI_Exceptions_PdOI_ATG,\n",
    "            LGBM_Model_Predictions_ATG_DealLI_Exceptions_PdOI_ATG,\n",
    "            CatBoost_Model_Predictions_ATG_DealLI_Exceptions_PdOI_ATG,\n",
    "            KNeighbors_Model_Predictions_ATG_DealLI_Exceptions_PdOI_ATG\n",
    "        ) VALUES (?,?,?,?,?,?,?,?,?,?,?,?,?,?,?,?,?,?,?,?,?,?,?,?,?,?,?,?,?,?,?,?,?,?,?,?,?,?,?,?,?)\n",
    "    \"\"\"\n",
    "    for row in data.index:\n",
    "        if(int(row)%100==0):\n",
    "            clear_output(wait=False)\n",
    "            print(f\"{row:,}\")\n",
    "        current_row = list(data.iloc[int(row)])\n",
    "        del current_row[33]\n",
    "        cols = list(data.columns)\n",
    "        for index in range(len(current_row)):\n",
    "            if(index>=33):\n",
    "                current_row[index] = round(current_row[index],4)\n",
    "            if(index in [2,3,4]):\n",
    "                current_row[index] = int(current_row[index])\n",
    "            else:\n",
    "                current_row[index] = str(current_row[index])\n",
    "        current_row.insert(33,current_row[23])\n",
    "        del current_row[23]\n",
    "        cursor.execute(insert_sql, current_row)\n",
    "        conn.commit()\n",
    "    cursor.close()\n",
    "    conn.close()"
   ]
  },
  {
   "cell_type": "code",
   "execution_count": 4,
   "metadata": {},
   "outputs": [],
   "source": [
    "def scatter_plot_models(target: Series,predictions: Series,model_name: str, show: bool=False):\n",
    "    plt.figure(figsize=(6,5))\n",
    "    plt.scatter(target,predictions,color='blue',label='Test_Data',linewidths=.1)\n",
    "    plt.plot([Series(target).min(),Series(target).max()],\n",
    "            [Series(target).min(),Series(target).max()],'k--',lw=1)\n",
    "    plt.xlabel('PdOI_ATG_Before_AI')\n",
    "    plt.ylabel('PdOI_ATG_After_AI')\n",
    "    plt.savefig(f\"C:/Code/Python/Machine_Learning_AI/Model_Analysis/{model_name}_Scatter.png\")\n",
    "    if(show):\n",
    "        plt.show()\n",
    "    else:\n",
    "        plt.close()"
   ]
  },
  {
   "cell_type": "code",
   "execution_count": 5,
   "metadata": {},
   "outputs": [],
   "source": [
    "def get_scores(target, predictions):\n",
    "    mse = mean_squared_error(target, predictions)\n",
    "    rmse = mse**0.5\n",
    "    median_ae = median_absolute_error(target,predictions)\n",
    "    mean_ae = mean_absolute_error(target,predictions)\n",
    "    max_errors = max_error(target,predictions)\n",
    "    r2 = r2_score(target,predictions)\n",
    "    display(concat([target,predictions],axis=1).head(25))\n",
    "    return [mse,rmse,mean_ae,median_ae,max_errors,r2]"
   ]
  },
  {
   "cell_type": "code",
   "execution_count": 6,
   "metadata": {},
   "outputs": [],
   "source": [
    "def run_and_analyze_model(model,features_train: DataFrame,target_train: Series,features_test: Series,target_test: Series,model_scores: DataFrame,model_name: str):\n",
    "    model.fit(features_train,target_train)\n",
    "    predictions = Series(model.predict(features_test),name=model_name)\n",
    "    model_scores.loc[model_name] = get_scores(target_test,predictions)\n",
    "    try:\n",
    "        model_importances = DataFrame([model.feature_importances_],columns=features_train.columns,index=[model_name]).T\n",
    "        return model,predictions,model_scores,model_importances\n",
    "    except:\n",
    "        model_importances = DataFrame([[1/len(features_train.columns) for _ in range(len(features_train.columns))]],columns=list(features_train.columns),index=[model_name]).T\n",
    "        return model,predictions,model_scores,model_importances"
   ]
  },
  {
   "cell_type": "code",
   "execution_count": 7,
   "metadata": {},
   "outputs": [],
   "source": [
    "def empty_string_to_null(string: str):\n",
    "    if(len(str(string))==0 or len(str(string).replace(' ',''))==0):\n",
    "        return \"None\"\n",
    "    return string"
   ]
  },
  {
   "cell_type": "code",
   "execution_count": 8,
   "metadata": {},
   "outputs": [],
   "source": [
    "def object_to_int(original,lookup_table):\n",
    "    for row in lookup_table.index:\n",
    "        for col in lookup_table.columns:\n",
    "            if(original==lookup_table[col][row]):\n",
    "                return int(col)"
   ]
  },
  {
   "cell_type": "code",
   "execution_count": 9,
   "metadata": {},
   "outputs": [],
   "source": [
    "def random_int(min_val, max_val):\n",
    "    # Get the current time in microseconds\n",
    "    current_time = int(time() * 1000000)\n",
    "    \n",
    "    # Use the current time as a seed and perform some operations to get more randomness\n",
    "    seed = (current_time ^ (current_time >> randint(1,20))) & 0xFFFFFFFF\n",
    "    seed = (seed ^ (seed << randint(1,20))) & 0xFFFFFFFF\n",
    "    seed = (seed ^ (seed >> randint(1,20))) & 0xFFFFFFFF\n",
    "    \n",
    "    # Scale the seed to the desired range\n",
    "    random_value = min_val + (seed % (max_val - min_val + 1))\n",
    "    \n",
    "    return random_value"
   ]
  },
  {
   "cell_type": "code",
   "execution_count": 10,
   "metadata": {},
   "outputs": [],
   "source": [
    "def random_features(columns):\n",
    "    subset = []\n",
    "    columns = list(columns)\n",
    "    while(len(subset)<50):\n",
    "        random_index = random_int(0,len(list(columns))-1)\n",
    "        while(columns[random_index] in subset):\n",
    "            random_index = random_int(0,len(list(columns))-1)\n",
    "        subset.append(columns[random_index])\n",
    "    return subset"
   ]
  },
  {
   "cell_type": "code",
   "execution_count": 11,
   "metadata": {},
   "outputs": [],
   "source": [
    "def send_email_to_self(subject: str,body: str):\n",
    "    port = 465  # For SSL\n",
    "    smtp_server = \"smtp.gmail.com\"\n",
    "    sender_email = \"micpowers98@gmail.com\"  # Enter your address\n",
    "    receiver_email = \"micpowers98@gmail.com\"  # Enter receiver address\n",
    "    password = 'efex cwhv gppq ueob'\n",
    "    message = \"Subject: \"+subject+\"\\n\"+body\n",
    "\n",
    "    context = create_default_context()\n",
    "    with SMTP_SSL(smtp_server, port, context=context) as server:\n",
    "        server.login(sender_email, password)\n",
    "        server.sendmail(sender_email, receiver_email, message)"
   ]
  },
  {
   "cell_type": "code",
   "execution_count": 12,
   "metadata": {},
   "outputs": [],
   "source": [
    "def get_data(columns: list):\n",
    "\tcursor_1.execute(\"\"\"\n",
    "\t\t\tselect \n",
    "\t\t\t\tcase when (li.checked='true' and ds.checked='claim') then 'Y' else 'N' end as IsClaimFlg, li.checked,\n",
    "\t\t\t\t\tli.[ATG_Ref],\n",
    "\t\t\t\t\tli.[ATG_LI_Ref],\n",
    "\t\t\t\t\tli.[BatchNbr],\n",
    "\t\t\t\t\tli.[CATEGORY_ATG],\n",
    "\t\t\t\t\tli.[ClaimType],\n",
    "\t\t\t\t\tli.[AP_VndNbr],\n",
    "\t\t\t\t\tli.[APVndrName],\n",
    "\t\t\t\t\tli.[OOB_ATG],\n",
    "\t\t\t\t\tli.[ItemNbr],\n",
    "\t\t\t\t\tli.[UPCNbr],\n",
    "\t\t\t\t\tli.[UPCUnit],\n",
    "\t\t\t\t\tli.[ItemDescription],\n",
    "\t\t\t\t\tli.[ItemShipPack],\n",
    "\t\t\t\t\tli.[PoNbr],\n",
    "\t\t\t\t\tli.[PODate],\n",
    "\t\t\t\t\tli.[ReceivingDate],\n",
    "\t\t\t\t\tli.[TurnRatio_ATG],\n",
    "\t\t\t\t\tli.[TurnQty_ATG],\n",
    "\t\t\t\t\tli.[OrdQty],\n",
    "\t\t\t\t\tli.[PdQty_ATG],\n",
    "\t\t\t\t\tli.[PdGross_ATG],\n",
    "\t\t\t\t\tli.[PdOI_ATG],\n",
    "\t\t\t\t\tli.[PdBB_ATG],\n",
    "\t\t\t\t\tli.[PdNet_ATG],\n",
    "\t\t\t\t\tli.[DealNbr],\n",
    "\t\t\t\t\tli.[OrdStartDate_ATG],\n",
    "\t\t\t\t\tli.[OrdEndDate_ATG],\n",
    "\t\t\t\t\tli.[DateStartArrival_ATG],\n",
    "\t\t\t\t\tli.[DateEndArrival_ATG],\n",
    "\t\t\t\t\tli.[DLAmtOI],\n",
    "\t\t\t\t\tli.[DLAmtBB]\n",
    "\t\t\tfrom     \n",
    "\t\t\t\t[MOE].[prod_WeisMarkets_RecoverNow].[dbo].[ATG_DealLI_Exceptions] li\n",
    "\t\t\t\t\t\tjoin  [MOE].[prod_WeisMarkets_RecoverNow].[dbo].[ATG_Deal_Summary] ds\n",
    "\t\t\t\t\t\ton (li.BatchNbr = ds.BatchNbr)\n",
    "\t\t\t\t\t\tand (li.DLVendorNbr = ds.DLVendorNbr)\n",
    "\t\t\t\t\t\tand (li.DealNbr = ds.DealNbr)\n",
    "\t\t\t\t\t\tand (li.CATEGORY_ATG = ds.CATEGORY_ATG)\n",
    "\t\t\t\t\t\tand (li.ClaimType = ds.ClaimType_ATG)\n",
    "\t\t\twhere li.ClaimType = 'IN DEAL' and ds.CATEGORY_ATG = 'SAME VENDOR - AMT DEALS'\n",
    "\t\t\torder by 8,12,17\t\t\t\n",
    "\t\t\"\"\")\n",
    "\ttrain_data = cursor_1.fetchall()\n",
    "\ttrain_data_list = []\n",
    "\tfor index in range(len(train_data)):\n",
    "\t\ttrain_data_list.append(list(train_data[index]))\n",
    "\tdel train_data\n",
    "\treturn DataFrame(data=train_data_list,columns=columns)"
   ]
  },
  {
   "cell_type": "code",
   "execution_count": 13,
   "metadata": {},
   "outputs": [],
   "source": [
    "def get_test_data(batch_number: int, columns: list):\n",
    "    cursor_1.execute(f\"\"\"\n",
    "\t\t    select \n",
    "                case when (li.checked = 'true' and ds.checked = 'claim') then 'Y' else 'N' end as IsClaimFlg, li.Checked, \n",
    "                    li.[ATG_Ref],\n",
    "                    li.[ATG_LI_Ref],\n",
    "                    li.[BatchNbr],\n",
    "                    li.[CATEGORY_ATG],\n",
    "                    li.[ClaimType],\n",
    "                    li.[AP_VndNbr],\n",
    "                    li.[APVndrName],\n",
    "                    li.[OOB_ATG],\n",
    "                    li.[ItemNbr],\n",
    "                    li.[UPCNbr],\n",
    "                    li.[UPCUnit],\n",
    "                    li.[ItemDescription],\n",
    "                    li.[ItemShipPack],\n",
    "                    li.[PoNbr],\n",
    "                    li.[PODate],\n",
    "                    li.[ReceivingDate],\n",
    "                    li.[TurnRatio_ATG],\n",
    "                    li.[TurnQty_ATG],\n",
    "                    li.[OrdQty],\n",
    "                    li.[PdQty_ATG],\n",
    "                    li.[PdGross_ATG],\n",
    "                    li.[PdOI_ATG],\n",
    "                    li.[PdBB_ATG],\n",
    "                    li.[PdNet_ATG],\n",
    "                    li.[DealNbr],\n",
    "                    li.[OrdStartDate_ATG],\n",
    "                    li.[OrdEndDate_ATG],\n",
    "                    li.[DateStartArrival_ATG],\n",
    "                    li.[DateEndArrival_ATG],\n",
    "                    li.[DLAmtOI],\n",
    "                    li.[DLAmtBB]--,\n",
    "\t\t\t    from    \n",
    "                    [MOE].[prod_WeisMarkets_RecoverNow].[dbo].[ATG_DealLI_Exceptions] li\n",
    "                    join  [MOE].[prod_WeisMarkets_RecoverNow].[dbo].[ATG_Deal_Summary]  ds\n",
    "                    on (li.BatchNbr = ds.BatchNbr)\n",
    "                    and (li.DLVendorNbr = ds.DLVendorNbr)\n",
    "                    and (li.DealNbr = ds.DealNbr)\n",
    "                    and (li.CATEGORY_ATG = ds.CATEGORY_ATG)\n",
    "                    and (li.ClaimType = ds.ClaimType_ATG)\n",
    "                where\n",
    "                    li.BatchNbr=67\n",
    "                    and\n",
    "                    li.ClaimType = 'IN DEAL' \n",
    "                    and \n",
    "                    ds.CATEGORY_ATG = 'SAME VENDOR - AMT DEALS' \n",
    "                    and \n",
    "                    li.checked='x' \n",
    "                    and \n",
    "                    ds.checked='x'\n",
    "\n",
    "\t\t    union\n",
    "\n",
    "\t\t\tselect top(1) \n",
    "                case when (li.checked = 'true' and ds.checked = 'claim') then 'Y' else 'N' end as IsClaimFlg, li.Checked, \n",
    "                    li.[ATG_Ref],\n",
    "                    li.[ATG_LI_Ref],\n",
    "                    li.[BatchNbr],\n",
    "                    li.[CATEGORY_ATG],\n",
    "                    li.[ClaimType],\n",
    "                    li.[AP_VndNbr],\n",
    "                    li.[APVndrName],\n",
    "                    li.[OOB_ATG],\n",
    "                    li.[ItemNbr],\n",
    "                    li.[UPCNbr],\n",
    "                    li.[UPCUnit],\n",
    "                    li.[ItemDescription],\n",
    "                    li.[ItemShipPack],\n",
    "                    li.[PoNbr],\n",
    "                    li.[PODate],\n",
    "                    li.[ReceivingDate],\n",
    "                    li.[TurnRatio_ATG],\n",
    "                    li.[TurnQty_ATG],\n",
    "                    li.[OrdQty],\n",
    "                    li.[PdQty_ATG],\n",
    "                    li.[PdGross_ATG],\n",
    "                    li.[PdOI_ATG],\n",
    "                    li.[PdBB_ATG],\n",
    "                    li.[PdNet_ATG],\n",
    "                    li.[DealNbr],\n",
    "                    li.[OrdStartDate_ATG],\n",
    "                    li.[OrdEndDate_ATG],\n",
    "                    li.[DateStartArrival_ATG],\n",
    "                    li.[DateEndArrival_ATG],\n",
    "                    li.[DLAmtOI],\n",
    "                    li.[DLAmtBB]--,\n",
    "\t\t\t    from     \n",
    "                    [MOE].[prod_WeisMarkets_RecoverNow].[dbo].[ATG_DealLI_Exceptions] li\n",
    "                    join  [MOE].[prod_WeisMarkets_RecoverNow].[dbo].[ATG_Deal_Summary]  ds\n",
    "                    on (li.BatchNbr = ds.BatchNbr)\n",
    "                    and (li.DLVendorNbr = ds.DLVendorNbr)\n",
    "                    and (li.DealNbr = ds.DealNbr)\n",
    "                    and (li.CATEGORY_ATG = ds.CATEGORY_ATG)\n",
    "                    and (li.ClaimType = ds.ClaimType_ATG)\n",
    "\t\t\twhere\n",
    "                li.ClaimType = 'IN DEAL' \n",
    "                and \n",
    "                ds.CATEGORY_ATG = 'SAME VENDOR - AMT DEALS' \n",
    "                and \n",
    "                li.checked='true' \n",
    "                and \n",
    "                ds.checked='claim'\n",
    "        \"\"\")\n",
    "    test_data = cursor_1.fetchall()\n",
    "    test_data_list = []\n",
    "    for index in range(len(test_data)):\n",
    "        test_data_list.append(list(test_data[index]))\n",
    "    del test_data\n",
    "    return DataFrame(data=test_data_list,columns=columns)"
   ]
  },
  {
   "cell_type": "code",
   "execution_count": 14,
   "metadata": {},
   "outputs": [],
   "source": [
    "def compress_folder_to_zip(folder_path, output_zip_file):\n",
    "    # Create a ZipFile object\n",
    "    with ZipFile(output_zip_file, 'w', ZIP_DEFLATED) as zipf:\n",
    "        # Walk through the folder\n",
    "        for root, dirs, files in walk(folder_path):\n",
    "            for file in files:\n",
    "                # Create the full file path\n",
    "                file_path = path.join(root, file)\n",
    "                # Add file to zip, using relative path to maintain folder structure\n",
    "                arcname = path.relpath(file_path, start=folder_path)\n",
    "                zipf.write(file_path, arcname=arcname)"
   ]
  },
  {
   "cell_type": "markdown",
   "metadata": {},
   "source": [
    "## Global Variables"
   ]
  },
  {
   "cell_type": "code",
   "execution_count": 15,
   "metadata": {},
   "outputs": [],
   "source": [
    "columns: list = ['IsClaimFlg','Checked','ATG_Ref','ATG_LI_Ref','BatchNbr','CATEGORY_ATG','ClaimType','AP_VndNbr','APVndrName',\n",
    "                 'OOB_ATG','ItemNbr','UPCNbr','UPCUnit','ItemDescription','ItemShipPack','PoNbr','PODate','ReceivingDate','TurnRatio_ATG',\n",
    "                 'TurnQty_ATG','OrdQty','PdQty_ATG','PdGross_ATG','PdOI_ATG','PdBB_ATG','PdNet_ATG','DealNbr','OrdStartDate_ATG',\n",
    "                 'OrdEndDate_ATG','DateStartArrival_ATG','DateEndArrival_ATG','DLAmtOI','DLAmtBB']"
   ]
  },
  {
   "cell_type": "code",
   "execution_count": 16,
   "metadata": {},
   "outputs": [],
   "source": [
    "upc_number = '76172005820'"
   ]
  },
  {
   "cell_type": "markdown",
   "metadata": {},
   "source": [
    "## Open Initial Data"
   ]
  },
  {
   "cell_type": "code",
   "execution_count": 17,
   "metadata": {},
   "outputs": [],
   "source": [
    "train: DataFrame = get_data(columns=columns)\n",
    "#train: DataFrame = read_excel('Top_10000_Rows_Order_By_UPC.xlsx')"
   ]
  },
  {
   "cell_type": "code",
   "execution_count": 18,
   "metadata": {},
   "outputs": [
    {
     "name": "stdout",
     "output_type": "stream",
     "text": [
      "<class 'pandas.core.frame.DataFrame'>\n",
      "RangeIndex: 1019271 entries, 0 to 1019270\n",
      "Data columns (total 33 columns):\n",
      " #   Column                Non-Null Count    Dtype         \n",
      "---  ------                --------------    -----         \n",
      " 0   IsClaimFlg            1019271 non-null  object        \n",
      " 1   Checked               1019271 non-null  object        \n",
      " 2   ATG_Ref               1019271 non-null  int64         \n",
      " 3   ATG_LI_Ref            1019271 non-null  int64         \n",
      " 4   BatchNbr              1019271 non-null  int64         \n",
      " 5   CATEGORY_ATG          1019271 non-null  object        \n",
      " 6   ClaimType             1019271 non-null  object        \n",
      " 7   AP_VndNbr             1019271 non-null  object        \n",
      " 8   APVndrName            1019271 non-null  object        \n",
      " 9   OOB_ATG               1019271 non-null  object        \n",
      " 10  ItemNbr               1019271 non-null  int64         \n",
      " 11  UPCNbr                1019271 non-null  int64         \n",
      " 12  UPCUnit               1019271 non-null  int64         \n",
      " 13  ItemDescription       1019271 non-null  object        \n",
      " 14  ItemShipPack          1019271 non-null  int64         \n",
      " 15  PoNbr                 1019271 non-null  int64         \n",
      " 16  PODate                1019271 non-null  datetime64[ns]\n",
      " 17  ReceivingDate         1019271 non-null  datetime64[ns]\n",
      " 18  TurnRatio_ATG         1019271 non-null  object        \n",
      " 19  TurnQty_ATG           1019271 non-null  object        \n",
      " 20  OrdQty                1019271 non-null  object        \n",
      " 21  PdQty_ATG             1019271 non-null  object        \n",
      " 22  PdGross_ATG           1019271 non-null  object        \n",
      " 23  PdOI_ATG              1019271 non-null  object        \n",
      " 24  PdBB_ATG              1019271 non-null  object        \n",
      " 25  PdNet_ATG             1019271 non-null  object        \n",
      " 26  DealNbr               1019271 non-null  int64         \n",
      " 27  OrdStartDate_ATG      1019271 non-null  datetime64[ns]\n",
      " 28  OrdEndDate_ATG        1019271 non-null  datetime64[ns]\n",
      " 29  DateStartArrival_ATG  1019271 non-null  datetime64[ns]\n",
      " 30  DateEndArrival_ATG    1019271 non-null  datetime64[ns]\n",
      " 31  DLAmtOI               1019271 non-null  object        \n",
      " 32  DLAmtBB               1019271 non-null  object        \n",
      "dtypes: datetime64[ns](6), int64(9), object(18)\n",
      "memory usage: 256.6+ MB\n"
     ]
    }
   ],
   "source": [
    "train.info(max_cols=250)"
   ]
  },
  {
   "cell_type": "code",
   "execution_count": 19,
   "metadata": {},
   "outputs": [],
   "source": [
    "subject = 'Data Collected'\n",
    "body = f\"\"\"\n",
    "        {len(train):,} total rows of data for UPC {upc_number}.\n",
    "    \"\"\"\n",
    "#send_email_to_self(subject,body)"
   ]
  },
  {
   "cell_type": "markdown",
   "metadata": {},
   "source": [
    "## Data Preprocessing"
   ]
  },
  {
   "cell_type": "markdown",
   "metadata": {},
   "source": [
    "### Dropping Useless Columns"
   ]
  },
  {
   "cell_type": "code",
   "execution_count": 20,
   "metadata": {},
   "outputs": [],
   "source": [
    "for col in train.columns:\n",
    "    if train[col].dtype == 'object':\n",
    "        try:\n",
    "            train[col] = train[col].astype(float)\n",
    "        except:\n",
    "            try:\n",
    "                train[col] = train[col].astype(int)\n",
    "            except Exception as e: pass"
   ]
  },
  {
   "cell_type": "code",
   "execution_count": 21,
   "metadata": {},
   "outputs": [
    {
     "name": "stdout",
     "output_type": "stream",
     "text": [
      "ItemDescription\n"
     ]
    }
   ],
   "source": [
    "empty_col = []\n",
    "for col in train.columns:\n",
    "    if train[col].dtype == 'object':\n",
    "        if(train[col].nunique()>1000):\n",
    "            print(col)\n",
    "            empty_col.append(col)\n",
    "train = train.drop(empty_col,axis=1)"
   ]
  },
  {
   "cell_type": "markdown",
   "metadata": {},
   "source": [
    "### Converting Numerical Strings to Numbers"
   ]
  },
  {
   "cell_type": "code",
   "execution_count": 22,
   "metadata": {},
   "outputs": [],
   "source": [
    "for col in train.columns:\n",
    "    if train[col].dtype == 'object' and not(col=='PdOI_ATG'):\n",
    "        try:\n",
    "            train[col] = train[col].astype(float)\n",
    "        except:\n",
    "            try:\n",
    "                train[col] = train[col].astype(int)\n",
    "            except Exception as e: pass"
   ]
  },
  {
   "cell_type": "raw",
   "metadata": {
    "vscode": {
     "languageId": "raw"
    }
   },
   "source": [
    "for col in train.columns:\n",
    "    if train[col].dtype == 'object':\n",
    "        train[col] = train[col].fillna('None')\n",
    "    elif train[col].dtype == 'int64':\n",
    "        train[col] = train[col].fillna(-1)\n",
    "    elif train[col].dtype == 'float64':\n",
    "        train[col] = train[col].fillna(-1)"
   ]
  },
  {
   "cell_type": "code",
   "execution_count": 23,
   "metadata": {},
   "outputs": [],
   "source": [
    "for col in train.columns:\n",
    "    if train[col].dtype == 'object' and not(col=='PdOI_ATG'):\n",
    "        try:\n",
    "            train[col] = train[col].astype(float)\n",
    "        except:\n",
    "            try:\n",
    "                train[col] = train[col].astype(int)\n",
    "            except Exception as e: pass"
   ]
  },
  {
   "cell_type": "code",
   "execution_count": 24,
   "metadata": {},
   "outputs": [],
   "source": [
    "category_values = {}\n",
    "category_new_values = {}\n",
    "for col in train.columns:\n",
    "    if train[col].dtype == 'object' and train[col].nunique()<=1000 and not(col=='PdOI_ATG'):\n",
    "        train[col] = train[col].apply(empty_string_to_null)\n",
    "        # categorical_columns.append(col)\n",
    "        category_values[col] = Series(list(train[col].unique())).unique()"
   ]
  },
  {
   "cell_type": "code",
   "execution_count": 25,
   "metadata": {},
   "outputs": [],
   "source": [
    "max_length = 0\n",
    "for key,item in category_values.items():\n",
    "    if(len(item)>max_length):\n",
    "        max_length = len(item)\n",
    "for key in category_values:\n",
    "    category_values[key] = concatenate((category_values[key],['None'] * (max_length - len(category_values[key]))))\n",
    "lookup_table = DataFrame.from_dict(category_values, orient='index')\n",
    "lookup_table.columns = range(max_length)\n",
    "for col in lookup_table.columns:\n",
    "    lookup_table[col] = lookup_table[col].astype(str)\n",
    "#lookup_table.to_csv(f'C:/Code/Python/Machine_Learning_AI/Lookup_Table_Batch_{batch_number}.csv')\n",
    "lookup_table.to_csv(f\"C:/Code/Python/Machine_Learning_AI/Lookup_Table.csv\")\n",
    "del lookup_table"
   ]
  },
  {
   "cell_type": "code",
   "execution_count": 26,
   "metadata": {},
   "outputs": [],
   "source": [
    "subject = 'Lookup Table Created'\n",
    "body = f\"\"\"\n",
    "        Starting long category_new_values section.\n",
    "    \"\"\"\n",
    "#send_email_to_self(subject,body)"
   ]
  },
  {
   "cell_type": "markdown",
   "metadata": {},
   "source": [
    "### Converting Categorical Data To Numerical"
   ]
  },
  {
   "cell_type": "code",
   "execution_count": 27,
   "metadata": {},
   "outputs": [],
   "source": [
    "category_new_values = {}\n",
    "count = 0\n",
    "for key,item in category_values.items():\n",
    "    clear_output(wait=False)\n",
    "    # print(f\"Categories Read: {count}\\nCategories Left: {len(category_values)-count}\")\n",
    "    count += 1\n",
    "    for new_value in item:\n",
    "        try:\n",
    "            category_new_values[f\"{key} : {new_value}\"] = list(Series(list(train[str(key)].unique())+list(train[str(key)].unique())).unique()).index(new_value)\n",
    "        except:\n",
    "            category_new_values[f\"{key} : {new_value}\"] = len(list(Series(list(train[str(key)].unique())+list(train[str(key)].unique())).unique()))\n",
    "            break\n",
    "del category_values"
   ]
  },
  {
   "cell_type": "code",
   "execution_count": 28,
   "metadata": {},
   "outputs": [],
   "source": [
    "count = 0\n",
    "for key,item in category_new_values.items():\n",
    "    full_value = f\"{key} : {item}\"\n",
    "    # print(f\"Categories Read: {count}\\nCategories Left: {len(category_new_values)-count}\\n{full_value}\\n\")\n",
    "    count += 1\n",
    "    col = search(r\"[A-Za-z\\_\\s]{1,}:\",full_value).group()\n",
    "    col = full_value.split(':')[0]\n",
    "    # print(f\"{col[:-1]}\")\n",
    "    col_value = search(\":.+:\",full_value).group()#search(r\":[A-Za-z0-9\\_\\s\\-\\/\\<\\>\\=\\'\\.\\+\\,\\&]{1,}:\",full_value).group()\n",
    "    col_value = full_value.split(':')[1]\n",
    "    # print(col_value[1:-1])\n",
    "    new_value = search(r\": [0-9]{1,}\",full_value).group().replace(' ','').replace(':','')\n",
    "    # print(new_value)\n",
    "    # print()\n",
    "    train[col[:-1]] = train[col[:-1]].replace({col_value[1:-1]: new_value})\n",
    "del category_new_values"
   ]
  },
  {
   "cell_type": "code",
   "execution_count": 29,
   "metadata": {},
   "outputs": [],
   "source": [
    "subject = 'New categories completed'\n",
    "body = f\"\"\"\n",
    "        About to prepare for machine learning testing.\n",
    "    \"\"\"\n",
    "#send_email_to_self(subject,body)"
   ]
  },
  {
   "cell_type": "code",
   "execution_count": 30,
   "metadata": {},
   "outputs": [],
   "source": [
    "for col in train.columns:\n",
    "    if train[col].dtype == 'object':# and not(col=='checked'):\n",
    "        try:\n",
    "            train[col] = train[col].astype(float)\n",
    "        except Exception as e:pass\n",
    "            # train = DataFrame(train.drop(col,axis=1))\n",
    "            # test = DataFrame(test.drop(col,axis=1))\n",
    "            # print(f\"{col}: {str(e)}\")"
   ]
  },
  {
   "cell_type": "code",
   "execution_count": 31,
   "metadata": {},
   "outputs": [],
   "source": [
    "datetime_columns = []\n",
    "for col in train.columns:\n",
    "    if train[col].dtype == 'datetime64[ns]':\n",
    "        datetime_columns.append(col)\n",
    "for col in datetime_columns:\n",
    "    train[col] = to_numeric(train[col])\n",
    "datetime_columns = []\n",
    "del datetime_columns"
   ]
  },
  {
   "cell_type": "markdown",
   "metadata": {},
   "source": [
    "## ML Preparation"
   ]
  },
  {
   "cell_type": "code",
   "execution_count": 46,
   "metadata": {},
   "outputs": [],
   "source": [
    "random_state = 2974306530\n",
    "model_scores = DataFrame(None,columns=['Mean_Squared_Error','Root_Mean_Squared_Error','Mean_Absolute_Error','Median_Absolute_Error','Max_Error','R2'])\n",
    "options.display.float_format = '{:.10f}'.format\n",
    "additional_excluded_columns = [\n",
    "    'IsClaimFlg',\n",
    "    'Checked',\n",
    "    'ATG_Ref',\n",
    "    'ATG_LI_Ref',\n",
    "    'BatchNbr',\n",
    "    'CATEGORY_ATG',\n",
    "    'ClaimType',\n",
    "    'AP_VndNbr',\n",
    "    'APVndrName',\n",
    "    'OOB_ATG',\n",
    "    'ItemNbr',\n",
    "    'UPCNbr',\n",
    "    'UPCUnit',\n",
    "    'ItemDescription',\n",
    "    'ItemShipPack',\n",
    "    'PoNbr',\n",
    "    'PODate',\n",
    "    'ReceivingDate',\n",
    "    'TurnRatio_ATG',\n",
    "    'DealNbr',\n",
    "    'OrdStartDate_ATG',\n",
    "    'OrdEndDate_ATG',\n",
    "    'DateStartArrival_ATG',\n",
    "    'DateEndArrival_ATG',\n",
    "    'DLAmtOI',\n",
    "    'DLAmtBB'\n",
    "]"
   ]
  },
  {
   "cell_type": "code",
   "execution_count": 47,
   "metadata": {},
   "outputs": [],
   "source": [
    "#additional_excluded_columns.extend(empty_col)\n",
    "unique_excluded_columns = []\n",
    "for col in additional_excluded_columns:\n",
    "    if col in unique_excluded_columns or not(col in list(train.columns)):\n",
    "        pass\n",
    "    else:\n",
    "        unique_excluded_columns.append(col)\n",
    "additional_excluded_columns = unique_excluded_columns.copy()\n",
    "additional_excluded_columns = ['IsClaimFlg','Checked','ATG_Ref','ATG_LI_Ref']\n",
    "del unique_excluded_columns\n",
    "excluded_features = train[additional_excluded_columns]"
   ]
  },
  {
   "cell_type": "code",
   "execution_count": 49,
   "metadata": {},
   "outputs": [],
   "source": [
    "# features = train[train['UPCNbr']==int(upc_number)].drop(['PdOI_ATG','checked']+additional_excluded_columns,axis=1)\n",
    "# target = train[train['UPCNbr']==int(upc_number)]['PdOI_ATG']\n",
    "features = train.drop(['PdOI_ATG']+additional_excluded_columns,axis=1)\n",
    "target = train['PdOI_ATG']"
   ]
  },
  {
   "cell_type": "code",
   "execution_count": 52,
   "metadata": {},
   "outputs": [],
   "source": [
    "features_train,features_test,target_train,target_test = train_test_split(features,target,random_state=random_state,test_size=0.95,shuffle=True)"
   ]
  },
  {
   "cell_type": "code",
   "execution_count": 53,
   "metadata": {},
   "outputs": [],
   "source": [
    "scaler = StandardScaler()\n",
    "scaler.fit(features_train)\n",
    "features_train_scaled = DataFrame(scaler.transform(features_train),columns=features.columns)\n",
    "features_test_scaled = DataFrame(scaler.transform(features_test),columns=features.columns)\n",
    "target_test = target_test.reset_index(drop=True)"
   ]
  },
  {
   "cell_type": "markdown",
   "metadata": {},
   "source": [
    "## ML Models"
   ]
  },
  {
   "cell_type": "code",
   "execution_count": 54,
   "metadata": {},
   "outputs": [],
   "source": [
    "dc = DummyRegressor(strategy='median')\n",
    "dc,dc_predictions,model_scores,dc_model_importances = run_and_analyze_model(dc,features_train_scaled,target_train,features_test_scaled,target_test,model_scores,'Dummy_Train')\n",
    "clear_output(wait=False)"
   ]
  },
  {
   "cell_type": "code",
   "execution_count": 55,
   "metadata": {},
   "outputs": [],
   "source": [
    "lr = LinearRegression()\n",
    "lr,lr_predictions,model_scores,lr_model_importances = run_and_analyze_model(lr,features_train_scaled,target_train,features_test_scaled,target_test,model_scores,'Linear')\n",
    "clear_output(wait=False)"
   ]
  },
  {
   "cell_type": "code",
   "execution_count": 56,
   "metadata": {},
   "outputs": [],
   "source": [
    "dt = DecisionTreeRegressor(criterion='absolute_error',random_state=random_state)\n",
    "dt,dt_predictions,model_scores,dt_model_importances = run_and_analyze_model(dt,features_train_scaled,target_train,features_test_scaled,target_test,model_scores,'DecisionTree')\n",
    "clear_output(wait=False)"
   ]
  },
  {
   "cell_type": "code",
   "execution_count": 58,
   "metadata": {},
   "outputs": [],
   "source": [
    "rf = RandomForestRegressor(criterion='absolute_error',random_state=random_state,verbose=10,warm_start=True,max_depth=4)\n",
    "rf,rf_predictions,model_scores,rf_model_importances = run_and_analyze_model(rf,features_train_scaled,target_train,features_test_scaled,target_test,model_scores,'RandomForest')\n",
    "clear_output(wait=False)"
   ]
  },
  {
   "cell_type": "code",
   "execution_count": 59,
   "metadata": {},
   "outputs": [],
   "source": [
    "xgb = XGBRegressor(max_depth=6,random_state=random_state)\n",
    "xgb,xgb_predictions,model_scores,xgb_model_importances = run_and_analyze_model(xgb,features_train_scaled,target_train,features_test_scaled,target_test,model_scores,'XGBoost')\n",
    "clear_output(wait=False)"
   ]
  },
  {
   "cell_type": "code",
   "execution_count": 60,
   "metadata": {},
   "outputs": [],
   "source": [
    "lgbm = LGBMRegressor(n_estimators=1000,learning_rate=0.0025,random_state=random_state)\n",
    "lgbm,lgbm_predictions,model_scores,lgbm_model_importances = run_and_analyze_model(lgbm,features_train_scaled,target_train,features_test_scaled,target_test,model_scores,'LGBM')\n",
    "lgbm_model_importances['LGBM'] = (lgbm_model_importances['LGBM'])/(lgbm_model_importances['LGBM'].sum())\n",
    "clear_output(wait=False)"
   ]
  },
  {
   "cell_type": "code",
   "execution_count": 62,
   "metadata": {},
   "outputs": [],
   "source": [
    "gb = GradientBoostingRegressor(loss='absolute_error',warm_start=True,n_estimators=10000,learning_rate=0.0025,random_state=random_state,verbose=10,n_iter_no_change=3)\n",
    "gb,gb_predictions,model_scores,gb_model_importances = run_and_analyze_model(gb,features_train_scaled,target_train,features_test_scaled,target_test,model_scores,'GradientBoost')\n",
    "clear_output(wait=False)"
   ]
  },
  {
   "cell_type": "code",
   "execution_count": 63,
   "metadata": {},
   "outputs": [],
   "source": [
    "knn = KNeighborsRegressor(n_neighbors=3)\n",
    "knn,knn_predictions,model_scores,knn_model_importances = run_and_analyze_model(knn,features_train_scaled,target_train,features_test_scaled,target_test,model_scores,'KNeighbors')\n",
    "clear_output(wait=False)"
   ]
  },
  {
   "cell_type": "code",
   "execution_count": 64,
   "metadata": {},
   "outputs": [],
   "source": [
    "cb = CatBoostRegressor(verbose=10,iterations=100000,learning_rate=0.0025,random_state=random_state,early_stopping_rounds=3)\n",
    "cb,cb_predictions,model_scores,cb_model_importances = run_and_analyze_model(cb,features_train_scaled,target_train,features_test_scaled,target_test,model_scores,'CatBoost')\n",
    "cb_model_importances['CatBoost'] = (cb_model_importances['CatBoost'])/(cb_model_importances['CatBoost'].sum())\n",
    "clear_output(wait=False)"
   ]
  },
  {
   "cell_type": "markdown",
   "metadata": {},
   "source": [
    "## Model Analysis"
   ]
  },
  {
   "cell_type": "code",
   "execution_count": 65,
   "metadata": {},
   "outputs": [
    {
     "data": {
      "text/html": [
       "<div>\n",
       "<style scoped>\n",
       "    .dataframe tbody tr th:only-of-type {\n",
       "        vertical-align: middle;\n",
       "    }\n",
       "\n",
       "    .dataframe tbody tr th {\n",
       "        vertical-align: top;\n",
       "    }\n",
       "\n",
       "    .dataframe thead th {\n",
       "        text-align: right;\n",
       "    }\n",
       "</style>\n",
       "<table border=\"1\" class=\"dataframe\">\n",
       "  <thead>\n",
       "    <tr style=\"text-align: right;\">\n",
       "      <th></th>\n",
       "      <th>Mean_Squared_Error</th>\n",
       "      <th>Root_Mean_Squared_Error</th>\n",
       "      <th>Mean_Absolute_Error</th>\n",
       "      <th>Median_Absolute_Error</th>\n",
       "      <th>Max_Error</th>\n",
       "      <th>R2</th>\n",
       "    </tr>\n",
       "  </thead>\n",
       "  <tbody>\n",
       "    <tr>\n",
       "      <th>Dummy</th>\n",
       "      <td>62.9028613403</td>\n",
       "      <td>7.9311324122</td>\n",
       "      <td>2.8051780501</td>\n",
       "      <td>1.4400000000</td>\n",
       "      <td>515.2400000000</td>\n",
       "      <td>-0.0392040673</td>\n",
       "    </tr>\n",
       "    <tr>\n",
       "      <th>Linear</th>\n",
       "      <td>0.0380624495</td>\n",
       "      <td>0.1950960007</td>\n",
       "      <td>0.0188806906</td>\n",
       "      <td>0.0085704311</td>\n",
       "      <td>51.9490654238</td>\n",
       "      <td>0.9993711788</td>\n",
       "    </tr>\n",
       "    <tr>\n",
       "      <th>DecisionTree</th>\n",
       "      <td>4.8607554218</td>\n",
       "      <td>2.2047120950</td>\n",
       "      <td>0.1031285942</td>\n",
       "      <td>0.0000000000</td>\n",
       "      <td>422.4400000000</td>\n",
       "      <td>0.9196965496</td>\n",
       "    </tr>\n",
       "    <tr>\n",
       "      <th>RandomForest</th>\n",
       "      <td>14.8917052954</td>\n",
       "      <td>3.8589772344</td>\n",
       "      <td>0.6559279304</td>\n",
       "      <td>0.1945000000</td>\n",
       "      <td>510.4045430000</td>\n",
       "      <td>0.7539774760</td>\n",
       "    </tr>\n",
       "    <tr>\n",
       "      <th>XGBoost</th>\n",
       "      <td>6.8386015452</td>\n",
       "      <td>2.6150719962</td>\n",
       "      <td>0.1979825905</td>\n",
       "      <td>0.0538226318</td>\n",
       "      <td>383.6208190918</td>\n",
       "      <td>0.8870209973</td>\n",
       "    </tr>\n",
       "    <tr>\n",
       "      <th>LGBM</th>\n",
       "      <td>11.6927120534</td>\n",
       "      <td>3.4194607840</td>\n",
       "      <td>0.5113490583</td>\n",
       "      <td>0.2226922386</td>\n",
       "      <td>459.4429458224</td>\n",
       "      <td>0.8068273261</td>\n",
       "    </tr>\n",
       "    <tr>\n",
       "      <th>GradientBoost</th>\n",
       "      <td>39.2156670616</td>\n",
       "      <td>6.2622413768</td>\n",
       "      <td>0.5815870200</td>\n",
       "      <td>0.0014502323</td>\n",
       "      <td>514.7792209898</td>\n",
       "      <td>0.3521267579</td>\n",
       "    </tr>\n",
       "    <tr>\n",
       "      <th>KNeighbors</th>\n",
       "      <td>6.2641880830</td>\n",
       "      <td>2.5028360080</td>\n",
       "      <td>0.4280838179</td>\n",
       "      <td>0.0000000000</td>\n",
       "      <td>518.0000000000</td>\n",
       "      <td>0.8965107533</td>\n",
       "    </tr>\n",
       "    <tr>\n",
       "      <th>CatBoost</th>\n",
       "      <td>6.0817850618</td>\n",
       "      <td>2.4661275437</td>\n",
       "      <td>0.1416441274</td>\n",
       "      <td>0.0327223313</td>\n",
       "      <td>464.5155052540</td>\n",
       "      <td>0.8995241927</td>\n",
       "    </tr>\n",
       "  </tbody>\n",
       "</table>\n",
       "</div>"
      ],
      "text/plain": [
       "               Mean_Squared_Error  Root_Mean_Squared_Error  \\\n",
       "Dummy               62.9028613403             7.9311324122   \n",
       "Linear               0.0380624495             0.1950960007   \n",
       "DecisionTree         4.8607554218             2.2047120950   \n",
       "RandomForest        14.8917052954             3.8589772344   \n",
       "XGBoost              6.8386015452             2.6150719962   \n",
       "LGBM                11.6927120534             3.4194607840   \n",
       "GradientBoost       39.2156670616             6.2622413768   \n",
       "KNeighbors           6.2641880830             2.5028360080   \n",
       "CatBoost             6.0817850618             2.4661275437   \n",
       "\n",
       "               Mean_Absolute_Error  Median_Absolute_Error      Max_Error  \\\n",
       "Dummy                 2.8051780501           1.4400000000 515.2400000000   \n",
       "Linear                0.0188806906           0.0085704311  51.9490654238   \n",
       "DecisionTree          0.1031285942           0.0000000000 422.4400000000   \n",
       "RandomForest          0.6559279304           0.1945000000 510.4045430000   \n",
       "XGBoost               0.1979825905           0.0538226318 383.6208190918   \n",
       "LGBM                  0.5113490583           0.2226922386 459.4429458224   \n",
       "GradientBoost         0.5815870200           0.0014502323 514.7792209898   \n",
       "KNeighbors            0.4280838179           0.0000000000 518.0000000000   \n",
       "CatBoost              0.1416441274           0.0327223313 464.5155052540   \n",
       "\n",
       "                         R2  \n",
       "Dummy         -0.0392040673  \n",
       "Linear         0.9993711788  \n",
       "DecisionTree   0.9196965496  \n",
       "RandomForest   0.7539774760  \n",
       "XGBoost        0.8870209973  \n",
       "LGBM           0.8068273261  \n",
       "GradientBoost  0.3521267579  \n",
       "KNeighbors     0.8965107533  \n",
       "CatBoost       0.8995241927  "
      ]
     },
     "execution_count": 65,
     "metadata": {},
     "output_type": "execute_result"
    }
   ],
   "source": [
    "model_scores.to_csv(f\"C:/Code/Python/Machine_Learning_AI/Model_Analysis/Model_Scores.csv\")\n",
    "model_scores"
   ]
  },
  {
   "cell_type": "code",
   "execution_count": 66,
   "metadata": {},
   "outputs": [],
   "source": [
    "feature_importances = concat([dc_model_importances,lr_model_importances,dt_model_importances,rf_model_importances,\n",
    "                              xgb_model_importances,gb_model_importances,lgbm_model_importances,\n",
    "                              cb_model_importances,knn_model_importances],axis=1)\n",
    "feature_importances['SUM'] = feature_importances['Dummy']+feature_importances['Linear']+feature_importances['DecisionTree']+feature_importances['RandomForest']+feature_importances['XGBoost']+feature_importances['GradientBoost']+feature_importances['LGBM']+feature_importances['CatBoost']+feature_importances['KNeighbors']"
   ]
  },
  {
   "cell_type": "code",
   "execution_count": 67,
   "metadata": {},
   "outputs": [],
   "source": [
    "feature_importances.to_csv('C:/Code/Python/Machine_Learning_AI/Model_Analysis/Feature_Importances.csv')"
   ]
  },
  {
   "cell_type": "code",
   "execution_count": 68,
   "metadata": {},
   "outputs": [
    {
     "data": {
      "image/png": "[encoded data removed]",
      "text/plain": [
       "<Figure size 600x500 with 1 Axes>"
      ]
     },
     "metadata": {},
     "output_type": "display_data"
    }
   ],
   "source": [
    "scatter_plot_models(target_test,dc_predictions,'Dummy')\n",
    "scatter_plot_models(target_test,lr_predictions,'Linear')\n",
    "scatter_plot_models(target_test,dt_predictions,'DecisionTree',show=True)\n",
    "scatter_plot_models(target_test,rf_predictions,'RandomForest')\n",
    "scatter_plot_models(target_test,xgb_predictions,'XGBoost')\n",
    "scatter_plot_models(target_test,gb_predictions,'GradientBoost')\n",
    "scatter_plot_models(target_test,knn_predictions,'KNeighbors')\n",
    "scatter_plot_models(target_test,cb_predictions,'CatBoost')"
   ]
  },
  {
   "cell_type": "markdown",
   "metadata": {},
   "source": [
    "## Reconstructing Original Data"
   ]
  },
  {
   "cell_type": "code",
   "execution_count": 69,
   "metadata": {},
   "outputs": [],
   "source": [
    "original_data = get_data(columns=columns)"
   ]
  },
  {
   "cell_type": "code",
   "execution_count": 70,
   "metadata": {},
   "outputs": [],
   "source": [
    "original_data['PdOI_ATG'] = original_data['PdOI_ATG'].astype(float)"
   ]
  },
  {
   "cell_type": "code",
   "execution_count": 71,
   "metadata": {},
   "outputs": [],
   "source": [
    "features_train_unscaled,features_test_unscaled = train_test_split(original_data,random_state=random_state,test_size=0.95,shuffle=True)"
   ]
  },
  {
   "cell_type": "code",
   "execution_count": 72,
   "metadata": {},
   "outputs": [],
   "source": [
    "df_with_predictions = concat([DataFrame(features_test_unscaled).reset_index(drop=True),dc_predictions,lr_predictions,dt_predictions,rf_predictions,xgb_predictions,gb_predictions,lgbm_predictions,cb_predictions,knn_predictions],axis=1)"
   ]
  },
  {
   "cell_type": "markdown",
   "metadata": {},
   "source": [
    "## Displaying Discrepancies"
   ]
  },
  {
   "cell_type": "code",
   "execution_count": 73,
   "metadata": {},
   "outputs": [],
   "source": [
    "options.display.float_format = '{:.4f}'.format"
   ]
  },
  {
   "cell_type": "code",
   "execution_count": 74,
   "metadata": {},
   "outputs": [],
   "source": [
    "df_with_predictions[(abs(df_with_predictions['DecisionTree']-df_with_predictions['PdOI_ATG'])>(df_with_predictions['PdOI_ATG']/20))&\n",
    "                    (abs(df_with_predictions['PdOI_ATG']-df_with_predictions['DecisionTree'])>0.001)].to_csv(\"C:/Code/Python/Machine_Learning_AI/Discrepancies/Worst_Discrepancies.csv\",index=False)"
   ]
  },
  {
   "cell_type": "code",
   "execution_count": 75,
   "metadata": {},
   "outputs": [
    {
     "data": {
      "text/html": [
       "<div>\n",
       "<style scoped>\n",
       "    .dataframe tbody tr th:only-of-type {\n",
       "        vertical-align: middle;\n",
       "    }\n",
       "\n",
       "    .dataframe tbody tr th {\n",
       "        vertical-align: top;\n",
       "    }\n",
       "\n",
       "    .dataframe thead th {\n",
       "        text-align: right;\n",
       "    }\n",
       "</style>\n",
       "<table border=\"1\" class=\"dataframe\">\n",
       "  <thead>\n",
       "    <tr style=\"text-align: right;\">\n",
       "      <th></th>\n",
       "      <th>IsClaimFlg</th>\n",
       "      <th>Checked</th>\n",
       "      <th>ATG_Ref</th>\n",
       "      <th>ATG_LI_Ref</th>\n",
       "      <th>BatchNbr</th>\n",
       "      <th>CATEGORY_ATG</th>\n",
       "      <th>ClaimType</th>\n",
       "      <th>AP_VndNbr</th>\n",
       "      <th>APVndrName</th>\n",
       "      <th>OOB_ATG</th>\n",
       "      <th>ItemNbr</th>\n",
       "      <th>UPCNbr</th>\n",
       "      <th>UPCUnit</th>\n",
       "      <th>ItemDescription</th>\n",
       "      <th>ItemShipPack</th>\n",
       "      <th>PoNbr</th>\n",
       "      <th>PODate</th>\n",
       "      <th>ReceivingDate</th>\n",
       "      <th>TurnRatio_ATG</th>\n",
       "      <th>TurnQty_ATG</th>\n",
       "      <th>OrdQty</th>\n",
       "      <th>PdQty_ATG</th>\n",
       "      <th>PdGross_ATG</th>\n",
       "      <th>PdOI_ATG</th>\n",
       "      <th>PdBB_ATG</th>\n",
       "      <th>PdNet_ATG</th>\n",
       "      <th>DealNbr</th>\n",
       "      <th>OrdStartDate_ATG</th>\n",
       "      <th>OrdEndDate_ATG</th>\n",
       "      <th>DateStartArrival_ATG</th>\n",
       "      <th>DateEndArrival_ATG</th>\n",
       "      <th>DLAmtOI</th>\n",
       "      <th>DLAmtBB</th>\n",
       "      <th>Dummy</th>\n",
       "      <th>Linear</th>\n",
       "      <th>DecisionTree</th>\n",
       "      <th>RandomForest</th>\n",
       "      <th>XGBoost</th>\n",
       "      <th>GradientBoost</th>\n",
       "      <th>LGBM</th>\n",
       "      <th>CatBoost</th>\n",
       "      <th>KNeighbors</th>\n",
       "    </tr>\n",
       "  </thead>\n",
       "  <tbody>\n",
       "    <tr>\n",
       "      <th>481498</th>\n",
       "      <td>N</td>\n",
       "      <td>x</td>\n",
       "      <td>16746351</td>\n",
       "      <td>671567027</td>\n",
       "      <td>88</td>\n",
       "      <td>SAME VENDOR - AMT DEALS</td>\n",
       "      <td>IN DEAL</td>\n",
       "      <td>GREEN MOUNT1</td>\n",
       "      <td>KEURIG GREEN MOUNTAIN</td>\n",
       "      <td>0.0200</td>\n",
       "      <td>40678</td>\n",
       "      <td>9955538663</td>\n",
       "      <td>9955538663</td>\n",
       "      <td>GRN MNT NANTUCKET BLND MED RST</td>\n",
       "      <td>6</td>\n",
       "      <td>810053</td>\n",
       "      <td>2023-07-20</td>\n",
       "      <td>2023-07-28</td>\n",
       "      <td>2.67</td>\n",
       "      <td>75.0000</td>\n",
       "      <td>200.0000</td>\n",
       "      <td>200.0000</td>\n",
       "      <td>48.4200</td>\n",
       "      <td>9.8400</td>\n",
       "      <td>3.0600</td>\n",
       "      <td>35.5200</td>\n",
       "      <td>714725</td>\n",
       "      <td>2023-03-01</td>\n",
       "      <td>2023-08-23</td>\n",
       "      <td>2023-03-01</td>\n",
       "      <td>2023-08-30</td>\n",
       "      <td>0.0000</td>\n",
       "      <td>3.0600</td>\n",
       "      <td>2.7600</td>\n",
       "      <td>9.8138</td>\n",
       "      <td>12.7800</td>\n",
       "      <td>7.5955</td>\n",
       "      <td>9.9726</td>\n",
       "      <td>3.2214</td>\n",
       "      <td>8.0235</td>\n",
       "      <td>10.0556</td>\n",
       "      <td>8.2200</td>\n",
       "    </tr>\n",
       "    <tr>\n",
       "      <th>738221</th>\n",
       "      <td>N</td>\n",
       "      <td>x</td>\n",
       "      <td>12560266</td>\n",
       "      <td>487182317</td>\n",
       "      <td>74</td>\n",
       "      <td>SAME VENDOR - AMT DEALS</td>\n",
       "      <td>IN DEAL</td>\n",
       "      <td>NTC MARKETI1</td>\n",
       "      <td>NTC MARKETING INC</td>\n",
       "      <td>-1.2700</td>\n",
       "      <td>21418</td>\n",
       "      <td>7458407530</td>\n",
       "      <td>7458407530</td>\n",
       "      <td>LIBBY NSA MANDARIN ORANGES</td>\n",
       "      <td>12</td>\n",
       "      <td>672725</td>\n",
       "      <td>2021-12-27</td>\n",
       "      <td>2022-01-05</td>\n",
       "      <td>1.14</td>\n",
       "      <td>98.0000</td>\n",
       "      <td>112.0000</td>\n",
       "      <td>112.0000</td>\n",
       "      <td>17.0400</td>\n",
       "      <td>3.7500</td>\n",
       "      <td>0.0000</td>\n",
       "      <td>13.2900</td>\n",
       "      <td>641818</td>\n",
       "      <td>2022-01-01</td>\n",
       "      <td>2022-07-01</td>\n",
       "      <td>2022-01-01</td>\n",
       "      <td>2022-07-01</td>\n",
       "      <td>4.2800</td>\n",
       "      <td>0.0000</td>\n",
       "      <td>2.7600</td>\n",
       "      <td>3.7590</td>\n",
       "      <td>4.0400</td>\n",
       "      <td>4.1522</td>\n",
       "      <td>4.1857</td>\n",
       "      <td>4.2497</td>\n",
       "      <td>4.3395</td>\n",
       "      <td>4.1812</td>\n",
       "      <td>3.9433</td>\n",
       "    </tr>\n",
       "    <tr>\n",
       "      <th>223855</th>\n",
       "      <td>N</td>\n",
       "      <td>x</td>\n",
       "      <td>18842287</td>\n",
       "      <td>719356758</td>\n",
       "      <td>96</td>\n",
       "      <td>SAME VENDOR - AMT DEALS</td>\n",
       "      <td>IN DEAL</td>\n",
       "      <td>SABRA DIPPI1</td>\n",
       "      <td>SABRA DIPPING CO LLC</td>\n",
       "      <td>0.0000</td>\n",
       "      <td>5096</td>\n",
       "      <td>1004082201154</td>\n",
       "      <td>4082201154</td>\n",
       "      <td>SABRA RSTD RED PEP HUM</td>\n",
       "      <td>12</td>\n",
       "      <td>854702</td>\n",
       "      <td>2024-02-20</td>\n",
       "      <td>2024-03-05</td>\n",
       "      <td>0.33</td>\n",
       "      <td>120.0000</td>\n",
       "      <td>40.0000</td>\n",
       "      <td>40.0000</td>\n",
       "      <td>29.5200</td>\n",
       "      <td>2.4500</td>\n",
       "      <td>0.0000</td>\n",
       "      <td>27.0700</td>\n",
       "      <td>777702</td>\n",
       "      <td>2024-02-04</td>\n",
       "      <td>2024-12-28</td>\n",
       "      <td>2024-02-04</td>\n",
       "      <td>2024-12-28</td>\n",
       "      <td>2.4500</td>\n",
       "      <td>0.0000</td>\n",
       "      <td>2.7600</td>\n",
       "      <td>2.4367</td>\n",
       "      <td>0.0000</td>\n",
       "      <td>2.3942</td>\n",
       "      <td>2.4155</td>\n",
       "      <td>2.4498</td>\n",
       "      <td>2.6131</td>\n",
       "      <td>2.3403</td>\n",
       "      <td>2.0600</td>\n",
       "    </tr>\n",
       "    <tr>\n",
       "      <th>422107</th>\n",
       "      <td>N</td>\n",
       "      <td>x</td>\n",
       "      <td>12051847</td>\n",
       "      <td>482554262</td>\n",
       "      <td>72</td>\n",
       "      <td>SAME VENDOR - AMT DEALS</td>\n",
       "      <td>IN DEAL</td>\n",
       "      <td>GENERAL00149</td>\n",
       "      <td>GENERAL MILLS FINANCE</td>\n",
       "      <td>0.0000</td>\n",
       "      <td>12285</td>\n",
       "      <td>1600017761</td>\n",
       "      <td>1600016383</td>\n",
       "      <td>GMI HONEY NUT CHEERIOS MEGA/GI</td>\n",
       "      <td>8</td>\n",
       "      <td>668150</td>\n",
       "      <td>2021-12-08</td>\n",
       "      <td>2021-12-27</td>\n",
       "      <td>0.40</td>\n",
       "      <td>90.0000</td>\n",
       "      <td>36.0000</td>\n",
       "      <td>36.0000</td>\n",
       "      <td>42.3200</td>\n",
       "      <td>5.6800</td>\n",
       "      <td>0.0000</td>\n",
       "      <td>36.6400</td>\n",
       "      <td>626590</td>\n",
       "      <td>2021-12-06</td>\n",
       "      <td>2022-01-16</td>\n",
       "      <td>2021-12-06</td>\n",
       "      <td>2022-01-16</td>\n",
       "      <td>5.6800</td>\n",
       "      <td>0.0000</td>\n",
       "      <td>2.7600</td>\n",
       "      <td>5.6638</td>\n",
       "      <td>7.3200</td>\n",
       "      <td>5.7006</td>\n",
       "      <td>5.5855</td>\n",
       "      <td>5.6811</td>\n",
       "      <td>5.5572</td>\n",
       "      <td>5.8363</td>\n",
       "      <td>5.2767</td>\n",
       "    </tr>\n",
       "    <tr>\n",
       "      <th>906082</th>\n",
       "      <td>N</td>\n",
       "      <td>x</td>\n",
       "      <td>18839938</td>\n",
       "      <td>718248338</td>\n",
       "      <td>96</td>\n",
       "      <td>SAME VENDOR - AMT DEALS</td>\n",
       "      <td>IN DEAL</td>\n",
       "      <td>MOTT'S 03154</td>\n",
       "      <td>DPS BEVERAGES INC</td>\n",
       "      <td>-599.5500</td>\n",
       "      <td>25143</td>\n",
       "      <td>1480000748</td>\n",
       "      <td>1480000747</td>\n",
       "      <td>MOTTS MIGHTY FLYN FRUIT PUNCH</td>\n",
       "      <td>8</td>\n",
       "      <td>853763</td>\n",
       "      <td>2024-02-15</td>\n",
       "      <td>2024-02-23</td>\n",
       "      <td>1.00</td>\n",
       "      <td>50.0000</td>\n",
       "      <td>50.0000</td>\n",
       "      <td>50.0000</td>\n",
       "      <td>23.6800</td>\n",
       "      <td>2.2400</td>\n",
       "      <td>0.0000</td>\n",
       "      <td>21.4400</td>\n",
       "      <td>761908</td>\n",
       "      <td>2024-01-01</td>\n",
       "      <td>2024-03-31</td>\n",
       "      <td>2024-01-01</td>\n",
       "      <td>2024-03-31</td>\n",
       "      <td>2.2400</td>\n",
       "      <td>0.0000</td>\n",
       "      <td>2.7600</td>\n",
       "      <td>2.2419</td>\n",
       "      <td>2.8000</td>\n",
       "      <td>2.3942</td>\n",
       "      <td>2.3014</td>\n",
       "      <td>2.2400</td>\n",
       "      <td>2.3991</td>\n",
       "      <td>2.2597</td>\n",
       "      <td>2.4267</td>\n",
       "    </tr>\n",
       "  </tbody>\n",
       "</table>\n",
       "</div>"
      ],
      "text/plain": [
       "       IsClaimFlg Checked   ATG_Ref  ATG_LI_Ref  BatchNbr  \\\n",
       "481498          N       x  16746351   671567027        88   \n",
       "738221          N       x  12560266   487182317        74   \n",
       "223855          N       x  18842287   719356758        96   \n",
       "422107          N       x  12051847   482554262        72   \n",
       "906082          N       x  18839938   718248338        96   \n",
       "\n",
       "                   CATEGORY_ATG ClaimType     AP_VndNbr  \\\n",
       "481498  SAME VENDOR - AMT DEALS   IN DEAL  GREEN MOUNT1   \n",
       "738221  SAME VENDOR - AMT DEALS   IN DEAL  NTC MARKETI1   \n",
       "223855  SAME VENDOR - AMT DEALS   IN DEAL  SABRA DIPPI1   \n",
       "422107  SAME VENDOR - AMT DEALS   IN DEAL  GENERAL00149   \n",
       "906082  SAME VENDOR - AMT DEALS   IN DEAL  MOTT'S 03154   \n",
       "\n",
       "                   APVndrName    OOB_ATG  ItemNbr         UPCNbr     UPCUnit  \\\n",
       "481498  KEURIG GREEN MOUNTAIN     0.0200    40678     9955538663  9955538663   \n",
       "738221      NTC MARKETING INC    -1.2700    21418     7458407530  7458407530   \n",
       "223855   SABRA DIPPING CO LLC     0.0000     5096  1004082201154  4082201154   \n",
       "422107  GENERAL MILLS FINANCE     0.0000    12285     1600017761  1600016383   \n",
       "906082      DPS BEVERAGES INC  -599.5500    25143     1480000748  1480000747   \n",
       "\n",
       "                       ItemDescription  ItemShipPack   PoNbr     PODate  \\\n",
       "481498  GRN MNT NANTUCKET BLND MED RST             6  810053 2023-07-20   \n",
       "738221      LIBBY NSA MANDARIN ORANGES            12  672725 2021-12-27   \n",
       "223855          SABRA RSTD RED PEP HUM            12  854702 2024-02-20   \n",
       "422107  GMI HONEY NUT CHEERIOS MEGA/GI             8  668150 2021-12-08   \n",
       "906082   MOTTS MIGHTY FLYN FRUIT PUNCH             8  853763 2024-02-15   \n",
       "\n",
       "       ReceivingDate TurnRatio_ATG TurnQty_ATG    OrdQty PdQty_ATG  \\\n",
       "481498    2023-07-28          2.67     75.0000  200.0000  200.0000   \n",
       "738221    2022-01-05          1.14     98.0000  112.0000  112.0000   \n",
       "223855    2024-03-05          0.33    120.0000   40.0000   40.0000   \n",
       "422107    2021-12-27          0.40     90.0000   36.0000   36.0000   \n",
       "906082    2024-02-23          1.00     50.0000   50.0000   50.0000   \n",
       "\n",
       "       PdGross_ATG  PdOI_ATG PdBB_ATG PdNet_ATG  DealNbr OrdStartDate_ATG  \\\n",
       "481498     48.4200    9.8400   3.0600   35.5200   714725       2023-03-01   \n",
       "738221     17.0400    3.7500   0.0000   13.2900   641818       2022-01-01   \n",
       "223855     29.5200    2.4500   0.0000   27.0700   777702       2024-02-04   \n",
       "422107     42.3200    5.6800   0.0000   36.6400   626590       2021-12-06   \n",
       "906082     23.6800    2.2400   0.0000   21.4400   761908       2024-01-01   \n",
       "\n",
       "       OrdEndDate_ATG DateStartArrival_ATG DateEndArrival_ATG DLAmtOI DLAmtBB  \\\n",
       "481498     2023-08-23           2023-03-01         2023-08-30  0.0000  3.0600   \n",
       "738221     2022-07-01           2022-01-01         2022-07-01  4.2800  0.0000   \n",
       "223855     2024-12-28           2024-02-04         2024-12-28  2.4500  0.0000   \n",
       "422107     2022-01-16           2021-12-06         2022-01-16  5.6800  0.0000   \n",
       "906082     2024-03-31           2024-01-01         2024-03-31  2.2400  0.0000   \n",
       "\n",
       "        Dummy  Linear  DecisionTree  RandomForest  XGBoost  GradientBoost  \\\n",
       "481498 2.7600  9.8138       12.7800        7.5955   9.9726         3.2214   \n",
       "738221 2.7600  3.7590        4.0400        4.1522   4.1857         4.2497   \n",
       "223855 2.7600  2.4367        0.0000        2.3942   2.4155         2.4498   \n",
       "422107 2.7600  5.6638        7.3200        5.7006   5.5855         5.6811   \n",
       "906082 2.7600  2.2419        2.8000        2.3942   2.3014         2.2400   \n",
       "\n",
       "         LGBM  CatBoost  KNeighbors  \n",
       "481498 8.0235   10.0556      8.2200  \n",
       "738221 4.3395    4.1812      3.9433  \n",
       "223855 2.6131    2.3403      2.0600  \n",
       "422107 5.5572    5.8363      5.2767  \n",
       "906082 2.3991    2.2597      2.4267  "
      ]
     },
     "execution_count": 75,
     "metadata": {},
     "output_type": "execute_result"
    }
   ],
   "source": [
    "df_with_predictions[(abs(df_with_predictions['DecisionTree']-df_with_predictions['PdOI_ATG'])>(df_with_predictions['PdOI_ATG']/20))&\n",
    "                    (abs(df_with_predictions['PdOI_ATG']-df_with_predictions['DecisionTree'])>0.001)].sample(5)"
   ]
  },
  {
   "cell_type": "code",
   "execution_count": 76,
   "metadata": {},
   "outputs": [],
   "source": [
    "df_with_predictions[\n",
    "                        (\n",
    "                            (abs(df_with_predictions['PdOI_ATG']-df_with_predictions['Linear'])>=(df_with_predictions['PdOI_ATG']/5))&\n",
    "                            (abs(df_with_predictions['PdOI_ATG']-df_with_predictions['DecisionTree'])>=(df_with_predictions['PdOI_ATG']/5))&\n",
    "                            (abs(df_with_predictions['PdOI_ATG']-df_with_predictions['RandomForest'])>=(df_with_predictions['PdOI_ATG']/5))&\n",
    "                            (abs(df_with_predictions['PdOI_ATG']-df_with_predictions['XGBoost'])>=(df_with_predictions['PdOI_ATG']/5))&\n",
    "                            (abs(df_with_predictions['PdOI_ATG']-df_with_predictions['GradientBoost'])>=(df_with_predictions['PdOI_ATG']/5))&\n",
    "                            (abs(df_with_predictions['PdOI_ATG']-df_with_predictions['LGBM'])>=(df_with_predictions['PdOI_ATG']/5))&\n",
    "                            (abs(df_with_predictions['PdOI_ATG']-df_with_predictions['CatBoost'])>=(df_with_predictions['PdOI_ATG']/5))&\n",
    "                            (abs(df_with_predictions['PdOI_ATG']-df_with_predictions['KNeighbors'])>=(df_with_predictions['PdOI_ATG']/5))&\n",
    "                            (df_with_predictions['PdOI_ATG']<0.01)\n",
    "                        )\n",
    "                    ].to_csv(f\"C:/Code/Python/Machine_Learning_AI/Discrepancies/PdOI_Before_AI_0_And_Models_Not_0.csv\")"
   ]
  },
  {
   "cell_type": "markdown",
   "metadata": {},
   "source": [
    "## Export Discrepancies to SQL"
   ]
  },
  {
   "cell_type": "code",
   "execution_count": 77,
   "metadata": {},
   "outputs": [],
   "source": [
    "data = df_with_predictions[\n",
    "                        (\n",
    "                            (abs(df_with_predictions['PdOI_ATG']-df_with_predictions['Linear'])>=(df_with_predictions['PdOI_ATG']/5))&\n",
    "                            (abs(df_with_predictions['PdOI_ATG']-df_with_predictions['DecisionTree'])>=(df_with_predictions['PdOI_ATG']/5))&\n",
    "                            (abs(df_with_predictions['PdOI_ATG']-df_with_predictions['RandomForest'])>=(df_with_predictions['PdOI_ATG']/5))&\n",
    "                            (abs(df_with_predictions['PdOI_ATG']-df_with_predictions['XGBoost'])>=(df_with_predictions['PdOI_ATG']/5))&\n",
    "                            (abs(df_with_predictions['PdOI_ATG']-df_with_predictions['GradientBoost'])>=(df_with_predictions['PdOI_ATG']/5))&\n",
    "                            (abs(df_with_predictions['PdOI_ATG']-df_with_predictions['LGBM'])>=(df_with_predictions['PdOI_ATG']/5))&\n",
    "                            (abs(df_with_predictions['PdOI_ATG']-df_with_predictions['CatBoost'])>=(df_with_predictions['PdOI_ATG']/5))&\n",
    "                            (abs(df_with_predictions['PdOI_ATG']-df_with_predictions['KNeighbors'])>=(df_with_predictions['PdOI_ATG']/5))&\n",
    "                            (df_with_predictions['PdOI_ATG']<0.01)\n",
    "                        )\n",
    "                    ].reset_index(drop=True)"
   ]
  },
  {
   "cell_type": "code",
   "execution_count": 95,
   "metadata": {},
   "outputs": [],
   "source": [
    "data.to_csv(\"C:/Code/Python/Machine_Learning_AI/Discrepancies/All_Model_Predictions_Significantly_Different_From_Original_PdOI_ATG_Where_Pd_OI_Zero.csv\",index=False)"
   ]
  },
  {
   "cell_type": "code",
   "execution_count": 78,
   "metadata": {},
   "outputs": [],
   "source": [
    "data_2 = df_with_predictions[\n",
    "                        (\n",
    "                            (df_with_predictions['Linear']>(df_with_predictions['PdOI_ATG']))&\n",
    "                            (df_with_predictions['DecisionTree']>(df_with_predictions['PdOI_ATG']))&\n",
    "                            (df_with_predictions['RandomForest']>(df_with_predictions['PdOI_ATG']))&\n",
    "                            (df_with_predictions['XGBoost']>(df_with_predictions['PdOI_ATG']))&\n",
    "                            (df_with_predictions['GradientBoost']>(df_with_predictions['PdOI_ATG']))&\n",
    "                            (df_with_predictions['LGBM']>(df_with_predictions['PdOI_ATG']))&\n",
    "                            (df_with_predictions['CatBoost']>(df_with_predictions['PdOI_ATG']))&\n",
    "                            (df_with_predictions['KNeighbors']>(df_with_predictions['PdOI_ATG']))\n",
    "                        )\n",
    "                    ].reset_index(drop=True)"
   ]
  },
  {
   "cell_type": "code",
   "execution_count": 79,
   "metadata": {},
   "outputs": [],
   "source": [
    "data_2.to_csv(\"C:/Code/Python/Machine_Learning_AI/Discrepancies/All_Model_Predictions_Bigger_Than_Original_PdOI_ATG.csv\",index=False)"
   ]
  },
  {
   "cell_type": "code",
   "execution_count": 93,
   "metadata": {},
   "outputs": [],
   "source": [
    "data_3 = df_with_predictions[\n",
    "                        (\n",
    "                            (abs(df_with_predictions['PdOI_ATG']-df_with_predictions['Linear'])>=(df_with_predictions['PdOI_ATG']/5))&\n",
    "                            (abs(df_with_predictions['PdOI_ATG']-df_with_predictions['DecisionTree'])>=(df_with_predictions['PdOI_ATG']/5))&\n",
    "                            (abs(df_with_predictions['PdOI_ATG']-df_with_predictions['RandomForest'])>=(df_with_predictions['PdOI_ATG']/5))&\n",
    "                            (abs(df_with_predictions['PdOI_ATG']-df_with_predictions['XGBoost'])>=(df_with_predictions['PdOI_ATG']/5))&\n",
    "                            (abs(df_with_predictions['PdOI_ATG']-df_with_predictions['GradientBoost'])>=(df_with_predictions['PdOI_ATG']/5))&\n",
    "                            (abs(df_with_predictions['PdOI_ATG']-df_with_predictions['LGBM'])>=(df_with_predictions['PdOI_ATG']/5))&\n",
    "                            (abs(df_with_predictions['PdOI_ATG']-df_with_predictions['CatBoost'])>=(df_with_predictions['PdOI_ATG']/5))&\n",
    "                            (abs(df_with_predictions['PdOI_ATG']-df_with_predictions['KNeighbors'])>=(df_with_predictions['PdOI_ATG']/5))&\n",
    "                            (df_with_predictions['PdOI_ATG']>0.01)\n",
    "                        )\n",
    "                    ].reset_index(drop=True)"
   ]
  },
  {
   "cell_type": "code",
   "execution_count": 97,
   "metadata": {},
   "outputs": [],
   "source": [
    "data_3.to_csv(\"C:/Code/Python/Machine_Learning_AI/Discrepancies/All_Model_Predictions_Significantly_Different_From_Original_PdOI_ATG_Where_Pd_OI_NOT_Zero.csv\",index=False)"
   ]
  },
  {
   "cell_type": "code",
   "execution_count": null,
   "metadata": {},
   "outputs": [],
   "source": [
    "export_to_sql(data)"
   ]
  },
  {
   "cell_type": "code",
   "execution_count": null,
   "metadata": {},
   "outputs": [],
   "source": [
    "export_to_sql(data_2)"
   ]
  },
  {
   "cell_type": "code",
   "execution_count": 94,
   "metadata": {},
   "outputs": [
    {
     "name": "stdout",
     "output_type": "stream",
     "text": [
      "100\n"
     ]
    }
   ],
   "source": [
    "export_to_sql(data_3)"
   ]
  }
 ],
 "metadata": {
  "kernelspec": {
   "display_name": "Python 3",
   "language": "python",
   "name": "python3"
  },
  "language_info": {
   "codemirror_mode": {
    "name": "ipython",
    "version": 3
   },
   "file_extension": ".py",
   "mimetype": "text/x-python",
   "name": "python",
   "nbconvert_exporter": "python",
   "pygments_lexer": "ipython3",
   "version": "3.10.10"
  }
 },
 "nbformat": 4,
 "nbformat_minor": 2
}
