{
 "cells": [
  {
   "cell_type": "markdown",
   "metadata": {},
   "source": [
    "# ATG_DealLI_Exceptions_ML"
   ]
  },
  {
   "cell_type": "markdown",
   "metadata": {},
   "source": [
    "## Importing Libraries"
   ]
  },
  {
   "cell_type": "code",
   "execution_count": null,
   "metadata": {},
   "outputs": [],
   "source": [
    "from pandas import set_option,concat,DataFrame,Series,to_numeric,to_datetime,options\n",
    "from numpy import concatenate,random,unique\n",
    "from pyodbc import connect\n",
    "from warnings import filterwarnings\n",
    "from matplotlib.pyplot import subplots,tight_layout,savefig,close\n",
    "from sklearn.metrics import accuracy_score,make_scorer,confusion_matrix,f1_score,roc_curve,auc\n",
    "from sklearn.metrics import precision_recall_curve,precision_score,recall_score,roc_auc_score\n",
    "from sklearn.ensemble import RandomForestClassifier,GradientBoostingClassifier\n",
    "from sklearn.dummy import DummyClassifier\n",
    "from sklearn.utils import shuffle\n",
    "from sklearn.tree import DecisionTreeClassifier,plot_tree\n",
    "from sklearn.model_selection import GridSearchCV,cross_val_score,train_test_split\n",
    "from sklearn.preprocessing import StandardScaler,LabelBinarizer,label_binarize,MaxAbsScaler\n",
    "from sklearn.feature_extraction import FeatureHasher\n",
    "from catboost import CatBoostClassifier\n",
    "from xgboost import XGBClassifier\n",
    "from lightgbm import LGBMClassifier\n",
    "from IPython.display import clear_output\n",
    "from sklearn.neighbors import *\n",
    "from re import search,match\n",
    "from random import randint\n",
    "from time import time\n",
    "from smtplib import SMTP_SSL\n",
    "from ssl import create_default_context\n",
    "#from sys import executable,path\n",
    "filterwarnings('ignore')"
   ]
  },
  {
   "cell_type": "code",
   "execution_count": null,
   "metadata": {},
   "outputs": [],
   "source": [
    "set_option('display.max_rows', None)\n",
    "set_option('display.max_columns', None)\n",
    "# options.display.max_info_columns = 1000\n",
    "options.display.float_format = '{:.10f}'.format"
   ]
  },
  {
   "cell_type": "markdown",
   "metadata": {},
   "source": [
    "## SQL Connect"
   ]
  },
  {
   "cell_type": "raw",
   "metadata": {
    "vscode": {
     "languageId": "raw"
    }
   },
   "source": [
    "server = 'MOE'\n",
    "database = 'prod_WeisMarkets_RecoverNow'\n",
    "connectionString = f'DRIVER={{ODBC Driver 17 for SQL Server}};SERVER={server};DATABASE={database};Integrated Security={True};Autocommit={True};Trusted_Connection=yes;'\n",
    "conn = connect(connectionString)\n",
    "cursor_1 = conn.cursor()"
   ]
  },
  {
   "cell_type": "code",
   "execution_count": null,
   "metadata": {},
   "outputs": [],
   "source": [
    "server = 'troy'\n",
    "database = 'prod_Costco_RecoverNow'\n",
    "connectionString = f'DRIVER={{ODBC Driver 17 for SQL Server}};SERVER={server};DATABASE={database};Integrated Security={True};Autocommit={True};Trusted_Connection=yes;'\n",
    "conn = connect(connectionString)\n",
    "cursor_1 = conn.cursor()"
   ]
  },
  {
   "cell_type": "markdown",
   "metadata": {},
   "source": [
    "## Supporting Functions"
   ]
  },
  {
   "cell_type": "code",
   "execution_count": null,
   "metadata": {},
   "outputs": [],
   "source": [
    "# Getting 2 graphs to analyze model effectiveness. ROC Curve and Precision-Recall Curve\n",
    "def full_score_report_multi_class(model, features, target, predictions,image_name):\n",
    "    # Calculate recall and precision for weighted average\n",
    "    recall = round(recall_score(target, predictions, average='weighted'), 3)\n",
    "    precision = round(precision_score(target, predictions, average='weighted'), 3)\n",
    "    \n",
    "    # Binarize the targets for multiclass ROC and Precision-Recall curves\n",
    "    classes = unique(target)\n",
    "    target_binarized = label_binarize(target, classes=classes)\n",
    "    n_classes = len(classes)\n",
    "    \n",
    "    # Get the predicted probabilities\n",
    "    probabilities = model.predict_proba(features)\n",
    "    \n",
    "    # Initialize dictionaries for ROC and Precision-Recall\n",
    "    fpr = dict()\n",
    "    tpr = dict()\n",
    "    roc_auc = dict()\n",
    "    precision_curve = dict()\n",
    "    recall_curve = dict()\n",
    "    pr_auc = dict()\n",
    "    \n",
    "    for i in range(n_classes):\n",
    "        fpr[i], tpr[i], _ = roc_curve(target_binarized[:, i], probabilities[:, i])\n",
    "        roc_auc[i] = auc(fpr[i], tpr[i])\n",
    "        precision_curve[i], recall_curve[i], _ = precision_recall_curve(target_binarized[:, i], probabilities[:, i])\n",
    "        pr_auc[i] = auc(recall_curve[i], precision_curve[i])\n",
    "    \n",
    "    # Plotting the ROC and Precision-Recall curves\n",
    "    fig, ax = subplots(1, 2, figsize=(14, 7))\n",
    "    \n",
    "    # Plot ROC curve\n",
    "    for i in range(n_classes):\n",
    "        ax[0].plot(fpr[i], tpr[i], lw=2, label=f'Class {classes[i]} (AUC = {roc_auc[i]:.2f})')\n",
    "    ax[0].plot([0, 1], [0, 1], 'r--')\n",
    "    ax[0].set_xlim([0.0, 1.0])\n",
    "    ax[0].set_ylim([0.0, 1.0])\n",
    "    ax[0].set_xlabel('False Positive Rate')\n",
    "    ax[0].set_ylabel('True Positive Rate')\n",
    "    ax[0].set_title('ROC Curve')\n",
    "    ax[0].legend(loc='lower right')\n",
    "    \n",
    "    # Plot Precision-Recall curve\n",
    "    for i in range(n_classes):\n",
    "        ax[1].plot(recall_curve[i], precision_curve[i], lw=2, label=f'Class {classes[i]} (AUC = {pr_auc[i]:.2f})')\n",
    "    ax[1].set_xlim([0.0, 1.0])\n",
    "    ax[1].set_ylim([0.0, 1.0])\n",
    "    ax[1].set_xlabel('Recall')\n",
    "    ax[1].set_ylabel('Precision')\n",
    "    ax[1].set_title('Precision-Recall Curve')\n",
    "    ax[1].legend(loc='lower left')\n",
    "    \n",
    "    tight_layout()\n",
    "    savefig(f\"{image_name}.png\")\n",
    "    close()\n",
    "    # show()"
   ]
  },
  {
   "cell_type": "code",
   "execution_count": null,
   "metadata": {},
   "outputs": [],
   "source": [
    "def full_score_report_binary_class(model, features, target, predictions, image_name):\n",
    "    # Calculate recall and precision for weighted average\n",
    "    recall = round(recall_score(target, predictions, average='weighted'), 3)\n",
    "    precision = round(precision_score(target, predictions, average='weighted'), 3)\n",
    "    \n",
    "    # Binarize the targets for multiclass ROC and Precision-Recall curves\n",
    "    classes = unique(target)\n",
    "    target_binarized = label_binarize(target, classes=classes)\n",
    "    n_classes = len(classes)\n",
    "    \n",
    "    # Get the predicted probabilities\n",
    "    if hasattr(model, \"predict_proba\"):\n",
    "        probabilities = model.predict_proba(features)\n",
    "    else:\n",
    "        probabilities = model.decision_function(features)\n",
    "        probabilities = (probabilities - probabilities.min()) / (probabilities.max() - probabilities.min())\n",
    "    \n",
    "    # Initialize dictionaries for ROC and Precision-Recall\n",
    "    fpr = dict()\n",
    "    tpr = dict()\n",
    "    roc_auc = dict()\n",
    "    precision_curve = dict()\n",
    "    recall_curve = dict()\n",
    "    pr_auc = dict()\n",
    "    \n",
    "    if n_classes == 2:\n",
    "        # Handle binary classification\n",
    "        fpr[0], tpr[0], _ = roc_curve(target, probabilities[:, 1])\n",
    "        roc_auc[0] = auc(fpr[0], tpr[0])\n",
    "        precision_curve[0], recall_curve[0], _ = precision_recall_curve(target, probabilities[:, 1])\n",
    "        pr_auc[0] = auc(recall_curve[0], precision_curve[0])\n",
    "    else:\n",
    "        for i in range(n_classes):\n",
    "            fpr[i], tpr[i], _ = roc_curve(target_binarized[:, i], probabilities[:, i])\n",
    "            roc_auc[i] = auc(fpr[i], tpr[i])\n",
    "            precision_curve[i], recall_curve[i], _ = precision_recall_curve(target_binarized[:, i], probabilities[:, i])\n",
    "            pr_auc[i] = auc(recall_curve[i], precision_curve[i])\n",
    "    \n",
    "    # Plotting the ROC and Precision-Recall curves\n",
    "    fig, ax = subplots(1, 2, figsize=(14, 7))\n",
    "    \n",
    "    # Plot ROC curve\n",
    "    if n_classes == 2:\n",
    "        ax[0].plot(fpr[0], tpr[0], lw=2, label=f'Class {classes[1]} (AUC = {roc_auc[0]:.2f})')\n",
    "    else:\n",
    "        for i in range(n_classes):\n",
    "            ax[0].plot(fpr[i], tpr[i], lw=2, label=f'Class {classes[i]} (AUC = {roc_auc[i]:.2f})')\n",
    "    ax[0].plot([0, 1], [0, 1], 'r--')\n",
    "    ax[0].set_xlim([0.0, 1.0])\n",
    "    ax[0].set_ylim([0.0, 1.0])\n",
    "    ax[0].set_xlabel('False Positive Rate')\n",
    "    ax[0].set_ylabel('True Positive Rate')\n",
    "    ax[0].set_title('ROC Curve')\n",
    "    ax[0].legend(loc='lower right')\n",
    "    \n",
    "    # Plot Precision-Recall curve\n",
    "    if n_classes == 2:\n",
    "        ax[1].plot(recall_curve[0], precision_curve[0], lw=2, label=f'Class {classes[1]} (AUC = {pr_auc[0]:.2f})')\n",
    "    else:\n",
    "        for i in range(n_classes):\n",
    "            ax[1].plot(recall_curve[i], precision_curve[i], lw=2, label=f'Class {classes[i]} (AUC = {pr_auc[i]:.2f})')\n",
    "    ax[1].set_xlim([0.0, 1.0])\n",
    "    ax[1].set_ylim([0.0, 1.0])\n",
    "    ax[1].set_xlabel('Recall')\n",
    "    ax[1].set_ylabel('Precision')\n",
    "    ax[1].set_title('Precision-Recall Curve')\n",
    "    ax[1].legend(loc='lower left')\n",
    "    \n",
    "    tight_layout()\n",
    "    savefig(f\"{image_name}.png\")\n",
    "    close()\n",
    "    # show()"
   ]
  },
  {
   "cell_type": "code",
   "execution_count": null,
   "metadata": {},
   "outputs": [],
   "source": [
    "# Getting numerical metrics of model predictions including raw accuracy, recall, precision, f1, roc_auc, confused_matrix\n",
    "def get_scores(model, features, target, predictions):\n",
    "    accuracy = accuracy_score(target, predictions)\n",
    "    f1 = f1_score(target,predictions,average='weighted')\n",
    "    matrix = confusion_matrix(target,predictions)\n",
    "    recall = recall_score(target,predictions,average='weighted')\n",
    "    precision = precision_score(target,predictions,average='weighted')\n",
    "    probabilities = model.predict_proba(features)\n",
    "    #auc_roc = roc_auc_score(target, probabilities,average='weighted',multi_class='ovr',labels=)\n",
    "    # Binarize the true labels\n",
    "    target_binarized = label_binarize(target, classes=[0,1,2,3])\n",
    "\n",
    "    # Calculate the ROC AUC score using the 'ovr' (one-vs-rest) strategy\n",
    "    roc_auc_ovr = roc_auc_score(target_binarized, probabilities, multi_class='ovr')\n",
    "\n",
    "    # Calculate the ROC AUC score using the 'ovo' (one-vs-one) strategy\n",
    "    roc_auc_ovo = roc_auc_score(target_binarized, probabilities, multi_class='ovo')\n",
    "    return [accuracy,recall,precision,f1,roc_auc_ovr,roc_auc_ovo,matrix]"
   ]
  },
  {
   "cell_type": "code",
   "execution_count": null,
   "metadata": {},
   "outputs": [],
   "source": [
    "def empty_string_to_null(string: str):\n",
    "    if(len(str(string))==0 or len(str(string).replace(' ',''))==0):\n",
    "        return \"None\"\n",
    "    return string"
   ]
  },
  {
   "cell_type": "code",
   "execution_count": null,
   "metadata": {},
   "outputs": [],
   "source": [
    "def object_to_int(original,lookup_table):\n",
    "    for row in lookup_table.index:\n",
    "        for col in lookup_table.columns:\n",
    "            if(original==lookup_table[col][row]):\n",
    "                return int(col)"
   ]
  },
  {
   "cell_type": "code",
   "execution_count": null,
   "metadata": {},
   "outputs": [],
   "source": [
    "def get_knn(df, n, k, metric, feature_names):\n",
    "    \n",
    "    \"\"\"\n",
    "    Returns k nearest neighbors\n",
    "\n",
    "    :param df: pandas DataFrame used to find similar objects within\n",
    "    :param n: object no for which the nearest neighbours are looked for\n",
    "    :param k: the number of the nearest neighbours to return\n",
    "    :param metric: name of distance metric\n",
    "    \"\"\"\n",
    "\n",
    "    nbrs = NearestNeighbors(n_neighbors=k, algorithm='ball_tree', metric=metric).fit(df[feature_names].to_numpy())\n",
    "    nbrs_distances, nbrs_indices = nbrs.kneighbors([df.iloc[n][feature_names]], k, return_distance=True)\n",
    "    \n",
    "    df_res = concat([\n",
    "        df.iloc[nbrs_indices[0]], \n",
    "        DataFrame(nbrs_distances.T, index=nbrs_indices[0], columns=['distance'])\n",
    "        ], axis=1)\n",
    "    \n",
    "    return df_res"
   ]
  },
  {
   "cell_type": "code",
   "execution_count": null,
   "metadata": {},
   "outputs": [],
   "source": [
    "def build_knc(random_state, train, target, test, n_neighbors):\n",
    "    random.seed(random_state)\n",
    "    knc = KNeighborsClassifier(n_neighbors=n_neighbors)\n",
    "    knc.fit(train, target)\n",
    "    y_pred = knc.predict(test)\n",
    "    return knc,y_pred"
   ]
  },
  {
   "cell_type": "code",
   "execution_count": null,
   "metadata": {},
   "outputs": [],
   "source": [
    "def random_int(min_val, max_val):\n",
    "    # Get the current time in microseconds\n",
    "    current_time = int(time() * 1000000)\n",
    "    \n",
    "    # Use the current time as a seed and perform some operations to get more randomness\n",
    "    seed = (current_time ^ (current_time >> randint(1,20))) & 0xFFFFFFFF\n",
    "    seed = (seed ^ (seed << randint(1,20))) & 0xFFFFFFFF\n",
    "    seed = (seed ^ (seed >> randint(1,20))) & 0xFFFFFFFF\n",
    "    \n",
    "    # Scale the seed to the desired range\n",
    "    random_value = min_val + (seed % (max_val - min_val + 1))\n",
    "    \n",
    "    return random_value"
   ]
  },
  {
   "cell_type": "code",
   "execution_count": null,
   "metadata": {},
   "outputs": [],
   "source": [
    "def random_features(columns):\n",
    "    subset = []\n",
    "    columns = list(columns)\n",
    "    while(len(subset)<50):\n",
    "        random_index = random_int(0,len(list(columns))-1)\n",
    "        while(columns[random_index] in subset):\n",
    "            random_index = random_int(0,len(list(columns))-1)\n",
    "        subset.append(columns[random_index])\n",
    "    return subset"
   ]
  },
  {
   "cell_type": "code",
   "execution_count": null,
   "metadata": {},
   "outputs": [],
   "source": [
    "def send_email_to_self(subject: str,body: str):\n",
    "    port = 465  # For SSL\n",
    "    smtp_server = \"smtp.gmail.com\"\n",
    "    sender_email = \"micpowers98@gmail.com\"  # Enter your address\n",
    "    receiver_email = \"micpowers98@gmail.com\"  # Enter receiver address\n",
    "    password = 'efex cwhv gppq ueob'\n",
    "    message = f\"\"\"\\\n",
    "    Subject: {subject}\n",
    "\n",
    "    {body}\"\"\"\n",
    "\n",
    "    context = create_default_context()\n",
    "    with SMTP_SSL(smtp_server, port, context=context) as server:\n",
    "        server.login(sender_email, password)\n",
    "        server.sendmail(sender_email, receiver_email, message)"
   ]
  },
  {
   "cell_type": "markdown",
   "metadata": {},
   "source": [
    "## Data Preprocessing"
   ]
  },
  {
   "cell_type": "markdown",
   "metadata": {},
   "source": [
    "### Open Initial Data"
   ]
  },
  {
   "cell_type": "raw",
   "metadata": {
    "vscode": {
     "languageId": "raw"
    }
   },
   "source": [
    "# Loading subset of data for training ML models\n",
    "cursor_1.execute(\"\"\"\n",
    "    SELECT TOP(20000) *\n",
    "        FROM [MOE].[prod_WeisMarkets_RecoverNow].[dbo].[ATG_DealLI_Exceptions] AS E\n",
    "        JOIN [MOE].[prod_WeisMarkets_RecoverNow].[dbo].[ATG_RCPT_HDR] AS R\n",
    "            ON E.ATG_Hdr_Ref = R.ATG_Ref\n",
    "        WHERE\n",
    "        checked='excp'\n",
    "\n",
    "    UNION ALL\n",
    "\n",
    "    SELECT TOP(3000) *\n",
    "        FROM [MOE].[prod_WeisMarkets_RecoverNow].[dbo].[ATG_DealLI_Exceptions] AS E\n",
    "        JOIN [MOE].[prod_WeisMarkets_RecoverNow].[dbo].[ATG_RCPT_HDR] AS R\n",
    "            ON E.ATG_Hdr_Ref = R.ATG_Ref\n",
    "        WHERE\n",
    "        checked='true'\n",
    "\n",
    "    UNION ALL\n",
    "\n",
    "    SELECT TOP(2) *\n",
    "        FROM [MOE].[prod_WeisMarkets_RecoverNow].[dbo].[ATG_DealLI_Exceptions] AS E\n",
    "        JOIN [MOE].[prod_WeisMarkets_RecoverNow].[dbo].[ATG_RCPT_HDR] AS R\n",
    "            ON E.ATG_Hdr_Ref = R.ATG_Ref\n",
    "        WHERE\n",
    "        checked='false'\n",
    "\n",
    "    UNION ALL\n",
    "\n",
    "    SELECT TOP(50000) *\n",
    "        FROM [MOE].[prod_WeisMarkets_RecoverNow].[dbo].[ATG_DealLI_Exceptions] AS E\n",
    "        JOIN [MOE].[prod_WeisMarkets_RecoverNow].[dbo].[ATG_RCPT_HDR] AS R\n",
    "            ON E.ATG_Hdr_Ref = R.ATG_Ref\n",
    "        WHERE\n",
    "        checked='x'\n",
    "                \"\"\")\n",
    "train_data = cursor_1.fetchall()"
   ]
  },
  {
   "cell_type": "code",
   "execution_count": null,
   "metadata": {},
   "outputs": [],
   "source": [
    "cursor_1.execute(\"\"\"\n",
    "        SELECT *\n",
    "            FROM(\n",
    "                SELECT\n",
    "                    S.DealNbr AS S_DealNbr,\n",
    "                    S.ATG_IR AS S_ATG_IR,\n",
    "                    S.ClaimType_ATG AS S_ClaimType_ATG,\n",
    "                    S.OrdStartDate_ATG AS S_OrdStartDate_ATG,\n",
    "                    S.OrdEndDate_ATG AS S_OrdEndDate_ATG,\n",
    "                    S.InDeal_Due AS S_InDeal_Due,\n",
    "                    S.Shoulder_Due AS S_Shoulder_Due,\n",
    "                    S.LargeBuy_Due AS S_LargeBuy_Due,\n",
    "                    S.TTL_OIDue AS S_TTL_OIDue,\n",
    "                    S.TTL_BBDue AS S_TTL_BBDue,\n",
    "                    S.NoBuy_Due AS S_NoBuy_Due,\n",
    "                    S.Facility AS S_Facility,\n",
    "                    S.DLVendorNbr AS S_DLVendorNbr,\n",
    "                    S.MultiDeal_ATG AS S_MultiDeal_ATG,\n",
    "                    S.DealOrigin_ATG AS S_DealOrigin_ATG,\n",
    "                    S.AddDate AS S_AddDate,\n",
    "                    S.DealStatus_ATG AS S_DealStatus_ATG,\n",
    "                    S.ClaimNumber AS S_ClaimNumber,\n",
    "                    S.ClaimDate AS S_ClaimDate,\n",
    "                    S.ATG_IR_SourceFile AS S_ATG_IR_SourceFile,\n",
    "                    S.ClmBatchNbr_ATG AS S_ClmBatchNbr_ATG,\n",
    "                    S.ItemCount AS S_ItemCount,\n",
    "                    S.PA_Claimed AS S_PA_Claimed,\n",
    "                    S.AR_AdjTyp AS S_AR_AdjTyp,\n",
    "                    S.AR_Amount AS S_AR_Amount,\n",
    "                    S.AltTABLE2_ATG AS S_AltTABLE2_ATG,\n",
    "                    S.DQ_Reason_ATG AS S_DQ_Reason_ATG,\n",
    "                    S.QtyClaimed AS S_QtyClaimed,\n",
    "                    S.QtyExample AS S_QtyExample,\n",
    "                    S.LeadQTY AS S_LeadQTY,\n",
    "                    S.InDealQTY AS S_InDealQTY,\n",
    "                    S.PostQTY AS S_PostQTY,\n",
    "                    S.SellUnitQty AS S_SellUnitQty,\n",
    "                    S.UnitQtyOverSold_ATG AS S_UnitQtyOverSold_ATG,\n",
    "                    S.DaysBefore_ATG AS S_DaysBefore_ATG,\n",
    "                    S.DaysAfter_ATG AS S_DaysAfter_ATG,\n",
    "                    S.MultiVendor_ATG AS S_MultiVendor_ATG,\n",
    "                    S.DealVendorName AS S_DealVendorName,\n",
    "                    S.AP_VndNbr AS S_AP_VndNbr,\n",
    "                    S.PurVndrNbr AS S_PurVndrNbr,\n",
    "                    S.PurVndrNbr AS S_PurVndrNbr_2,\n",
    "                    S.PurVndrName AS S_PurVndrName,\n",
    "                    S.PurVndrName AS S_PurVndrName_2,\n",
    "                    S.PurVndCount_ATG AS S_PurVndCount_ATG,\n",
    "                    S.DateStartArrival_ATG AS S_DateStartArrival_ATG,\n",
    "                    S.DateEndArrival_ATG AS S_DateEndArrival_ATG,\n",
    "                    S.PromoStartDate_ATG AS S_PromoStartDate_ATG,\n",
    "                    S.PromoEndDate_ATG AS S_PromoEndDate_ATG,\n",
    "                    S.OCCURS AS S_OCCURS,\n",
    "                    S.CATEGORY_ATG AS S_CATEGORY_ATG,\n",
    "                    S.ATG_ID AS S_ATG_ID,\n",
    "                    S.checked AS S_checked,\n",
    "                    S.BatchNbr AS S_BatchNbr,\n",
    "                    S.ATG_Ref AS S_ATG_Ref,\n",
    "                    S.ClaimActivityID_ATGSYS AS S_ClaimActivityID_ATGSYS,\n",
    "                    S.ClaimActivityCount_ATGSYS AS S_ClaimActivityCount_ATGSYS,\n",
    "                    E.BatchNbr AS E_BatchNbr,\n",
    "                    E.PODate AS E_PODate,\n",
    "                    E.ReceivingDate AS E_ReceivingDate,\n",
    "                    E.InvoicedDate AS E_InvoicedDate,\n",
    "                    E.OIDue_ATG AS E_OIDue_ATG,\n",
    "                    E.BBDue_ATG AS E_BBDue_ATG,\n",
    "                    E.ClaimType AS E_ClaimType,\n",
    "                    E.Shoulder_ATG AS E_Shoulder_ATG,\n",
    "                    E.DtMatch_ATG AS E_DtMatch_ATG,\n",
    "                    E.ItemNbr AS E_ItemNbr,\n",
    "                    E.ItemDescription AS E_ItemDescription,\n",
    "                    E.ItemShipPack AS E_ItemShipPack,\n",
    "                    E.PoNbr AS E_PoNbr,\n",
    "                    E.DealNbr AS E_DealNbr,\n",
    "                    E.ATG_IR AS E_ATG_IR,\n",
    "                    E.OrdStartDate_ATG AS E_OrdStartDate_ATG,\n",
    "                    E.OrdEndDate_ATG AS E_OrdEndDate_ATG,\n",
    "                    E.DateStartArrival_ATG AS E_DateStartArrival_ATG,\n",
    "                    E.DateEndArrival_ATG AS E_DateEndArrival_ATG,\n",
    "                    E.AddDate AS E_AddDate,\n",
    "                    E.DLAmtOI AS E_DLAmtOI,\n",
    "                    E.DLAmtBB AS E_DLAmtBB,\n",
    "                    E.TurnRatio_ATG AS E_TurnRatio_ATG,\n",
    "                    E.OrdQty AS E_OrdQty,\n",
    "                    E.PdQty_ATG AS E_PdQty_ATG,\n",
    "                    E.PdNetSB_ATG AS E_PdNetSB_ATG,\n",
    "                    E.PdNet_ATG AS E_PdNet_ATG,\n",
    "                    E.PdOI_ATG AS E_PdOI_ATG,\n",
    "                    E.PdBB_ATG AS E_PdBB_ATG,\n",
    "                    E.PdGross_ATG AS E_PdGross_ATG,\n",
    "                    E.ListcostAtStart AS E_ListcostAtStart,\n",
    "                    E.ListCostSB_ATG AS E_ListCostSB_ATG,\n",
    "                    E.BestOI_ATG AS E_BestOI_ATG,\n",
    "                    E.BestBB_ATG AS E_BestBB_ATG,\n",
    "                    E.DQ_Reason_ATG AS E_DQ_Reason_ATG,\n",
    "                    E.ClaimedAmt AS E_ClaimedAmt,\n",
    "                    E.AR_AdjTyp AS E_AR_AdjTyp,\n",
    "                    E.AR_Amount AS E_AR_Amount,\n",
    "                    E.AR_InvNbr AS E_AR_InvNbr,\n",
    "                    E.AR_InvNbr AS E_AR_InvNbr2,\n",
    "                    E.UPCNbr AS E_UPCNbr,\n",
    "                    E.UPCUnit AS E_UPCUnit,\n",
    "                    E.TurnQty_ATG AS E_TurnQty_ATG,\n",
    "                    E.TruckSize_ATG AS E_TruckSize_ATG,\n",
    "                    E.PdUpDn_ATG AS E_PdUpDn_ATG,\n",
    "                    E.BalFlag_ATG AS E_BalFlag_ATG,\n",
    "                    E.OOB_ATG AS E_OOB_ATG,\n",
    "                    E.MiscAdj_ATG AS E_MiscAdj_ATG,\n",
    "                    E.DLVendorNbr AS E_DLVendorNbr,\n",
    "                    E.DealVendorName AS E_DealVendorName,\n",
    "                    E.PurVndrNbr AS E_PurVndrNbr,\n",
    "                    E.PurVndrName AS E_PurVndrName,\n",
    "                    E.Facility AS E_Facility,\n",
    "                    E.ReceiptNbr AS E_ReceiptNbr,\n",
    "                    E.ReceiptSfx AS E_ReceiptSfx,\n",
    "                    E.VndrInvNbr AS E_VndrInvNbr,\n",
    "                    E.TotWght AS E_TotWght,\n",
    "                    E.AP_VndNbr AS E_AP_VndNbr,\n",
    "                    E.APVndrName AS E_APVndrName,\n",
    "                    E.BuyrNbr AS E_BuyrNbr,\n",
    "                    E.BuyrName AS E_BuyrName,\n",
    "                    E.Contact AS E_Contact,\n",
    "                    E.AP_CheckNbr AS E_AP_CheckNbr,\n",
    "                    E.AP_CheckDate AS E_AP_CheckDate,\n",
    "                    E.AP_GrossAmt AS E_AP_GrossAmt,\n",
    "                    E.AP_DiscAmt AS E_AP_DiscAmt,\n",
    "                    E.VendorCmmnt AS E_VendorCmmnt,\n",
    "                    E.TTLVendorCmmnt_ATG AS E_TTLVendorCmmnt_ATG,\n",
    "                    E.PORemarks AS E_PORemarks,\n",
    "                    E.MultiDeal_ATG AS E_MultiDeal_ATG,\n",
    "                    E.DealOrigin_ATG AS E_DealOrigin_ATG,\n",
    "                    E.AbsDays_ATG AS E_AbsDays_ATG,\n",
    "                    E.ATG_Ref AS E_ATG_Ref,\n",
    "                    E.ATG_DL_Ref AS E_ATG_DL_Ref,\n",
    "                    E.ATG_LI_Ref AS E_ATG_LI_Ref,\n",
    "                    E.ATG_HDR_Ref AS E_ATG_HDR_Ref,\n",
    "                    E.DedBBInd AS E_DedBBInd,\n",
    "                    E.checked AS E_checked,\n",
    "                    E.CATEGORY_ATG AS E_CATEGORY_ATG,\n",
    "                    E.TrnCde_ATG AS E_TrnCde_ATG,\n",
    "                    E.Dept AS E_Dept,\n",
    "                    E.DLPctOI AS E_DLPctOI,\n",
    "                    E.DLPctBB AS E_DLPctBB,\n",
    "                    E.DLIncvPctOI AS E_DLIncvPctOI,\n",
    "                    E.DLIncvPctBB AS E_DLIncvPctBB,\n",
    "                    E.ClaimActivityID_ATGSYS AS E_ClaimActivityID_ATGSYS,\n",
    "                    E.ClaimActivityCount_ATGSYS AS E_ClaimActivityCount_ATGSYS,\n",
    "                    E.ClaimActivityTypeID_ATGSYS AS E_ClaimActivityTypeID_ATGSYS\n",
    "                FROM\n",
    "                    MOE.prod_WeisMarkets_RecoverNow.dbo.ATG_Deal_Summary AS S\n",
    "                    JOIN MOE.prod_WeisMarkets_RecoverNow.dbo.ATG_DealLI_Exceptions AS E\n",
    "                        ON E.ClaimType = S.ClaimType_ATG\n",
    "                        AND E.DealNbr = S.DealNbr\n",
    "                        AND E.DLVendorNbr = S.DLVendorNbr\n",
    "                        AND E.BatchNbr = S.BatchNbr\n",
    "                --WHERE\n",
    "                --S.BatchNbr=50\n",
    "                ) t\n",
    "            WHERE\n",
    "            E_checked='true'\n",
    "            AND\n",
    "            S_checked='claim'\n",
    "\n",
    "        UNION\n",
    "\n",
    "        SELECT *\n",
    "            FROM(\n",
    "                SELECT\n",
    "                    S.DealNbr AS S_DealNbr,\n",
    "                    S.ATG_IR AS S_ATG_IR,\n",
    "                    S.ClaimType_ATG AS S_ClaimType_ATG,\n",
    "                    S.OrdStartDate_ATG AS S_OrdStartDate_ATG,\n",
    "                    S.OrdEndDate_ATG AS S_OrdEndDate_ATG,\n",
    "                    S.InDeal_Due AS S_InDeal_Due,\n",
    "                    S.Shoulder_Due AS S_Shoulder_Due,\n",
    "                    S.LargeBuy_Due AS S_LargeBuy_Due,\n",
    "                    S.TTL_OIDue AS S_TTL_OIDue,\n",
    "                    S.TTL_BBDue AS S_TTL_BBDue,\n",
    "                    S.NoBuy_Due AS S_NoBuy_Due,\n",
    "                    S.Facility AS S_Facility,\n",
    "                    S.DLVendorNbr AS S_DLVendorNbr,\n",
    "                    S.MultiDeal_ATG AS S_MultiDeal_ATG,\n",
    "                    S.DealOrigin_ATG AS S_DealOrigin_ATG,\n",
    "                    S.AddDate AS S_AddDate,\n",
    "                    S.DealStatus_ATG AS S_DealStatus_ATG,\n",
    "                    S.ClaimNumber AS S_ClaimNumber,\n",
    "                    S.ClaimDate AS S_ClaimDate,\n",
    "                    S.ATG_IR_SourceFile AS S_ATG_IR_SourceFile,\n",
    "                    S.ClmBatchNbr_ATG AS S_ClmBatchNbr_ATG,\n",
    "                    S.ItemCount AS S_ItemCount,\n",
    "                    S.PA_Claimed AS S_PA_Claimed,\n",
    "                    S.AR_AdjTyp AS S_AR_AdjTyp,\n",
    "                    S.AR_Amount AS S_AR_Amount,\n",
    "                    S.AltTABLE2_ATG AS S_AltTABLE2_ATG,\n",
    "                    S.DQ_Reason_ATG AS S_DQ_Reason_ATG,\n",
    "                    S.QtyClaimed AS S_QtyClaimed,\n",
    "                    S.QtyExample AS S_QtyExample,\n",
    "                    S.LeadQTY AS S_LeadQTY,\n",
    "                    S.InDealQTY AS S_InDealQTY,\n",
    "                    S.PostQTY AS S_PostQTY,\n",
    "                    S.SellUnitQty AS S_SellUnitQty,\n",
    "                    S.UnitQtyOverSold_ATG AS S_UnitQtyOverSold_ATG,\n",
    "                    S.DaysBefore_ATG AS S_DaysBefore_ATG,\n",
    "                    S.DaysAfter_ATG AS S_DaysAfter_ATG,\n",
    "                    S.MultiVendor_ATG AS S_MultiVendor_ATG,\n",
    "                    S.DealVendorName AS S_DealVendorName,\n",
    "                    S.AP_VndNbr AS S_AP_VndNbr,\n",
    "                    S.PurVndrNbr AS S_PurVndrNbr,\n",
    "                    S.PurVndrNbr AS S_PurVndrNbr_2,\n",
    "                    S.PurVndrName AS S_PurVndrName,\n",
    "                    S.PurVndrName AS S_PurVndrName_2,\n",
    "                    S.PurVndCount_ATG AS S_PurVndCount_ATG,\n",
    "                    S.DateStartArrival_ATG AS S_DateStartArrival_ATG,\n",
    "                    S.DateEndArrival_ATG AS S_DateEndArrival_ATG,\n",
    "                    S.PromoStartDate_ATG AS S_PromoStartDate_ATG,\n",
    "                    S.PromoEndDate_ATG AS S_PromoEndDate_ATG,\n",
    "                    S.OCCURS AS S_OCCURS,\n",
    "                    S.CATEGORY_ATG AS S_CATEGORY_ATG,\n",
    "                    S.ATG_ID AS S_ATG_ID,\n",
    "                    S.checked AS S_checked,\n",
    "                    S.BatchNbr AS S_BatchNbr,\n",
    "                    S.ATG_Ref AS S_ATG_Ref,\n",
    "                    S.ClaimActivityID_ATGSYS AS S_ClaimActivityID_ATGSYS,\n",
    "                    S.ClaimActivityCount_ATGSYS AS S_ClaimActivityCount_ATGSYS,\n",
    "                    E.BatchNbr AS E_BatchNbr,\n",
    "                    E.PODate AS E_PODate,\n",
    "                    E.ReceivingDate AS E_ReceivingDate,\n",
    "                    E.InvoicedDate AS E_InvoicedDate,\n",
    "                    E.OIDue_ATG AS E_OIDue_ATG,\n",
    "                    E.BBDue_ATG AS E_BBDue_ATG,\n",
    "                    E.ClaimType AS E_ClaimType,\n",
    "                    E.Shoulder_ATG AS E_Shoulder_ATG,\n",
    "                    E.DtMatch_ATG AS E_DtMatch_ATG,\n",
    "                    E.ItemNbr AS E_ItemNbr,\n",
    "                    E.ItemDescription AS E_ItemDescription,\n",
    "                    E.ItemShipPack AS E_ItemShipPack,\n",
    "                    E.PoNbr AS E_PoNbr,\n",
    "                    E.DealNbr AS E_DealNbr,\n",
    "                    E.ATG_IR AS E_ATG_IR,\n",
    "                    E.OrdStartDate_ATG AS E_OrdStartDate_ATG,\n",
    "                    E.OrdEndDate_ATG AS E_OrdEndDate_ATG,\n",
    "                    E.DateStartArrival_ATG AS E_DateStartArrival_ATG,\n",
    "                    E.DateEndArrival_ATG AS E_DateEndArrival_ATG,\n",
    "                    E.AddDate AS E_AddDate,\n",
    "                    E.DLAmtOI AS E_DLAmtOI,\n",
    "                    E.DLAmtBB AS E_DLAmtBB,\n",
    "                    E.TurnRatio_ATG AS E_TurnRatio_ATG,\n",
    "                    E.OrdQty AS E_OrdQty,\n",
    "                    E.PdQty_ATG AS E_PdQty_ATG,\n",
    "                    E.PdNetSB_ATG AS E_PdNetSB_ATG,\n",
    "                    E.PdNet_ATG AS E_PdNet_ATG,\n",
    "                    E.PdOI_ATG AS E_PdOI_ATG,\n",
    "                    E.PdBB_ATG AS E_PdBB_ATG,\n",
    "                    E.PdGross_ATG AS E_PdGross_ATG,\n",
    "                    E.ListcostAtStart AS E_ListcostAtStart,\n",
    "                    E.ListCostSB_ATG AS E_ListCostSB_ATG,\n",
    "                    E.BestOI_ATG AS E_BestOI_ATG,\n",
    "                    E.BestBB_ATG AS E_BestBB_ATG,\n",
    "                    E.DQ_Reason_ATG AS E_DQ_Reason_ATG,\n",
    "                    E.ClaimedAmt AS E_ClaimedAmt,\n",
    "                    E.AR_AdjTyp AS E_AR_AdjTyp,\n",
    "                    E.AR_Amount AS E_AR_Amount,\n",
    "                    E.AR_InvNbr AS E_AR_InvNbr,\n",
    "                    E.AR_InvNbr AS E_AR_InvNbr2,\n",
    "                    E.UPCNbr AS E_UPCNbr,\n",
    "                    E.UPCUnit AS E_UPCUnit,\n",
    "                    E.TurnQty_ATG AS E_TurnQty_ATG,\n",
    "                    E.TruckSize_ATG AS E_TruckSize_ATG,\n",
    "                    E.PdUpDn_ATG AS E_PdUpDn_ATG,\n",
    "                    E.BalFlag_ATG AS E_BalFlag_ATG,\n",
    "                    E.OOB_ATG AS E_OOB_ATG,\n",
    "                    E.MiscAdj_ATG AS E_MiscAdj_ATG,\n",
    "                    E.DLVendorNbr AS E_DLVendorNbr,\n",
    "                    E.DealVendorName AS E_DealVendorName,\n",
    "                    E.PurVndrNbr AS E_PurVndrNbr,\n",
    "                    E.PurVndrName AS E_PurVndrName,\n",
    "                    E.Facility AS E_Facility,\n",
    "                    E.ReceiptNbr AS E_ReceiptNbr,\n",
    "                    E.ReceiptSfx AS E_ReceiptSfx,\n",
    "                    E.VndrInvNbr AS E_VndrInvNbr,\n",
    "                    E.TotWght AS E_TotWght,\n",
    "                    E.AP_VndNbr AS E_AP_VndNbr,\n",
    "                    E.APVndrName AS E_APVndrName,\n",
    "                    E.BuyrNbr AS E_BuyrNbr,\n",
    "                    E.BuyrName AS E_BuyrName,\n",
    "                    E.Contact AS E_Contact,\n",
    "                    E.AP_CheckNbr AS E_AP_CheckNbr,\n",
    "                    E.AP_CheckDate AS E_AP_CheckDate,\n",
    "                    E.AP_GrossAmt AS E_AP_GrossAmt,\n",
    "                    E.AP_DiscAmt AS E_AP_DiscAmt,\n",
    "                    E.VendorCmmnt AS E_VendorCmmnt,\n",
    "                    E.TTLVendorCmmnt_ATG AS E_TTLVendorCmmnt_ATG,\n",
    "                    E.PORemarks AS E_PORemarks,\n",
    "                    E.MultiDeal_ATG AS E_MultiDeal_ATG,\n",
    "                    E.DealOrigin_ATG AS E_DealOrigin_ATG,\n",
    "                    E.AbsDays_ATG AS E_AbsDays_ATG,\n",
    "                    E.ATG_Ref AS E_ATG_Ref,\n",
    "                    E.ATG_DL_Ref AS E_ATG_DL_Ref,\n",
    "                    E.ATG_LI_Ref AS E_ATG_LI_Ref,\n",
    "                    E.ATG_HDR_Ref AS E_ATG_HDR_Ref,\n",
    "                    E.DedBBInd AS E_DedBBInd,\n",
    "                    E.checked AS E_checked,\n",
    "                    E.CATEGORY_ATG AS E_CATEGORY_ATG,\n",
    "                    E.TrnCde_ATG AS E_TrnCde_ATG,\n",
    "                    E.Dept AS E_Dept,\n",
    "                    E.DLPctOI AS E_DLPctOI,\n",
    "                    E.DLPctBB AS E_DLPctBB,\n",
    "                    E.DLIncvPctOI AS E_DLIncvPctOI,\n",
    "                    E.DLIncvPctBB AS E_DLIncvPctBB,\n",
    "                    E.ClaimActivityID_ATGSYS AS E_ClaimActivityID_ATGSYS,\n",
    "                    E.ClaimActivityCount_ATGSYS AS E_ClaimActivityCount_ATGSYS,\n",
    "                    E.ClaimActivityTypeID_ATGSYS AS E_ClaimActivityTypeID_ATGSYS\n",
    "                FROM\n",
    "                    MOE.prod_WeisMarkets_RecoverNow.dbo.ATG_Deal_Summary AS S\n",
    "                    JOIN MOE.prod_WeisMarkets_RecoverNow.dbo.ATG_DealLI_Exceptions AS E\n",
    "                        ON E.ClaimType = S.ClaimType_ATG\n",
    "                        AND E.DealNbr = S.DealNbr\n",
    "                        AND E.DLVendorNbr = S.DLVendorNbr\n",
    "                        AND E.BatchNbr = S.BatchNbr\n",
    "                --WHERE\n",
    "                --S.BatchNbr=50\n",
    "                ) t\n",
    "            WHERE\n",
    "            E_checked='x'\n",
    "            AND\n",
    "            S_checked='claim'\n",
    "\n",
    "        UNION\n",
    "\n",
    "        SELECT *\n",
    "            FROM(\n",
    "                SELECT\n",
    "                    S.DealNbr AS S_DealNbr,\n",
    "                    S.ATG_IR AS S_ATG_IR,\n",
    "                    S.ClaimType_ATG AS S_ClaimType_ATG,\n",
    "                    S.OrdStartDate_ATG AS S_OrdStartDate_ATG,\n",
    "                    S.OrdEndDate_ATG AS S_OrdEndDate_ATG,\n",
    "                    S.InDeal_Due AS S_InDeal_Due,\n",
    "                    S.Shoulder_Due AS S_Shoulder_Due,\n",
    "                    S.LargeBuy_Due AS S_LargeBuy_Due,\n",
    "                    S.TTL_OIDue AS S_TTL_OIDue,\n",
    "                    S.TTL_BBDue AS S_TTL_BBDue,\n",
    "                    S.NoBuy_Due AS S_NoBuy_Due,\n",
    "                    S.Facility AS S_Facility,\n",
    "                    S.DLVendorNbr AS S_DLVendorNbr,\n",
    "                    S.MultiDeal_ATG AS S_MultiDeal_ATG,\n",
    "                    S.DealOrigin_ATG AS S_DealOrigin_ATG,\n",
    "                    S.AddDate AS S_AddDate,\n",
    "                    S.DealStatus_ATG AS S_DealStatus_ATG,\n",
    "                    S.ClaimNumber AS S_ClaimNumber,\n",
    "                    S.ClaimDate AS S_ClaimDate,\n",
    "                    S.ATG_IR_SourceFile AS S_ATG_IR_SourceFile,\n",
    "                    S.ClmBatchNbr_ATG AS S_ClmBatchNbr_ATG,\n",
    "                    S.ItemCount AS S_ItemCount,\n",
    "                    S.PA_Claimed AS S_PA_Claimed,\n",
    "                    S.AR_AdjTyp AS S_AR_AdjTyp,\n",
    "                    S.AR_Amount AS S_AR_Amount,\n",
    "                    S.AltTABLE2_ATG AS S_AltTABLE2_ATG,\n",
    "                    S.DQ_Reason_ATG AS S_DQ_Reason_ATG,\n",
    "                    S.QtyClaimed AS S_QtyClaimed,\n",
    "                    S.QtyExample AS S_QtyExample,\n",
    "                    S.LeadQTY AS S_LeadQTY,\n",
    "                    S.InDealQTY AS S_InDealQTY,\n",
    "                    S.PostQTY AS S_PostQTY,\n",
    "                    S.SellUnitQty AS S_SellUnitQty,\n",
    "                    S.UnitQtyOverSold_ATG AS S_UnitQtyOverSold_ATG,\n",
    "                    S.DaysBefore_ATG AS S_DaysBefore_ATG,\n",
    "                    S.DaysAfter_ATG AS S_DaysAfter_ATG,\n",
    "                    S.MultiVendor_ATG AS S_MultiVendor_ATG,\n",
    "                    S.DealVendorName AS S_DealVendorName,\n",
    "                    S.AP_VndNbr AS S_AP_VndNbr,\n",
    "                    S.PurVndrNbr AS S_PurVndrNbr,\n",
    "                    S.PurVndrNbr AS S_PurVndrNbr_2,\n",
    "                    S.PurVndrName AS S_PurVndrName,\n",
    "                    S.PurVndrName AS S_PurVndrName_2,\n",
    "                    S.PurVndCount_ATG AS S_PurVndCount_ATG,\n",
    "                    S.DateStartArrival_ATG AS S_DateStartArrival_ATG,\n",
    "                    S.DateEndArrival_ATG AS S_DateEndArrival_ATG,\n",
    "                    S.PromoStartDate_ATG AS S_PromoStartDate_ATG,\n",
    "                    S.PromoEndDate_ATG AS S_PromoEndDate_ATG,\n",
    "                    S.OCCURS AS S_OCCURS,\n",
    "                    S.CATEGORY_ATG AS S_CATEGORY_ATG,\n",
    "                    S.ATG_ID AS S_ATG_ID,\n",
    "                    S.checked AS S_checked,\n",
    "                    S.BatchNbr AS S_BatchNbr,\n",
    "                    S.ATG_Ref AS S_ATG_Ref,\n",
    "                    S.ClaimActivityID_ATGSYS AS S_ClaimActivityID_ATGSYS,\n",
    "                    S.ClaimActivityCount_ATGSYS AS S_ClaimActivityCount_ATGSYS,\n",
    "                    E.BatchNbr AS E_BatchNbr,\n",
    "                    E.PODate AS E_PODate,\n",
    "                    E.ReceivingDate AS E_ReceivingDate,\n",
    "                    E.InvoicedDate AS E_InvoicedDate,\n",
    "                    E.OIDue_ATG AS E_OIDue_ATG,\n",
    "                    E.BBDue_ATG AS E_BBDue_ATG,\n",
    "                    E.ClaimType AS E_ClaimType,\n",
    "                    E.Shoulder_ATG AS E_Shoulder_ATG,\n",
    "                    E.DtMatch_ATG AS E_DtMatch_ATG,\n",
    "                    E.ItemNbr AS E_ItemNbr,\n",
    "                    E.ItemDescription AS E_ItemDescription,\n",
    "                    E.ItemShipPack AS E_ItemShipPack,\n",
    "                    E.PoNbr AS E_PoNbr,\n",
    "                    E.DealNbr AS E_DealNbr,\n",
    "                    E.ATG_IR AS E_ATG_IR,\n",
    "                    E.OrdStartDate_ATG AS E_OrdStartDate_ATG,\n",
    "                    E.OrdEndDate_ATG AS E_OrdEndDate_ATG,\n",
    "                    E.DateStartArrival_ATG AS E_DateStartArrival_ATG,\n",
    "                    E.DateEndArrival_ATG AS E_DateEndArrival_ATG,\n",
    "                    E.AddDate AS E_AddDate,\n",
    "                    E.DLAmtOI AS E_DLAmtOI,\n",
    "                    E.DLAmtBB AS E_DLAmtBB,\n",
    "                    E.TurnRatio_ATG AS E_TurnRatio_ATG,\n",
    "                    E.OrdQty AS E_OrdQty,\n",
    "                    E.PdQty_ATG AS E_PdQty_ATG,\n",
    "                    E.PdNetSB_ATG AS E_PdNetSB_ATG,\n",
    "                    E.PdNet_ATG AS E_PdNet_ATG,\n",
    "                    E.PdOI_ATG AS E_PdOI_ATG,\n",
    "                    E.PdBB_ATG AS E_PdBB_ATG,\n",
    "                    E.PdGross_ATG AS E_PdGross_ATG,\n",
    "                    E.ListcostAtStart AS E_ListcostAtStart,\n",
    "                    E.ListCostSB_ATG AS E_ListCostSB_ATG,\n",
    "                    E.BestOI_ATG AS E_BestOI_ATG,\n",
    "                    E.BestBB_ATG AS E_BestBB_ATG,\n",
    "                    E.DQ_Reason_ATG AS E_DQ_Reason_ATG,\n",
    "                    E.ClaimedAmt AS E_ClaimedAmt,\n",
    "                    E.AR_AdjTyp AS E_AR_AdjTyp,\n",
    "                    E.AR_Amount AS E_AR_Amount,\n",
    "                    E.AR_InvNbr AS E_AR_InvNbr,\n",
    "                    E.AR_InvNbr AS E_AR_InvNbr2,\n",
    "                    E.UPCNbr AS E_UPCNbr,\n",
    "                    E.UPCUnit AS E_UPCUnit,\n",
    "                    E.TurnQty_ATG AS E_TurnQty_ATG,\n",
    "                    E.TruckSize_ATG AS E_TruckSize_ATG,\n",
    "                    E.PdUpDn_ATG AS E_PdUpDn_ATG,\n",
    "                    E.BalFlag_ATG AS E_BalFlag_ATG,\n",
    "                    E.OOB_ATG AS E_OOB_ATG,\n",
    "                    E.MiscAdj_ATG AS E_MiscAdj_ATG,\n",
    "                    E.DLVendorNbr AS E_DLVendorNbr,\n",
    "                    E.DealVendorName AS E_DealVendorName,\n",
    "                    E.PurVndrNbr AS E_PurVndrNbr,\n",
    "                    E.PurVndrName AS E_PurVndrName,\n",
    "                    E.Facility AS E_Facility,\n",
    "                    E.ReceiptNbr AS E_ReceiptNbr,\n",
    "                    E.ReceiptSfx AS E_ReceiptSfx,\n",
    "                    E.VndrInvNbr AS E_VndrInvNbr,\n",
    "                    E.TotWght AS E_TotWght,\n",
    "                    E.AP_VndNbr AS E_AP_VndNbr,\n",
    "                    E.APVndrName AS E_APVndrName,\n",
    "                    E.BuyrNbr AS E_BuyrNbr,\n",
    "                    E.BuyrName AS E_BuyrName,\n",
    "                    E.Contact AS E_Contact,\n",
    "                    E.AP_CheckNbr AS E_AP_CheckNbr,\n",
    "                    E.AP_CheckDate AS E_AP_CheckDate,\n",
    "                    E.AP_GrossAmt AS E_AP_GrossAmt,\n",
    "                    E.AP_DiscAmt AS E_AP_DiscAmt,\n",
    "                    E.VendorCmmnt AS E_VendorCmmnt,\n",
    "                    E.TTLVendorCmmnt_ATG AS E_TTLVendorCmmnt_ATG,\n",
    "                    E.PORemarks AS E_PORemarks,\n",
    "                    E.MultiDeal_ATG AS E_MultiDeal_ATG,\n",
    "                    E.DealOrigin_ATG AS E_DealOrigin_ATG,\n",
    "                    E.AbsDays_ATG AS E_AbsDays_ATG,\n",
    "                    E.ATG_Ref AS E_ATG_Ref,\n",
    "                    E.ATG_DL_Ref AS E_ATG_DL_Ref,\n",
    "                    E.ATG_LI_Ref AS E_ATG_LI_Ref,\n",
    "                    E.ATG_HDR_Ref AS E_ATG_HDR_Ref,\n",
    "                    E.DedBBInd AS E_DedBBInd,\n",
    "                    E.checked AS E_checked,\n",
    "                    E.CATEGORY_ATG AS E_CATEGORY_ATG,\n",
    "                    E.TrnCde_ATG AS E_TrnCde_ATG,\n",
    "                    E.Dept AS E_Dept,\n",
    "                    E.DLPctOI AS E_DLPctOI,\n",
    "                    E.DLPctBB AS E_DLPctBB,\n",
    "                    E.DLIncvPctOI AS E_DLIncvPctOI,\n",
    "                    E.DLIncvPctBB AS E_DLIncvPctBB,\n",
    "                    E.ClaimActivityID_ATGSYS AS E_ClaimActivityID_ATGSYS,\n",
    "                    E.ClaimActivityCount_ATGSYS AS E_ClaimActivityCount_ATGSYS,\n",
    "                    E.ClaimActivityTypeID_ATGSYS AS E_ClaimActivityTypeID_ATGSYS\n",
    "                FROM\n",
    "                    MOE.prod_WeisMarkets_RecoverNow.dbo.ATG_Deal_Summary AS S\n",
    "                    JOIN MOE.prod_WeisMarkets_RecoverNow.dbo.ATG_DealLI_Exceptions AS E\n",
    "                        ON E.ClaimType = S.ClaimType_ATG\n",
    "                        AND E.DealNbr = S.DealNbr\n",
    "                        AND E.DLVendorNbr = S.DLVendorNbr\n",
    "                        AND E.BatchNbr = S.BatchNbr\n",
    "                --WHERE\n",
    "                --S.BatchNbr=50\n",
    "                ) t\n",
    "            WHERE\n",
    "            E_checked='true'\n",
    "            AND\n",
    "            S_checked='x'\n",
    "\n",
    "        UNION\n",
    "\n",
    "        SELECT TOP(30000)*\n",
    "            FROM(\n",
    "                SELECT\n",
    "                    S.DealNbr AS S_DealNbr,\n",
    "                    S.ATG_IR AS S_ATG_IR,\n",
    "                    S.ClaimType_ATG AS S_ClaimType_ATG,\n",
    "                    S.OrdStartDate_ATG AS S_OrdStartDate_ATG,\n",
    "                    S.OrdEndDate_ATG AS S_OrdEndDate_ATG,\n",
    "                    S.InDeal_Due AS S_InDeal_Due,\n",
    "                    S.Shoulder_Due AS S_Shoulder_Due,\n",
    "                    S.LargeBuy_Due AS S_LargeBuy_Due,\n",
    "                    S.TTL_OIDue AS S_TTL_OIDue,\n",
    "                    S.TTL_BBDue AS S_TTL_BBDue,\n",
    "                    S.NoBuy_Due AS S_NoBuy_Due,\n",
    "                    S.Facility AS S_Facility,\n",
    "                    S.DLVendorNbr AS S_DLVendorNbr,\n",
    "                    S.MultiDeal_ATG AS S_MultiDeal_ATG,\n",
    "                    S.DealOrigin_ATG AS S_DealOrigin_ATG,\n",
    "                    S.AddDate AS S_AddDate,\n",
    "                    S.DealStatus_ATG AS S_DealStatus_ATG,\n",
    "                    S.ClaimNumber AS S_ClaimNumber,\n",
    "                    S.ClaimDate AS S_ClaimDate,\n",
    "                    S.ATG_IR_SourceFile AS S_ATG_IR_SourceFile,\n",
    "                    S.ClmBatchNbr_ATG AS S_ClmBatchNbr_ATG,\n",
    "                    S.ItemCount AS S_ItemCount,\n",
    "                    S.PA_Claimed AS S_PA_Claimed,\n",
    "                    S.AR_AdjTyp AS S_AR_AdjTyp,\n",
    "                    S.AR_Amount AS S_AR_Amount,\n",
    "                    S.AltTABLE2_ATG AS S_AltTABLE2_ATG,\n",
    "                    S.DQ_Reason_ATG AS S_DQ_Reason_ATG,\n",
    "                    S.QtyClaimed AS S_QtyClaimed,\n",
    "                    S.QtyExample AS S_QtyExample,\n",
    "                    S.LeadQTY AS S_LeadQTY,\n",
    "                    S.InDealQTY AS S_InDealQTY,\n",
    "                    S.PostQTY AS S_PostQTY,\n",
    "                    S.SellUnitQty AS S_SellUnitQty,\n",
    "                    S.UnitQtyOverSold_ATG AS S_UnitQtyOverSold_ATG,\n",
    "                    S.DaysBefore_ATG AS S_DaysBefore_ATG,\n",
    "                    S.DaysAfter_ATG AS S_DaysAfter_ATG,\n",
    "                    S.MultiVendor_ATG AS S_MultiVendor_ATG,\n",
    "                    S.DealVendorName AS S_DealVendorName,\n",
    "                    S.AP_VndNbr AS S_AP_VndNbr,\n",
    "                    S.PurVndrNbr AS S_PurVndrNbr,\n",
    "                    S.PurVndrNbr AS S_PurVndrNbr_2,\n",
    "                    S.PurVndrName AS S_PurVndrName,\n",
    "                    S.PurVndrName AS S_PurVndrName_2,\n",
    "                    S.PurVndCount_ATG AS S_PurVndCount_ATG,\n",
    "                    S.DateStartArrival_ATG AS S_DateStartArrival_ATG,\n",
    "                    S.DateEndArrival_ATG AS S_DateEndArrival_ATG,\n",
    "                    S.PromoStartDate_ATG AS S_PromoStartDate_ATG,\n",
    "                    S.PromoEndDate_ATG AS S_PromoEndDate_ATG,\n",
    "                    S.OCCURS AS S_OCCURS,\n",
    "                    S.CATEGORY_ATG AS S_CATEGORY_ATG,\n",
    "                    S.ATG_ID AS S_ATG_ID,\n",
    "                    S.checked AS S_checked,\n",
    "                    S.BatchNbr AS S_BatchNbr,\n",
    "                    S.ATG_Ref AS S_ATG_Ref,\n",
    "                    S.ClaimActivityID_ATGSYS AS S_ClaimActivityID_ATGSYS,\n",
    "                    S.ClaimActivityCount_ATGSYS AS S_ClaimActivityCount_ATGSYS,\n",
    "                    E.BatchNbr AS E_BatchNbr,\n",
    "                    E.PODate AS E_PODate,\n",
    "                    E.ReceivingDate AS E_ReceivingDate,\n",
    "                    E.InvoicedDate AS E_InvoicedDate,\n",
    "                    E.OIDue_ATG AS E_OIDue_ATG,\n",
    "                    E.BBDue_ATG AS E_BBDue_ATG,\n",
    "                    E.ClaimType AS E_ClaimType,\n",
    "                    E.Shoulder_ATG AS E_Shoulder_ATG,\n",
    "                    E.DtMatch_ATG AS E_DtMatch_ATG,\n",
    "                    E.ItemNbr AS E_ItemNbr,\n",
    "                    E.ItemDescription AS E_ItemDescription,\n",
    "                    E.ItemShipPack AS E_ItemShipPack,\n",
    "                    E.PoNbr AS E_PoNbr,\n",
    "                    E.DealNbr AS E_DealNbr,\n",
    "                    E.ATG_IR AS E_ATG_IR,\n",
    "                    E.OrdStartDate_ATG AS E_OrdStartDate_ATG,\n",
    "                    E.OrdEndDate_ATG AS E_OrdEndDate_ATG,\n",
    "                    E.DateStartArrival_ATG AS E_DateStartArrival_ATG,\n",
    "                    E.DateEndArrival_ATG AS E_DateEndArrival_ATG,\n",
    "                    E.AddDate AS E_AddDate,\n",
    "                    E.DLAmtOI AS E_DLAmtOI,\n",
    "                    E.DLAmtBB AS E_DLAmtBB,\n",
    "                    E.TurnRatio_ATG AS E_TurnRatio_ATG,\n",
    "                    E.OrdQty AS E_OrdQty,\n",
    "                    E.PdQty_ATG AS E_PdQty_ATG,\n",
    "                    E.PdNetSB_ATG AS E_PdNetSB_ATG,\n",
    "                    E.PdNet_ATG AS E_PdNet_ATG,\n",
    "                    E.PdOI_ATG AS E_PdOI_ATG,\n",
    "                    E.PdBB_ATG AS E_PdBB_ATG,\n",
    "                    E.PdGross_ATG AS E_PdGross_ATG,\n",
    "                    E.ListcostAtStart AS E_ListcostAtStart,\n",
    "                    E.ListCostSB_ATG AS E_ListCostSB_ATG,\n",
    "                    E.BestOI_ATG AS E_BestOI_ATG,\n",
    "                    E.BestBB_ATG AS E_BestBB_ATG,\n",
    "                    E.DQ_Reason_ATG AS E_DQ_Reason_ATG,\n",
    "                    E.ClaimedAmt AS E_ClaimedAmt,\n",
    "                    E.AR_AdjTyp AS E_AR_AdjTyp,\n",
    "                    E.AR_Amount AS E_AR_Amount,\n",
    "                    E.AR_InvNbr AS E_AR_InvNbr,\n",
    "                    E.AR_InvNbr AS E_AR_InvNbr2,\n",
    "                    E.UPCNbr AS E_UPCNbr,\n",
    "                    E.UPCUnit AS E_UPCUnit,\n",
    "                    E.TurnQty_ATG AS E_TurnQty_ATG,\n",
    "                    E.TruckSize_ATG AS E_TruckSize_ATG,\n",
    "                    E.PdUpDn_ATG AS E_PdUpDn_ATG,\n",
    "                    E.BalFlag_ATG AS E_BalFlag_ATG,\n",
    "                    E.OOB_ATG AS E_OOB_ATG,\n",
    "                    E.MiscAdj_ATG AS E_MiscAdj_ATG,\n",
    "                    E.DLVendorNbr AS E_DLVendorNbr,\n",
    "                    E.DealVendorName AS E_DealVendorName,\n",
    "                    E.PurVndrNbr AS E_PurVndrNbr,\n",
    "                    E.PurVndrName AS E_PurVndrName,\n",
    "                    E.Facility AS E_Facility,\n",
    "                    E.ReceiptNbr AS E_ReceiptNbr,\n",
    "                    E.ReceiptSfx AS E_ReceiptSfx,\n",
    "                    E.VndrInvNbr AS E_VndrInvNbr,\n",
    "                    E.TotWght AS E_TotWght,\n",
    "                    E.AP_VndNbr AS E_AP_VndNbr,\n",
    "                    E.APVndrName AS E_APVndrName,\n",
    "                    E.BuyrNbr AS E_BuyrNbr,\n",
    "                    E.BuyrName AS E_BuyrName,\n",
    "                    E.Contact AS E_Contact,\n",
    "                    E.AP_CheckNbr AS E_AP_CheckNbr,\n",
    "                    E.AP_CheckDate AS E_AP_CheckDate,\n",
    "                    E.AP_GrossAmt AS E_AP_GrossAmt,\n",
    "                    E.AP_DiscAmt AS E_AP_DiscAmt,\n",
    "                    E.VendorCmmnt AS E_VendorCmmnt,\n",
    "                    E.TTLVendorCmmnt_ATG AS E_TTLVendorCmmnt_ATG,\n",
    "                    E.PORemarks AS E_PORemarks,\n",
    "                    E.MultiDeal_ATG AS E_MultiDeal_ATG,\n",
    "                    E.DealOrigin_ATG AS E_DealOrigin_ATG,\n",
    "                    E.AbsDays_ATG AS E_AbsDays_ATG,\n",
    "                    E.ATG_Ref AS E_ATG_Ref,\n",
    "                    E.ATG_DL_Ref AS E_ATG_DL_Ref,\n",
    "                    E.ATG_LI_Ref AS E_ATG_LI_Ref,\n",
    "                    E.ATG_HDR_Ref AS E_ATG_HDR_Ref,\n",
    "                    E.DedBBInd AS E_DedBBInd,\n",
    "                    E.checked AS E_checked,\n",
    "                    E.CATEGORY_ATG AS E_CATEGORY_ATG,\n",
    "                    E.TrnCde_ATG AS E_TrnCde_ATG,\n",
    "                    E.Dept AS E_Dept,\n",
    "                    E.DLPctOI AS E_DLPctOI,\n",
    "                    E.DLPctBB AS E_DLPctBB,\n",
    "                    E.DLIncvPctOI AS E_DLIncvPctOI,\n",
    "                    E.DLIncvPctBB AS E_DLIncvPctBB,\n",
    "                    E.ClaimActivityID_ATGSYS AS E_ClaimActivityID_ATGSYS,\n",
    "                    E.ClaimActivityCount_ATGSYS AS E_ClaimActivityCount_ATGSYS,\n",
    "                    E.ClaimActivityTypeID_ATGSYS AS E_ClaimActivityTypeID_ATGSYS\n",
    "                FROM\n",
    "                    MOE.prod_WeisMarkets_RecoverNow.dbo.ATG_Deal_Summary AS S\n",
    "                    JOIN MOE.prod_WeisMarkets_RecoverNow.dbo.ATG_DealLI_Exceptions AS E\n",
    "                        ON E.ClaimType = S.ClaimType_ATG\n",
    "                        AND E.DealNbr = S.DealNbr\n",
    "                        AND E.DLVendorNbr = S.DLVendorNbr\n",
    "                        AND E.BatchNbr = S.BatchNbr\n",
    "                --WHERE\n",
    "                --S.BatchNbr=50\n",
    "                ) t\n",
    "            WHERE\n",
    "            E_checked='x'\n",
    "            AND\n",
    "            S_checked='x'\n",
    "    \"\"\")\n",
    "train_data = cursor_1.fetchall()"
   ]
  },
  {
   "cell_type": "raw",
   "metadata": {
    "vscode": {
     "languageId": "raw"
    }
   },
   "source": [
    "# Loading subset of data for testing ML models\n",
    "# Full dataset contains 8,000,000+ rows, so we load in a subset.\n",
    "cursor_1.execute(\"\"\"\n",
    "    SELECT * FROM(\n",
    "                SELECT  \n",
    "                                ROW_NUMBER() OVER (ORDER BY ATG_HDR_REF) row_num,\n",
    "                                E.BatchNbr AS E_BatchNbr,\n",
    "                                E.PODate AS E_PODate,\n",
    "                                E.ReceivingDate AS E_ReceivingDate,\n",
    "                                E.InvoicedDate AS E_InvoicedDate,\n",
    "                                E.OIDue_ATG AS E_OIDue_ATG,\n",
    "                                E.BBDue_ATG AS E_BBDue_ATG,\n",
    "                                E.ClaimType AS E_ClaimType,\n",
    "                                E.Shoulder_ATG AS E_Shoulder_ATG,\n",
    "                                E.DtMatch_ATG AS E_DtMatch_ATG,\n",
    "                                E.ItemNbr AS E_ItemNbr,\n",
    "                                E.ItemDescription AS E_ItemDescription,\n",
    "                                E.ItemShipPack AS E_ItemShipPack,\n",
    "                                E.PoNbr AS E_PoNbr,\n",
    "                                E.DealNbr AS E_DealNbr,\n",
    "                                E.ATG_IR AS E_ATG_IR,\n",
    "                                E.OrdStartDate_ATG AS E_OrdStartDate_ATG,\n",
    "                                E.OrdEndDate_ATG AS E_OrdEndDate_ATG,\n",
    "                                E.DateStartArrival_ATG AS E_DateStartArrival_ATG,\n",
    "                                E.DateEndArrival_ATG AS E_DateEndArrival_ATG,\n",
    "                                E.AddDate AS E_AddDate,\n",
    "                                E.DLAmtOI AS E_DLAmtOI,\n",
    "                                E.DLAmtBB AS E_DLAmtBB,\n",
    "                                E.TurnRatio_ATG AS E_TurnRatio_ATG,\n",
    "                                E.OrdQty AS E_OrdQty,\n",
    "                                E.PdQty_ATG AS E_PdQty_ATG,\n",
    "                                E.PdNetSB_ATG AS E_PdNetSB_ATG,\n",
    "                                E.PdNet_ATG AS E_PdNet_ATG,\n",
    "                                E.PdOI_ATG AS E_PdOI_ATG,\n",
    "                                E.PdBB_ATG AS E_PdBB_ATG,\n",
    "                                E.PdGross_ATG AS E_PdGross_ATG,\n",
    "                                E.ListcostAtStart AS E_ListcostAtStart,\n",
    "                                E.ListCostSB_ATG AS E_ListCostSB_ATG,\n",
    "                                E.BestOI_ATG AS E_BestOI_ATG,\n",
    "                                E.BestBB_ATG AS E_BestBB_ATG,\n",
    "                                E.DQ_Reason_ATG AS E_DQ_Reason_ATG,\n",
    "                                E.ClaimedAmt AS E_ClaimedAmt,\n",
    "                                E.AR_AdjTyp AS E_AR_AdjTyp,\n",
    "                                E.AR_Amount AS E_AR_Amount,\n",
    "                                E.AR_InvNbr AS E_AR_InvNbr,\n",
    "                                E.AR_InvNbr2 AS E_AR_InvNbr2,\n",
    "                                E.UPCNbr AS E_UPCNbr,\n",
    "                                E.UPCUnit AS E_UPCUnit,\n",
    "                                E.TurnQty_ATG AS E_TurnQty_ATG,\n",
    "                                E.TruckSize_ATG AS E_TruckSize_ATG,\n",
    "                                E.PdUpDn_ATG AS E_PdUpDn_ATG,\n",
    "                                E.BalFlag_ATG AS E_BalFlag_ATG,\n",
    "                                E.OOB_ATG AS E_OOB_ATG,\n",
    "                                E.MiscAdj_ATG AS E_MiscAdj_ATG,\n",
    "                                E.DLVendorNbr AS E_DLVendorNbr,\n",
    "                                E.DealVendorName AS E_DealVendorName,\n",
    "                                E.PurVndrNbr AS E_PurVndrNbr,\n",
    "                                E.PurVndrName AS E_PurVndrName,\n",
    "                                E.Facility AS E_Facility,\n",
    "                                E.ReceiptNbr AS E_ReceiptNbr,\n",
    "                                E.ReceiptSfx AS E_ReceiptSfx,\n",
    "                                E.VndrInvNbr AS E_VndrInvNbr,\n",
    "                                E.TotWght AS E_TotWght,\n",
    "                                E.AP_VndNbr AS E_AP_VndNbr,\n",
    "                                E.APVndrName AS E_APVndrName,\n",
    "                                E.BuyrNbr AS E_BuyrNbr,\n",
    "                                E.BuyrName AS E_BuyrName,\n",
    "                                E.Contact AS E_Contact,\n",
    "                                E.AP_CheckNbr AS E_AP_CheckNbr,\n",
    "                                E.AP_CheckDate AS E_AP_CheckDate,\n",
    "                                E.AP_GrossAmt AS E_AP_GrossAmt,\n",
    "                                E.AP_DiscAmt AS E_AP_DiscAmt,\n",
    "                                E.VendorCmmnt AS E_VendorCmmnt,\n",
    "                                E.TTLVendorCmmnt_ATG AS E_TTLVendorCmmnt_ATG,\n",
    "                                E.PORemarks AS E_PORemarks,\n",
    "                                E.MultiDeal_ATG AS E_MultiDeal_ATG,\n",
    "                                E.DealOrigin_ATG AS E_DealOrigin_ATG,\n",
    "                                E.AbsDays_ATG AS E_AbsDays_ATG,\n",
    "                                E.ATG_Ref AS E_ATG_Ref,\n",
    "                                E.ATG_DL_Ref AS E_ATG_DL_Ref,\n",
    "                                E.ATG_LI_Ref AS E_ATG_LI_Ref,\n",
    "                                E.ATG_HDR_Ref AS E_ATG_HDR_Ref,\n",
    "                                E.DedBBInd AS E_DedBBInd,\n",
    "                                E.checked AS E_checked,\n",
    "                                E.CATEGORY_ATG AS E_CATEGORY_ATG,\n",
    "                                E.TrnCde_ATG AS E_TrnCde_ATG,\n",
    "                                E.Dept AS E_Dept,\n",
    "                                E.DLPctOI AS E_DLPctOI,\n",
    "                                E.DLPctBB AS E_DLPctBB,\n",
    "                                E.DLIncvPctOI AS E_DLIncvPctOI,\n",
    "                                E.DLIncvPctBB AS E_DLIncvPctBB,\n",
    "                                E.ClaimActivityID_ATGSYS AS E_ClaimActivityID_ATGSYS,\n",
    "                                E.ClaimActivityCount_ATGSYS AS E_ClaimActivityCount_ATGSYS,\n",
    "                                E.ClaimActivityTypeID_ATGSYS AS E_ClaimActivityTypeID_ATGSYS,\n",
    "                                R.ClientFamilyID_ATG AS R_ClientFamilyID_ATG,\n",
    "                                R.BusinessUnit AS R_BusinessUnit,\n",
    "                                R.ReceiptNbr AS R_ReceiptNbr,\n",
    "                                R.ReceiptSfx AS R_ReceiptSfx,\n",
    "                                R.PONbr AS R_PONbr,\n",
    "                                R.PODate AS R_PODate,\n",
    "                                R.InvoiceDate AS R_InvoiceDate,\n",
    "                                R.ReceiptDate AS R_ReceiptDate,\n",
    "                                R.InvoiceNbr AS R_InvoiceNbr,\n",
    "                                R.POVendorNbr AS R_POVendorNbr,\n",
    "                                R.POVendorName AS R_POVendorName,\n",
    "                                R.BuyerNbr AS R_BuyerNbr,\n",
    "                                R.BuyerName AS R_BuyerName,\n",
    "                                R.TermsCode AS R_TermsCode,\n",
    "                                R.TermsRate AS R_TermsRate,\n",
    "                                R.TermsDays AS R_TermsDays,\n",
    "                                R.TermsNet AS R_TermsNet,\n",
    "                                R.TermsTyp AS R_TermsTyp,\n",
    "                                R.DaysPd_ATG AS R_DaysPd_ATG,\n",
    "                                R.AP_VendorNbr AS R_AP_VendorNbr,\n",
    "                                R.AP_VendorName AS R_AP_VendorName,\n",
    "                                R.AP_InvoiceNbr AS R_AP_InvoiceNbr,\n",
    "                                R.AP_InvoiceDate AS R_AP_InvoiceDate,\n",
    "                                R.AP_InvoiceAmt AS R_AP_InvoiceAmt,\n",
    "                                R.AP_DiscAmt AS R_AP_DiscAmt,\n",
    "                                R.AP_CheckNbr AS R_AP_CheckNbr,\n",
    "                                R.AP_CheckDate AS R_AP_CheckDate,\n",
    "                                R.ATG_AP_Ref1 AS R_ATG_AP_Ref1,\n",
    "                                R.ATG_AP_Ref2 AS R_ATG_AP_Ref2,\n",
    "                                R.AP_InvoiceCnt_ATG AS R_AP_InvoiceCnt_ATG,\n",
    "                                R.MatchFlag_ATG AS R_MatchFlag_ATG,\n",
    "                                R.BalFlag_ATG AS R_BalFlag_ATG,\n",
    "                                R.OOB_ATG AS R_OOB_ATG,\n",
    "                                R.MiscAdj_ATG AS R_MiscAdj_ATG,\n",
    "                                R.PaymentSB_ATG AS R_PaymentSB_ATG,\n",
    "                                R.POPaySB_ATG AS R_POPaySB_ATG,\n",
    "                                R.InvoicePaySB_ATG AS R_InvoicePaySB_ATG,\n",
    "                                R.NetSB_ATG AS R_NetSB_ATG,\n",
    "                                R.GrossWght AS R_GrossWght,\n",
    "                                R.UnitOfWeight AS R_UnitOfWeight,\n",
    "                                R.DocType AS R_DocType,\n",
    "                                R.SourceFile_ATG AS R_SourceFile_ATG,\n",
    "                                R.ATG_Ref AS R_ATG_Ref,\n",
    "                                R.Facility AS R_Facility,\n",
    "                                R.APVndrName AS R_APVndrName,\n",
    "                                R.PurVndrLeadTm AS R_PurVndrLeadTm,\n",
    "                                R.InvDueDate AS R_InvDueDate,\n",
    "                                R.InvApprvDate AS R_InvApprvDate,\n",
    "                                R.InvEnteredDate AS R_InvEnteredDate,\n",
    "                                R.VndrDealStatus AS R_VndrDealStatus,\n",
    "                                R.InvStatus AS R_InvStatus,\n",
    "                                R.EstArrvlDate AS R_EstArrvlDate,\n",
    "                                R.BuyrExcptnDate AS R_BuyrExcptnDate,\n",
    "                                R.BuyrOKDate AS R_BuyrOKDate,\n",
    "                                R.LiabPosting AS R_LiabPosting,\n",
    "                                R.StoreCost AS R_StoreCost,\n",
    "                                R.DSDInvFlg AS R_DSDInvFlg,\n",
    "                                R.TTLAmt_ATG AS R_TTLAmt_ATG,\n",
    "                                R.Amt1 AS R_Amt1,\n",
    "                                R.AcctNbr1 AS R_AcctNbr1,\n",
    "                                R.Amt2 AS R_Amt2,\n",
    "                                R.AcctNbr2 AS R_AcctNbr2,\n",
    "                                R.Amt3 AS R_Amt3,\n",
    "                                R.AcctNbr3 AS R_AcctNbr3,\n",
    "                                R.Amt4 AS R_Amt4,\n",
    "                                R.AcctNbr4 AS R_AcctNbr4,\n",
    "                                R.Amt5 AS R_Amt5,\n",
    "                                R.AcctNbr5 AS R_AcctNbr5,\n",
    "                                R.Amt6 AS R_Amt6,\n",
    "                                R.AcctNbr6 AS R_AcctNbr6,\n",
    "                                R.Amt7 AS R_Amt7,\n",
    "                                R.AcctNbr7 AS R_AcctNbr7,\n",
    "                                R.Amt8 AS R_Amt8,\n",
    "                                R.AcctNbr8 AS R_AcctNbr8,\n",
    "                                R.Acct9 AS R_Acct9,\n",
    "                                R.StoreNbr AS R_StoreNbr,\n",
    "                                R.PPDInvFlg AS R_PPDInvFlg,\n",
    "                                R.TTLVndrDedAmt_ATG AS R_TTLVndrDedAmt_ATG,\n",
    "                                R.VndrDedAmt1 AS R_VndrDedAmt1,\n",
    "                                R.VndrDedCde1 AS R_VndrDedCde1,\n",
    "                                R.VndrDedAmt2 AS R_VndrDedAmt2,\n",
    "                                R.VndrDedCde2 AS R_VndrDedCde2,\n",
    "                                R.VndrDedAmt3 AS R_VndrDedAmt3,\n",
    "                                R.VndrDedCde3 AS R_VndrDedCde3,\n",
    "                                R.VndrDedAmt4 AS R_VndrDedAmt4,\n",
    "                                R.VndrDedCde4 AS R_VndrDedCde4,\n",
    "                                R.VndrDedAmt5 AS R_VndrDedAmt5,\n",
    "                                R.VndrDedCde5 AS R_VndrDedCde5,\n",
    "                                R.VndrDedAmt6 AS R_VndrDedAmt6,\n",
    "                                R.VndrDedCde6 AS R_VndrDedCde6,\n",
    "                                R.VndrDedAmt7 AS R_VndrDedAmt7,\n",
    "                                R.VndrDedCde7 AS R_VndrDedCde7,\n",
    "                                R.VndrDedAmt8 AS R_VndrDedAmt8,\n",
    "                                R.VndrDedCde8 AS R_VndrDedCde8,\n",
    "                                R.VndrDedAmt9 AS R_VndrDedAmt9,\n",
    "                                R.VndrDedCde9 AS R_VndrDedCde9,\n",
    "                                R.TTLVendorCmmnt_ATG AS R_TTLVendorCmmnt_ATG,\n",
    "                                R.PORemarks AS R_PORemarks,\n",
    "                                R.InvEnteredUsrNbr AS R_InvEnteredUsrNbr,\n",
    "                                R.InvApprvdUsrNbr AS R_InvApprvdUsrNbr,\n",
    "                                R.VendorCmmnt AS R_VendorCmmnt,\n",
    "                                R.PeriodInd AS R_PeriodInd,\n",
    "                                R.TotPallts AS R_TotPallts,\n",
    "                                R.TotDzns AS R_TotDzns,\n",
    "                                R.ItemExcptnCt AS R_ItemExcptnCt,\n",
    "                                R.VndrItemDedctns AS R_VndrItemDedctns,\n",
    "                                R.VndrUpDnCde AS R_VndrUpDnCde,\n",
    "                                R.VndrUpDnRate AS R_VndrUpDnRate,\n",
    "                                R.VndrUpDnTyp AS R_VndrUpDnTyp,\n",
    "                                R.VndrUpDnAmt AS R_VndrUpDnAmt,\n",
    "                                R.FrghtAllwRateTyp AS R_FrghtAllwRateTyp,\n",
    "                                R.FrghtAllwRateAmt AS R_FrghtAllwRateAmt,\n",
    "                                R.FrghtAllwAmt AS R_FrghtAllwAmt,\n",
    "                                R.FrghtAllwExTyp AS R_FrghtAllwExTyp,\n",
    "                                R.FrghtAllwExRate AS R_FrghtAllwExRate,\n",
    "                                R.PPAndAddExTyp AS R_PPAndAddExTyp,\n",
    "                                R.PPAndAddExRate AS R_PPAndAddExRate,\n",
    "                                R.FrghtPPd AS R_FrghtPPd,\n",
    "                                R.FrghtPPayAdd AS R_FrghtPPayAdd,\n",
    "                                R.FrghtBill AS R_FrghtBill,\n",
    "                                R.FrghtBckhl AS R_FrghtBckhl,\n",
    "                                R.PPAddRateTyp AS R_PPAddRateTyp,\n",
    "                                R.PPAddRateAmt AS R_PPAddRateAmt,\n",
    "                                R.PPAddAmt AS R_PPAddAmt,\n",
    "                                R.FrghtBillRateTyp AS R_FrghtBillRateTyp,\n",
    "                                R.FrghtBillRateAmt AS R_FrghtBillRateAmt,\n",
    "                                R.FrghtBillAmt AS R_FrghtBillAmt,\n",
    "                                R.BackhlRateTyp AS R_BackhlRateTyp,\n",
    "                                R.BackhlRateAmt AS R_BackhlRateAmt,\n",
    "                                R.BackhlAmt AS R_BackhlAmt,\n",
    "                                R.WhseDiscIndx1 AS R_WhseDiscIndx1,\n",
    "                                R.TotCube AS R_TotCube,\n",
    "                                R.TotQty AS R_TotQty,\n",
    "                                R.DueVendor AS R_DueVendor,\n",
    "                                R.CashDiscAmt AS R_CashDiscAmt,\n",
    "                                R.InvVndrUpDnCde AS R_InvVndrUpDnCde,\n",
    "                                R.InvVndrUpDnRate AS R_InvVndrUpDnRate,\n",
    "                                R.InvVndrUpDnTyp AS R_InvVndrUpDnTyp,\n",
    "                                R.InvVndrUpDnAmt AS R_InvVndrUpDnAmt,\n",
    "                                R.InvFrghtAllwRateTyp AS R_InvFrghtAllwRateTyp,\n",
    "                                R.InvFrghtRateAmt AS R_InvFrghtRateAmt,\n",
    "                                R.InvFrghtAllwAmt AS R_InvFrghtAllwAmt,\n",
    "                                R.InvFrghtAllwExTyp AS R_InvFrghtAllwExTyp,\n",
    "                                R.InvPPAndAddExTyp AS R_InvPPAndAddExTyp,\n",
    "                                R.InvPPAndAddExRate AS R_InvPPAndAddExRate,\n",
    "                                R.InvPPdFlg AS R_InvPPdFlg,\n",
    "                                R.InvPPAddFlg AS R_InvPPAddFlg,\n",
    "                                R.InvFrghtBillFlg AS R_InvFrghtBillFlg,\n",
    "                                R.InvBckhlFlg AS R_InvBckhlFlg,\n",
    "                                R.InvPPayAddRateTyp AS R_InvPPayAddRateTyp,\n",
    "                                R.InvPPayAddRateAmt AS R_InvPPayAddRateAmt,\n",
    "                                R.InvPPayAddAmt AS R_InvPPayAddAmt,\n",
    "                                R.InvFrghtBillRateTyp AS R_InvFrghtBillRateTyp,\n",
    "                                R.InvFrghtBillRateAmt AS R_InvFrghtBillRateAmt,\n",
    "                                R.InvFrghtBillAmt AS R_InvFrghtBillAmt,\n",
    "                                R.InvBckhlRateTyp AS R_InvBckhlRateTyp,\n",
    "                                R.InvBckhlRateAmt AS R_InvBckhlRateAmt,\n",
    "                                R.InvBckhlAmt AS R_InvBckhlAmt,\n",
    "                                R.InvTotWght AS R_InvTotWght,\n",
    "                                R.InvWhseDisc1 AS R_InvWhseDisc1,\n",
    "                                R.InvTotCube AS R_InvTotCube,\n",
    "                                R.InvTotQty AS R_InvTotQty,\n",
    "                                R.InvDueVendor AS R_InvDueVendor,\n",
    "                                R.InvCashDisc AS R_InvCashDisc,\n",
    "                                R.AdjTotWght AS R_AdjTotWght,\n",
    "                                R.AdjTotQty AS R_AdjTotQty,\n",
    "                                R.AdjRecDueVendor AS R_AdjRecDueVendor,\n",
    "                                R.AdjCashDiscAmt AS R_AdjCashDiscAmt,\n",
    "                                R.AdjInvDueVendor AS R_AdjInvDueVendor,\n",
    "                                R.FrghtBillPdInd AS R_FrghtBillPdInd,\n",
    "                                R.RecptRecapBuiltInd AS R_RecptRecapBuiltInd,\n",
    "                                R.FrstItemDept AS R_FrstItemDept,\n",
    "                                R.TakeBBDate AS R_TakeBBDate,\n",
    "                                R.TotVarWght AS R_TotVarWght,\n",
    "                                R.TotNonVarWghtQty AS R_TotNonVarWghtQty,\n",
    "                                R.APVndrAddr1 AS R_APVndrAddr1,\n",
    "                                R.APVndrAddr2 AS R_APVndrAddr2,\n",
    "                                R.PurVndrAddr AS R_PurVndrAddr,\n",
    "                                R.WhseDiscAmt AS R_WhseDiscAmt,\n",
    "                                R.InvWhseDiscAmt AS R_InvWhseDiscAmt,\n",
    "                                R.ReconcldDate AS R_ReconcldDate,\n",
    "                                R.BBAmt AS R_BBAmt,\n",
    "                                R.APVendorNbr AS R_APVendorNbr,\n",
    "                                R.RecvgCorrInd AS R_RecvgCorrInd,\n",
    "                                R.ManualChk AS R_ManualChk,\n",
    "                                R.EFTVndr AS R_EFTVndr,\n",
    "                                R.InterCmpny AS R_InterCmpny,\n",
    "                                R.ShippedDate AS R_ShippedDate,\n",
    "                                R.RemittanceNbr AS R_RemittanceNbr,\n",
    "                                R.ApprvlInd AS R_ApprvlInd,\n",
    "                                R.TotRecvdCost AS R_TotRecvdCost,\n",
    "                                R.TotInvntryAdj AS R_TotInvntryAdj,\n",
    "                                R.TotInvoiceDed AS R_TotInvoiceDed,\n",
    "                                R.TotBB AS R_TotBB,\n",
    "                                R.Tot3rdPtyBkhl AS R_Tot3rdPtyBkhl,\n",
    "                                R.TotCollect AS R_TotCollect,\n",
    "                                R.TotBckhl AS R_TotBckhl,\n",
    "                                R.TotNetCost AS R_TotNetCost,\n",
    "                                R.Divrtr AS R_Divrtr,\n",
    "                                R.FrghtTypBillInd AS R_FrghtTypBillInd,\n",
    "                                R.InvFrghtTypBillInd AS R_InvFrghtTypBillInd,\n",
    "                                R.CloseInd AS R_CloseInd,\n",
    "                                R.InvTotWghtEnt AS R_InvTotWghtEnt,\n",
    "                                R.NbrOfItems AS R_NbrOfItems,\n",
    "                                R.PONbrChngInd AS R_PONbrChngInd,\n",
    "                                R.CRInvFlg AS R_CRInvFlg,\n",
    "                                R.InvTermsRate AS R_InvTermsRate,\n",
    "                                R.InvTermsDays AS R_InvTermsDays,\n",
    "                                R.InvTermsNet AS R_InvTermsNet,\n",
    "                                R.OrigPrintInd AS R_OrigPrintInd,\n",
    "                                R.LtrOfCRInd AS R_LtrOfCRInd,\n",
    "                                R.Re_PrntInd AS R_Re_PrntInd,\n",
    "                                R.DedctBBInd AS R_DedctBBInd,\n",
    "                                R.RetailChain AS R_RetailChain,\n",
    "                                R.DedBBInd AS R_DedBBInd,\n",
    "                                R.DedctShortdDealInd AS R_DedctShortdDealInd,\n",
    "                                R.InvFirmDate AS R_InvFirmDate,\n",
    "                                R.HdrTxCode1 AS R_HdrTxCode1,\n",
    "                                R.HdrTxProcFlg1 AS R_HdrTxProcFlg1,\n",
    "                                R.HdrTxCode2 AS R_HdrTxCode2,\n",
    "                                R.HdrTxProcFlg2 AS R_HdrTxProcFlg2,\n",
    "                                R.HdrTxCode3 AS R_HdrTxCode3,\n",
    "                                R.HdrTxProcFlg3 AS R_HdrTxProcFlg3,\n",
    "                                R.HdrTxCode4 AS R_HdrTxCode4,\n",
    "                                R.HdrTxProcFlg4 AS R_HdrTxProcFlg4,\n",
    "                                R.HdrTxCode5 AS R_HdrTxCode5,\n",
    "                                R.HdrTxProcFlg5 AS R_HdrTxProcFlg5,\n",
    "                                R.OrdType AS R_OrdType,\n",
    "                                R.TotNonTruckFrt AS R_TotNonTruckFrt,\n",
    "                                R.UpdtDate AS R_UpdtDate,\n",
    "                                R.UpdateTm AS R_UpdateTm,\n",
    "                                R.RemitMsg AS R_RemitMsg,\n",
    "                                R.FactorVndrNBr AS R_FactorVndrNBr,\n",
    "                                R.APVndrCity AS R_APVndrCity,\n",
    "                                R.APVndrState AS R_APVndrState,\n",
    "                                R.APVndrZip AS R_APVndrZip,\n",
    "                                R.APVndrZipSfx AS R_APVndrZipSfx,\n",
    "                                R.ActvContrct AS R_ActvContrct,\n",
    "                                R.VndrThreshAtPg AS R_VndrThreshAtPg,\n",
    "                                R.CODInd AS R_CODInd,\n",
    "                                R.CntrctInd AS R_CntrctInd,\n",
    "                                R.ECHInd AS R_ECHInd,\n",
    "                                R.CMARecnclCt AS R_CMARecnclCt,\n",
    "                                R.InvFuelAllowAmt AS R_InvFuelAllowAmt,\n",
    "                                R.APChkNbr AS R_APChkNbr,\n",
    "                                R.EDIDueInd AS R_EDIDueInd,\n",
    "                                R.SwellRecvdPct AS R_SwellRecvdPct,\n",
    "                                R.SwellBasis AS R_SwellBasis,\n",
    "                                R.SwellAllwAmt AS R_SwellAllwAmt,\n",
    "                                R.InvSwellAllwAmt AS R_InvSwellAllwAmt,\n",
    "                                R.SwellAllwPostg AS R_SwellAllwPostg,\n",
    "                                R.SwellAllwAcct AS R_SwellAllwAcct,\n",
    "                                R.PUpDate AS R_PUpDate,\n",
    "                                R.VerifDate AS R_VerifDate,\n",
    "                                R.EDIInvInd AS R_EDIInvInd,\n",
    "                                R.EDIPOInd AS R_EDIPOInd,\n",
    "                                R.ATG_Ref_Orig AS R_ATG_Ref_Orig,\n",
    "                                R.AP_Comment AS R_AP_Comment,\n",
    "                                R.Tolerance AS R_Tolerance,\n",
    "                                R.ShortAllow AS R_ShortAllow,\n",
    "                                R.OIDeduct AS R_OIDeduct,\n",
    "                                R.Balancing AS R_Balancing,\n",
    "                                R.AP_OOBChk AS R_AP_OOBChk,\n",
    "                                R.PdHdrFrtVar_ATG AS R_PdHdrFrtVar_ATG,\n",
    "                                R.PdSwellAllow_ATG AS R_PdSwellAllow_ATG,\n",
    "                                R.PONet_ATG AS R_PONet_ATG,\n",
    "                                R.InvNet_ATG AS R_InvNet_ATG,\n",
    "                                R.ClaimActivityID_ATGSYS AS R_ClaimActivityID_ATGSYS\n",
    "                FROM [MOE].[prod_WeisMarkets_RecoverNow].[dbo].[ATG_DealLI_Exceptions] AS E\n",
    "                JOIN [MOE].[prod_WeisMarkets_RecoverNow].[dbo].[ATG_RCPT_HDR] AS R\n",
    "                                ON E.ATG_Hdr_Ref = R.ATG_Ref\n",
    "                WHERE\n",
    "                checked='excp'\n",
    "                ) t\n",
    "                WHERE\n",
    "                row_num > 20000\n",
    "\n",
    "    UNION-- ALL\n",
    "\n",
    "    SELECT * FROM(\n",
    "                SELECT  \n",
    "                                ROW_NUMBER() OVER (ORDER BY ATG_HDR_REF) row_num,\n",
    "                                E.BatchNbr AS E_BatchNbr,\n",
    "                                E.PODate AS E_PODate,\n",
    "                                E.ReceivingDate AS E_ReceivingDate,\n",
    "                                E.InvoicedDate AS E_InvoicedDate,\n",
    "                                E.OIDue_ATG AS E_OIDue_ATG,\n",
    "                                E.BBDue_ATG AS E_BBDue_ATG,\n",
    "                                E.ClaimType AS E_ClaimType,\n",
    "                                E.Shoulder_ATG AS E_Shoulder_ATG,\n",
    "                                E.DtMatch_ATG AS E_DtMatch_ATG,\n",
    "                                E.ItemNbr AS E_ItemNbr,\n",
    "                                E.ItemDescription AS E_ItemDescription,\n",
    "                                E.ItemShipPack AS E_ItemShipPack,\n",
    "                                E.PoNbr AS E_PoNbr,\n",
    "                                E.DealNbr AS E_DealNbr,\n",
    "                                E.ATG_IR AS E_ATG_IR,\n",
    "                                E.OrdStartDate_ATG AS E_OrdStartDate_ATG,\n",
    "                                E.OrdEndDate_ATG AS E_OrdEndDate_ATG,\n",
    "                                E.DateStartArrival_ATG AS E_DateStartArrival_ATG,\n",
    "                                E.DateEndArrival_ATG AS E_DateEndArrival_ATG,\n",
    "                                E.AddDate AS E_AddDate,\n",
    "                                E.DLAmtOI AS E_DLAmtOI,\n",
    "                                E.DLAmtBB AS E_DLAmtBB,\n",
    "                                E.TurnRatio_ATG AS E_TurnRatio_ATG,\n",
    "                                E.OrdQty AS E_OrdQty,\n",
    "                                E.PdQty_ATG AS E_PdQty_ATG,\n",
    "                                E.PdNetSB_ATG AS E_PdNetSB_ATG,\n",
    "                                E.PdNet_ATG AS E_PdNet_ATG,\n",
    "                                E.PdOI_ATG AS E_PdOI_ATG,\n",
    "                                E.PdBB_ATG AS E_PdBB_ATG,\n",
    "                                E.PdGross_ATG AS E_PdGross_ATG,\n",
    "                                E.ListcostAtStart AS E_ListcostAtStart,\n",
    "                                E.ListCostSB_ATG AS E_ListCostSB_ATG,\n",
    "                                E.BestOI_ATG AS E_BestOI_ATG,\n",
    "                                E.BestBB_ATG AS E_BestBB_ATG,\n",
    "                                E.DQ_Reason_ATG AS E_DQ_Reason_ATG,\n",
    "                                E.ClaimedAmt AS E_ClaimedAmt,\n",
    "                                E.AR_AdjTyp AS E_AR_AdjTyp,\n",
    "                                E.AR_Amount AS E_AR_Amount,\n",
    "                                E.AR_InvNbr AS E_AR_InvNbr,\n",
    "                                E.AR_InvNbr2 AS E_AR_InvNbr2,\n",
    "                                E.UPCNbr AS E_UPCNbr,\n",
    "                                E.UPCUnit AS E_UPCUnit,\n",
    "                                E.TurnQty_ATG AS E_TurnQty_ATG,\n",
    "                                E.TruckSize_ATG AS E_TruckSize_ATG,\n",
    "                                E.PdUpDn_ATG AS E_PdUpDn_ATG,\n",
    "                                E.BalFlag_ATG AS E_BalFlag_ATG,\n",
    "                                E.OOB_ATG AS E_OOB_ATG,\n",
    "                                E.MiscAdj_ATG AS E_MiscAdj_ATG,\n",
    "                                E.DLVendorNbr AS E_DLVendorNbr,\n",
    "                                E.DealVendorName AS E_DealVendorName,\n",
    "                                E.PurVndrNbr AS E_PurVndrNbr,\n",
    "                                E.PurVndrName AS E_PurVndrName,\n",
    "                                E.Facility AS E_Facility,\n",
    "                                E.ReceiptNbr AS E_ReceiptNbr,\n",
    "                                E.ReceiptSfx AS E_ReceiptSfx,\n",
    "                                E.VndrInvNbr AS E_VndrInvNbr,\n",
    "                                E.TotWght AS E_TotWght,\n",
    "                                E.AP_VndNbr AS E_AP_VndNbr,\n",
    "                                E.APVndrName AS E_APVndrName,\n",
    "                                E.BuyrNbr AS E_BuyrNbr,\n",
    "                                E.BuyrName AS E_BuyrName,\n",
    "                                E.Contact AS E_Contact,\n",
    "                                E.AP_CheckNbr AS E_AP_CheckNbr,\n",
    "                                E.AP_CheckDate AS E_AP_CheckDate,\n",
    "                                E.AP_GrossAmt AS E_AP_GrossAmt,\n",
    "                                E.AP_DiscAmt AS E_AP_DiscAmt,\n",
    "                                E.VendorCmmnt AS E_VendorCmmnt,\n",
    "                                E.TTLVendorCmmnt_ATG AS E_TTLVendorCmmnt_ATG,\n",
    "                                E.PORemarks AS E_PORemarks,\n",
    "                                E.MultiDeal_ATG AS E_MultiDeal_ATG,\n",
    "                                E.DealOrigin_ATG AS E_DealOrigin_ATG,\n",
    "                                E.AbsDays_ATG AS E_AbsDays_ATG,\n",
    "                                E.ATG_Ref AS E_ATG_Ref,\n",
    "                                E.ATG_DL_Ref AS E_ATG_DL_Ref,\n",
    "                                E.ATG_LI_Ref AS E_ATG_LI_Ref,\n",
    "                                E.ATG_HDR_Ref AS E_ATG_HDR_Ref,\n",
    "                                E.DedBBInd AS E_DedBBInd,\n",
    "                                E.checked AS E_checked,\n",
    "                                E.CATEGORY_ATG AS E_CATEGORY_ATG,\n",
    "                                E.TrnCde_ATG AS E_TrnCde_ATG,\n",
    "                                E.Dept AS E_Dept,\n",
    "                                E.DLPctOI AS E_DLPctOI,\n",
    "                                E.DLPctBB AS E_DLPctBB,\n",
    "                                E.DLIncvPctOI AS E_DLIncvPctOI,\n",
    "                                E.DLIncvPctBB AS E_DLIncvPctBB,\n",
    "                                E.ClaimActivityID_ATGSYS AS E_ClaimActivityID_ATGSYS,\n",
    "                                E.ClaimActivityCount_ATGSYS AS E_ClaimActivityCount_ATGSYS,\n",
    "                                E.ClaimActivityTypeID_ATGSYS AS E_ClaimActivityTypeID_ATGSYS,\n",
    "                                R.ClientFamilyID_ATG AS R_ClientFamilyID_ATG,\n",
    "                                R.BusinessUnit AS R_BusinessUnit,\n",
    "                                R.ReceiptNbr AS R_ReceiptNbr,\n",
    "                                R.ReceiptSfx AS R_ReceiptSfx,\n",
    "                                R.PONbr AS R_PONbr,\n",
    "                                R.PODate AS R_PODate,\n",
    "                                R.InvoiceDate AS R_InvoiceDate,\n",
    "                                R.ReceiptDate AS R_ReceiptDate,\n",
    "                                R.InvoiceNbr AS R_InvoiceNbr,\n",
    "                                R.POVendorNbr AS R_POVendorNbr,\n",
    "                                R.POVendorName AS R_POVendorName,\n",
    "                                R.BuyerNbr AS R_BuyerNbr,\n",
    "                                R.BuyerName AS R_BuyerName,\n",
    "                                R.TermsCode AS R_TermsCode,\n",
    "                                R.TermsRate AS R_TermsRate,\n",
    "                                R.TermsDays AS R_TermsDays,\n",
    "                                R.TermsNet AS R_TermsNet,\n",
    "                                R.TermsTyp AS R_TermsTyp,\n",
    "                                R.DaysPd_ATG AS R_DaysPd_ATG,\n",
    "                                R.AP_VendorNbr AS R_AP_VendorNbr,\n",
    "                                R.AP_VendorName AS R_AP_VendorName,\n",
    "                                R.AP_InvoiceNbr AS R_AP_InvoiceNbr,\n",
    "                                R.AP_InvoiceDate AS R_AP_InvoiceDate,\n",
    "                                R.AP_InvoiceAmt AS R_AP_InvoiceAmt,\n",
    "                                R.AP_DiscAmt AS R_AP_DiscAmt,\n",
    "                                R.AP_CheckNbr AS R_AP_CheckNbr,\n",
    "                                R.AP_CheckDate AS R_AP_CheckDate,\n",
    "                                R.ATG_AP_Ref1 AS R_ATG_AP_Ref1,\n",
    "                                R.ATG_AP_Ref2 AS R_ATG_AP_Ref2,\n",
    "                                R.AP_InvoiceCnt_ATG AS R_AP_InvoiceCnt_ATG,\n",
    "                                R.MatchFlag_ATG AS R_MatchFlag_ATG,\n",
    "                                R.BalFlag_ATG AS R_BalFlag_ATG,\n",
    "                                R.OOB_ATG AS R_OOB_ATG,\n",
    "                                R.MiscAdj_ATG AS R_MiscAdj_ATG,\n",
    "                                R.PaymentSB_ATG AS R_PaymentSB_ATG,\n",
    "                                R.POPaySB_ATG AS R_POPaySB_ATG,\n",
    "                                R.InvoicePaySB_ATG AS R_InvoicePaySB_ATG,\n",
    "                                R.NetSB_ATG AS R_NetSB_ATG,\n",
    "                                R.GrossWght AS R_GrossWght,\n",
    "                                R.UnitOfWeight AS R_UnitOfWeight,\n",
    "                                R.DocType AS R_DocType,\n",
    "                                R.SourceFile_ATG AS R_SourceFile_ATG,\n",
    "                                R.ATG_Ref AS R_ATG_Ref,\n",
    "                                R.Facility AS R_Facility,\n",
    "                                R.APVndrName AS R_APVndrName,\n",
    "                                R.PurVndrLeadTm AS R_PurVndrLeadTm,\n",
    "                                R.InvDueDate AS R_InvDueDate,\n",
    "                                R.InvApprvDate AS R_InvApprvDate,\n",
    "                                R.InvEnteredDate AS R_InvEnteredDate,\n",
    "                                R.VndrDealStatus AS R_VndrDealStatus,\n",
    "                                R.InvStatus AS R_InvStatus,\n",
    "                                R.EstArrvlDate AS R_EstArrvlDate,\n",
    "                                R.BuyrExcptnDate AS R_BuyrExcptnDate,\n",
    "                                R.BuyrOKDate AS R_BuyrOKDate,\n",
    "                                R.LiabPosting AS R_LiabPosting,\n",
    "                                R.StoreCost AS R_StoreCost,\n",
    "                                R.DSDInvFlg AS R_DSDInvFlg,\n",
    "                                R.TTLAmt_ATG AS R_TTLAmt_ATG,\n",
    "                                R.Amt1 AS R_Amt1,\n",
    "                                R.AcctNbr1 AS R_AcctNbr1,\n",
    "                                R.Amt2 AS R_Amt2,\n",
    "                                R.AcctNbr2 AS R_AcctNbr2,\n",
    "                                R.Amt3 AS R_Amt3,\n",
    "                                R.AcctNbr3 AS R_AcctNbr3,\n",
    "                                R.Amt4 AS R_Amt4,\n",
    "                                R.AcctNbr4 AS R_AcctNbr4,\n",
    "                                R.Amt5 AS R_Amt5,\n",
    "                                R.AcctNbr5 AS R_AcctNbr5,\n",
    "                                R.Amt6 AS R_Amt6,\n",
    "                                R.AcctNbr6 AS R_AcctNbr6,\n",
    "                                R.Amt7 AS R_Amt7,\n",
    "                                R.AcctNbr7 AS R_AcctNbr7,\n",
    "                                R.Amt8 AS R_Amt8,\n",
    "                                R.AcctNbr8 AS R_AcctNbr8,\n",
    "                                R.Acct9 AS R_Acct9,\n",
    "                                R.StoreNbr AS R_StoreNbr,\n",
    "                                R.PPDInvFlg AS R_PPDInvFlg,\n",
    "                                R.TTLVndrDedAmt_ATG AS R_TTLVndrDedAmt_ATG,\n",
    "                                R.VndrDedAmt1 AS R_VndrDedAmt1,\n",
    "                                R.VndrDedCde1 AS R_VndrDedCde1,\n",
    "                                R.VndrDedAmt2 AS R_VndrDedAmt2,\n",
    "                                R.VndrDedCde2 AS R_VndrDedCde2,\n",
    "                                R.VndrDedAmt3 AS R_VndrDedAmt3,\n",
    "                                R.VndrDedCde3 AS R_VndrDedCde3,\n",
    "                                R.VndrDedAmt4 AS R_VndrDedAmt4,\n",
    "                                R.VndrDedCde4 AS R_VndrDedCde4,\n",
    "                                R.VndrDedAmt5 AS R_VndrDedAmt5,\n",
    "                                R.VndrDedCde5 AS R_VndrDedCde5,\n",
    "                                R.VndrDedAmt6 AS R_VndrDedAmt6,\n",
    "                                R.VndrDedCde6 AS R_VndrDedCde6,\n",
    "                                R.VndrDedAmt7 AS R_VndrDedAmt7,\n",
    "                                R.VndrDedCde7 AS R_VndrDedCde7,\n",
    "                                R.VndrDedAmt8 AS R_VndrDedAmt8,\n",
    "                                R.VndrDedCde8 AS R_VndrDedCde8,\n",
    "                                R.VndrDedAmt9 AS R_VndrDedAmt9,\n",
    "                                R.VndrDedCde9 AS R_VndrDedCde9,\n",
    "                                R.TTLVendorCmmnt_ATG AS R_TTLVendorCmmnt_ATG,\n",
    "                                R.PORemarks AS R_PORemarks,\n",
    "                                R.InvEnteredUsrNbr AS R_InvEnteredUsrNbr,\n",
    "                                R.InvApprvdUsrNbr AS R_InvApprvdUsrNbr,\n",
    "                                R.VendorCmmnt AS R_VendorCmmnt,\n",
    "                                R.PeriodInd AS R_PeriodInd,\n",
    "                                R.TotPallts AS R_TotPallts,\n",
    "                                R.TotDzns AS R_TotDzns,\n",
    "                                R.ItemExcptnCt AS R_ItemExcptnCt,\n",
    "                                R.VndrItemDedctns AS R_VndrItemDedctns,\n",
    "                                R.VndrUpDnCde AS R_VndrUpDnCde,\n",
    "                                R.VndrUpDnRate AS R_VndrUpDnRate,\n",
    "                                R.VndrUpDnTyp AS R_VndrUpDnTyp,\n",
    "                                R.VndrUpDnAmt AS R_VndrUpDnAmt,\n",
    "                                R.FrghtAllwRateTyp AS R_FrghtAllwRateTyp,\n",
    "                                R.FrghtAllwRateAmt AS R_FrghtAllwRateAmt,\n",
    "                                R.FrghtAllwAmt AS R_FrghtAllwAmt,\n",
    "                                R.FrghtAllwExTyp AS R_FrghtAllwExTyp,\n",
    "                                R.FrghtAllwExRate AS R_FrghtAllwExRate,\n",
    "                                R.PPAndAddExTyp AS R_PPAndAddExTyp,\n",
    "                                R.PPAndAddExRate AS R_PPAndAddExRate,\n",
    "                                R.FrghtPPd AS R_FrghtPPd,\n",
    "                                R.FrghtPPayAdd AS R_FrghtPPayAdd,\n",
    "                                R.FrghtBill AS R_FrghtBill,\n",
    "                                R.FrghtBckhl AS R_FrghtBckhl,\n",
    "                                R.PPAddRateTyp AS R_PPAddRateTyp,\n",
    "                                R.PPAddRateAmt AS R_PPAddRateAmt,\n",
    "                                R.PPAddAmt AS R_PPAddAmt,\n",
    "                                R.FrghtBillRateTyp AS R_FrghtBillRateTyp,\n",
    "                                R.FrghtBillRateAmt AS R_FrghtBillRateAmt,\n",
    "                                R.FrghtBillAmt AS R_FrghtBillAmt,\n",
    "                                R.BackhlRateTyp AS R_BackhlRateTyp,\n",
    "                                R.BackhlRateAmt AS R_BackhlRateAmt,\n",
    "                                R.BackhlAmt AS R_BackhlAmt,\n",
    "                                R.WhseDiscIndx1 AS R_WhseDiscIndx1,\n",
    "                                R.TotCube AS R_TotCube,\n",
    "                                R.TotQty AS R_TotQty,\n",
    "                                R.DueVendor AS R_DueVendor,\n",
    "                                R.CashDiscAmt AS R_CashDiscAmt,\n",
    "                                R.InvVndrUpDnCde AS R_InvVndrUpDnCde,\n",
    "                                R.InvVndrUpDnRate AS R_InvVndrUpDnRate,\n",
    "                                R.InvVndrUpDnTyp AS R_InvVndrUpDnTyp,\n",
    "                                R.InvVndrUpDnAmt AS R_InvVndrUpDnAmt,\n",
    "                                R.InvFrghtAllwRateTyp AS R_InvFrghtAllwRateTyp,\n",
    "                                R.InvFrghtRateAmt AS R_InvFrghtRateAmt,\n",
    "                                R.InvFrghtAllwAmt AS R_InvFrghtAllwAmt,\n",
    "                                R.InvFrghtAllwExTyp AS R_InvFrghtAllwExTyp,\n",
    "                                R.InvPPAndAddExTyp AS R_InvPPAndAddExTyp,\n",
    "                                R.InvPPAndAddExRate AS R_InvPPAndAddExRate,\n",
    "                                R.InvPPdFlg AS R_InvPPdFlg,\n",
    "                                R.InvPPAddFlg AS R_InvPPAddFlg,\n",
    "                                R.InvFrghtBillFlg AS R_InvFrghtBillFlg,\n",
    "                                R.InvBckhlFlg AS R_InvBckhlFlg,\n",
    "                                R.InvPPayAddRateTyp AS R_InvPPayAddRateTyp,\n",
    "                                R.InvPPayAddRateAmt AS R_InvPPayAddRateAmt,\n",
    "                                R.InvPPayAddAmt AS R_InvPPayAddAmt,\n",
    "                                R.InvFrghtBillRateTyp AS R_InvFrghtBillRateTyp,\n",
    "                                R.InvFrghtBillRateAmt AS R_InvFrghtBillRateAmt,\n",
    "                                R.InvFrghtBillAmt AS R_InvFrghtBillAmt,\n",
    "                                R.InvBckhlRateTyp AS R_InvBckhlRateTyp,\n",
    "                                R.InvBckhlRateAmt AS R_InvBckhlRateAmt,\n",
    "                                R.InvBckhlAmt AS R_InvBckhlAmt,\n",
    "                                R.InvTotWght AS R_InvTotWght,\n",
    "                                R.InvWhseDisc1 AS R_InvWhseDisc1,\n",
    "                                R.InvTotCube AS R_InvTotCube,\n",
    "                                R.InvTotQty AS R_InvTotQty,\n",
    "                                R.InvDueVendor AS R_InvDueVendor,\n",
    "                                R.InvCashDisc AS R_InvCashDisc,\n",
    "                                R.AdjTotWght AS R_AdjTotWght,\n",
    "                                R.AdjTotQty AS R_AdjTotQty,\n",
    "                                R.AdjRecDueVendor AS R_AdjRecDueVendor,\n",
    "                                R.AdjCashDiscAmt AS R_AdjCashDiscAmt,\n",
    "                                R.AdjInvDueVendor AS R_AdjInvDueVendor,\n",
    "                                R.FrghtBillPdInd AS R_FrghtBillPdInd,\n",
    "                                R.RecptRecapBuiltInd AS R_RecptRecapBuiltInd,\n",
    "                                R.FrstItemDept AS R_FrstItemDept,\n",
    "                                R.TakeBBDate AS R_TakeBBDate,\n",
    "                                R.TotVarWght AS R_TotVarWght,\n",
    "                                R.TotNonVarWghtQty AS R_TotNonVarWghtQty,\n",
    "                                R.APVndrAddr1 AS R_APVndrAddr1,\n",
    "                                R.APVndrAddr2 AS R_APVndrAddr2,\n",
    "                                R.PurVndrAddr AS R_PurVndrAddr,\n",
    "                                R.WhseDiscAmt AS R_WhseDiscAmt,\n",
    "                                R.InvWhseDiscAmt AS R_InvWhseDiscAmt,\n",
    "                                R.ReconcldDate AS R_ReconcldDate,\n",
    "                                R.BBAmt AS R_BBAmt,\n",
    "                                R.APVendorNbr AS R_APVendorNbr,\n",
    "                                R.RecvgCorrInd AS R_RecvgCorrInd,\n",
    "                                R.ManualChk AS R_ManualChk,\n",
    "                                R.EFTVndr AS R_EFTVndr,\n",
    "                                R.InterCmpny AS R_InterCmpny,\n",
    "                                R.ShippedDate AS R_ShippedDate,\n",
    "                                R.RemittanceNbr AS R_RemittanceNbr,\n",
    "                                R.ApprvlInd AS R_ApprvlInd,\n",
    "                                R.TotRecvdCost AS R_TotRecvdCost,\n",
    "                                R.TotInvntryAdj AS R_TotInvntryAdj,\n",
    "                                R.TotInvoiceDed AS R_TotInvoiceDed,\n",
    "                                R.TotBB AS R_TotBB,\n",
    "                                R.Tot3rdPtyBkhl AS R_Tot3rdPtyBkhl,\n",
    "                                R.TotCollect AS R_TotCollect,\n",
    "                                R.TotBckhl AS R_TotBckhl,\n",
    "                                R.TotNetCost AS R_TotNetCost,\n",
    "                                R.Divrtr AS R_Divrtr,\n",
    "                                R.FrghtTypBillInd AS R_FrghtTypBillInd,\n",
    "                                R.InvFrghtTypBillInd AS R_InvFrghtTypBillInd,\n",
    "                                R.CloseInd AS R_CloseInd,\n",
    "                                R.InvTotWghtEnt AS R_InvTotWghtEnt,\n",
    "                                R.NbrOfItems AS R_NbrOfItems,\n",
    "                                R.PONbrChngInd AS R_PONbrChngInd,\n",
    "                                R.CRInvFlg AS R_CRInvFlg,\n",
    "                                R.InvTermsRate AS R_InvTermsRate,\n",
    "                                R.InvTermsDays AS R_InvTermsDays,\n",
    "                                R.InvTermsNet AS R_InvTermsNet,\n",
    "                                R.OrigPrintInd AS R_OrigPrintInd,\n",
    "                                R.LtrOfCRInd AS R_LtrOfCRInd,\n",
    "                                R.Re_PrntInd AS R_Re_PrntInd,\n",
    "                                R.DedctBBInd AS R_DedctBBInd,\n",
    "                                R.RetailChain AS R_RetailChain,\n",
    "                                R.DedBBInd AS R_DedBBInd,\n",
    "                                R.DedctShortdDealInd AS R_DedctShortdDealInd,\n",
    "                                R.InvFirmDate AS R_InvFirmDate,\n",
    "                                R.HdrTxCode1 AS R_HdrTxCode1,\n",
    "                                R.HdrTxProcFlg1 AS R_HdrTxProcFlg1,\n",
    "                                R.HdrTxCode2 AS R_HdrTxCode2,\n",
    "                                R.HdrTxProcFlg2 AS R_HdrTxProcFlg2,\n",
    "                                R.HdrTxCode3 AS R_HdrTxCode3,\n",
    "                                R.HdrTxProcFlg3 AS R_HdrTxProcFlg3,\n",
    "                                R.HdrTxCode4 AS R_HdrTxCode4,\n",
    "                                R.HdrTxProcFlg4 AS R_HdrTxProcFlg4,\n",
    "                                R.HdrTxCode5 AS R_HdrTxCode5,\n",
    "                                R.HdrTxProcFlg5 AS R_HdrTxProcFlg5,\n",
    "                                R.OrdType AS R_OrdType,\n",
    "                                R.TotNonTruckFrt AS R_TotNonTruckFrt,\n",
    "                                R.UpdtDate AS R_UpdtDate,\n",
    "                                R.UpdateTm AS R_UpdateTm,\n",
    "                                R.RemitMsg AS R_RemitMsg,\n",
    "                                R.FactorVndrNBr AS R_FactorVndrNBr,\n",
    "                                R.APVndrCity AS R_APVndrCity,\n",
    "                                R.APVndrState AS R_APVndrState,\n",
    "                                R.APVndrZip AS R_APVndrZip,\n",
    "                                R.APVndrZipSfx AS R_APVndrZipSfx,\n",
    "                                R.ActvContrct AS R_ActvContrct,\n",
    "                                R.VndrThreshAtPg AS R_VndrThreshAtPg,\n",
    "                                R.CODInd AS R_CODInd,\n",
    "                                R.CntrctInd AS R_CntrctInd,\n",
    "                                R.ECHInd AS R_ECHInd,\n",
    "                                R.CMARecnclCt AS R_CMARecnclCt,\n",
    "                                R.InvFuelAllowAmt AS R_InvFuelAllowAmt,\n",
    "                                R.APChkNbr AS R_APChkNbr,\n",
    "                                R.EDIDueInd AS R_EDIDueInd,\n",
    "                                R.SwellRecvdPct AS R_SwellRecvdPct,\n",
    "                                R.SwellBasis AS R_SwellBasis,\n",
    "                                R.SwellAllwAmt AS R_SwellAllwAmt,\n",
    "                                R.InvSwellAllwAmt AS R_InvSwellAllwAmt,\n",
    "                                R.SwellAllwPostg AS R_SwellAllwPostg,\n",
    "                                R.SwellAllwAcct AS R_SwellAllwAcct,\n",
    "                                R.PUpDate AS R_PUpDate,\n",
    "                                R.VerifDate AS R_VerifDate,\n",
    "                                R.EDIInvInd AS R_EDIInvInd,\n",
    "                                R.EDIPOInd AS R_EDIPOInd,\n",
    "                                R.ATG_Ref_Orig AS R_ATG_Ref_Orig,\n",
    "                                R.AP_Comment AS R_AP_Comment,\n",
    "                                R.Tolerance AS R_Tolerance,\n",
    "                                R.ShortAllow AS R_ShortAllow,\n",
    "                                R.OIDeduct AS R_OIDeduct,\n",
    "                                R.Balancing AS R_Balancing,\n",
    "                                R.AP_OOBChk AS R_AP_OOBChk,\n",
    "                                R.PdHdrFrtVar_ATG AS R_PdHdrFrtVar_ATG,\n",
    "                                R.PdSwellAllow_ATG AS R_PdSwellAllow_ATG,\n",
    "                                R.PONet_ATG AS R_PONet_ATG,\n",
    "                                R.InvNet_ATG AS R_InvNet_ATG,\n",
    "                                R.ClaimActivityID_ATGSYS AS R_ClaimActivityID_ATGSYS\n",
    "                FROM [MOE].[prod_WeisMarkets_RecoverNow].[dbo].[ATG_DealLI_Exceptions] AS E\n",
    "                JOIN [MOE].[prod_WeisMarkets_RecoverNow].[dbo].[ATG_RCPT_HDR] AS R\n",
    "                                ON E.ATG_Hdr_Ref = R.ATG_Ref\n",
    "                WHERE\n",
    "                checked='true'\n",
    "                ) t\n",
    "                WHERE\n",
    "                row_num > 3000\n",
    "\n",
    "    UNION-- ALL\n",
    "\n",
    "    SELECT * FROM(\n",
    "                SELECT  \n",
    "                                ROW_NUMBER() OVER (ORDER BY ATG_HDR_REF) row_num,\n",
    "                                E.BatchNbr AS E_BatchNbr,\n",
    "                                E.PODate AS E_PODate,\n",
    "                                E.ReceivingDate AS E_ReceivingDate,\n",
    "                                E.InvoicedDate AS E_InvoicedDate,\n",
    "                                E.OIDue_ATG AS E_OIDue_ATG,\n",
    "                                E.BBDue_ATG AS E_BBDue_ATG,\n",
    "                                E.ClaimType AS E_ClaimType,\n",
    "                                E.Shoulder_ATG AS E_Shoulder_ATG,\n",
    "                                E.DtMatch_ATG AS E_DtMatch_ATG,\n",
    "                                E.ItemNbr AS E_ItemNbr,\n",
    "                                E.ItemDescription AS E_ItemDescription,\n",
    "                                E.ItemShipPack AS E_ItemShipPack,\n",
    "                                E.PoNbr AS E_PoNbr,\n",
    "                                E.DealNbr AS E_DealNbr,\n",
    "                                E.ATG_IR AS E_ATG_IR,\n",
    "                                E.OrdStartDate_ATG AS E_OrdStartDate_ATG,\n",
    "                                E.OrdEndDate_ATG AS E_OrdEndDate_ATG,\n",
    "                                E.DateStartArrival_ATG AS E_DateStartArrival_ATG,\n",
    "                                E.DateEndArrival_ATG AS E_DateEndArrival_ATG,\n",
    "                                E.AddDate AS E_AddDate,\n",
    "                                E.DLAmtOI AS E_DLAmtOI,\n",
    "                                E.DLAmtBB AS E_DLAmtBB,\n",
    "                                E.TurnRatio_ATG AS E_TurnRatio_ATG,\n",
    "                                E.OrdQty AS E_OrdQty,\n",
    "                                E.PdQty_ATG AS E_PdQty_ATG,\n",
    "                                E.PdNetSB_ATG AS E_PdNetSB_ATG,\n",
    "                                E.PdNet_ATG AS E_PdNet_ATG,\n",
    "                                E.PdOI_ATG AS E_PdOI_ATG,\n",
    "                                E.PdBB_ATG AS E_PdBB_ATG,\n",
    "                                E.PdGross_ATG AS E_PdGross_ATG,\n",
    "                                E.ListcostAtStart AS E_ListcostAtStart,\n",
    "                                E.ListCostSB_ATG AS E_ListCostSB_ATG,\n",
    "                                E.BestOI_ATG AS E_BestOI_ATG,\n",
    "                                E.BestBB_ATG AS E_BestBB_ATG,\n",
    "                                E.DQ_Reason_ATG AS E_DQ_Reason_ATG,\n",
    "                                E.ClaimedAmt AS E_ClaimedAmt,\n",
    "                                E.AR_AdjTyp AS E_AR_AdjTyp,\n",
    "                                E.AR_Amount AS E_AR_Amount,\n",
    "                                E.AR_InvNbr AS E_AR_InvNbr,\n",
    "                                E.AR_InvNbr2 AS E_AR_InvNbr2,\n",
    "                                E.UPCNbr AS E_UPCNbr,\n",
    "                                E.UPCUnit AS E_UPCUnit,\n",
    "                                E.TurnQty_ATG AS E_TurnQty_ATG,\n",
    "                                E.TruckSize_ATG AS E_TruckSize_ATG,\n",
    "                                E.PdUpDn_ATG AS E_PdUpDn_ATG,\n",
    "                                E.BalFlag_ATG AS E_BalFlag_ATG,\n",
    "                                E.OOB_ATG AS E_OOB_ATG,\n",
    "                                E.MiscAdj_ATG AS E_MiscAdj_ATG,\n",
    "                                E.DLVendorNbr AS E_DLVendorNbr,\n",
    "                                E.DealVendorName AS E_DealVendorName,\n",
    "                                E.PurVndrNbr AS E_PurVndrNbr,\n",
    "                                E.PurVndrName AS E_PurVndrName,\n",
    "                                E.Facility AS E_Facility,\n",
    "                                E.ReceiptNbr AS E_ReceiptNbr,\n",
    "                                E.ReceiptSfx AS E_ReceiptSfx,\n",
    "                                E.VndrInvNbr AS E_VndrInvNbr,\n",
    "                                E.TotWght AS E_TotWght,\n",
    "                                E.AP_VndNbr AS E_AP_VndNbr,\n",
    "                                E.APVndrName AS E_APVndrName,\n",
    "                                E.BuyrNbr AS E_BuyrNbr,\n",
    "                                E.BuyrName AS E_BuyrName,\n",
    "                                E.Contact AS E_Contact,\n",
    "                                E.AP_CheckNbr AS E_AP_CheckNbr,\n",
    "                                E.AP_CheckDate AS E_AP_CheckDate,\n",
    "                                E.AP_GrossAmt AS E_AP_GrossAmt,\n",
    "                                E.AP_DiscAmt AS E_AP_DiscAmt,\n",
    "                                E.VendorCmmnt AS E_VendorCmmnt,\n",
    "                                E.TTLVendorCmmnt_ATG AS E_TTLVendorCmmnt_ATG,\n",
    "                                E.PORemarks AS E_PORemarks,\n",
    "                                E.MultiDeal_ATG AS E_MultiDeal_ATG,\n",
    "                                E.DealOrigin_ATG AS E_DealOrigin_ATG,\n",
    "                                E.AbsDays_ATG AS E_AbsDays_ATG,\n",
    "                                E.ATG_Ref AS E_ATG_Ref,\n",
    "                                E.ATG_DL_Ref AS E_ATG_DL_Ref,\n",
    "                                E.ATG_LI_Ref AS E_ATG_LI_Ref,\n",
    "                                E.ATG_HDR_Ref AS E_ATG_HDR_Ref,\n",
    "                                E.DedBBInd AS E_DedBBInd,\n",
    "                                E.checked AS E_checked,\n",
    "                                E.CATEGORY_ATG AS E_CATEGORY_ATG,\n",
    "                                E.TrnCde_ATG AS E_TrnCde_ATG,\n",
    "                                E.Dept AS E_Dept,\n",
    "                                E.DLPctOI AS E_DLPctOI,\n",
    "                                E.DLPctBB AS E_DLPctBB,\n",
    "                                E.DLIncvPctOI AS E_DLIncvPctOI,\n",
    "                                E.DLIncvPctBB AS E_DLIncvPctBB,\n",
    "                                E.ClaimActivityID_ATGSYS AS E_ClaimActivityID_ATGSYS,\n",
    "                                E.ClaimActivityCount_ATGSYS AS E_ClaimActivityCount_ATGSYS,\n",
    "                                E.ClaimActivityTypeID_ATGSYS AS E_ClaimActivityTypeID_ATGSYS,\n",
    "                                R.ClientFamilyID_ATG AS R_ClientFamilyID_ATG,\n",
    "                                R.BusinessUnit AS R_BusinessUnit,\n",
    "                                R.ReceiptNbr AS R_ReceiptNbr,\n",
    "                                R.ReceiptSfx AS R_ReceiptSfx,\n",
    "                                R.PONbr AS R_PONbr,\n",
    "                                R.PODate AS R_PODate,\n",
    "                                R.InvoiceDate AS R_InvoiceDate,\n",
    "                                R.ReceiptDate AS R_ReceiptDate,\n",
    "                                R.InvoiceNbr AS R_InvoiceNbr,\n",
    "                                R.POVendorNbr AS R_POVendorNbr,\n",
    "                                R.POVendorName AS R_POVendorName,\n",
    "                                R.BuyerNbr AS R_BuyerNbr,\n",
    "                                R.BuyerName AS R_BuyerName,\n",
    "                                R.TermsCode AS R_TermsCode,\n",
    "                                R.TermsRate AS R_TermsRate,\n",
    "                                R.TermsDays AS R_TermsDays,\n",
    "                                R.TermsNet AS R_TermsNet,\n",
    "                                R.TermsTyp AS R_TermsTyp,\n",
    "                                R.DaysPd_ATG AS R_DaysPd_ATG,\n",
    "                                R.AP_VendorNbr AS R_AP_VendorNbr,\n",
    "                                R.AP_VendorName AS R_AP_VendorName,\n",
    "                                R.AP_InvoiceNbr AS R_AP_InvoiceNbr,\n",
    "                                R.AP_InvoiceDate AS R_AP_InvoiceDate,\n",
    "                                R.AP_InvoiceAmt AS R_AP_InvoiceAmt,\n",
    "                                R.AP_DiscAmt AS R_AP_DiscAmt,\n",
    "                                R.AP_CheckNbr AS R_AP_CheckNbr,\n",
    "                                R.AP_CheckDate AS R_AP_CheckDate,\n",
    "                                R.ATG_AP_Ref1 AS R_ATG_AP_Ref1,\n",
    "                                R.ATG_AP_Ref2 AS R_ATG_AP_Ref2,\n",
    "                                R.AP_InvoiceCnt_ATG AS R_AP_InvoiceCnt_ATG,\n",
    "                                R.MatchFlag_ATG AS R_MatchFlag_ATG,\n",
    "                                R.BalFlag_ATG AS R_BalFlag_ATG,\n",
    "                                R.OOB_ATG AS R_OOB_ATG,\n",
    "                                R.MiscAdj_ATG AS R_MiscAdj_ATG,\n",
    "                                R.PaymentSB_ATG AS R_PaymentSB_ATG,\n",
    "                                R.POPaySB_ATG AS R_POPaySB_ATG,\n",
    "                                R.InvoicePaySB_ATG AS R_InvoicePaySB_ATG,\n",
    "                                R.NetSB_ATG AS R_NetSB_ATG,\n",
    "                                R.GrossWght AS R_GrossWght,\n",
    "                                R.UnitOfWeight AS R_UnitOfWeight,\n",
    "                                R.DocType AS R_DocType,\n",
    "                                R.SourceFile_ATG AS R_SourceFile_ATG,\n",
    "                                R.ATG_Ref AS R_ATG_Ref,\n",
    "                                R.Facility AS R_Facility,\n",
    "                                R.APVndrName AS R_APVndrName,\n",
    "                                R.PurVndrLeadTm AS R_PurVndrLeadTm,\n",
    "                                R.InvDueDate AS R_InvDueDate,\n",
    "                                R.InvApprvDate AS R_InvApprvDate,\n",
    "                                R.InvEnteredDate AS R_InvEnteredDate,\n",
    "                                R.VndrDealStatus AS R_VndrDealStatus,\n",
    "                                R.InvStatus AS R_InvStatus,\n",
    "                                R.EstArrvlDate AS R_EstArrvlDate,\n",
    "                                R.BuyrExcptnDate AS R_BuyrExcptnDate,\n",
    "                                R.BuyrOKDate AS R_BuyrOKDate,\n",
    "                                R.LiabPosting AS R_LiabPosting,\n",
    "                                R.StoreCost AS R_StoreCost,\n",
    "                                R.DSDInvFlg AS R_DSDInvFlg,\n",
    "                                R.TTLAmt_ATG AS R_TTLAmt_ATG,\n",
    "                                R.Amt1 AS R_Amt1,\n",
    "                                R.AcctNbr1 AS R_AcctNbr1,\n",
    "                                R.Amt2 AS R_Amt2,\n",
    "                                R.AcctNbr2 AS R_AcctNbr2,\n",
    "                                R.Amt3 AS R_Amt3,\n",
    "                                R.AcctNbr3 AS R_AcctNbr3,\n",
    "                                R.Amt4 AS R_Amt4,\n",
    "                                R.AcctNbr4 AS R_AcctNbr4,\n",
    "                                R.Amt5 AS R_Amt5,\n",
    "                                R.AcctNbr5 AS R_AcctNbr5,\n",
    "                                R.Amt6 AS R_Amt6,\n",
    "                                R.AcctNbr6 AS R_AcctNbr6,\n",
    "                                R.Amt7 AS R_Amt7,\n",
    "                                R.AcctNbr7 AS R_AcctNbr7,\n",
    "                                R.Amt8 AS R_Amt8,\n",
    "                                R.AcctNbr8 AS R_AcctNbr8,\n",
    "                                R.Acct9 AS R_Acct9,\n",
    "                                R.StoreNbr AS R_StoreNbr,\n",
    "                                R.PPDInvFlg AS R_PPDInvFlg,\n",
    "                                R.TTLVndrDedAmt_ATG AS R_TTLVndrDedAmt_ATG,\n",
    "                                R.VndrDedAmt1 AS R_VndrDedAmt1,\n",
    "                                R.VndrDedCde1 AS R_VndrDedCde1,\n",
    "                                R.VndrDedAmt2 AS R_VndrDedAmt2,\n",
    "                                R.VndrDedCde2 AS R_VndrDedCde2,\n",
    "                                R.VndrDedAmt3 AS R_VndrDedAmt3,\n",
    "                                R.VndrDedCde3 AS R_VndrDedCde3,\n",
    "                                R.VndrDedAmt4 AS R_VndrDedAmt4,\n",
    "                                R.VndrDedCde4 AS R_VndrDedCde4,\n",
    "                                R.VndrDedAmt5 AS R_VndrDedAmt5,\n",
    "                                R.VndrDedCde5 AS R_VndrDedCde5,\n",
    "                                R.VndrDedAmt6 AS R_VndrDedAmt6,\n",
    "                                R.VndrDedCde6 AS R_VndrDedCde6,\n",
    "                                R.VndrDedAmt7 AS R_VndrDedAmt7,\n",
    "                                R.VndrDedCde7 AS R_VndrDedCde7,\n",
    "                                R.VndrDedAmt8 AS R_VndrDedAmt8,\n",
    "                                R.VndrDedCde8 AS R_VndrDedCde8,\n",
    "                                R.VndrDedAmt9 AS R_VndrDedAmt9,\n",
    "                                R.VndrDedCde9 AS R_VndrDedCde9,\n",
    "                                R.TTLVendorCmmnt_ATG AS R_TTLVendorCmmnt_ATG,\n",
    "                                R.PORemarks AS R_PORemarks,\n",
    "                                R.InvEnteredUsrNbr AS R_InvEnteredUsrNbr,\n",
    "                                R.InvApprvdUsrNbr AS R_InvApprvdUsrNbr,\n",
    "                                R.VendorCmmnt AS R_VendorCmmnt,\n",
    "                                R.PeriodInd AS R_PeriodInd,\n",
    "                                R.TotPallts AS R_TotPallts,\n",
    "                                R.TotDzns AS R_TotDzns,\n",
    "                                R.ItemExcptnCt AS R_ItemExcptnCt,\n",
    "                                R.VndrItemDedctns AS R_VndrItemDedctns,\n",
    "                                R.VndrUpDnCde AS R_VndrUpDnCde,\n",
    "                                R.VndrUpDnRate AS R_VndrUpDnRate,\n",
    "                                R.VndrUpDnTyp AS R_VndrUpDnTyp,\n",
    "                                R.VndrUpDnAmt AS R_VndrUpDnAmt,\n",
    "                                R.FrghtAllwRateTyp AS R_FrghtAllwRateTyp,\n",
    "                                R.FrghtAllwRateAmt AS R_FrghtAllwRateAmt,\n",
    "                                R.FrghtAllwAmt AS R_FrghtAllwAmt,\n",
    "                                R.FrghtAllwExTyp AS R_FrghtAllwExTyp,\n",
    "                                R.FrghtAllwExRate AS R_FrghtAllwExRate,\n",
    "                                R.PPAndAddExTyp AS R_PPAndAddExTyp,\n",
    "                                R.PPAndAddExRate AS R_PPAndAddExRate,\n",
    "                                R.FrghtPPd AS R_FrghtPPd,\n",
    "                                R.FrghtPPayAdd AS R_FrghtPPayAdd,\n",
    "                                R.FrghtBill AS R_FrghtBill,\n",
    "                                R.FrghtBckhl AS R_FrghtBckhl,\n",
    "                                R.PPAddRateTyp AS R_PPAddRateTyp,\n",
    "                                R.PPAddRateAmt AS R_PPAddRateAmt,\n",
    "                                R.PPAddAmt AS R_PPAddAmt,\n",
    "                                R.FrghtBillRateTyp AS R_FrghtBillRateTyp,\n",
    "                                R.FrghtBillRateAmt AS R_FrghtBillRateAmt,\n",
    "                                R.FrghtBillAmt AS R_FrghtBillAmt,\n",
    "                                R.BackhlRateTyp AS R_BackhlRateTyp,\n",
    "                                R.BackhlRateAmt AS R_BackhlRateAmt,\n",
    "                                R.BackhlAmt AS R_BackhlAmt,\n",
    "                                R.WhseDiscIndx1 AS R_WhseDiscIndx1,\n",
    "                                R.TotCube AS R_TotCube,\n",
    "                                R.TotQty AS R_TotQty,\n",
    "                                R.DueVendor AS R_DueVendor,\n",
    "                                R.CashDiscAmt AS R_CashDiscAmt,\n",
    "                                R.InvVndrUpDnCde AS R_InvVndrUpDnCde,\n",
    "                                R.InvVndrUpDnRate AS R_InvVndrUpDnRate,\n",
    "                                R.InvVndrUpDnTyp AS R_InvVndrUpDnTyp,\n",
    "                                R.InvVndrUpDnAmt AS R_InvVndrUpDnAmt,\n",
    "                                R.InvFrghtAllwRateTyp AS R_InvFrghtAllwRateTyp,\n",
    "                                R.InvFrghtRateAmt AS R_InvFrghtRateAmt,\n",
    "                                R.InvFrghtAllwAmt AS R_InvFrghtAllwAmt,\n",
    "                                R.InvFrghtAllwExTyp AS R_InvFrghtAllwExTyp,\n",
    "                                R.InvPPAndAddExTyp AS R_InvPPAndAddExTyp,\n",
    "                                R.InvPPAndAddExRate AS R_InvPPAndAddExRate,\n",
    "                                R.InvPPdFlg AS R_InvPPdFlg,\n",
    "                                R.InvPPAddFlg AS R_InvPPAddFlg,\n",
    "                                R.InvFrghtBillFlg AS R_InvFrghtBillFlg,\n",
    "                                R.InvBckhlFlg AS R_InvBckhlFlg,\n",
    "                                R.InvPPayAddRateTyp AS R_InvPPayAddRateTyp,\n",
    "                                R.InvPPayAddRateAmt AS R_InvPPayAddRateAmt,\n",
    "                                R.InvPPayAddAmt AS R_InvPPayAddAmt,\n",
    "                                R.InvFrghtBillRateTyp AS R_InvFrghtBillRateTyp,\n",
    "                                R.InvFrghtBillRateAmt AS R_InvFrghtBillRateAmt,\n",
    "                                R.InvFrghtBillAmt AS R_InvFrghtBillAmt,\n",
    "                                R.InvBckhlRateTyp AS R_InvBckhlRateTyp,\n",
    "                                R.InvBckhlRateAmt AS R_InvBckhlRateAmt,\n",
    "                                R.InvBckhlAmt AS R_InvBckhlAmt,\n",
    "                                R.InvTotWght AS R_InvTotWght,\n",
    "                                R.InvWhseDisc1 AS R_InvWhseDisc1,\n",
    "                                R.InvTotCube AS R_InvTotCube,\n",
    "                                R.InvTotQty AS R_InvTotQty,\n",
    "                                R.InvDueVendor AS R_InvDueVendor,\n",
    "                                R.InvCashDisc AS R_InvCashDisc,\n",
    "                                R.AdjTotWght AS R_AdjTotWght,\n",
    "                                R.AdjTotQty AS R_AdjTotQty,\n",
    "                                R.AdjRecDueVendor AS R_AdjRecDueVendor,\n",
    "                                R.AdjCashDiscAmt AS R_AdjCashDiscAmt,\n",
    "                                R.AdjInvDueVendor AS R_AdjInvDueVendor,\n",
    "                                R.FrghtBillPdInd AS R_FrghtBillPdInd,\n",
    "                                R.RecptRecapBuiltInd AS R_RecptRecapBuiltInd,\n",
    "                                R.FrstItemDept AS R_FrstItemDept,\n",
    "                                R.TakeBBDate AS R_TakeBBDate,\n",
    "                                R.TotVarWght AS R_TotVarWght,\n",
    "                                R.TotNonVarWghtQty AS R_TotNonVarWghtQty,\n",
    "                                R.APVndrAddr1 AS R_APVndrAddr1,\n",
    "                                R.APVndrAddr2 AS R_APVndrAddr2,\n",
    "                                R.PurVndrAddr AS R_PurVndrAddr,\n",
    "                                R.WhseDiscAmt AS R_WhseDiscAmt,\n",
    "                                R.InvWhseDiscAmt AS R_InvWhseDiscAmt,\n",
    "                                R.ReconcldDate AS R_ReconcldDate,\n",
    "                                R.BBAmt AS R_BBAmt,\n",
    "                                R.APVendorNbr AS R_APVendorNbr,\n",
    "                                R.RecvgCorrInd AS R_RecvgCorrInd,\n",
    "                                R.ManualChk AS R_ManualChk,\n",
    "                                R.EFTVndr AS R_EFTVndr,\n",
    "                                R.InterCmpny AS R_InterCmpny,\n",
    "                                R.ShippedDate AS R_ShippedDate,\n",
    "                                R.RemittanceNbr AS R_RemittanceNbr,\n",
    "                                R.ApprvlInd AS R_ApprvlInd,\n",
    "                                R.TotRecvdCost AS R_TotRecvdCost,\n",
    "                                R.TotInvntryAdj AS R_TotInvntryAdj,\n",
    "                                R.TotInvoiceDed AS R_TotInvoiceDed,\n",
    "                                R.TotBB AS R_TotBB,\n",
    "                                R.Tot3rdPtyBkhl AS R_Tot3rdPtyBkhl,\n",
    "                                R.TotCollect AS R_TotCollect,\n",
    "                                R.TotBckhl AS R_TotBckhl,\n",
    "                                R.TotNetCost AS R_TotNetCost,\n",
    "                                R.Divrtr AS R_Divrtr,\n",
    "                                R.FrghtTypBillInd AS R_FrghtTypBillInd,\n",
    "                                R.InvFrghtTypBillInd AS R_InvFrghtTypBillInd,\n",
    "                                R.CloseInd AS R_CloseInd,\n",
    "                                R.InvTotWghtEnt AS R_InvTotWghtEnt,\n",
    "                                R.NbrOfItems AS R_NbrOfItems,\n",
    "                                R.PONbrChngInd AS R_PONbrChngInd,\n",
    "                                R.CRInvFlg AS R_CRInvFlg,\n",
    "                                R.InvTermsRate AS R_InvTermsRate,\n",
    "                                R.InvTermsDays AS R_InvTermsDays,\n",
    "                                R.InvTermsNet AS R_InvTermsNet,\n",
    "                                R.OrigPrintInd AS R_OrigPrintInd,\n",
    "                                R.LtrOfCRInd AS R_LtrOfCRInd,\n",
    "                                R.Re_PrntInd AS R_Re_PrntInd,\n",
    "                                R.DedctBBInd AS R_DedctBBInd,\n",
    "                                R.RetailChain AS R_RetailChain,\n",
    "                                R.DedBBInd AS R_DedBBInd,\n",
    "                                R.DedctShortdDealInd AS R_DedctShortdDealInd,\n",
    "                                R.InvFirmDate AS R_InvFirmDate,\n",
    "                                R.HdrTxCode1 AS R_HdrTxCode1,\n",
    "                                R.HdrTxProcFlg1 AS R_HdrTxProcFlg1,\n",
    "                                R.HdrTxCode2 AS R_HdrTxCode2,\n",
    "                                R.HdrTxProcFlg2 AS R_HdrTxProcFlg2,\n",
    "                                R.HdrTxCode3 AS R_HdrTxCode3,\n",
    "                                R.HdrTxProcFlg3 AS R_HdrTxProcFlg3,\n",
    "                                R.HdrTxCode4 AS R_HdrTxCode4,\n",
    "                                R.HdrTxProcFlg4 AS R_HdrTxProcFlg4,\n",
    "                                R.HdrTxCode5 AS R_HdrTxCode5,\n",
    "                                R.HdrTxProcFlg5 AS R_HdrTxProcFlg5,\n",
    "                                R.OrdType AS R_OrdType,\n",
    "                                R.TotNonTruckFrt AS R_TotNonTruckFrt,\n",
    "                                R.UpdtDate AS R_UpdtDate,\n",
    "                                R.UpdateTm AS R_UpdateTm,\n",
    "                                R.RemitMsg AS R_RemitMsg,\n",
    "                                R.FactorVndrNBr AS R_FactorVndrNBr,\n",
    "                                R.APVndrCity AS R_APVndrCity,\n",
    "                                R.APVndrState AS R_APVndrState,\n",
    "                                R.APVndrZip AS R_APVndrZip,\n",
    "                                R.APVndrZipSfx AS R_APVndrZipSfx,\n",
    "                                R.ActvContrct AS R_ActvContrct,\n",
    "                                R.VndrThreshAtPg AS R_VndrThreshAtPg,\n",
    "                                R.CODInd AS R_CODInd,\n",
    "                                R.CntrctInd AS R_CntrctInd,\n",
    "                                R.ECHInd AS R_ECHInd,\n",
    "                                R.CMARecnclCt AS R_CMARecnclCt,\n",
    "                                R.InvFuelAllowAmt AS R_InvFuelAllowAmt,\n",
    "                                R.APChkNbr AS R_APChkNbr,\n",
    "                                R.EDIDueInd AS R_EDIDueInd,\n",
    "                                R.SwellRecvdPct AS R_SwellRecvdPct,\n",
    "                                R.SwellBasis AS R_SwellBasis,\n",
    "                                R.SwellAllwAmt AS R_SwellAllwAmt,\n",
    "                                R.InvSwellAllwAmt AS R_InvSwellAllwAmt,\n",
    "                                R.SwellAllwPostg AS R_SwellAllwPostg,\n",
    "                                R.SwellAllwAcct AS R_SwellAllwAcct,\n",
    "                                R.PUpDate AS R_PUpDate,\n",
    "                                R.VerifDate AS R_VerifDate,\n",
    "                                R.EDIInvInd AS R_EDIInvInd,\n",
    "                                R.EDIPOInd AS R_EDIPOInd,\n",
    "                                R.ATG_Ref_Orig AS R_ATG_Ref_Orig,\n",
    "                                R.AP_Comment AS R_AP_Comment,\n",
    "                                R.Tolerance AS R_Tolerance,\n",
    "                                R.ShortAllow AS R_ShortAllow,\n",
    "                                R.OIDeduct AS R_OIDeduct,\n",
    "                                R.Balancing AS R_Balancing,\n",
    "                                R.AP_OOBChk AS R_AP_OOBChk,\n",
    "                                R.PdHdrFrtVar_ATG AS R_PdHdrFrtVar_ATG,\n",
    "                                R.PdSwellAllow_ATG AS R_PdSwellAllow_ATG,\n",
    "                                R.PONet_ATG AS R_PONet_ATG,\n",
    "                                R.InvNet_ATG AS R_InvNet_ATG,\n",
    "                                R.ClaimActivityID_ATGSYS AS R_ClaimActivityID_ATGSYS\n",
    "                FROM [MOE].[prod_WeisMarkets_RecoverNow].[dbo].[ATG_DealLI_Exceptions] AS E\n",
    "                JOIN [MOE].[prod_WeisMarkets_RecoverNow].[dbo].[ATG_RCPT_HDR] AS R\n",
    "                                ON E.ATG_Hdr_Ref = R.ATG_Ref\n",
    "                WHERE\n",
    "                checked='false'\n",
    "                ) t\n",
    "                WHERE\n",
    "                row_num > 2\n",
    "\n",
    "    UNION-- ALL\n",
    "\n",
    "    SELECT * FROM(\n",
    "                SELECT  \n",
    "                                ROW_NUMBER() OVER (ORDER BY ATG_HDR_REF) row_num,\n",
    "                                E.BatchNbr AS E_BatchNbr,\n",
    "                                E.PODate AS E_PODate,\n",
    "                                E.ReceivingDate AS E_ReceivingDate,\n",
    "                                E.InvoicedDate AS E_InvoicedDate,\n",
    "                                E.OIDue_ATG AS E_OIDue_ATG,\n",
    "                                E.BBDue_ATG AS E_BBDue_ATG,\n",
    "                                E.ClaimType AS E_ClaimType,\n",
    "                                E.Shoulder_ATG AS E_Shoulder_ATG,\n",
    "                                E.DtMatch_ATG AS E_DtMatch_ATG,\n",
    "                                E.ItemNbr AS E_ItemNbr,\n",
    "                                E.ItemDescription AS E_ItemDescription,\n",
    "                                E.ItemShipPack AS E_ItemShipPack,\n",
    "                                E.PoNbr AS E_PoNbr,\n",
    "                                E.DealNbr AS E_DealNbr,\n",
    "                                E.ATG_IR AS E_ATG_IR,\n",
    "                                E.OrdStartDate_ATG AS E_OrdStartDate_ATG,\n",
    "                                E.OrdEndDate_ATG AS E_OrdEndDate_ATG,\n",
    "                                E.DateStartArrival_ATG AS E_DateStartArrival_ATG,\n",
    "                                E.DateEndArrival_ATG AS E_DateEndArrival_ATG,\n",
    "                                E.AddDate AS E_AddDate,\n",
    "                                E.DLAmtOI AS E_DLAmtOI,\n",
    "                                E.DLAmtBB AS E_DLAmtBB,\n",
    "                                E.TurnRatio_ATG AS E_TurnRatio_ATG,\n",
    "                                E.OrdQty AS E_OrdQty,\n",
    "                                E.PdQty_ATG AS E_PdQty_ATG,\n",
    "                                E.PdNetSB_ATG AS E_PdNetSB_ATG,\n",
    "                                E.PdNet_ATG AS E_PdNet_ATG,\n",
    "                                E.PdOI_ATG AS E_PdOI_ATG,\n",
    "                                E.PdBB_ATG AS E_PdBB_ATG,\n",
    "                                E.PdGross_ATG AS E_PdGross_ATG,\n",
    "                                E.ListcostAtStart AS E_ListcostAtStart,\n",
    "                                E.ListCostSB_ATG AS E_ListCostSB_ATG,\n",
    "                                E.BestOI_ATG AS E_BestOI_ATG,\n",
    "                                E.BestBB_ATG AS E_BestBB_ATG,\n",
    "                                E.DQ_Reason_ATG AS E_DQ_Reason_ATG,\n",
    "                                E.ClaimedAmt AS E_ClaimedAmt,\n",
    "                                E.AR_AdjTyp AS E_AR_AdjTyp,\n",
    "                                E.AR_Amount AS E_AR_Amount,\n",
    "                                E.AR_InvNbr AS E_AR_InvNbr,\n",
    "                                E.AR_InvNbr2 AS E_AR_InvNbr2,\n",
    "                                E.UPCNbr AS E_UPCNbr,\n",
    "                                E.UPCUnit AS E_UPCUnit,\n",
    "                                E.TurnQty_ATG AS E_TurnQty_ATG,\n",
    "                                E.TruckSize_ATG AS E_TruckSize_ATG,\n",
    "                                E.PdUpDn_ATG AS E_PdUpDn_ATG,\n",
    "                                E.BalFlag_ATG AS E_BalFlag_ATG,\n",
    "                                E.OOB_ATG AS E_OOB_ATG,\n",
    "                                E.MiscAdj_ATG AS E_MiscAdj_ATG,\n",
    "                                E.DLVendorNbr AS E_DLVendorNbr,\n",
    "                                E.DealVendorName AS E_DealVendorName,\n",
    "                                E.PurVndrNbr AS E_PurVndrNbr,\n",
    "                                E.PurVndrName AS E_PurVndrName,\n",
    "                                E.Facility AS E_Facility,\n",
    "                                E.ReceiptNbr AS E_ReceiptNbr,\n",
    "                                E.ReceiptSfx AS E_ReceiptSfx,\n",
    "                                E.VndrInvNbr AS E_VndrInvNbr,\n",
    "                                E.TotWght AS E_TotWght,\n",
    "                                E.AP_VndNbr AS E_AP_VndNbr,\n",
    "                                E.APVndrName AS E_APVndrName,\n",
    "                                E.BuyrNbr AS E_BuyrNbr,\n",
    "                                E.BuyrName AS E_BuyrName,\n",
    "                                E.Contact AS E_Contact,\n",
    "                                E.AP_CheckNbr AS E_AP_CheckNbr,\n",
    "                                E.AP_CheckDate AS E_AP_CheckDate,\n",
    "                                E.AP_GrossAmt AS E_AP_GrossAmt,\n",
    "                                E.AP_DiscAmt AS E_AP_DiscAmt,\n",
    "                                E.VendorCmmnt AS E_VendorCmmnt,\n",
    "                                E.TTLVendorCmmnt_ATG AS E_TTLVendorCmmnt_ATG,\n",
    "                                E.PORemarks AS E_PORemarks,\n",
    "                                E.MultiDeal_ATG AS E_MultiDeal_ATG,\n",
    "                                E.DealOrigin_ATG AS E_DealOrigin_ATG,\n",
    "                                E.AbsDays_ATG AS E_AbsDays_ATG,\n",
    "                                E.ATG_Ref AS E_ATG_Ref,\n",
    "                                E.ATG_DL_Ref AS E_ATG_DL_Ref,\n",
    "                                E.ATG_LI_Ref AS E_ATG_LI_Ref,\n",
    "                                E.ATG_HDR_Ref AS E_ATG_HDR_Ref,\n",
    "                                E.DedBBInd AS E_DedBBInd,\n",
    "                                E.checked AS E_checked,\n",
    "                                E.CATEGORY_ATG AS E_CATEGORY_ATG,\n",
    "                                E.TrnCde_ATG AS E_TrnCde_ATG,\n",
    "                                E.Dept AS E_Dept,\n",
    "                                E.DLPctOI AS E_DLPctOI,\n",
    "                                E.DLPctBB AS E_DLPctBB,\n",
    "                                E.DLIncvPctOI AS E_DLIncvPctOI,\n",
    "                                E.DLIncvPctBB AS E_DLIncvPctBB,\n",
    "                                E.ClaimActivityID_ATGSYS AS E_ClaimActivityID_ATGSYS,\n",
    "                                E.ClaimActivityCount_ATGSYS AS E_ClaimActivityCount_ATGSYS,\n",
    "                                E.ClaimActivityTypeID_ATGSYS AS E_ClaimActivityTypeID_ATGSYS,\n",
    "                                R.ClientFamilyID_ATG AS R_ClientFamilyID_ATG,\n",
    "                                R.BusinessUnit AS R_BusinessUnit,\n",
    "                                R.ReceiptNbr AS R_ReceiptNbr,\n",
    "                                R.ReceiptSfx AS R_ReceiptSfx,\n",
    "                                R.PONbr AS R_PONbr,\n",
    "                                R.PODate AS R_PODate,\n",
    "                                R.InvoiceDate AS R_InvoiceDate,\n",
    "                                R.ReceiptDate AS R_ReceiptDate,\n",
    "                                R.InvoiceNbr AS R_InvoiceNbr,\n",
    "                                R.POVendorNbr AS R_POVendorNbr,\n",
    "                                R.POVendorName AS R_POVendorName,\n",
    "                                R.BuyerNbr AS R_BuyerNbr,\n",
    "                                R.BuyerName AS R_BuyerName,\n",
    "                                R.TermsCode AS R_TermsCode,\n",
    "                                R.TermsRate AS R_TermsRate,\n",
    "                                R.TermsDays AS R_TermsDays,\n",
    "                                R.TermsNet AS R_TermsNet,\n",
    "                                R.TermsTyp AS R_TermsTyp,\n",
    "                                R.DaysPd_ATG AS R_DaysPd_ATG,\n",
    "                                R.AP_VendorNbr AS R_AP_VendorNbr,\n",
    "                                R.AP_VendorName AS R_AP_VendorName,\n",
    "                                R.AP_InvoiceNbr AS R_AP_InvoiceNbr,\n",
    "                                R.AP_InvoiceDate AS R_AP_InvoiceDate,\n",
    "                                R.AP_InvoiceAmt AS R_AP_InvoiceAmt,\n",
    "                                R.AP_DiscAmt AS R_AP_DiscAmt,\n",
    "                                R.AP_CheckNbr AS R_AP_CheckNbr,\n",
    "                                R.AP_CheckDate AS R_AP_CheckDate,\n",
    "                                R.ATG_AP_Ref1 AS R_ATG_AP_Ref1,\n",
    "                                R.ATG_AP_Ref2 AS R_ATG_AP_Ref2,\n",
    "                                R.AP_InvoiceCnt_ATG AS R_AP_InvoiceCnt_ATG,\n",
    "                                R.MatchFlag_ATG AS R_MatchFlag_ATG,\n",
    "                                R.BalFlag_ATG AS R_BalFlag_ATG,\n",
    "                                R.OOB_ATG AS R_OOB_ATG,\n",
    "                                R.MiscAdj_ATG AS R_MiscAdj_ATG,\n",
    "                                R.PaymentSB_ATG AS R_PaymentSB_ATG,\n",
    "                                R.POPaySB_ATG AS R_POPaySB_ATG,\n",
    "                                R.InvoicePaySB_ATG AS R_InvoicePaySB_ATG,\n",
    "                                R.NetSB_ATG AS R_NetSB_ATG,\n",
    "                                R.GrossWght AS R_GrossWght,\n",
    "                                R.UnitOfWeight AS R_UnitOfWeight,\n",
    "                                R.DocType AS R_DocType,\n",
    "                                R.SourceFile_ATG AS R_SourceFile_ATG,\n",
    "                                R.ATG_Ref AS R_ATG_Ref,\n",
    "                                R.Facility AS R_Facility,\n",
    "                                R.APVndrName AS R_APVndrName,\n",
    "                                R.PurVndrLeadTm AS R_PurVndrLeadTm,\n",
    "                                R.InvDueDate AS R_InvDueDate,\n",
    "                                R.InvApprvDate AS R_InvApprvDate,\n",
    "                                R.InvEnteredDate AS R_InvEnteredDate,\n",
    "                                R.VndrDealStatus AS R_VndrDealStatus,\n",
    "                                R.InvStatus AS R_InvStatus,\n",
    "                                R.EstArrvlDate AS R_EstArrvlDate,\n",
    "                                R.BuyrExcptnDate AS R_BuyrExcptnDate,\n",
    "                                R.BuyrOKDate AS R_BuyrOKDate,\n",
    "                                R.LiabPosting AS R_LiabPosting,\n",
    "                                R.StoreCost AS R_StoreCost,\n",
    "                                R.DSDInvFlg AS R_DSDInvFlg,\n",
    "                                R.TTLAmt_ATG AS R_TTLAmt_ATG,\n",
    "                                R.Amt1 AS R_Amt1,\n",
    "                                R.AcctNbr1 AS R_AcctNbr1,\n",
    "                                R.Amt2 AS R_Amt2,\n",
    "                                R.AcctNbr2 AS R_AcctNbr2,\n",
    "                                R.Amt3 AS R_Amt3,\n",
    "                                R.AcctNbr3 AS R_AcctNbr3,\n",
    "                                R.Amt4 AS R_Amt4,\n",
    "                                R.AcctNbr4 AS R_AcctNbr4,\n",
    "                                R.Amt5 AS R_Amt5,\n",
    "                                R.AcctNbr5 AS R_AcctNbr5,\n",
    "                                R.Amt6 AS R_Amt6,\n",
    "                                R.AcctNbr6 AS R_AcctNbr6,\n",
    "                                R.Amt7 AS R_Amt7,\n",
    "                                R.AcctNbr7 AS R_AcctNbr7,\n",
    "                                R.Amt8 AS R_Amt8,\n",
    "                                R.AcctNbr8 AS R_AcctNbr8,\n",
    "                                R.Acct9 AS R_Acct9,\n",
    "                                R.StoreNbr AS R_StoreNbr,\n",
    "                                R.PPDInvFlg AS R_PPDInvFlg,\n",
    "                                R.TTLVndrDedAmt_ATG AS R_TTLVndrDedAmt_ATG,\n",
    "                                R.VndrDedAmt1 AS R_VndrDedAmt1,\n",
    "                                R.VndrDedCde1 AS R_VndrDedCde1,\n",
    "                                R.VndrDedAmt2 AS R_VndrDedAmt2,\n",
    "                                R.VndrDedCde2 AS R_VndrDedCde2,\n",
    "                                R.VndrDedAmt3 AS R_VndrDedAmt3,\n",
    "                                R.VndrDedCde3 AS R_VndrDedCde3,\n",
    "                                R.VndrDedAmt4 AS R_VndrDedAmt4,\n",
    "                                R.VndrDedCde4 AS R_VndrDedCde4,\n",
    "                                R.VndrDedAmt5 AS R_VndrDedAmt5,\n",
    "                                R.VndrDedCde5 AS R_VndrDedCde5,\n",
    "                                R.VndrDedAmt6 AS R_VndrDedAmt6,\n",
    "                                R.VndrDedCde6 AS R_VndrDedCde6,\n",
    "                                R.VndrDedAmt7 AS R_VndrDedAmt7,\n",
    "                                R.VndrDedCde7 AS R_VndrDedCde7,\n",
    "                                R.VndrDedAmt8 AS R_VndrDedAmt8,\n",
    "                                R.VndrDedCde8 AS R_VndrDedCde8,\n",
    "                                R.VndrDedAmt9 AS R_VndrDedAmt9,\n",
    "                                R.VndrDedCde9 AS R_VndrDedCde9,\n",
    "                                R.TTLVendorCmmnt_ATG AS R_TTLVendorCmmnt_ATG,\n",
    "                                R.PORemarks AS R_PORemarks,\n",
    "                                R.InvEnteredUsrNbr AS R_InvEnteredUsrNbr,\n",
    "                                R.InvApprvdUsrNbr AS R_InvApprvdUsrNbr,\n",
    "                                R.VendorCmmnt AS R_VendorCmmnt,\n",
    "                                R.PeriodInd AS R_PeriodInd,\n",
    "                                R.TotPallts AS R_TotPallts,\n",
    "                                R.TotDzns AS R_TotDzns,\n",
    "                                R.ItemExcptnCt AS R_ItemExcptnCt,\n",
    "                                R.VndrItemDedctns AS R_VndrItemDedctns,\n",
    "                                R.VndrUpDnCde AS R_VndrUpDnCde,\n",
    "                                R.VndrUpDnRate AS R_VndrUpDnRate,\n",
    "                                R.VndrUpDnTyp AS R_VndrUpDnTyp,\n",
    "                                R.VndrUpDnAmt AS R_VndrUpDnAmt,\n",
    "                                R.FrghtAllwRateTyp AS R_FrghtAllwRateTyp,\n",
    "                                R.FrghtAllwRateAmt AS R_FrghtAllwRateAmt,\n",
    "                                R.FrghtAllwAmt AS R_FrghtAllwAmt,\n",
    "                                R.FrghtAllwExTyp AS R_FrghtAllwExTyp,\n",
    "                                R.FrghtAllwExRate AS R_FrghtAllwExRate,\n",
    "                                R.PPAndAddExTyp AS R_PPAndAddExTyp,\n",
    "                                R.PPAndAddExRate AS R_PPAndAddExRate,\n",
    "                                R.FrghtPPd AS R_FrghtPPd,\n",
    "                                R.FrghtPPayAdd AS R_FrghtPPayAdd,\n",
    "                                R.FrghtBill AS R_FrghtBill,\n",
    "                                R.FrghtBckhl AS R_FrghtBckhl,\n",
    "                                R.PPAddRateTyp AS R_PPAddRateTyp,\n",
    "                                R.PPAddRateAmt AS R_PPAddRateAmt,\n",
    "                                R.PPAddAmt AS R_PPAddAmt,\n",
    "                                R.FrghtBillRateTyp AS R_FrghtBillRateTyp,\n",
    "                                R.FrghtBillRateAmt AS R_FrghtBillRateAmt,\n",
    "                                R.FrghtBillAmt AS R_FrghtBillAmt,\n",
    "                                R.BackhlRateTyp AS R_BackhlRateTyp,\n",
    "                                R.BackhlRateAmt AS R_BackhlRateAmt,\n",
    "                                R.BackhlAmt AS R_BackhlAmt,\n",
    "                                R.WhseDiscIndx1 AS R_WhseDiscIndx1,\n",
    "                                R.TotCube AS R_TotCube,\n",
    "                                R.TotQty AS R_TotQty,\n",
    "                                R.DueVendor AS R_DueVendor,\n",
    "                                R.CashDiscAmt AS R_CashDiscAmt,\n",
    "                                R.InvVndrUpDnCde AS R_InvVndrUpDnCde,\n",
    "                                R.InvVndrUpDnRate AS R_InvVndrUpDnRate,\n",
    "                                R.InvVndrUpDnTyp AS R_InvVndrUpDnTyp,\n",
    "                                R.InvVndrUpDnAmt AS R_InvVndrUpDnAmt,\n",
    "                                R.InvFrghtAllwRateTyp AS R_InvFrghtAllwRateTyp,\n",
    "                                R.InvFrghtRateAmt AS R_InvFrghtRateAmt,\n",
    "                                R.InvFrghtAllwAmt AS R_InvFrghtAllwAmt,\n",
    "                                R.InvFrghtAllwExTyp AS R_InvFrghtAllwExTyp,\n",
    "                                R.InvPPAndAddExTyp AS R_InvPPAndAddExTyp,\n",
    "                                R.InvPPAndAddExRate AS R_InvPPAndAddExRate,\n",
    "                                R.InvPPdFlg AS R_InvPPdFlg,\n",
    "                                R.InvPPAddFlg AS R_InvPPAddFlg,\n",
    "                                R.InvFrghtBillFlg AS R_InvFrghtBillFlg,\n",
    "                                R.InvBckhlFlg AS R_InvBckhlFlg,\n",
    "                                R.InvPPayAddRateTyp AS R_InvPPayAddRateTyp,\n",
    "                                R.InvPPayAddRateAmt AS R_InvPPayAddRateAmt,\n",
    "                                R.InvPPayAddAmt AS R_InvPPayAddAmt,\n",
    "                                R.InvFrghtBillRateTyp AS R_InvFrghtBillRateTyp,\n",
    "                                R.InvFrghtBillRateAmt AS R_InvFrghtBillRateAmt,\n",
    "                                R.InvFrghtBillAmt AS R_InvFrghtBillAmt,\n",
    "                                R.InvBckhlRateTyp AS R_InvBckhlRateTyp,\n",
    "                                R.InvBckhlRateAmt AS R_InvBckhlRateAmt,\n",
    "                                R.InvBckhlAmt AS R_InvBckhlAmt,\n",
    "                                R.InvTotWght AS R_InvTotWght,\n",
    "                                R.InvWhseDisc1 AS R_InvWhseDisc1,\n",
    "                                R.InvTotCube AS R_InvTotCube,\n",
    "                                R.InvTotQty AS R_InvTotQty,\n",
    "                                R.InvDueVendor AS R_InvDueVendor,\n",
    "                                R.InvCashDisc AS R_InvCashDisc,\n",
    "                                R.AdjTotWght AS R_AdjTotWght,\n",
    "                                R.AdjTotQty AS R_AdjTotQty,\n",
    "                                R.AdjRecDueVendor AS R_AdjRecDueVendor,\n",
    "                                R.AdjCashDiscAmt AS R_AdjCashDiscAmt,\n",
    "                                R.AdjInvDueVendor AS R_AdjInvDueVendor,\n",
    "                                R.FrghtBillPdInd AS R_FrghtBillPdInd,\n",
    "                                R.RecptRecapBuiltInd AS R_RecptRecapBuiltInd,\n",
    "                                R.FrstItemDept AS R_FrstItemDept,\n",
    "                                R.TakeBBDate AS R_TakeBBDate,\n",
    "                                R.TotVarWght AS R_TotVarWght,\n",
    "                                R.TotNonVarWghtQty AS R_TotNonVarWghtQty,\n",
    "                                R.APVndrAddr1 AS R_APVndrAddr1,\n",
    "                                R.APVndrAddr2 AS R_APVndrAddr2,\n",
    "                                R.PurVndrAddr AS R_PurVndrAddr,\n",
    "                                R.WhseDiscAmt AS R_WhseDiscAmt,\n",
    "                                R.InvWhseDiscAmt AS R_InvWhseDiscAmt,\n",
    "                                R.ReconcldDate AS R_ReconcldDate,\n",
    "                                R.BBAmt AS R_BBAmt,\n",
    "                                R.APVendorNbr AS R_APVendorNbr,\n",
    "                                R.RecvgCorrInd AS R_RecvgCorrInd,\n",
    "                                R.ManualChk AS R_ManualChk,\n",
    "                                R.EFTVndr AS R_EFTVndr,\n",
    "                                R.InterCmpny AS R_InterCmpny,\n",
    "                                R.ShippedDate AS R_ShippedDate,\n",
    "                                R.RemittanceNbr AS R_RemittanceNbr,\n",
    "                                R.ApprvlInd AS R_ApprvlInd,\n",
    "                                R.TotRecvdCost AS R_TotRecvdCost,\n",
    "                                R.TotInvntryAdj AS R_TotInvntryAdj,\n",
    "                                R.TotInvoiceDed AS R_TotInvoiceDed,\n",
    "                                R.TotBB AS R_TotBB,\n",
    "                                R.Tot3rdPtyBkhl AS R_Tot3rdPtyBkhl,\n",
    "                                R.TotCollect AS R_TotCollect,\n",
    "                                R.TotBckhl AS R_TotBckhl,\n",
    "                                R.TotNetCost AS R_TotNetCost,\n",
    "                                R.Divrtr AS R_Divrtr,\n",
    "                                R.FrghtTypBillInd AS R_FrghtTypBillInd,\n",
    "                                R.InvFrghtTypBillInd AS R_InvFrghtTypBillInd,\n",
    "                                R.CloseInd AS R_CloseInd,\n",
    "                                R.InvTotWghtEnt AS R_InvTotWghtEnt,\n",
    "                                R.NbrOfItems AS R_NbrOfItems,\n",
    "                                R.PONbrChngInd AS R_PONbrChngInd,\n",
    "                                R.CRInvFlg AS R_CRInvFlg,\n",
    "                                R.InvTermsRate AS R_InvTermsRate,\n",
    "                                R.InvTermsDays AS R_InvTermsDays,\n",
    "                                R.InvTermsNet AS R_InvTermsNet,\n",
    "                                R.OrigPrintInd AS R_OrigPrintInd,\n",
    "                                R.LtrOfCRInd AS R_LtrOfCRInd,\n",
    "                                R.Re_PrntInd AS R_Re_PrntInd,\n",
    "                                R.DedctBBInd AS R_DedctBBInd,\n",
    "                                R.RetailChain AS R_RetailChain,\n",
    "                                R.DedBBInd AS R_DedBBInd,\n",
    "                                R.DedctShortdDealInd AS R_DedctShortdDealInd,\n",
    "                                R.InvFirmDate AS R_InvFirmDate,\n",
    "                                R.HdrTxCode1 AS R_HdrTxCode1,\n",
    "                                R.HdrTxProcFlg1 AS R_HdrTxProcFlg1,\n",
    "                                R.HdrTxCode2 AS R_HdrTxCode2,\n",
    "                                R.HdrTxProcFlg2 AS R_HdrTxProcFlg2,\n",
    "                                R.HdrTxCode3 AS R_HdrTxCode3,\n",
    "                                R.HdrTxProcFlg3 AS R_HdrTxProcFlg3,\n",
    "                                R.HdrTxCode4 AS R_HdrTxCode4,\n",
    "                                R.HdrTxProcFlg4 AS R_HdrTxProcFlg4,\n",
    "                                R.HdrTxCode5 AS R_HdrTxCode5,\n",
    "                                R.HdrTxProcFlg5 AS R_HdrTxProcFlg5,\n",
    "                                R.OrdType AS R_OrdType,\n",
    "                                R.TotNonTruckFrt AS R_TotNonTruckFrt,\n",
    "                                R.UpdtDate AS R_UpdtDate,\n",
    "                                R.UpdateTm AS R_UpdateTm,\n",
    "                                R.RemitMsg AS R_RemitMsg,\n",
    "                                R.FactorVndrNBr AS R_FactorVndrNBr,\n",
    "                                R.APVndrCity AS R_APVndrCity,\n",
    "                                R.APVndrState AS R_APVndrState,\n",
    "                                R.APVndrZip AS R_APVndrZip,\n",
    "                                R.APVndrZipSfx AS R_APVndrZipSfx,\n",
    "                                R.ActvContrct AS R_ActvContrct,\n",
    "                                R.VndrThreshAtPg AS R_VndrThreshAtPg,\n",
    "                                R.CODInd AS R_CODInd,\n",
    "                                R.CntrctInd AS R_CntrctInd,\n",
    "                                R.ECHInd AS R_ECHInd,\n",
    "                                R.CMARecnclCt AS R_CMARecnclCt,\n",
    "                                R.InvFuelAllowAmt AS R_InvFuelAllowAmt,\n",
    "                                R.APChkNbr AS R_APChkNbr,\n",
    "                                R.EDIDueInd AS R_EDIDueInd,\n",
    "                                R.SwellRecvdPct AS R_SwellRecvdPct,\n",
    "                                R.SwellBasis AS R_SwellBasis,\n",
    "                                R.SwellAllwAmt AS R_SwellAllwAmt,\n",
    "                                R.InvSwellAllwAmt AS R_InvSwellAllwAmt,\n",
    "                                R.SwellAllwPostg AS R_SwellAllwPostg,\n",
    "                                R.SwellAllwAcct AS R_SwellAllwAcct,\n",
    "                                R.PUpDate AS R_PUpDate,\n",
    "                                R.VerifDate AS R_VerifDate,\n",
    "                                R.EDIInvInd AS R_EDIInvInd,\n",
    "                                R.EDIPOInd AS R_EDIPOInd,\n",
    "                                R.ATG_Ref_Orig AS R_ATG_Ref_Orig,\n",
    "                                R.AP_Comment AS R_AP_Comment,\n",
    "                                R.Tolerance AS R_Tolerance,\n",
    "                                R.ShortAllow AS R_ShortAllow,\n",
    "                                R.OIDeduct AS R_OIDeduct,\n",
    "                                R.Balancing AS R_Balancing,\n",
    "                                R.AP_OOBChk AS R_AP_OOBChk,\n",
    "                                R.PdHdrFrtVar_ATG AS R_PdHdrFrtVar_ATG,\n",
    "                                R.PdSwellAllow_ATG AS R_PdSwellAllow_ATG,\n",
    "                                R.PONet_ATG AS R_PONet_ATG,\n",
    "                                R.InvNet_ATG AS R_InvNet_ATG,\n",
    "                                R.ClaimActivityID_ATGSYS AS R_ClaimActivityID_ATGSYS\n",
    "                FROM [MOE].[prod_WeisMarkets_RecoverNow].[dbo].[ATG_DealLI_Exceptions] AS E\n",
    "                JOIN [MOE].[prod_WeisMarkets_RecoverNow].[dbo].[ATG_RCPT_HDR] AS R\n",
    "                                ON E.ATG_Hdr_Ref = R.ATG_Ref\n",
    "                WHERE\n",
    "                checked='x'\n",
    "                ) t\n",
    "                WHERE\n",
    "                row_num > 50000 AND row_num <= 250001\n",
    "                \"\"\")\n",
    "test_data = cursor_1.fetchall()"
   ]
  },
  {
   "cell_type": "code",
   "execution_count": null,
   "metadata": {},
   "outputs": [],
   "source": [
    "cursor_1.execute(\"\"\"\n",
    "        SELECT *\n",
    "\t\t\tFROM(\n",
    "\t\t\t\tSELECT\n",
    "\t\t\t\t\tS.DealNbr AS S_DealNbr,\n",
    "\t\t\t\t\tS.ATG_IR AS S_ATG_IR,\n",
    "\t\t\t\t\tS.ClaimType_ATG AS S_ClaimType_ATG,\n",
    "\t\t\t\t\tS.OrdStartDate_ATG AS S_OrdStartDate_ATG,\n",
    "\t\t\t\t\tS.OrdEndDate_ATG AS S_OrdEndDate_ATG,\n",
    "\t\t\t\t\tS.InDeal_Due AS S_InDeal_Due,\n",
    "\t\t\t\t\tS.Shoulder_Due AS S_Shoulder_Due,\n",
    "\t\t\t\t\tS.LargeBuy_Due AS S_LargeBuy_Due,\n",
    "\t\t\t\t\tS.TTL_OIDue AS S_TTL_OIDue,\n",
    "\t\t\t\t\tS.TTL_BBDue AS S_TTL_BBDue,\n",
    "\t\t\t\t\tS.NoBuy_Due AS S_NoBuy_Due,\n",
    "\t\t\t\t\tS.Facility AS S_Facility,\n",
    "\t\t\t\t\tS.DLVendorNbr AS S_DLVendorNbr,\n",
    "\t\t\t\t\tS.MultiDeal_ATG AS S_MultiDeal_ATG,\n",
    "\t\t\t\t\tS.DealOrigin_ATG AS S_DealOrigin_ATG,\n",
    "\t\t\t\t\tS.AddDate AS S_AddDate,\n",
    "\t\t\t\t\tS.DealStatus_ATG AS S_DealStatus_ATG,\n",
    "\t\t\t\t\tS.ClaimNumber AS S_ClaimNumber,\n",
    "\t\t\t\t\tS.ClaimDate AS S_ClaimDate,\n",
    "\t\t\t\t\tS.ATG_IR_SourceFile AS S_ATG_IR_SourceFile,\n",
    "\t\t\t\t\tS.ClmBatchNbr_ATG AS S_ClmBatchNbr_ATG,\n",
    "\t\t\t\t\tS.ItemCount AS S_ItemCount,\n",
    "\t\t\t\t\tS.PA_Claimed AS S_PA_Claimed,\n",
    "\t\t\t\t\tS.AR_AdjTyp AS S_AR_AdjTyp,\n",
    "\t\t\t\t\tS.AR_Amount AS S_AR_Amount,\n",
    "\t\t\t\t\tS.AltTABLE2_ATG AS S_AltTABLE2_ATG,\n",
    "\t\t\t\t\tS.DQ_Reason_ATG AS S_DQ_Reason_ATG,\n",
    "\t\t\t\t\tS.QtyClaimed AS S_QtyClaimed,\n",
    "\t\t\t\t\tS.QtyExample AS S_QtyExample,\n",
    "\t\t\t\t\tS.LeadQTY AS S_LeadQTY,\n",
    "\t\t\t\t\tS.InDealQTY AS S_InDealQTY,\n",
    "\t\t\t\t\tS.PostQTY AS S_PostQTY,\n",
    "\t\t\t\t\tS.SellUnitQty AS S_SellUnitQty,\n",
    "\t\t\t\t\tS.UnitQtyOverSold_ATG AS S_UnitQtyOverSold_ATG,\n",
    "\t\t\t\t\tS.DaysBefore_ATG AS S_DaysBefore_ATG,\n",
    "\t\t\t\t\tS.DaysAfter_ATG AS S_DaysAfter_ATG,\n",
    "\t\t\t\t\tS.MultiVendor_ATG AS S_MultiVendor_ATG,\n",
    "\t\t\t\t\tS.DealVendorName AS S_DealVendorName,\n",
    "\t\t\t\t\tS.AP_VndNbr AS S_AP_VndNbr,\n",
    "\t\t\t\t\tS.PurVndrNbr AS S_PurVndrNbr,\n",
    "\t\t\t\t\tS.PurVndrNbr AS S_PurVndrNbr_2,\n",
    "\t\t\t\t\tS.PurVndrName AS S_PurVndrName,\n",
    "\t\t\t\t\tS.PurVndrName AS S_PurVndrName_2,\n",
    "\t\t\t\t\tS.PurVndCount_ATG AS S_PurVndCount_ATG,\n",
    "\t\t\t\t\tS.DateStartArrival_ATG AS S_DateStartArrival_ATG,\n",
    "\t\t\t\t\tS.DateEndArrival_ATG AS S_DateEndArrival_ATG,\n",
    "\t\t\t\t\tS.PromoStartDate_ATG AS S_PromoStartDate_ATG,\n",
    "\t\t\t\t\tS.PromoEndDate_ATG AS S_PromoEndDate_ATG,\n",
    "\t\t\t\t\tS.OCCURS AS S_OCCURS,\n",
    "\t\t\t\t\tS.CATEGORY_ATG AS S_CATEGORY_ATG,\n",
    "\t\t\t\t\tS.ATG_ID AS S_ATG_ID,\n",
    "\t\t\t\t\tS.checked AS S_checked,\n",
    "\t\t\t\t\tS.BatchNbr AS S_BatchNbr,\n",
    "\t\t\t\t\tS.ATG_Ref AS S_ATG_Ref,\n",
    "\t\t\t\t\tS.ClaimActivityID_ATGSYS AS S_ClaimActivityID_ATGSYS,\n",
    "\t\t\t\t\tS.ClaimActivityCount_ATGSYS AS S_ClaimActivityCount_ATGSYS,\n",
    "\t\t\t\t\tE.BatchNbr AS E_BatchNbr,\n",
    "\t\t\t\t\tE.PODate AS E_PODate,\n",
    "\t\t\t\t\tE.ReceivingDate AS E_ReceivingDate,\n",
    "\t\t\t\t\tE.InvoicedDate AS E_InvoicedDate,\n",
    "\t\t\t\t\tE.OIDue_ATG AS E_OIDue_ATG,\n",
    "\t\t\t\t\tE.BBDue_ATG AS E_BBDue_ATG,\n",
    "\t\t\t\t\tE.ClaimType AS E_ClaimType,\n",
    "\t\t\t\t\tE.Shoulder_ATG AS E_Shoulder_ATG,\n",
    "\t\t\t\t\tE.DtMatch_ATG AS E_DtMatch_ATG,\n",
    "\t\t\t\t\tE.ItemNbr AS E_ItemNbr,\n",
    "\t\t\t\t\tE.ItemDescription AS E_ItemDescription,\n",
    "\t\t\t\t\tE.ItemShipPack AS E_ItemShipPack,\n",
    "\t\t\t\t\tE.PoNbr AS E_PoNbr,\n",
    "\t\t\t\t\tE.DealNbr AS E_DealNbr,\n",
    "\t\t\t\t\tE.ATG_IR AS E_ATG_IR,\n",
    "\t\t\t\t\tE.OrdStartDate_ATG AS E_OrdStartDate_ATG,\n",
    "\t\t\t\t\tE.OrdEndDate_ATG AS E_OrdEndDate_ATG,\n",
    "\t\t\t\t\tE.DateStartArrival_ATG AS E_DateStartArrival_ATG,\n",
    "\t\t\t\t\tE.DateEndArrival_ATG AS E_DateEndArrival_ATG,\n",
    "\t\t\t\t\tE.AddDate AS E_AddDate,\n",
    "\t\t\t\t\tE.DLAmtOI AS E_DLAmtOI,\n",
    "\t\t\t\t\tE.DLAmtBB AS E_DLAmtBB,\n",
    "\t\t\t\t\tE.TurnRatio_ATG AS E_TurnRatio_ATG,\n",
    "\t\t\t\t\tE.OrdQty AS E_OrdQty,\n",
    "\t\t\t\t\tE.PdQty_ATG AS E_PdQty_ATG,\n",
    "\t\t\t\t\tE.PdNetSB_ATG AS E_PdNetSB_ATG,\n",
    "\t\t\t\t\tE.PdNet_ATG AS E_PdNet_ATG,\n",
    "\t\t\t\t\tE.PdOI_ATG AS E_PdOI_ATG,\n",
    "\t\t\t\t\tE.PdBB_ATG AS E_PdBB_ATG,\n",
    "\t\t\t\t\tE.PdGross_ATG AS E_PdGross_ATG,\n",
    "\t\t\t\t\tE.ListcostAtStart AS E_ListcostAtStart,\n",
    "\t\t\t\t\tE.ListCostSB_ATG AS E_ListCostSB_ATG,\n",
    "\t\t\t\t\tE.BestOI_ATG AS E_BestOI_ATG,\n",
    "\t\t\t\t\tE.BestBB_ATG AS E_BestBB_ATG,\n",
    "\t\t\t\t\tE.DQ_Reason_ATG AS E_DQ_Reason_ATG,\n",
    "\t\t\t\t\tE.ClaimedAmt AS E_ClaimedAmt,\n",
    "\t\t\t\t\tE.AR_AdjTyp AS E_AR_AdjTyp,\n",
    "\t\t\t\t\tE.AR_Amount AS E_AR_Amount,\n",
    "\t\t\t\t\tE.AR_InvNbr AS E_AR_InvNbr,\n",
    "\t\t\t\t\tE.AR_InvNbr AS E_AR_InvNbr2,\n",
    "\t\t\t\t\tE.UPCNbr AS E_UPCNbr,\n",
    "\t\t\t\t\tE.UPCUnit AS E_UPCUnit,\n",
    "\t\t\t\t\tE.TurnQty_ATG AS E_TurnQty_ATG,\n",
    "\t\t\t\t\tE.TruckSize_ATG AS E_TruckSize_ATG,\n",
    "\t\t\t\t\tE.PdUpDn_ATG AS E_PdUpDn_ATG,\n",
    "\t\t\t\t\tE.BalFlag_ATG AS E_BalFlag_ATG,\n",
    "\t\t\t\t\tE.OOB_ATG AS E_OOB_ATG,\n",
    "\t\t\t\t\tE.MiscAdj_ATG AS E_MiscAdj_ATG,\n",
    "\t\t\t\t\tE.DLVendorNbr AS E_DLVendorNbr,\n",
    "\t\t\t\t\tE.DealVendorName AS E_DealVendorName,\n",
    "\t\t\t\t\tE.PurVndrNbr AS E_PurVndrNbr,\n",
    "\t\t\t\t\tE.PurVndrName AS E_PurVndrName,\n",
    "\t\t\t\t\tE.Facility AS E_Facility,\n",
    "\t\t\t\t\tE.ReceiptNbr AS E_ReceiptNbr,\n",
    "\t\t\t\t\tE.ReceiptSfx AS E_ReceiptSfx,\n",
    "\t\t\t\t\tE.VndrInvNbr AS E_VndrInvNbr,\n",
    "\t\t\t\t\tE.TotWght AS E_TotWght,\n",
    "\t\t\t\t\tE.AP_VndNbr AS E_AP_VndNbr,\n",
    "\t\t\t\t\tE.APVndrName AS E_APVndrName,\n",
    "\t\t\t\t\tE.BuyrNbr AS E_BuyrNbr,\n",
    "\t\t\t\t\tE.BuyrName AS E_BuyrName,\n",
    "\t\t\t\t\tE.Contact AS E_Contact,\n",
    "\t\t\t\t\tE.AP_CheckNbr AS E_AP_CheckNbr,\n",
    "\t\t\t\t\tE.AP_CheckDate AS E_AP_CheckDate,\n",
    "\t\t\t\t\tE.AP_GrossAmt AS E_AP_GrossAmt,\n",
    "\t\t\t\t\tE.AP_DiscAmt AS E_AP_DiscAmt,\n",
    "\t\t\t\t\tE.VendorCmmnt AS E_VendorCmmnt,\n",
    "\t\t\t\t\tE.TTLVendorCmmnt_ATG AS E_TTLVendorCmmnt_ATG,\n",
    "\t\t\t\t\tE.PORemarks AS E_PORemarks,\n",
    "\t\t\t\t\tE.MultiDeal_ATG AS E_MultiDeal_ATG,\n",
    "\t\t\t\t\tE.DealOrigin_ATG AS E_DealOrigin_ATG,\n",
    "\t\t\t\t\tE.AbsDays_ATG AS E_AbsDays_ATG,\n",
    "\t\t\t\t\tE.ATG_Ref AS E_ATG_Ref,\n",
    "\t\t\t\t\tE.ATG_DL_Ref AS E_ATG_DL_Ref,\n",
    "\t\t\t\t\tE.ATG_LI_Ref AS E_ATG_LI_Ref,\n",
    "\t\t\t\t\tE.ATG_HDR_Ref AS E_ATG_HDR_Ref,\n",
    "\t\t\t\t\tE.DedBBInd AS E_DedBBInd,\n",
    "\t\t\t\t\tE.checked AS E_checked,\n",
    "\t\t\t\t\tE.CATEGORY_ATG AS E_CATEGORY_ATG,\n",
    "\t\t\t\t\tE.TrnCde_ATG AS E_TrnCde_ATG,\n",
    "\t\t\t\t\tE.Dept AS E_Dept,\n",
    "\t\t\t\t\tE.DLPctOI AS E_DLPctOI,\n",
    "\t\t\t\t\tE.DLPctBB AS E_DLPctBB,\n",
    "\t\t\t\t\tE.DLIncvPctOI AS E_DLIncvPctOI,\n",
    "\t\t\t\t\tE.DLIncvPctBB AS E_DLIncvPctBB,\n",
    "\t\t\t\t\tE.ClaimActivityID_ATGSYS AS E_ClaimActivityID_ATGSYS,\n",
    "\t\t\t\t\tE.ClaimActivityCount_ATGSYS AS E_ClaimActivityCount_ATGSYS,\n",
    "\t\t\t\t\tE.ClaimActivityTypeID_ATGSYS AS E_ClaimActivityTypeID_ATGSYS\n",
    "\t\t\t\tFROM\n",
    "\t\t\t\t\tMOE.prod_WeisMarkets_RecoverNow.dbo.ATG_Deal_Summary AS S\n",
    "\t\t\t\t\tJOIN MOE.prod_WeisMarkets_RecoverNow.dbo.ATG_DealLI_Exceptions AS E\n",
    "\t\t\t\t\t\tON E.ClaimType = S.ClaimType_ATG\n",
    "\t\t\t\t\t\tAND E.DealNbr = S.DealNbr\n",
    "\t\t\t\t\t\tAND E.DLVendorNbr = S.DLVendorNbr\n",
    "\t\t\t\t\t\tAND E.BatchNbr = S.BatchNbr\n",
    "\t\t\t\t) t\n",
    "\t\t\tWHERE\n",
    "\t\t\tE_checked='x'\n",
    "\t\t\tAND\n",
    "\t\t\tS_checked='x'\n",
    "\t\t\tAND\n",
    "\t\t\tS_BatchNbr=65\n",
    "\n",
    "\t\tUNION\n",
    "\n",
    "\t\tSELECT TOP(1) *\n",
    "\t\t\tFROM(\n",
    "\t\t\t\tSELECT\n",
    "\t\t\t\t\tS.DealNbr AS S_DealNbr,\n",
    "\t\t\t\t\tS.ATG_IR AS S_ATG_IR,\n",
    "\t\t\t\t\tS.ClaimType_ATG AS S_ClaimType_ATG,\n",
    "\t\t\t\t\tS.OrdStartDate_ATG AS S_OrdStartDate_ATG,\n",
    "\t\t\t\t\tS.OrdEndDate_ATG AS S_OrdEndDate_ATG,\n",
    "\t\t\t\t\tS.InDeal_Due AS S_InDeal_Due,\n",
    "\t\t\t\t\tS.Shoulder_Due AS S_Shoulder_Due,\n",
    "\t\t\t\t\tS.LargeBuy_Due AS S_LargeBuy_Due,\n",
    "\t\t\t\t\tS.TTL_OIDue AS S_TTL_OIDue,\n",
    "\t\t\t\t\tS.TTL_BBDue AS S_TTL_BBDue,\n",
    "\t\t\t\t\tS.NoBuy_Due AS S_NoBuy_Due,\n",
    "\t\t\t\t\tS.Facility AS S_Facility,\n",
    "\t\t\t\t\tS.DLVendorNbr AS S_DLVendorNbr,\n",
    "\t\t\t\t\tS.MultiDeal_ATG AS S_MultiDeal_ATG,\n",
    "\t\t\t\t\tS.DealOrigin_ATG AS S_DealOrigin_ATG,\n",
    "\t\t\t\t\tS.AddDate AS S_AddDate,\n",
    "\t\t\t\t\tS.DealStatus_ATG AS S_DealStatus_ATG,\n",
    "\t\t\t\t\tS.ClaimNumber AS S_ClaimNumber,\n",
    "\t\t\t\t\tS.ClaimDate AS S_ClaimDate,\n",
    "\t\t\t\t\tS.ATG_IR_SourceFile AS S_ATG_IR_SourceFile,\n",
    "\t\t\t\t\tS.ClmBatchNbr_ATG AS S_ClmBatchNbr_ATG,\n",
    "\t\t\t\t\tS.ItemCount AS S_ItemCount,\n",
    "\t\t\t\t\tS.PA_Claimed AS S_PA_Claimed,\n",
    "\t\t\t\t\tS.AR_AdjTyp AS S_AR_AdjTyp,\n",
    "\t\t\t\t\tS.AR_Amount AS S_AR_Amount,\n",
    "\t\t\t\t\tS.AltTABLE2_ATG AS S_AltTABLE2_ATG,\n",
    "\t\t\t\t\tS.DQ_Reason_ATG AS S_DQ_Reason_ATG,\n",
    "\t\t\t\t\tS.QtyClaimed AS S_QtyClaimed,\n",
    "\t\t\t\t\tS.QtyExample AS S_QtyExample,\n",
    "\t\t\t\t\tS.LeadQTY AS S_LeadQTY,\n",
    "\t\t\t\t\tS.InDealQTY AS S_InDealQTY,\n",
    "\t\t\t\t\tS.PostQTY AS S_PostQTY,\n",
    "\t\t\t\t\tS.SellUnitQty AS S_SellUnitQty,\n",
    "\t\t\t\t\tS.UnitQtyOverSold_ATG AS S_UnitQtyOverSold_ATG,\n",
    "\t\t\t\t\tS.DaysBefore_ATG AS S_DaysBefore_ATG,\n",
    "\t\t\t\t\tS.DaysAfter_ATG AS S_DaysAfter_ATG,\n",
    "\t\t\t\t\tS.MultiVendor_ATG AS S_MultiVendor_ATG,\n",
    "\t\t\t\t\tS.DealVendorName AS S_DealVendorName,\n",
    "\t\t\t\t\tS.AP_VndNbr AS S_AP_VndNbr,\n",
    "\t\t\t\t\tS.PurVndrNbr AS S_PurVndrNbr,\n",
    "\t\t\t\t\tS.PurVndrNbr AS S_PurVndrNbr_2,\n",
    "\t\t\t\t\tS.PurVndrName AS S_PurVndrName,\n",
    "\t\t\t\t\tS.PurVndrName AS S_PurVndrName_2,\n",
    "\t\t\t\t\tS.PurVndCount_ATG AS S_PurVndCount_ATG,\n",
    "\t\t\t\t\tS.DateStartArrival_ATG AS S_DateStartArrival_ATG,\n",
    "\t\t\t\t\tS.DateEndArrival_ATG AS S_DateEndArrival_ATG,\n",
    "\t\t\t\t\tS.PromoStartDate_ATG AS S_PromoStartDate_ATG,\n",
    "\t\t\t\t\tS.PromoEndDate_ATG AS S_PromoEndDate_ATG,\n",
    "\t\t\t\t\tS.OCCURS AS S_OCCURS,\n",
    "\t\t\t\t\tS.CATEGORY_ATG AS S_CATEGORY_ATG,\n",
    "\t\t\t\t\tS.ATG_ID AS S_ATG_ID,\n",
    "\t\t\t\t\tS.checked AS S_checked,\n",
    "\t\t\t\t\tS.BatchNbr AS S_BatchNbr,\n",
    "\t\t\t\t\tS.ATG_Ref AS S_ATG_Ref,\n",
    "\t\t\t\t\tS.ClaimActivityID_ATGSYS AS S_ClaimActivityID_ATGSYS,\n",
    "\t\t\t\t\tS.ClaimActivityCount_ATGSYS AS S_ClaimActivityCount_ATGSYS,\n",
    "\t\t\t\t\tE.BatchNbr AS E_BatchNbr,\n",
    "\t\t\t\t\tE.PODate AS E_PODate,\n",
    "\t\t\t\t\tE.ReceivingDate AS E_ReceivingDate,\n",
    "\t\t\t\t\tE.InvoicedDate AS E_InvoicedDate,\n",
    "\t\t\t\t\tE.OIDue_ATG AS E_OIDue_ATG,\n",
    "\t\t\t\t\tE.BBDue_ATG AS E_BBDue_ATG,\n",
    "\t\t\t\t\tE.ClaimType AS E_ClaimType,\n",
    "\t\t\t\t\tE.Shoulder_ATG AS E_Shoulder_ATG,\n",
    "\t\t\t\t\tE.DtMatch_ATG AS E_DtMatch_ATG,\n",
    "\t\t\t\t\tE.ItemNbr AS E_ItemNbr,\n",
    "\t\t\t\t\tE.ItemDescription AS E_ItemDescription,\n",
    "\t\t\t\t\tE.ItemShipPack AS E_ItemShipPack,\n",
    "\t\t\t\t\tE.PoNbr AS E_PoNbr,\n",
    "\t\t\t\t\tE.DealNbr AS E_DealNbr,\n",
    "\t\t\t\t\tE.ATG_IR AS E_ATG_IR,\n",
    "\t\t\t\t\tE.OrdStartDate_ATG AS E_OrdStartDate_ATG,\n",
    "\t\t\t\t\tE.OrdEndDate_ATG AS E_OrdEndDate_ATG,\n",
    "\t\t\t\t\tE.DateStartArrival_ATG AS E_DateStartArrival_ATG,\n",
    "\t\t\t\t\tE.DateEndArrival_ATG AS E_DateEndArrival_ATG,\n",
    "\t\t\t\t\tE.AddDate AS E_AddDate,\n",
    "\t\t\t\t\tE.DLAmtOI AS E_DLAmtOI,\n",
    "\t\t\t\t\tE.DLAmtBB AS E_DLAmtBB,\n",
    "\t\t\t\t\tE.TurnRatio_ATG AS E_TurnRatio_ATG,\n",
    "\t\t\t\t\tE.OrdQty AS E_OrdQty,\n",
    "\t\t\t\t\tE.PdQty_ATG AS E_PdQty_ATG,\n",
    "\t\t\t\t\tE.PdNetSB_ATG AS E_PdNetSB_ATG,\n",
    "\t\t\t\t\tE.PdNet_ATG AS E_PdNet_ATG,\n",
    "\t\t\t\t\tE.PdOI_ATG AS E_PdOI_ATG,\n",
    "\t\t\t\t\tE.PdBB_ATG AS E_PdBB_ATG,\n",
    "\t\t\t\t\tE.PdGross_ATG AS E_PdGross_ATG,\n",
    "\t\t\t\t\tE.ListcostAtStart AS E_ListcostAtStart,\n",
    "\t\t\t\t\tE.ListCostSB_ATG AS E_ListCostSB_ATG,\n",
    "\t\t\t\t\tE.BestOI_ATG AS E_BestOI_ATG,\n",
    "\t\t\t\t\tE.BestBB_ATG AS E_BestBB_ATG,\n",
    "\t\t\t\t\tE.DQ_Reason_ATG AS E_DQ_Reason_ATG,\n",
    "\t\t\t\t\tE.ClaimedAmt AS E_ClaimedAmt,\n",
    "\t\t\t\t\tE.AR_AdjTyp AS E_AR_AdjTyp,\n",
    "\t\t\t\t\tE.AR_Amount AS E_AR_Amount,\n",
    "\t\t\t\t\tE.AR_InvNbr AS E_AR_InvNbr,\n",
    "\t\t\t\t\tE.AR_InvNbr AS E_AR_InvNbr2,\n",
    "\t\t\t\t\tE.UPCNbr AS E_UPCNbr,\n",
    "\t\t\t\t\tE.UPCUnit AS E_UPCUnit,\n",
    "\t\t\t\t\tE.TurnQty_ATG AS E_TurnQty_ATG,\n",
    "\t\t\t\t\tE.TruckSize_ATG AS E_TruckSize_ATG,\n",
    "\t\t\t\t\tE.PdUpDn_ATG AS E_PdUpDn_ATG,\n",
    "\t\t\t\t\tE.BalFlag_ATG AS E_BalFlag_ATG,\n",
    "\t\t\t\t\tE.OOB_ATG AS E_OOB_ATG,\n",
    "\t\t\t\t\tE.MiscAdj_ATG AS E_MiscAdj_ATG,\n",
    "\t\t\t\t\tE.DLVendorNbr AS E_DLVendorNbr,\n",
    "\t\t\t\t\tE.DealVendorName AS E_DealVendorName,\n",
    "\t\t\t\t\tE.PurVndrNbr AS E_PurVndrNbr,\n",
    "\t\t\t\t\tE.PurVndrName AS E_PurVndrName,\n",
    "\t\t\t\t\tE.Facility AS E_Facility,\n",
    "\t\t\t\t\tE.ReceiptNbr AS E_ReceiptNbr,\n",
    "\t\t\t\t\tE.ReceiptSfx AS E_ReceiptSfx,\n",
    "\t\t\t\t\tE.VndrInvNbr AS E_VndrInvNbr,\n",
    "\t\t\t\t\tE.TotWght AS E_TotWght,\n",
    "\t\t\t\t\tE.AP_VndNbr AS E_AP_VndNbr,\n",
    "\t\t\t\t\tE.APVndrName AS E_APVndrName,\n",
    "\t\t\t\t\tE.BuyrNbr AS E_BuyrNbr,\n",
    "\t\t\t\t\tE.BuyrName AS E_BuyrName,\n",
    "\t\t\t\t\tE.Contact AS E_Contact,\n",
    "\t\t\t\t\tE.AP_CheckNbr AS E_AP_CheckNbr,\n",
    "\t\t\t\t\tE.AP_CheckDate AS E_AP_CheckDate,\n",
    "\t\t\t\t\tE.AP_GrossAmt AS E_AP_GrossAmt,\n",
    "\t\t\t\t\tE.AP_DiscAmt AS E_AP_DiscAmt,\n",
    "\t\t\t\t\tE.VendorCmmnt AS E_VendorCmmnt,\n",
    "\t\t\t\t\tE.TTLVendorCmmnt_ATG AS E_TTLVendorCmmnt_ATG,\n",
    "\t\t\t\t\tE.PORemarks AS E_PORemarks,\n",
    "\t\t\t\t\tE.MultiDeal_ATG AS E_MultiDeal_ATG,\n",
    "\t\t\t\t\tE.DealOrigin_ATG AS E_DealOrigin_ATG,\n",
    "\t\t\t\t\tE.AbsDays_ATG AS E_AbsDays_ATG,\n",
    "\t\t\t\t\tE.ATG_Ref AS E_ATG_Ref,\n",
    "\t\t\t\t\tE.ATG_DL_Ref AS E_ATG_DL_Ref,\n",
    "\t\t\t\t\tE.ATG_LI_Ref AS E_ATG_LI_Ref,\n",
    "\t\t\t\t\tE.ATG_HDR_Ref AS E_ATG_HDR_Ref,\n",
    "\t\t\t\t\tE.DedBBInd AS E_DedBBInd,\n",
    "\t\t\t\t\tE.checked AS E_checked,\n",
    "\t\t\t\t\tE.CATEGORY_ATG AS E_CATEGORY_ATG,\n",
    "\t\t\t\t\tE.TrnCde_ATG AS E_TrnCde_ATG,\n",
    "\t\t\t\t\tE.Dept AS E_Dept,\n",
    "\t\t\t\t\tE.DLPctOI AS E_DLPctOI,\n",
    "\t\t\t\t\tE.DLPctBB AS E_DLPctBB,\n",
    "\t\t\t\t\tE.DLIncvPctOI AS E_DLIncvPctOI,\n",
    "\t\t\t\t\tE.DLIncvPctBB AS E_DLIncvPctBB,\n",
    "\t\t\t\t\tE.ClaimActivityID_ATGSYS AS E_ClaimActivityID_ATGSYS,\n",
    "\t\t\t\t\tE.ClaimActivityCount_ATGSYS AS E_ClaimActivityCount_ATGSYS,\n",
    "\t\t\t\t\tE.ClaimActivityTypeID_ATGSYS AS E_ClaimActivityTypeID_ATGSYS\n",
    "\t\t\t\tFROM\n",
    "\t\t\t\t\tMOE.prod_WeisMarkets_RecoverNow.dbo.ATG_Deal_Summary AS S\n",
    "\t\t\t\t\tJOIN MOE.prod_WeisMarkets_RecoverNow.dbo.ATG_DealLI_Exceptions AS E\n",
    "\t\t\t\t\t\tON E.ClaimType = S.ClaimType_ATG\n",
    "\t\t\t\t\t\tAND E.DealNbr = S.DealNbr\n",
    "\t\t\t\t\t\tAND E.DLVendorNbr = S.DLVendorNbr\n",
    "\t\t\t\t\t\tAND E.BatchNbr = S.BatchNbr\n",
    "\t\t\t\t) t\n",
    "\t\t\tWHERE\n",
    "\t\t\tE_checked='true'\n",
    "\t\t\tAND\n",
    "\t\t\tS_checked='claim'\n",
    "\t\t\tAND\n",
    "\t\t\tS_BatchNbr=65\n",
    "\n",
    "\t\tUNION\n",
    "\n",
    "\t\tSELECT TOP(1)*\n",
    "\t\t\tFROM(\n",
    "\t\t\t\tSELECT\n",
    "\t\t\t\t\tS.DealNbr AS S_DealNbr,\n",
    "\t\t\t\t\tS.ATG_IR AS S_ATG_IR,\n",
    "\t\t\t\t\tS.ClaimType_ATG AS S_ClaimType_ATG,\n",
    "\t\t\t\t\tS.OrdStartDate_ATG AS S_OrdStartDate_ATG,\n",
    "\t\t\t\t\tS.OrdEndDate_ATG AS S_OrdEndDate_ATG,\n",
    "\t\t\t\t\tS.InDeal_Due AS S_InDeal_Due,\n",
    "\t\t\t\t\tS.Shoulder_Due AS S_Shoulder_Due,\n",
    "\t\t\t\t\tS.LargeBuy_Due AS S_LargeBuy_Due,\n",
    "\t\t\t\t\tS.TTL_OIDue AS S_TTL_OIDue,\n",
    "\t\t\t\t\tS.TTL_BBDue AS S_TTL_BBDue,\n",
    "\t\t\t\t\tS.NoBuy_Due AS S_NoBuy_Due,\n",
    "\t\t\t\t\tS.Facility AS S_Facility,\n",
    "\t\t\t\t\tS.DLVendorNbr AS S_DLVendorNbr,\n",
    "\t\t\t\t\tS.MultiDeal_ATG AS S_MultiDeal_ATG,\n",
    "\t\t\t\t\tS.DealOrigin_ATG AS S_DealOrigin_ATG,\n",
    "\t\t\t\t\tS.AddDate AS S_AddDate,\n",
    "\t\t\t\t\tS.DealStatus_ATG AS S_DealStatus_ATG,\n",
    "\t\t\t\t\tS.ClaimNumber AS S_ClaimNumber,\n",
    "\t\t\t\t\tS.ClaimDate AS S_ClaimDate,\n",
    "\t\t\t\t\tS.ATG_IR_SourceFile AS S_ATG_IR_SourceFile,\n",
    "\t\t\t\t\tS.ClmBatchNbr_ATG AS S_ClmBatchNbr_ATG,\n",
    "\t\t\t\t\tS.ItemCount AS S_ItemCount,\n",
    "\t\t\t\t\tS.PA_Claimed AS S_PA_Claimed,\n",
    "\t\t\t\t\tS.AR_AdjTyp AS S_AR_AdjTyp,\n",
    "\t\t\t\t\tS.AR_Amount AS S_AR_Amount,\n",
    "\t\t\t\t\tS.AltTABLE2_ATG AS S_AltTABLE2_ATG,\n",
    "\t\t\t\t\tS.DQ_Reason_ATG AS S_DQ_Reason_ATG,\n",
    "\t\t\t\t\tS.QtyClaimed AS S_QtyClaimed,\n",
    "\t\t\t\t\tS.QtyExample AS S_QtyExample,\n",
    "\t\t\t\t\tS.LeadQTY AS S_LeadQTY,\n",
    "\t\t\t\t\tS.InDealQTY AS S_InDealQTY,\n",
    "\t\t\t\t\tS.PostQTY AS S_PostQTY,\n",
    "\t\t\t\t\tS.SellUnitQty AS S_SellUnitQty,\n",
    "\t\t\t\t\tS.UnitQtyOverSold_ATG AS S_UnitQtyOverSold_ATG,\n",
    "\t\t\t\t\tS.DaysBefore_ATG AS S_DaysBefore_ATG,\n",
    "\t\t\t\t\tS.DaysAfter_ATG AS S_DaysAfter_ATG,\n",
    "\t\t\t\t\tS.MultiVendor_ATG AS S_MultiVendor_ATG,\n",
    "\t\t\t\t\tS.DealVendorName AS S_DealVendorName,\n",
    "\t\t\t\t\tS.AP_VndNbr AS S_AP_VndNbr,\n",
    "\t\t\t\t\tS.PurVndrNbr AS S_PurVndrNbr,\n",
    "\t\t\t\t\tS.PurVndrNbr AS S_PurVndrNbr_2,\n",
    "\t\t\t\t\tS.PurVndrName AS S_PurVndrName,\n",
    "\t\t\t\t\tS.PurVndrName AS S_PurVndrName_2,\n",
    "\t\t\t\t\tS.PurVndCount_ATG AS S_PurVndCount_ATG,\n",
    "\t\t\t\t\tS.DateStartArrival_ATG AS S_DateStartArrival_ATG,\n",
    "\t\t\t\t\tS.DateEndArrival_ATG AS S_DateEndArrival_ATG,\n",
    "\t\t\t\t\tS.PromoStartDate_ATG AS S_PromoStartDate_ATG,\n",
    "\t\t\t\t\tS.PromoEndDate_ATG AS S_PromoEndDate_ATG,\n",
    "\t\t\t\t\tS.OCCURS AS S_OCCURS,\n",
    "\t\t\t\t\tS.CATEGORY_ATG AS S_CATEGORY_ATG,\n",
    "\t\t\t\t\tS.ATG_ID AS S_ATG_ID,\n",
    "\t\t\t\t\tS.checked AS S_checked,\n",
    "\t\t\t\t\tS.BatchNbr AS S_BatchNbr,\n",
    "\t\t\t\t\tS.ATG_Ref AS S_ATG_Ref,\n",
    "\t\t\t\t\tS.ClaimActivityID_ATGSYS AS S_ClaimActivityID_ATGSYS,\n",
    "\t\t\t\t\tS.ClaimActivityCount_ATGSYS AS S_ClaimActivityCount_ATGSYS,\n",
    "\t\t\t\t\tE.BatchNbr AS E_BatchNbr,\n",
    "\t\t\t\t\tE.PODate AS E_PODate,\n",
    "\t\t\t\t\tE.ReceivingDate AS E_ReceivingDate,\n",
    "\t\t\t\t\tE.InvoicedDate AS E_InvoicedDate,\n",
    "\t\t\t\t\tE.OIDue_ATG AS E_OIDue_ATG,\n",
    "\t\t\t\t\tE.BBDue_ATG AS E_BBDue_ATG,\n",
    "\t\t\t\t\tE.ClaimType AS E_ClaimType,\n",
    "\t\t\t\t\tE.Shoulder_ATG AS E_Shoulder_ATG,\n",
    "\t\t\t\t\tE.DtMatch_ATG AS E_DtMatch_ATG,\n",
    "\t\t\t\t\tE.ItemNbr AS E_ItemNbr,\n",
    "\t\t\t\t\tE.ItemDescription AS E_ItemDescription,\n",
    "\t\t\t\t\tE.ItemShipPack AS E_ItemShipPack,\n",
    "\t\t\t\t\tE.PoNbr AS E_PoNbr,\n",
    "\t\t\t\t\tE.DealNbr AS E_DealNbr,\n",
    "\t\t\t\t\tE.ATG_IR AS E_ATG_IR,\n",
    "\t\t\t\t\tE.OrdStartDate_ATG AS E_OrdStartDate_ATG,\n",
    "\t\t\t\t\tE.OrdEndDate_ATG AS E_OrdEndDate_ATG,\n",
    "\t\t\t\t\tE.DateStartArrival_ATG AS E_DateStartArrival_ATG,\n",
    "\t\t\t\t\tE.DateEndArrival_ATG AS E_DateEndArrival_ATG,\n",
    "\t\t\t\t\tE.AddDate AS E_AddDate,\n",
    "\t\t\t\t\tE.DLAmtOI AS E_DLAmtOI,\n",
    "\t\t\t\t\tE.DLAmtBB AS E_DLAmtBB,\n",
    "\t\t\t\t\tE.TurnRatio_ATG AS E_TurnRatio_ATG,\n",
    "\t\t\t\t\tE.OrdQty AS E_OrdQty,\n",
    "\t\t\t\t\tE.PdQty_ATG AS E_PdQty_ATG,\n",
    "\t\t\t\t\tE.PdNetSB_ATG AS E_PdNetSB_ATG,\n",
    "\t\t\t\t\tE.PdNet_ATG AS E_PdNet_ATG,\n",
    "\t\t\t\t\tE.PdOI_ATG AS E_PdOI_ATG,\n",
    "\t\t\t\t\tE.PdBB_ATG AS E_PdBB_ATG,\n",
    "\t\t\t\t\tE.PdGross_ATG AS E_PdGross_ATG,\n",
    "\t\t\t\t\tE.ListcostAtStart AS E_ListcostAtStart,\n",
    "\t\t\t\t\tE.ListCostSB_ATG AS E_ListCostSB_ATG,\n",
    "\t\t\t\t\tE.BestOI_ATG AS E_BestOI_ATG,\n",
    "\t\t\t\t\tE.BestBB_ATG AS E_BestBB_ATG,\n",
    "\t\t\t\t\tE.DQ_Reason_ATG AS E_DQ_Reason_ATG,\n",
    "\t\t\t\t\tE.ClaimedAmt AS E_ClaimedAmt,\n",
    "\t\t\t\t\tE.AR_AdjTyp AS E_AR_AdjTyp,\n",
    "\t\t\t\t\tE.AR_Amount AS E_AR_Amount,\n",
    "\t\t\t\t\tE.AR_InvNbr AS E_AR_InvNbr,\n",
    "\t\t\t\t\tE.AR_InvNbr AS E_AR_InvNbr2,\n",
    "\t\t\t\t\tE.UPCNbr AS E_UPCNbr,\n",
    "\t\t\t\t\tE.UPCUnit AS E_UPCUnit,\n",
    "\t\t\t\t\tE.TurnQty_ATG AS E_TurnQty_ATG,\n",
    "\t\t\t\t\tE.TruckSize_ATG AS E_TruckSize_ATG,\n",
    "\t\t\t\t\tE.PdUpDn_ATG AS E_PdUpDn_ATG,\n",
    "\t\t\t\t\tE.BalFlag_ATG AS E_BalFlag_ATG,\n",
    "\t\t\t\t\tE.OOB_ATG AS E_OOB_ATG,\n",
    "\t\t\t\t\tE.MiscAdj_ATG AS E_MiscAdj_ATG,\n",
    "\t\t\t\t\tE.DLVendorNbr AS E_DLVendorNbr,\n",
    "\t\t\t\t\tE.DealVendorName AS E_DealVendorName,\n",
    "\t\t\t\t\tE.PurVndrNbr AS E_PurVndrNbr,\n",
    "\t\t\t\t\tE.PurVndrName AS E_PurVndrName,\n",
    "\t\t\t\t\tE.Facility AS E_Facility,\n",
    "\t\t\t\t\tE.ReceiptNbr AS E_ReceiptNbr,\n",
    "\t\t\t\t\tE.ReceiptSfx AS E_ReceiptSfx,\n",
    "\t\t\t\t\tE.VndrInvNbr AS E_VndrInvNbr,\n",
    "\t\t\t\t\tE.TotWght AS E_TotWght,\n",
    "\t\t\t\t\tE.AP_VndNbr AS E_AP_VndNbr,\n",
    "\t\t\t\t\tE.APVndrName AS E_APVndrName,\n",
    "\t\t\t\t\tE.BuyrNbr AS E_BuyrNbr,\n",
    "\t\t\t\t\tE.BuyrName AS E_BuyrName,\n",
    "\t\t\t\t\tE.Contact AS E_Contact,\n",
    "\t\t\t\t\tE.AP_CheckNbr AS E_AP_CheckNbr,\n",
    "\t\t\t\t\tE.AP_CheckDate AS E_AP_CheckDate,\n",
    "\t\t\t\t\tE.AP_GrossAmt AS E_AP_GrossAmt,\n",
    "\t\t\t\t\tE.AP_DiscAmt AS E_AP_DiscAmt,\n",
    "\t\t\t\t\tE.VendorCmmnt AS E_VendorCmmnt,\n",
    "\t\t\t\t\tE.TTLVendorCmmnt_ATG AS E_TTLVendorCmmnt_ATG,\n",
    "\t\t\t\t\tE.PORemarks AS E_PORemarks,\n",
    "\t\t\t\t\tE.MultiDeal_ATG AS E_MultiDeal_ATG,\n",
    "\t\t\t\t\tE.DealOrigin_ATG AS E_DealOrigin_ATG,\n",
    "\t\t\t\t\tE.AbsDays_ATG AS E_AbsDays_ATG,\n",
    "\t\t\t\t\tE.ATG_Ref AS E_ATG_Ref,\n",
    "\t\t\t\t\tE.ATG_DL_Ref AS E_ATG_DL_Ref,\n",
    "\t\t\t\t\tE.ATG_LI_Ref AS E_ATG_LI_Ref,\n",
    "\t\t\t\t\tE.ATG_HDR_Ref AS E_ATG_HDR_Ref,\n",
    "\t\t\t\t\tE.DedBBInd AS E_DedBBInd,\n",
    "\t\t\t\t\tE.checked AS E_checked,\n",
    "\t\t\t\t\tE.CATEGORY_ATG AS E_CATEGORY_ATG,\n",
    "\t\t\t\t\tE.TrnCde_ATG AS E_TrnCde_ATG,\n",
    "\t\t\t\t\tE.Dept AS E_Dept,\n",
    "\t\t\t\t\tE.DLPctOI AS E_DLPctOI,\n",
    "\t\t\t\t\tE.DLPctBB AS E_DLPctBB,\n",
    "\t\t\t\t\tE.DLIncvPctOI AS E_DLIncvPctOI,\n",
    "\t\t\t\t\tE.DLIncvPctBB AS E_DLIncvPctBB,\n",
    "\t\t\t\t\tE.ClaimActivityID_ATGSYS AS E_ClaimActivityID_ATGSYS,\n",
    "\t\t\t\t\tE.ClaimActivityCount_ATGSYS AS E_ClaimActivityCount_ATGSYS,\n",
    "\t\t\t\t\tE.ClaimActivityTypeID_ATGSYS AS E_ClaimActivityTypeID_ATGSYS\n",
    "\t\t\t\tFROM\n",
    "\t\t\t\t\tMOE.prod_WeisMarkets_RecoverNow.dbo.ATG_Deal_Summary AS S\n",
    "\t\t\t\t\tJOIN MOE.prod_WeisMarkets_RecoverNow.dbo.ATG_DealLI_Exceptions AS E\n",
    "\t\t\t\t\t\tON E.ClaimType = S.ClaimType_ATG\n",
    "\t\t\t\t\t\tAND E.DealNbr = S.DealNbr\n",
    "\t\t\t\t\t\tAND E.DLVendorNbr = S.DLVendorNbr\n",
    "\t\t\t\t\t\tAND E.BatchNbr = S.BatchNbr\n",
    "\t\t\t\t) t\n",
    "\t\t\tWHERE\n",
    "\t\t\tE_checked='x'\n",
    "\t\t\tAND\n",
    "\t\t\tS_checked='claim'\n",
    "\t\t\tAND\n",
    "\t\t\tS_BatchNbr=65\n",
    "\n",
    "\t\tUNION\n",
    "\n",
    "\t\tSELECT TOP(1)*\n",
    "\t\t\tFROM(\n",
    "\t\t\t\tSELECT\n",
    "\t\t\t\t\tS.DealNbr AS S_DealNbr,\n",
    "\t\t\t\t\tS.ATG_IR AS S_ATG_IR,\n",
    "\t\t\t\t\tS.ClaimType_ATG AS S_ClaimType_ATG,\n",
    "\t\t\t\t\tS.OrdStartDate_ATG AS S_OrdStartDate_ATG,\n",
    "\t\t\t\t\tS.OrdEndDate_ATG AS S_OrdEndDate_ATG,\n",
    "\t\t\t\t\tS.InDeal_Due AS S_InDeal_Due,\n",
    "\t\t\t\t\tS.Shoulder_Due AS S_Shoulder_Due,\n",
    "\t\t\t\t\tS.LargeBuy_Due AS S_LargeBuy_Due,\n",
    "\t\t\t\t\tS.TTL_OIDue AS S_TTL_OIDue,\n",
    "\t\t\t\t\tS.TTL_BBDue AS S_TTL_BBDue,\n",
    "\t\t\t\t\tS.NoBuy_Due AS S_NoBuy_Due,\n",
    "\t\t\t\t\tS.Facility AS S_Facility,\n",
    "\t\t\t\t\tS.DLVendorNbr AS S_DLVendorNbr,\n",
    "\t\t\t\t\tS.MultiDeal_ATG AS S_MultiDeal_ATG,\n",
    "\t\t\t\t\tS.DealOrigin_ATG AS S_DealOrigin_ATG,\n",
    "\t\t\t\t\tS.AddDate AS S_AddDate,\n",
    "\t\t\t\t\tS.DealStatus_ATG AS S_DealStatus_ATG,\n",
    "\t\t\t\t\tS.ClaimNumber AS S_ClaimNumber,\n",
    "\t\t\t\t\tS.ClaimDate AS S_ClaimDate,\n",
    "\t\t\t\t\tS.ATG_IR_SourceFile AS S_ATG_IR_SourceFile,\n",
    "\t\t\t\t\tS.ClmBatchNbr_ATG AS S_ClmBatchNbr_ATG,\n",
    "\t\t\t\t\tS.ItemCount AS S_ItemCount,\n",
    "\t\t\t\t\tS.PA_Claimed AS S_PA_Claimed,\n",
    "\t\t\t\t\tS.AR_AdjTyp AS S_AR_AdjTyp,\n",
    "\t\t\t\t\tS.AR_Amount AS S_AR_Amount,\n",
    "\t\t\t\t\tS.AltTABLE2_ATG AS S_AltTABLE2_ATG,\n",
    "\t\t\t\t\tS.DQ_Reason_ATG AS S_DQ_Reason_ATG,\n",
    "\t\t\t\t\tS.QtyClaimed AS S_QtyClaimed,\n",
    "\t\t\t\t\tS.QtyExample AS S_QtyExample,\n",
    "\t\t\t\t\tS.LeadQTY AS S_LeadQTY,\n",
    "\t\t\t\t\tS.InDealQTY AS S_InDealQTY,\n",
    "\t\t\t\t\tS.PostQTY AS S_PostQTY,\n",
    "\t\t\t\t\tS.SellUnitQty AS S_SellUnitQty,\n",
    "\t\t\t\t\tS.UnitQtyOverSold_ATG AS S_UnitQtyOverSold_ATG,\n",
    "\t\t\t\t\tS.DaysBefore_ATG AS S_DaysBefore_ATG,\n",
    "\t\t\t\t\tS.DaysAfter_ATG AS S_DaysAfter_ATG,\n",
    "\t\t\t\t\tS.MultiVendor_ATG AS S_MultiVendor_ATG,\n",
    "\t\t\t\t\tS.DealVendorName AS S_DealVendorName,\n",
    "\t\t\t\t\tS.AP_VndNbr AS S_AP_VndNbr,\n",
    "\t\t\t\t\tS.PurVndrNbr AS S_PurVndrNbr,\n",
    "\t\t\t\t\tS.PurVndrNbr AS S_PurVndrNbr_2,\n",
    "\t\t\t\t\tS.PurVndrName AS S_PurVndrName,\n",
    "\t\t\t\t\tS.PurVndrName AS S_PurVndrName_2,\n",
    "\t\t\t\t\tS.PurVndCount_ATG AS S_PurVndCount_ATG,\n",
    "\t\t\t\t\tS.DateStartArrival_ATG AS S_DateStartArrival_ATG,\n",
    "\t\t\t\t\tS.DateEndArrival_ATG AS S_DateEndArrival_ATG,\n",
    "\t\t\t\t\tS.PromoStartDate_ATG AS S_PromoStartDate_ATG,\n",
    "\t\t\t\t\tS.PromoEndDate_ATG AS S_PromoEndDate_ATG,\n",
    "\t\t\t\t\tS.OCCURS AS S_OCCURS,\n",
    "\t\t\t\t\tS.CATEGORY_ATG AS S_CATEGORY_ATG,\n",
    "\t\t\t\t\tS.ATG_ID AS S_ATG_ID,\n",
    "\t\t\t\t\tS.checked AS S_checked,\n",
    "\t\t\t\t\tS.BatchNbr AS S_BatchNbr,\n",
    "\t\t\t\t\tS.ATG_Ref AS S_ATG_Ref,\n",
    "\t\t\t\t\tS.ClaimActivityID_ATGSYS AS S_ClaimActivityID_ATGSYS,\n",
    "\t\t\t\t\tS.ClaimActivityCount_ATGSYS AS S_ClaimActivityCount_ATGSYS,\n",
    "\t\t\t\t\tE.BatchNbr AS E_BatchNbr,\n",
    "\t\t\t\t\tE.PODate AS E_PODate,\n",
    "\t\t\t\t\tE.ReceivingDate AS E_ReceivingDate,\n",
    "\t\t\t\t\tE.InvoicedDate AS E_InvoicedDate,\n",
    "\t\t\t\t\tE.OIDue_ATG AS E_OIDue_ATG,\n",
    "\t\t\t\t\tE.BBDue_ATG AS E_BBDue_ATG,\n",
    "\t\t\t\t\tE.ClaimType AS E_ClaimType,\n",
    "\t\t\t\t\tE.Shoulder_ATG AS E_Shoulder_ATG,\n",
    "\t\t\t\t\tE.DtMatch_ATG AS E_DtMatch_ATG,\n",
    "\t\t\t\t\tE.ItemNbr AS E_ItemNbr,\n",
    "\t\t\t\t\tE.ItemDescription AS E_ItemDescription,\n",
    "\t\t\t\t\tE.ItemShipPack AS E_ItemShipPack,\n",
    "\t\t\t\t\tE.PoNbr AS E_PoNbr,\n",
    "\t\t\t\t\tE.DealNbr AS E_DealNbr,\n",
    "\t\t\t\t\tE.ATG_IR AS E_ATG_IR,\n",
    "\t\t\t\t\tE.OrdStartDate_ATG AS E_OrdStartDate_ATG,\n",
    "\t\t\t\t\tE.OrdEndDate_ATG AS E_OrdEndDate_ATG,\n",
    "\t\t\t\t\tE.DateStartArrival_ATG AS E_DateStartArrival_ATG,\n",
    "\t\t\t\t\tE.DateEndArrival_ATG AS E_DateEndArrival_ATG,\n",
    "\t\t\t\t\tE.AddDate AS E_AddDate,\n",
    "\t\t\t\t\tE.DLAmtOI AS E_DLAmtOI,\n",
    "\t\t\t\t\tE.DLAmtBB AS E_DLAmtBB,\n",
    "\t\t\t\t\tE.TurnRatio_ATG AS E_TurnRatio_ATG,\n",
    "\t\t\t\t\tE.OrdQty AS E_OrdQty,\n",
    "\t\t\t\t\tE.PdQty_ATG AS E_PdQty_ATG,\n",
    "\t\t\t\t\tE.PdNetSB_ATG AS E_PdNetSB_ATG,\n",
    "\t\t\t\t\tE.PdNet_ATG AS E_PdNet_ATG,\n",
    "\t\t\t\t\tE.PdOI_ATG AS E_PdOI_ATG,\n",
    "\t\t\t\t\tE.PdBB_ATG AS E_PdBB_ATG,\n",
    "\t\t\t\t\tE.PdGross_ATG AS E_PdGross_ATG,\n",
    "\t\t\t\t\tE.ListcostAtStart AS E_ListcostAtStart,\n",
    "\t\t\t\t\tE.ListCostSB_ATG AS E_ListCostSB_ATG,\n",
    "\t\t\t\t\tE.BestOI_ATG AS E_BestOI_ATG,\n",
    "\t\t\t\t\tE.BestBB_ATG AS E_BestBB_ATG,\n",
    "\t\t\t\t\tE.DQ_Reason_ATG AS E_DQ_Reason_ATG,\n",
    "\t\t\t\t\tE.ClaimedAmt AS E_ClaimedAmt,\n",
    "\t\t\t\t\tE.AR_AdjTyp AS E_AR_AdjTyp,\n",
    "\t\t\t\t\tE.AR_Amount AS E_AR_Amount,\n",
    "\t\t\t\t\tE.AR_InvNbr AS E_AR_InvNbr,\n",
    "\t\t\t\t\tE.AR_InvNbr AS E_AR_InvNbr2,\n",
    "\t\t\t\t\tE.UPCNbr AS E_UPCNbr,\n",
    "\t\t\t\t\tE.UPCUnit AS E_UPCUnit,\n",
    "\t\t\t\t\tE.TurnQty_ATG AS E_TurnQty_ATG,\n",
    "\t\t\t\t\tE.TruckSize_ATG AS E_TruckSize_ATG,\n",
    "\t\t\t\t\tE.PdUpDn_ATG AS E_PdUpDn_ATG,\n",
    "\t\t\t\t\tE.BalFlag_ATG AS E_BalFlag_ATG,\n",
    "\t\t\t\t\tE.OOB_ATG AS E_OOB_ATG,\n",
    "\t\t\t\t\tE.MiscAdj_ATG AS E_MiscAdj_ATG,\n",
    "\t\t\t\t\tE.DLVendorNbr AS E_DLVendorNbr,\n",
    "\t\t\t\t\tE.DealVendorName AS E_DealVendorName,\n",
    "\t\t\t\t\tE.PurVndrNbr AS E_PurVndrNbr,\n",
    "\t\t\t\t\tE.PurVndrName AS E_PurVndrName,\n",
    "\t\t\t\t\tE.Facility AS E_Facility,\n",
    "\t\t\t\t\tE.ReceiptNbr AS E_ReceiptNbr,\n",
    "\t\t\t\t\tE.ReceiptSfx AS E_ReceiptSfx,\n",
    "\t\t\t\t\tE.VndrInvNbr AS E_VndrInvNbr,\n",
    "\t\t\t\t\tE.TotWght AS E_TotWght,\n",
    "\t\t\t\t\tE.AP_VndNbr AS E_AP_VndNbr,\n",
    "\t\t\t\t\tE.APVndrName AS E_APVndrName,\n",
    "\t\t\t\t\tE.BuyrNbr AS E_BuyrNbr,\n",
    "\t\t\t\t\tE.BuyrName AS E_BuyrName,\n",
    "\t\t\t\t\tE.Contact AS E_Contact,\n",
    "\t\t\t\t\tE.AP_CheckNbr AS E_AP_CheckNbr,\n",
    "\t\t\t\t\tE.AP_CheckDate AS E_AP_CheckDate,\n",
    "\t\t\t\t\tE.AP_GrossAmt AS E_AP_GrossAmt,\n",
    "\t\t\t\t\tE.AP_DiscAmt AS E_AP_DiscAmt,\n",
    "\t\t\t\t\tE.VendorCmmnt AS E_VendorCmmnt,\n",
    "\t\t\t\t\tE.TTLVendorCmmnt_ATG AS E_TTLVendorCmmnt_ATG,\n",
    "\t\t\t\t\tE.PORemarks AS E_PORemarks,\n",
    "\t\t\t\t\tE.MultiDeal_ATG AS E_MultiDeal_ATG,\n",
    "\t\t\t\t\tE.DealOrigin_ATG AS E_DealOrigin_ATG,\n",
    "\t\t\t\t\tE.AbsDays_ATG AS E_AbsDays_ATG,\n",
    "\t\t\t\t\tE.ATG_Ref AS E_ATG_Ref,\n",
    "\t\t\t\t\tE.ATG_DL_Ref AS E_ATG_DL_Ref,\n",
    "\t\t\t\t\tE.ATG_LI_Ref AS E_ATG_LI_Ref,\n",
    "\t\t\t\t\tE.ATG_HDR_Ref AS E_ATG_HDR_Ref,\n",
    "\t\t\t\t\tE.DedBBInd AS E_DedBBInd,\n",
    "\t\t\t\t\tE.checked AS E_checked,\n",
    "\t\t\t\t\tE.CATEGORY_ATG AS E_CATEGORY_ATG,\n",
    "\t\t\t\t\tE.TrnCde_ATG AS E_TrnCde_ATG,\n",
    "\t\t\t\t\tE.Dept AS E_Dept,\n",
    "\t\t\t\t\tE.DLPctOI AS E_DLPctOI,\n",
    "\t\t\t\t\tE.DLPctBB AS E_DLPctBB,\n",
    "\t\t\t\t\tE.DLIncvPctOI AS E_DLIncvPctOI,\n",
    "\t\t\t\t\tE.DLIncvPctBB AS E_DLIncvPctBB,\n",
    "\t\t\t\t\tE.ClaimActivityID_ATGSYS AS E_ClaimActivityID_ATGSYS,\n",
    "\t\t\t\t\tE.ClaimActivityCount_ATGSYS AS E_ClaimActivityCount_ATGSYS,\n",
    "\t\t\t\t\tE.ClaimActivityTypeID_ATGSYS AS E_ClaimActivityTypeID_ATGSYS\n",
    "\t\t\t\tFROM\n",
    "\t\t\t\t\tMOE.prod_WeisMarkets_RecoverNow.dbo.ATG_Deal_Summary AS S\n",
    "\t\t\t\t\tJOIN MOE.prod_WeisMarkets_RecoverNow.dbo.ATG_DealLI_Exceptions AS E\n",
    "\t\t\t\t\t\tON E.ClaimType = S.ClaimType_ATG\n",
    "\t\t\t\t\t\tAND E.DealNbr = S.DealNbr\n",
    "\t\t\t\t\t\tAND E.DLVendorNbr = S.DLVendorNbr\n",
    "\t\t\t\t\t\tAND E.BatchNbr = S.BatchNbr\n",
    "\t\t\t\t) t\n",
    "\t\t\tWHERE\n",
    "\t\t\tE_checked='true'\n",
    "\t\t\tAND\n",
    "\t\t\tS_checked='x'\n",
    "\t\t\tAND\n",
    "\t\t\tS_BatchNbr=65\n",
    "    \"\"\")\n",
    "test_data = cursor_1.fetchall()"
   ]
  },
  {
   "cell_type": "code",
   "execution_count": null,
   "metadata": {},
   "outputs": [],
   "source": [
    "columns = ['S_DealNbr', 'S_ATG_IR', 'S_ClaimType_ATG', 'S_OrdStartDate_ATG', 'S_OrdEndDate_ATG', 'S_InDeal_Due', 'S_Shoulder_Due', 'S_LargeBuy_Due', \n",
    "           'S_TTL_OIDue', 'S_TTL_BBDue', 'S_NoBuy_Due', 'S_Facility', 'S_DLVendorNbr', 'S_MultiDeal_ATG', 'S_DealOrigin_ATG', 'S_AddDate', \n",
    "           'S_DealStatus_ATG', 'S_ClaimNumber', 'S_ClaimDate', 'S_ATG_IR_SourceFile', 'S_ClmBatchNbr_ATG', 'S_ItemCount', 'S_PA_Claimed', 'S_AR_AdjTyp', \n",
    "           'S_AR_Amount', 'S_AltTABLE2_ATG', 'S_DQ_Reason_ATG', 'S_QtyClaimed', 'S_QtyExample', 'S_LeadQTY', 'S_InDealQTY', 'S_PostQTY', 'S_SellUnitQty', \n",
    "           'S_UnitQtyOverSold_ATG', 'S_DaysBefore_ATG', 'S_DaysAfter_ATG', 'S_MultiVendor_ATG', 'S_DealVendorName', 'S_AP_VndNbr', 'S_PurVndrNbr', \n",
    "           'S_PurVndrNbr2', 'S_PurVndrName', 'S_PurVndrName2', 'S_PurVndCount_ATG', 'S_DateStartArrival_ATG', 'S_DateEndArrival_ATG', 'S_PromoStartDate_ATG', \n",
    "           'S_PromoEndDate_ATG', 'S_OCCURS', 'S_CATEGORY_ATG', 'S_ATG_ID', 'S_checked', 'S_BatchNbr', 'S_ATG_Ref', 'S_ClaimActivityID_ATGSYS', \n",
    "           'S_ClaimActivityCount_ATGSYS', 'E_BatchNbr', 'E_PODate', 'E_ReceivingDate', 'E_InvoicedDate', 'E_OIDue_ATG', 'E_BBDue_ATG', 'E_ClaimType', \n",
    "           'E_Shoulder_ATG', 'E_DtMatch_ATG', 'E_ItemNbr', 'E_ItemDescription', 'E_ItemShipPack', 'E_PoNbr', 'E_DealNbr', 'E_ATG_IR', 'E_OrdStartDate_ATG', \n",
    "           'E_OrdEndDate_ATG', 'E_DateStartArrival_ATG', 'E_DateEndArrival_ATG', 'E_AddDate', 'E_DLAmtOI', 'E_DLAmtBB', 'E_TurnRatio_ATG', 'E_OrdQty', \n",
    "           'E_PdQty_ATG', 'E_PdNetSB_ATG', 'E_PdNet_ATG', 'E_PdOI_ATG', 'E_PdBB_ATG', 'E_PdGross_ATG', 'E_ListcostAtStart', 'E_ListCostSB_ATG', 'E_BestOI_ATG', \n",
    "           'E_BestBB_ATG', 'E_DQ_Reason_ATG', 'E_ClaimedAmt', 'E_AR_AdjTyp', 'E_AR_Amount', 'E_AR_InvNbr', 'E_AR_InvNbr2', 'E_UPCNbr', 'E_UPCUnit', \n",
    "           'E_TurnQty_ATG', 'E_TruckSize_ATG', 'E_PdUpDn_ATG', 'E_BalFlag_ATG', 'E_OOB_ATG', 'E_MiscAdj_ATG', 'E_DLVendorNbr', 'E_DealVendorName', 'E_PurVndrNbr', \n",
    "           'E_PurVndrName', 'E_Facility', 'E_ReceiptNbr', 'E_ReceiptSfx', 'E_VndrInvNbr', 'E_TotWght', 'E_AP_VndNbr', 'E_APVndrName', 'E_BuyrNbr', 'E_BuyrName', \n",
    "           'E_Contact', 'E_AP_CheckNbr', 'E_AP_CheckDate', 'E_AP_GrossAmt', 'E_AP_DiscAmt', 'E_VendorCmmnt', 'E_TTLVendorCmmnt_ATG', 'E_PORemarks', \n",
    "           'E_MultiDeal_ATG', 'E_DealOrigin_ATG', 'E_AbsDays_ATG', 'E_ATG_Ref', 'E_ATG_DL_Ref', 'E_ATG_LI_Ref', 'E_ATG_HDR_Ref', 'E_DedBBInd', 'E_checked', \n",
    "           'E_CATEGORY_ATG', 'E_TrnCde_ATG', 'E_Dept', 'E_DLPctOI', 'E_DLPctBB', 'E_DLIncvPctOI', 'E_DLIncvPctBB', 'E_ClaimActivityID_ATGSYS', \n",
    "           'E_ClaimActivityCount_ATGSYS', 'E_ClaimActivityTypeID_ATGSYS']"
   ]
  },
  {
   "cell_type": "raw",
   "metadata": {
    "vscode": {
     "languageId": "raw"
    }
   },
   "source": [
    "# Putting training data into a DataFrame for better EDA opportunity and cleaning data\n",
    "train_data_list = []\n",
    "for index in range(len(train_data)):\n",
    "    train_data_list.append(list(train_data[index]))\n",
    "del train_data\n",
    "train = DataFrame(data=train_data_list,columns=[\n",
    "    'BatchNbr','PODate_1','ReceivingDate','InvoicedDate','OIDue_ATG','BBDue_ATG','ClaimType','Shoulder_ATG','DtMatch_ATG','ItemNbr','ItemDescription','ItemShipPack','PoNbr','DealNbr','ATG_IR',\n",
    "    'OrdStartDate_ATG','OrdEndDate_ATG','DateStartArrival_ATG','DateEndArrival_ATG','AddDate','DLAmtOI','DLAmtBB','TurnRatio_ATG','OrdQty','PdQty_ATG','PdNetSB_ATG','PdNet_ATG','PdOI_ATG','PdBB_ATG','PdGross_ATG',\n",
    "    'ListcostAtStart','ListCostSB_ATG','BestOI_ATG','BestBB_ATG','DQ_Reason_ATG','ClaimedAmt','AR_AdjTyp','AR_Amount','AR_InvNbr','AR_InvNbr2','UPCNbr','UPCUnit','TurnQty_ATG','TruckSize_ATG','PdUpDn_ATG',\n",
    "    'BalFlag_ATG_1','OOB_ATG_1','MiscAdj_ATG_1','DLVendorNbr','DealVendorName','PurVndrNbr','PurVndrName','Facility_1','ReceiptNbr_1','ReceiptSfx_1','VndrInvNbr','TotWght','AP_VndNbr','APVndrName_1','BuyrNbr',\n",
    "    'BuyrName','Contact','AP_CheckNbr_1','AP_CheckDate_1','AP_GrossAmt','AP_DiscAmt_1','VendorCmmnt_1','TTLVendorCmmnt_ATG_1','PORemarks_1','MultiDeal_ATG','DealOrigin_ATG','AbsDays_ATG','ATG_Ref_DealLI_Exceptions','ATG_DL_Ref','ATG_LI_Ref',\n",
    "    'ATG_HDR_Ref','DedBBInd_1','checked','CATEGORY_ATG','TrnCde_ATG','Dept','DLPctOI','DLPctBB','DLIncvPctOI','DLIncvPctBB','ClaimActivityID_ATGSYS_1','ClaimActivityCount_ATGSYS','ClaimActivityTypeID_ATGSYS','ClientFamilyID_ATG','BusinessUnit',\n",
    "    'ReceiptNbr_2','ReceiptSfx_2','PONbr','PODate_2','InvoiceDate','ReceiptDate','InvoiceNbr','POVendorNbr','POVendorName','BuyerNbr','BuyerName','TermsCode','TermsRate','TermsDays','TermsNet',\n",
    "    'TermsTyp','DaysPd_ATG','AP_VendorNbr','AP_VendorName','AP_InvoiceNbr','AP_InvoiceDate','AP_InvoiceAmt','AP_DiscAmt_2','AP_CheckNbr_2','AP_CheckDate_2','ATG_AP_Ref1','ATG_AP_Ref2','AP_InvoiceCnt_ATG','MatchFlag_ATG','BalFlag_ATG_2',\n",
    "    'OOB_ATG_2','MiscAdj_ATG_2','PaymentSB_ATG','POPaySB_ATG','InvoicePaySB_ATG','NetSB_ATG','GrossWght','UnitOfWeight','DocType','SourceFile_ATG','ATG_Ref_RCPT_HDR','Facility_2','APVndrName_2','PurVndrLeadTm','InvDueDate',\n",
    "    'InvApprvDate','InvEnteredDate','VndrDealStatus','InvStatus','EstArrvlDate','BuyrExcptnDate','BuyrOKDate','LiabPosting','StoreCost','DSDInvFlg','TTLAmt_ATG','Amt1','AcctNbr1','Amt2','AcctNbr2',\n",
    "    'Amt3','AcctNbr3','Amt4','AcctNbr4','Amt5','AcctNbr5','Amt6','AcctNbr6','Amt7','AcctNbr7','Amt8','AcctNbr8','Acct9','StoreNbr','PPDInvFlg',\n",
    "    'TTLVndrDedAmt_ATG','VndrDedAmt1','VndrDedCde1','VndrDedAmt2','VndrDedCde2','VndrDedAmt3','VndrDedCde3','VndrDedAmt4','VndrDedCde4','VndrDedAmt5','VndrDedCde5','VndrDedAmt6','VndrDedCde6','VndrDedAmt7','VndrDedCde7',\n",
    "    'VndrDedAmt8','VndrDedCde8','VndrDedAmt9','VndrDedCde9','TTLVendorCmmnt_ATG_2','PORemarks_2','InvEnteredUsrNbr','InvApprvdUsrNbr','VendorCmmnt_2','PeriodInd','TotPallts','TotDzns','ItemExcptnCt','VndrItemDedctns','VndrUpDnCde',\n",
    "    'VndrUpDnRate','VndrUpDnTyp','VndrUpDnAmt','FrghtAllwRateTyp','FrghtAllwRateAmt','FrghtAllwAmt','FrghtAllwExTyp','FrghtAllwExRate','PPAndAddExTyp','PPAndAddExRate','FrghtPPd','FrghtPPayAdd','FrghtBill','FrghtBckhl','PPAddRateTyp',\n",
    "    'PPAddRateAmt','PPAddAmt','FrghtBillRateTyp','FrghtBillRateAmt','FrghtBillAmt','BackhlRateTyp','BackhlRateAmt','BackhlAmt','WhseDiscIndx1','TotCube','TotQty','DueVendor','CashDiscAmt','InvVndrUpDnCde','InvVndrUpDnRate',\n",
    "    'InvVndrUpDnTyp','InvVndrUpDnAmt','InvFrghtAllwRateTyp','InvFrghtRateAmt','InvFrghtAllwAmt','InvFrghtAllwExTyp','InvPPAndAddExTyp','InvPPAndAddExRate','InvPPdFlg','InvPPAddFlg','InvFrghtBillFlg','InvBckhlFlg','InvPPayAddRateTyp','InvPPayAddRateAmt','InvPPayAddAmt',\n",
    "    'InvFrghtBillRateTyp','InvFrghtBillRateAmt','InvFrghtBillAmt','InvBckhlRateTyp','InvBckhlRateAmt','InvBckhlAmt','InvTotWght','InvWhseDisc1','InvTotCube','InvTotQty','InvDueVendor','InvCashDisc','AdjTotWght','AdjTotQty','AdjRecDueVendor',\n",
    "    'AdjCashDiscAmt','AdjInvDueVendor','FrghtBillPdInd','RecptRecapBuiltInd','FrstItemDept','TakeBBDate','TotVarWght','TotNonVarWghtQty','APVndrAddr1','APVndrAddr2','PurVndrAddr','WhseDiscAmt','InvWhseDiscAmt','ReconcldDate','BBAmt',\n",
    "    'APVendorNbr','RecvgCorrInd','ManualChk','EFTVndr','InterCmpny','ShippedDate','RemittanceNbr','ApprvlInd','TotRecvdCost','TotInvntryAdj','TotInvoiceDed','TotBB','Tot3rdPtyBkhl','TotCollect','TotBckhl',\n",
    "    'TotNetCost','Divrtr','FrghtTypBillInd','InvFrghtTypBillInd','CloseInd','InvTotWghtEnt','NbrOfItems','PONbrChngInd','CRInvFlg','InvTermsRate','InvTermsDays','InvTermsNet','OrigPrintInd','LtrOfCRInd','Re_PrntInd',\n",
    "    'DedctBBInd','RetailChain','DedBBInd_2','DedctShortdDealInd','InvFirmDate','HdrTxCode1','HdrTxProcFlg1','HdrTxCode2','HdrTxProcFlg2','HdrTxCode3','HdrTxProcFlg3','HdrTxCode4','HdrTxProcFlg4','HdrTxCode5','HdrTxProcFlg5',\n",
    "    'OrdType','TotNonTruckFrt','UpdtDate','UpdateTm','RemitMsg','FactorVndrNBr','APVndrCity','APVndrState','APVndrZip','APVndrZipSfx','ActvContrct','VndrThreshAtPg','CODInd','CntrctInd','ECHInd',\n",
    "    'CMARecnclCt','InvFuelAllowAmt','APChkNbr','EDIDueInd','SwellRecvdPct','SwellBasis','SwellAllwAmt','InvSwellAllwAmt','SwellAllwPostg','SwellAllwAcct','PUpDate','VerifDate','EDIInvInd','EDIPOInd','ATG_Ref_Orig',\n",
    "    'AP_Comment','Tolerance','ShortAllow','OIDeduct','Balancing','AP_OOBChk','PdHdrFrtVar_ATG','PdSwellAllow_ATG','PONet_ATG','InvNet_ATG','ClaimActivityID_ATGSYS_2']\n",
    "    )"
   ]
  },
  {
   "cell_type": "code",
   "execution_count": null,
   "metadata": {},
   "outputs": [],
   "source": [
    "# Putting training data into a DataFrame for better EDA opportunity and cleaning data\n",
    "train_data_list = []\n",
    "for index in range(len(train_data)):\n",
    "    train_data_list.append(list(train_data[index]))\n",
    "del train_data\n",
    "train = DataFrame(data=train_data_list,columns=columns)"
   ]
  },
  {
   "cell_type": "code",
   "execution_count": null,
   "metadata": {},
   "outputs": [],
   "source": [
    "del train_data_list"
   ]
  },
  {
   "cell_type": "code",
   "execution_count": null,
   "metadata": {},
   "outputs": [],
   "source": [
    "# Putting testing data into a DataFrame for better EDA opportunity and cleaning data\n",
    "test_data_list = []\n",
    "for index in range(len(test_data)):\n",
    "    test_data_list.append(list(test_data[index]))\n",
    "del test_data"
   ]
  },
  {
   "cell_type": "raw",
   "metadata": {
    "vscode": {
     "languageId": "raw"
    }
   },
   "source": [
    "test = DataFrame(data=test_data_list,columns=['row_num',\n",
    "    'BatchNbr','PODate_1','ReceivingDate','InvoicedDate','OIDue_ATG','BBDue_ATG','ClaimType','Shoulder_ATG','DtMatch_ATG','ItemNbr','ItemDescription','ItemShipPack','PoNbr','DealNbr','ATG_IR',\n",
    "    'OrdStartDate_ATG','OrdEndDate_ATG','DateStartArrival_ATG','DateEndArrival_ATG','AddDate','DLAmtOI','DLAmtBB','TurnRatio_ATG','OrdQty','PdQty_ATG','PdNetSB_ATG','PdNet_ATG','PdOI_ATG','PdBB_ATG','PdGross_ATG',\n",
    "    'ListcostAtStart','ListCostSB_ATG','BestOI_ATG','BestBB_ATG','DQ_Reason_ATG','ClaimedAmt','AR_AdjTyp','AR_Amount','AR_InvNbr','AR_InvNbr2','UPCNbr','UPCUnit','TurnQty_ATG','TruckSize_ATG','PdUpDn_ATG',\n",
    "    'BalFlag_ATG_1','OOB_ATG_1','MiscAdj_ATG_1','DLVendorNbr','DealVendorName','PurVndrNbr','PurVndrName','Facility_1','ReceiptNbr_1','ReceiptSfx_1','VndrInvNbr','TotWght','AP_VndNbr','APVndrName_1','BuyrNbr',\n",
    "    'BuyrName','Contact','AP_CheckNbr_1','AP_CheckDate_1','AP_GrossAmt','AP_DiscAmt_1','VendorCmmnt_1','TTLVendorCmmnt_ATG_1','PORemarks_1','MultiDeal_ATG','DealOrigin_ATG','AbsDays_ATG','ATG_Ref_DealLI_Exceptions','ATG_DL_Ref','ATG_LI_Ref',\n",
    "    'ATG_HDR_Ref','DedBBInd_1','checked','CATEGORY_ATG','TrnCde_ATG','Dept','DLPctOI','DLPctBB','DLIncvPctOI','DLIncvPctBB','ClaimActivityID_ATGSYS_1','ClaimActivityCount_ATGSYS','ClaimActivityTypeID_ATGSYS','ClientFamilyID_ATG','BusinessUnit',\n",
    "    'ReceiptNbr_2','ReceiptSfx_2','PONbr','PODate_2','InvoiceDate','ReceiptDate','InvoiceNbr','POVendorNbr','POVendorName','BuyerNbr','BuyerName','TermsCode','TermsRate','TermsDays','TermsNet',\n",
    "    'TermsTyp','DaysPd_ATG','AP_VendorNbr','AP_VendorName','AP_InvoiceNbr','AP_InvoiceDate','AP_InvoiceAmt','AP_DiscAmt_2','AP_CheckNbr_2','AP_CheckDate_2','ATG_AP_Ref1','ATG_AP_Ref2','AP_InvoiceCnt_ATG','MatchFlag_ATG','BalFlag_ATG_2',\n",
    "    'OOB_ATG_2','MiscAdj_ATG_2','PaymentSB_ATG','POPaySB_ATG','InvoicePaySB_ATG','NetSB_ATG','GrossWght','UnitOfWeight','DocType','SourceFile_ATG','ATG_Ref_RCPT_HDR','Facility_2','APVndrName_2','PurVndrLeadTm','InvDueDate',\n",
    "    'InvApprvDate','InvEnteredDate','VndrDealStatus','InvStatus','EstArrvlDate','BuyrExcptnDate','BuyrOKDate','LiabPosting','StoreCost','DSDInvFlg','TTLAmt_ATG','Amt1','AcctNbr1','Amt2','AcctNbr2',\n",
    "    'Amt3','AcctNbr3','Amt4','AcctNbr4','Amt5','AcctNbr5','Amt6','AcctNbr6','Amt7','AcctNbr7','Amt8','AcctNbr8','Acct9','StoreNbr','PPDInvFlg',\n",
    "    'TTLVndrDedAmt_ATG','VndrDedAmt1','VndrDedCde1','VndrDedAmt2','VndrDedCde2','VndrDedAmt3','VndrDedCde3','VndrDedAmt4','VndrDedCde4','VndrDedAmt5','VndrDedCde5','VndrDedAmt6','VndrDedCde6','VndrDedAmt7','VndrDedCde7',\n",
    "    'VndrDedAmt8','VndrDedCde8','VndrDedAmt9','VndrDedCde9','TTLVendorCmmnt_ATG_2','PORemarks_2','InvEnteredUsrNbr','InvApprvdUsrNbr','VendorCmmnt_2','PeriodInd','TotPallts','TotDzns','ItemExcptnCt','VndrItemDedctns','VndrUpDnCde',\n",
    "    'VndrUpDnRate','VndrUpDnTyp','VndrUpDnAmt','FrghtAllwRateTyp','FrghtAllwRateAmt','FrghtAllwAmt','FrghtAllwExTyp','FrghtAllwExRate','PPAndAddExTyp','PPAndAddExRate','FrghtPPd','FrghtPPayAdd','FrghtBill','FrghtBckhl','PPAddRateTyp',\n",
    "    'PPAddRateAmt','PPAddAmt','FrghtBillRateTyp','FrghtBillRateAmt','FrghtBillAmt','BackhlRateTyp','BackhlRateAmt','BackhlAmt','WhseDiscIndx1','TotCube','TotQty','DueVendor','CashDiscAmt','InvVndrUpDnCde','InvVndrUpDnRate',\n",
    "    'InvVndrUpDnTyp','InvVndrUpDnAmt','InvFrghtAllwRateTyp','InvFrghtRateAmt','InvFrghtAllwAmt','InvFrghtAllwExTyp','InvPPAndAddExTyp','InvPPAndAddExRate','InvPPdFlg','InvPPAddFlg','InvFrghtBillFlg','InvBckhlFlg','InvPPayAddRateTyp','InvPPayAddRateAmt','InvPPayAddAmt',\n",
    "    'InvFrghtBillRateTyp','InvFrghtBillRateAmt','InvFrghtBillAmt','InvBckhlRateTyp','InvBckhlRateAmt','InvBckhlAmt','InvTotWght','InvWhseDisc1','InvTotCube','InvTotQty','InvDueVendor','InvCashDisc','AdjTotWght','AdjTotQty','AdjRecDueVendor',\n",
    "    'AdjCashDiscAmt','AdjInvDueVendor','FrghtBillPdInd','RecptRecapBuiltInd','FrstItemDept','TakeBBDate','TotVarWght','TotNonVarWghtQty','APVndrAddr1','APVndrAddr2','PurVndrAddr','WhseDiscAmt','InvWhseDiscAmt','ReconcldDate','BBAmt',\n",
    "    'APVendorNbr','RecvgCorrInd','ManualChk','EFTVndr','InterCmpny','ShippedDate','RemittanceNbr','ApprvlInd','TotRecvdCost','TotInvntryAdj','TotInvoiceDed','TotBB','Tot3rdPtyBkhl','TotCollect','TotBckhl',\n",
    "    'TotNetCost','Divrtr','FrghtTypBillInd','InvFrghtTypBillInd','CloseInd','InvTotWghtEnt','NbrOfItems','PONbrChngInd','CRInvFlg','InvTermsRate','InvTermsDays','InvTermsNet','OrigPrintInd','LtrOfCRInd','Re_PrntInd',\n",
    "    'DedctBBInd','RetailChain','DedBBInd_2','DedctShortdDealInd','InvFirmDate','HdrTxCode1','HdrTxProcFlg1','HdrTxCode2','HdrTxProcFlg2','HdrTxCode3','HdrTxProcFlg3','HdrTxCode4','HdrTxProcFlg4','HdrTxCode5','HdrTxProcFlg5',\n",
    "    'OrdType','TotNonTruckFrt','UpdtDate','UpdateTm','RemitMsg','FactorVndrNBr','APVndrCity','APVndrState','APVndrZip','APVndrZipSfx','ActvContrct','VndrThreshAtPg','CODInd','CntrctInd','ECHInd',\n",
    "    'CMARecnclCt','InvFuelAllowAmt','APChkNbr','EDIDueInd','SwellRecvdPct','SwellBasis','SwellAllwAmt','InvSwellAllwAmt','SwellAllwPostg','SwellAllwAcct','PUpDate','VerifDate','EDIInvInd','EDIPOInd','ATG_Ref_Orig',\n",
    "    'AP_Comment','Tolerance','ShortAllow','OIDeduct','Balancing','AP_OOBChk','PdHdrFrtVar_ATG','PdSwellAllow_ATG','PONet_ATG','InvNet_ATG','ClaimActivityID_ATGSYS_2']\n",
    "    )\n",
    "test = test.drop(['row_num'],axis=1)"
   ]
  },
  {
   "cell_type": "code",
   "execution_count": null,
   "metadata": {},
   "outputs": [],
   "source": [
    "test = DataFrame(data=test_data_list,columns=columns)"
   ]
  },
  {
   "cell_type": "code",
   "execution_count": null,
   "metadata": {},
   "outputs": [],
   "source": [
    "del test_data_list,connectionString,conn,cursor_1,database"
   ]
  },
  {
   "cell_type": "code",
   "execution_count": null,
   "metadata": {},
   "outputs": [],
   "source": [
    "subject = 'Data Collected'\n",
    "body = f\"\"\"\n",
    "        {len(test):,} rows of data in batch 65.\n",
    "    \"\"\"\n",
    "send_email_to_self(subject,body)"
   ]
  },
  {
   "cell_type": "markdown",
   "metadata": {},
   "source": [
    "### Deleting Empty/Useless Columns"
   ]
  },
  {
   "cell_type": "code",
   "execution_count": null,
   "metadata": {},
   "outputs": [],
   "source": [
    "empty_col = []\n",
    "for col in train.columns:\n",
    "    if train[col].dtype == 'object':\n",
    "        if(train[col].nunique()>1000):\n",
    "            # print(col)\n",
    "            empty_col.append(col)"
   ]
  },
  {
   "cell_type": "raw",
   "metadata": {
    "vscode": {
     "languageId": "raw"
    }
   },
   "source": [
    "train_useful_columns = train.drop(empty_col,axis=1)\n",
    "test_useful_columns = test.drop(empty_col,axis=1)"
   ]
  },
  {
   "cell_type": "code",
   "execution_count": null,
   "metadata": {},
   "outputs": [],
   "source": [
    "train = train.drop(empty_col,axis=1)\n",
    "test = test.drop(empty_col,axis=1)"
   ]
  },
  {
   "cell_type": "markdown",
   "metadata": {},
   "source": [
    "### Fill NULL Values"
   ]
  },
  {
   "cell_type": "raw",
   "metadata": {
    "vscode": {
     "languageId": "raw"
    }
   },
   "source": [
    "for col in train_useful_columns.columns:\n",
    "    if train_useful_columns[col].dtype == 'object' and not(col=='checked'):\n",
    "        try:\n",
    "            train_useful_columns[col] = train_useful_columns[col].astype(int)\n",
    "        except:\n",
    "            try:\n",
    "                train_useful_columns[col] = train_useful_columns[col].astype(float)\n",
    "            except Exception as e: pass"
   ]
  },
  {
   "cell_type": "code",
   "execution_count": null,
   "metadata": {},
   "outputs": [],
   "source": [
    "for col in train.columns:\n",
    "    if train[col].dtype == 'object' and not(col=='checked'):\n",
    "        try:\n",
    "            train[col] = train[col].astype(int)\n",
    "        except:\n",
    "            try:\n",
    "                train[col] = train[col].astype(float)\n",
    "            except Exception as e: pass"
   ]
  },
  {
   "cell_type": "raw",
   "metadata": {
    "vscode": {
     "languageId": "raw"
    }
   },
   "source": [
    "for col in test_useful_columns.columns:\n",
    "    if test_useful_columns[col].dtype == 'object' and not(col=='checked'):\n",
    "        try:\n",
    "            test_useful_columns[col] = test_useful_columns[col].astype(int)\n",
    "        except:\n",
    "            try:\n",
    "                test_useful_columns[col] = test_useful_columns[col].astype(float)\n",
    "            except Exception as e: pass"
   ]
  },
  {
   "cell_type": "code",
   "execution_count": null,
   "metadata": {},
   "outputs": [],
   "source": [
    "for col in test.columns:\n",
    "    if test[col].dtype == 'object' and not(col=='checked'):\n",
    "        try:\n",
    "            test[col] = test[col].astype(int)\n",
    "        except:\n",
    "            try:\n",
    "                test[col] = test[col].astype(float)\n",
    "            except Exception as e: pass"
   ]
  },
  {
   "cell_type": "raw",
   "metadata": {
    "vscode": {
     "languageId": "raw"
    }
   },
   "source": [
    "for col in train_useful_columns.columns:\n",
    "    if train_useful_columns[col].dtype == 'object':\n",
    "        train_useful_columns[col] = train_useful_columns[col].fillna('None')\n",
    "    elif train_useful_columns[col].dtype == 'int64':\n",
    "        train_useful_columns[col] = train_useful_columns[col].fillna(-1)\n",
    "    elif train_useful_columns[col].dtype == 'float64':\n",
    "        train_useful_columns[col] = train_useful_columns[col].fillna(-1)"
   ]
  },
  {
   "cell_type": "code",
   "execution_count": null,
   "metadata": {},
   "outputs": [],
   "source": [
    "for col in train.columns:\n",
    "    if train[col].dtype == 'object':\n",
    "        train[col] = train[col].fillna('None')\n",
    "    elif train[col].dtype == 'int64':\n",
    "        train[col] = train[col].fillna(-1)\n",
    "    elif train[col].dtype == 'float64':\n",
    "        train[col] = train[col].fillna(-1)"
   ]
  },
  {
   "cell_type": "raw",
   "metadata": {
    "vscode": {
     "languageId": "raw"
    }
   },
   "source": [
    "for col in test_useful_columns.columns:\n",
    "    if test_useful_columns[col].dtype == 'object':\n",
    "        test_useful_columns[col] = test_useful_columns[col].fillna('None')\n",
    "    elif test_useful_columns[col].dtype == 'int64':\n",
    "        test_useful_columns[col] = test_useful_columns[col].fillna(-1)\n",
    "    elif test_useful_columns[col].dtype == 'float64':\n",
    "        test_useful_columns[col] = test_useful_columns[col].fillna(-1)"
   ]
  },
  {
   "cell_type": "code",
   "execution_count": null,
   "metadata": {},
   "outputs": [],
   "source": [
    "for col in test.columns:\n",
    "    if test[col].dtype == 'object':\n",
    "        test[col] = test[col].fillna('None')\n",
    "    elif test[col].dtype == 'int64':\n",
    "        test[col] = test[col].fillna(-1)\n",
    "    elif test[col].dtype == 'float64':\n",
    "        test[col] = test[col].fillna(-1)"
   ]
  },
  {
   "cell_type": "markdown",
   "metadata": {},
   "source": [
    "### Split Categorical Columns"
   ]
  },
  {
   "cell_type": "raw",
   "metadata": {
    "vscode": {
     "languageId": "raw"
    }
   },
   "source": [
    "for col in train_useful_columns.columns:\n",
    "    if train_useful_columns[col].dtype == 'object' and not(col=='checked'):\n",
    "        try:\n",
    "            train_useful_columns[col] = train_useful_columns[col].astype(int)\n",
    "        except:\n",
    "            try:\n",
    "                train_useful_columns[col] = train_useful_columns[col].astype(float)\n",
    "            except Exception as e: pass"
   ]
  },
  {
   "cell_type": "code",
   "execution_count": null,
   "metadata": {},
   "outputs": [],
   "source": [
    "for col in train.columns:\n",
    "    if train[col].dtype == 'object' and not(col=='checked'):\n",
    "        try:\n",
    "            train[col] = train[col].astype(int)\n",
    "        except:\n",
    "            try:\n",
    "                train[col] = train[col].astype(float)\n",
    "            except Exception as e: pass"
   ]
  },
  {
   "cell_type": "raw",
   "metadata": {
    "vscode": {
     "languageId": "raw"
    }
   },
   "source": [
    "for col in test_useful_columns.columns:\n",
    "    if test_useful_columns[col].dtype == 'object' and not(col=='checked'):\n",
    "        try:\n",
    "            test_useful_columns[col] = test_useful_columns[col].astype(int)\n",
    "        except:\n",
    "            try:\n",
    "                test_useful_columns[col] = test_useful_columns[col].astype(float)\n",
    "            except Exception as e: pass"
   ]
  },
  {
   "cell_type": "code",
   "execution_count": null,
   "metadata": {},
   "outputs": [],
   "source": [
    "for col in test.columns:\n",
    "    if test[col].dtype == 'object' and not(col=='checked'):\n",
    "        try:\n",
    "            test[col] = test[col].astype(int)\n",
    "        except:\n",
    "            try:\n",
    "                test[col] = test[col].astype(float)\n",
    "            except Exception as e: pass"
   ]
  },
  {
   "cell_type": "code",
   "execution_count": null,
   "metadata": {},
   "outputs": [],
   "source": [
    "# categorical_columns = []\n",
    "category_values = {}\n",
    "category_new_values = {}"
   ]
  },
  {
   "cell_type": "raw",
   "metadata": {
    "vscode": {
     "languageId": "raw"
    }
   },
   "source": [
    "for col in train_useful_columns.columns:\n",
    "    if train_useful_columns[col].dtype == 'object':\n",
    "        # print(col)\n",
    "        train_useful_columns[col] = train_useful_columns[col].apply(empty_string_to_null)\n",
    "        test_useful_columns[col] = test_useful_columns[col].apply(empty_string_to_null)\n",
    "        categorical_columns.append(col)\n",
    "        category_values[col] = Series(list(train_useful_columns[col].unique())+list(test_useful_columns[col].unique())).unique()"
   ]
  },
  {
   "cell_type": "code",
   "execution_count": null,
   "metadata": {},
   "outputs": [],
   "source": [
    "for col in train.columns:\n",
    "    if train[col].dtype == 'object':\n",
    "        # print(col)\n",
    "        train[col] = train[col].apply(empty_string_to_null)\n",
    "        test[col] = test[col].apply(empty_string_to_null)\n",
    "        # categorical_columns.append(col)\n",
    "        category_values[col] = Series(list(train[col].unique())+list(test[col].unique())).unique()"
   ]
  },
  {
   "cell_type": "code",
   "execution_count": null,
   "metadata": {},
   "outputs": [],
   "source": [
    "max_length = 0\n",
    "for key,item in category_values.items():\n",
    "    if(len(item)>max_length):\n",
    "        max_length = len(item)"
   ]
  },
  {
   "cell_type": "code",
   "execution_count": null,
   "metadata": {},
   "outputs": [],
   "source": [
    "for key in category_values:\n",
    "    category_values[key] = concatenate((category_values[key],['None'] * (max_length - len(category_values[key]))))"
   ]
  },
  {
   "cell_type": "code",
   "execution_count": null,
   "metadata": {},
   "outputs": [],
   "source": [
    "lookup_table = DataFrame.from_dict(category_values, orient='index')\n",
    "lookup_table.columns = range(max_length)\n",
    "for col in lookup_table.columns:\n",
    "    lookup_table[col] = lookup_table[col].astype(str)"
   ]
  },
  {
   "cell_type": "code",
   "execution_count": null,
   "metadata": {},
   "outputs": [],
   "source": [
    "lookup_table.to_csv('Lookup_Table.csv')\n",
    "del lookup_table"
   ]
  },
  {
   "cell_type": "code",
   "execution_count": null,
   "metadata": {},
   "outputs": [],
   "source": [
    "subject = 'Lookup Table Created'\n",
    "body = f\"\"\"\n",
    "        Starting long category_new_values section.\n",
    "    \"\"\"\n",
    "send_email_to_self(subject,body)"
   ]
  },
  {
   "cell_type": "raw",
   "metadata": {
    "vscode": {
     "languageId": "raw"
    }
   },
   "source": [
    "category_new_values = {}\n",
    "count = 0\n",
    "for key,item in category_values.items():\n",
    "    clear_output(wait=False)\n",
    "    print(f\"Categories Read: {count}\\nCategories Left: {len(category_values)-count}\")\n",
    "    count += 1\n",
    "    for new_value in item:\n",
    "        try:\n",
    "            category_new_values[f\"{key} : {new_value}\"] = list(Series(list(train_useful_columns[str(key)].unique())+list(test_useful_columns[str(key)].unique())).unique()).index(new_value)\n",
    "        except:\n",
    "            category_new_values[f\"{key} : {new_value}\"] = len(list(Series(list(train_useful_columns[str(key)].unique())+list(test_useful_columns[str(key)].unique())).unique()))\n",
    "            break"
   ]
  },
  {
   "cell_type": "code",
   "execution_count": null,
   "metadata": {},
   "outputs": [],
   "source": [
    "category_new_values = {}\n",
    "count = 0\n",
    "for key,item in category_values.items():\n",
    "    clear_output(wait=False)\n",
    "    print(f\"Categories Read: {count}\\nCategories Left: {len(category_values)-count}\")\n",
    "    count += 1\n",
    "    for new_value in item:\n",
    "        try:\n",
    "            category_new_values[f\"{key} : {new_value}\"] = list(Series(list(train[str(key)].unique())+list(test[str(key)].unique())).unique()).index(new_value)\n",
    "        except:\n",
    "            category_new_values[f\"{key} : {new_value}\"] = len(list(Series(list(train[str(key)].unique())+list(test[str(key)].unique())).unique()))\n",
    "            break\n",
    "del category_values"
   ]
  },
  {
   "cell_type": "raw",
   "metadata": {
    "vscode": {
     "languageId": "raw"
    }
   },
   "source": [
    "count = 0\n",
    "for key,item in category_new_values.items():\n",
    "    full_value = f\"{key} : {item}\"\n",
    "    print(f\"Categories Read: {count}\\nCategories Left: {len(category_new_values)-count}\\n{full_value}\\n\")\n",
    "    count += 1\n",
    "    col = search(r\"[A-Za-z\\_\\s]{1,}:\",full_value).group()\n",
    "    col = full_value.split(':')[0]\n",
    "    # print(f\"{col[:-1]}\")\n",
    "    col_value = search(\":.+:\",full_value).group()#search(r\":[A-Za-z0-9\\_\\s\\-\\/\\<\\>\\=\\'\\.\\+\\,\\&]{1,}:\",full_value).group()\n",
    "    col_value = full_value.split(':')[1]\n",
    "    # print(col_value[1:-1])\n",
    "    new_value = search(r\": [0-9]{1,}\",full_value).group().replace(' ','').replace(':','')\n",
    "    # print(new_value)\n",
    "    # print()\n",
    "    train_useful_columns[col[:-1]] = train_useful_columns[col[:-1]].replace({col_value[1:-1]: new_value})\n",
    "    test_useful_columns[col[:-1]] = test_useful_columns[col[:-1]].replace({col_value[1:-1]: new_value})"
   ]
  },
  {
   "cell_type": "code",
   "execution_count": null,
   "metadata": {},
   "outputs": [],
   "source": [
    "count = 0\n",
    "for key,item in category_new_values.items():\n",
    "    full_value = f\"{key} : {item}\"\n",
    "    print(f\"Categories Read: {count}\\nCategories Left: {len(category_new_values)-count}\\n{full_value}\\n\")\n",
    "    count += 1\n",
    "    col = search(r\"[A-Za-z\\_\\s]{1,}:\",full_value).group()\n",
    "    col = full_value.split(':')[0]\n",
    "    # print(f\"{col[:-1]}\")\n",
    "    col_value = search(\":.+:\",full_value).group()#search(r\":[A-Za-z0-9\\_\\s\\-\\/\\<\\>\\=\\'\\.\\+\\,\\&]{1,}:\",full_value).group()\n",
    "    col_value = full_value.split(':')[1]\n",
    "    # print(col_value[1:-1])\n",
    "    new_value = search(r\": [0-9]{1,}\",full_value).group().replace(' ','').replace(':','')\n",
    "    # print(new_value)\n",
    "    # print()\n",
    "    train[col[:-1]] = train[col[:-1]].replace({col_value[1:-1]: new_value})\n",
    "    test[col[:-1]] = test[col[:-1]].replace({col_value[1:-1]: new_value})\n",
    "del category_new_values"
   ]
  },
  {
   "cell_type": "code",
   "execution_count": null,
   "metadata": {},
   "outputs": [],
   "source": [
    "subject = 'New categories completed'\n",
    "body = f\"\"\"\n",
    "        About to prepare for machine learning testing.\n",
    "    \"\"\"\n",
    "send_email_to_self(subject,body)"
   ]
  },
  {
   "cell_type": "raw",
   "metadata": {
    "vscode": {
     "languageId": "raw"
    }
   },
   "source": [
    "for col in train_useful_columns.columns:\n",
    "    if train_useful_columns[col].dtype == 'object':# and not(col=='checked'):\n",
    "        try:\n",
    "            train_useful_columns[col] = train_useful_columns[col].astype(int)\n",
    "        except Exception as e:\n",
    "            train_useful_columns = DataFrame(train_useful_columns.drop(col,axis=1))\n",
    "            print(f\"{col}: {str(e)}\")"
   ]
  },
  {
   "cell_type": "code",
   "execution_count": null,
   "metadata": {},
   "outputs": [],
   "source": [
    "for col in train.columns:\n",
    "    if train[col].dtype == 'object':# and not(col=='checked'):\n",
    "        try:\n",
    "            train[col] = train[col].astype(int)\n",
    "        except Exception as e:\n",
    "            train = DataFrame(train.drop(col,axis=1))\n",
    "            # print(f\"{col}: {str(e)}\")"
   ]
  },
  {
   "cell_type": "raw",
   "metadata": {
    "vscode": {
     "languageId": "raw"
    }
   },
   "source": [
    "for col in test_useful_columns.columns:\n",
    "    if test_useful_columns[col].dtype == 'object':# and not(col=='checked'):\n",
    "        try:\n",
    "            test_useful_columns[col] = test_useful_columns[col].astype(int)\n",
    "        except Exception as e:\n",
    "            test_useful_columns = DataFrame(test_useful_columns.drop(col,axis=1))\n",
    "            print(f\"{col}: {str(e)}\")"
   ]
  },
  {
   "cell_type": "code",
   "execution_count": null,
   "metadata": {},
   "outputs": [],
   "source": [
    "for col in test.columns:\n",
    "    if test[col].dtype == 'object':# and not(col=='checked'):\n",
    "        try:\n",
    "            test[col] = test[col].astype(int)\n",
    "        except Exception as e:\n",
    "            test = DataFrame(test.drop(col,axis=1))\n",
    "            # print(f\"{col}: {str(e)}\")\n",
    "# test = test.drop('E_DQ_Reason_ATG',axis=1)"
   ]
  },
  {
   "cell_type": "raw",
   "metadata": {
    "vscode": {
     "languageId": "raw"
    }
   },
   "source": [
    "train_numerical_categories = train_useful_columns.copy()\n",
    "test_numerical_categories = test_useful_columns.copy()"
   ]
  },
  {
   "cell_type": "markdown",
   "metadata": {},
   "source": [
    "### Converting Datetime to Float"
   ]
  },
  {
   "cell_type": "raw",
   "metadata": {
    "vscode": {
     "languageId": "raw"
    }
   },
   "source": [
    "datetime_columns = []\n",
    "for col in train_numerical_categories.columns:\n",
    "    if train_numerical_categories[col].dtype == 'datetime64[ns]':\n",
    "        datetime_columns.append(col)"
   ]
  },
  {
   "cell_type": "code",
   "execution_count": null,
   "metadata": {},
   "outputs": [],
   "source": [
    "datetime_columns = []\n",
    "for col in train.columns:\n",
    "    if train[col].dtype == 'datetime64[ns]':\n",
    "        datetime_columns.append(col)"
   ]
  },
  {
   "cell_type": "raw",
   "metadata": {
    "vscode": {
     "languageId": "raw"
    }
   },
   "source": [
    "for col in datetime_columns:\n",
    "    train_numerical_categories[col] = to_numeric(train_numerical_categories[col])"
   ]
  },
  {
   "cell_type": "code",
   "execution_count": null,
   "metadata": {},
   "outputs": [],
   "source": [
    "for col in datetime_columns:\n",
    "    train[col] = to_numeric(train[col])"
   ]
  },
  {
   "cell_type": "raw",
   "metadata": {
    "vscode": {
     "languageId": "raw"
    }
   },
   "source": [
    "datetime_columns = []\n",
    "for col in test_numerical_categories.columns:\n",
    "    if test_numerical_categories[col].dtype == 'datetime64[ns]':\n",
    "        datetime_columns.append(col)"
   ]
  },
  {
   "cell_type": "code",
   "execution_count": null,
   "metadata": {},
   "outputs": [],
   "source": [
    "datetime_columns = []\n",
    "for col in test.columns:\n",
    "    if test[col].dtype == 'datetime64[ns]':\n",
    "        datetime_columns.append(col)"
   ]
  },
  {
   "cell_type": "raw",
   "metadata": {
    "vscode": {
     "languageId": "raw"
    }
   },
   "source": [
    "for col in datetime_columns:\n",
    "    test_numerical_categories[col] = to_numeric(test_numerical_categories[col])"
   ]
  },
  {
   "cell_type": "code",
   "execution_count": null,
   "metadata": {},
   "outputs": [],
   "source": [
    "for col in datetime_columns:\n",
    "    test[col] = to_numeric(test[col])\n",
    "del datetime_columns"
   ]
  },
  {
   "cell_type": "raw",
   "metadata": {
    "vscode": {
     "languageId": "raw"
    }
   },
   "source": [
    "for col in empty_col:\n",
    "    train_numerical_categories[col] = train[col]\n",
    "train_numerical_categories = train_numerical_categories.fillna('None')"
   ]
  },
  {
   "cell_type": "raw",
   "metadata": {
    "vscode": {
     "languageId": "raw"
    }
   },
   "source": [
    "for col in empty_col:\n",
    "    test_numerical_categories[col] = test[col]\n",
    "test_numerical_categories = test_numerical_categories.fillna('None')"
   ]
  },
  {
   "cell_type": "markdown",
   "metadata": {},
   "source": [
    "## Machine Learning Preparation"
   ]
  },
  {
   "cell_type": "markdown",
   "metadata": {},
   "source": [
    "### Global Variables"
   ]
  },
  {
   "cell_type": "code",
   "execution_count": null,
   "metadata": {},
   "outputs": [],
   "source": [
    "random_state = randint(1,4294967295)\n",
    "random_state"
   ]
  },
  {
   "cell_type": "code",
   "execution_count": null,
   "metadata": {},
   "outputs": [],
   "source": [
    "n_subsets = 100\n",
    "n_features = 50"
   ]
  },
  {
   "cell_type": "code",
   "execution_count": null,
   "metadata": {},
   "outputs": [],
   "source": [
    "model_scores = DataFrame(None,columns=['Accuracy','Recall','Precision','F1','ROC_OVR','ROC_OVO'])"
   ]
  },
  {
   "cell_type": "code",
   "execution_count": null,
   "metadata": {},
   "outputs": [],
   "source": [
    "accuracy_scorer = make_scorer(f1_score)"
   ]
  },
  {
   "cell_type": "code",
   "execution_count": null,
   "metadata": {},
   "outputs": [],
   "source": [
    "options.display.float_format = '{:.10f}'.format"
   ]
  },
  {
   "cell_type": "markdown",
   "metadata": {},
   "source": [
    "### Split Data"
   ]
  },
  {
   "cell_type": "code",
   "execution_count": null,
   "metadata": {},
   "outputs": [],
   "source": [
    "additional_excluded_columns = ['S_ATG_Ref','E_ATG_Ref','S_ClaimDate','S_BatchNbr','E_BatchNbr','E_ATG_HDR_Ref','S_PurVndrName','E_PurVndrName','E_PODate',\n",
    "                               'E_Dept','S_Facility','E_Facility','E_AP_CheckDate','E_UPCUnit','E_UPCNbr','S_ClmBatchNbr_ATG','S_ATG_IR','E_ATG_IR',\n",
    "                               'S_ClaimActivityCount_ATGSYS','E_ClaimActivityTypeID_ATGSYS','E_ATG_DL_Ref','S_ATG_ID','E_ATG_LI_Ref','E_ClaimActivityID_ATGSYS',\n",
    "                               'E_ReceiptNbr',\n",
    "                               \n",
    "                               'E_ReceivingDate','E_ClaimActivityCount_ATGSYS','E_InvoicedDate','E_PoNbr','E_ClaimedAmt','S_QtyClaimed','S_Shoulder_Due']"
   ]
  },
  {
   "cell_type": "raw",
   "metadata": {
    "vscode": {
     "languageId": "raw"
    }
   },
   "source": [
    "excluded_features = test_numerical_categories[empty_col+additional_excluded_columns]\n",
    "# features = df_numerical_categories.drop(list(excluded_features.columns)+['checked'],axis=1)\n",
    "# target = df_numerical_categories['checked']"
   ]
  },
  {
   "cell_type": "code",
   "execution_count": null,
   "metadata": {},
   "outputs": [],
   "source": [
    "excluded_features = test[additional_excluded_columns]\n",
    "# features = df_numerical_categories.drop(list(excluded_features.columns)+['checked'],axis=1)\n",
    "# target = df_numerical_categories['checked']"
   ]
  },
  {
   "cell_type": "raw",
   "metadata": {
    "vscode": {
     "languageId": "raw"
    }
   },
   "source": [
    "features_train = train_numerical_categories.drop(empty_col+['checked']+additional_excluded_columns,axis=1)\n",
    "target_train = train_numerical_categories['checked']\n",
    "features_test = test_numerical_categories.drop(empty_col+['checked']+additional_excluded_columns,axis=1)\n",
    "target_test = test_numerical_categories['checked']"
   ]
  },
  {
   "cell_type": "code",
   "execution_count": null,
   "metadata": {},
   "outputs": [],
   "source": [
    "# features_train,features_test,target_train,target_test = train_test_split(features,target,test_size=0.2,random_state=random_state)\n",
    "# while(target_train.nunique()<4 or target_test.nunique()<4 or len):\n",
    "#     random_state = randint(1,1000000000)\n",
    "#     features_train,features_test,target_train,target_test = train_test_split(features,target,test_size=0.2,random_state=random_state)\n",
    "# print(random_state)"
   ]
  },
  {
   "cell_type": "markdown",
   "metadata": {},
   "source": [
    "### Scaling Data"
   ]
  },
  {
   "cell_type": "raw",
   "metadata": {
    "vscode": {
     "languageId": "raw"
    }
   },
   "source": [
    "scaler = StandardScaler()\n",
    "scaler.fit(features_train)\n",
    "features_train_scaled = DataFrame(scaler.transform(features_train),columns=features_train.columns)\n",
    "features_test_scaled = DataFrame(scaler.transform(features_test),columns=features_test.columns)"
   ]
  },
  {
   "cell_type": "code",
   "execution_count": null,
   "metadata": {},
   "outputs": [],
   "source": [
    "scaler = StandardScaler()\n",
    "scaler.fit(train.drop(['E_checked','S_checked']+additional_excluded_columns,axis=1))\n",
    "features_train_scaled = DataFrame(scaler.transform(train.drop(['E_checked','S_checked']+additional_excluded_columns,axis=1)),columns=list(train.drop(['E_checked','S_checked']+additional_excluded_columns,axis=1).columns))\n",
    "target_train_E = train['E_checked']\n",
    "target_train_S = train['S_checked']\n",
    "features_test_scaled = DataFrame(scaler.transform(test.drop(['E_checked','S_checked']+additional_excluded_columns,axis=1)),columns=list(test.drop(['E_checked','S_checked']+additional_excluded_columns,axis=1).columns))\n",
    "target_test_E = test['E_checked']\n",
    "target_test_S = test['S_checked']\n"
   ]
  },
  {
   "cell_type": "code",
   "execution_count": null,
   "metadata": {},
   "outputs": [],
   "source": [
    "# del train\n",
    "# del test,empty_col"
   ]
  },
  {
   "cell_type": "markdown",
   "metadata": {},
   "source": [
    "## ML Models"
   ]
  },
  {
   "cell_type": "markdown",
   "metadata": {},
   "source": [
    "### Dummy"
   ]
  },
  {
   "cell_type": "markdown",
   "metadata": {},
   "source": [
    "#### Exceptions"
   ]
  },
  {
   "cell_type": "code",
   "execution_count": null,
   "metadata": {},
   "outputs": [],
   "source": [
    "subject = 'Starting Dummy Classifier'\n",
    "body = f\"\"\"\n",
    "    \"\"\"\n",
    "send_email_to_self(subject,body)"
   ]
  },
  {
   "cell_type": "code",
   "execution_count": null,
   "metadata": {},
   "outputs": [],
   "source": [
    "dc_e = DummyClassifier(random_state=random_state,strategy='most_frequent')\n",
    "dc_e.fit(features_train_scaled,target_train_E)"
   ]
  },
  {
   "cell_type": "code",
   "execution_count": null,
   "metadata": {},
   "outputs": [],
   "source": [
    "dc_predictions = dc_e.predict(features_test_scaled)"
   ]
  },
  {
   "cell_type": "code",
   "execution_count": null,
   "metadata": {},
   "outputs": [],
   "source": [
    "full_score_report_binary_class(dc_e,features_test_scaled,target_test_E,dc_predictions,'Model_Analysis/Exceptions/Dummy_Exceptions_ROC_Recall_Precision_Curves')"
   ]
  },
  {
   "cell_type": "code",
   "execution_count": null,
   "metadata": {},
   "outputs": [],
   "source": [
    "dc_e_confusion_matrix = DataFrame(confusion_matrix(target_test_E,dc_predictions,labels=[0,1]),columns=['Predicted_x','Predicted_TRUE'],index=['Actual_x','Actual_TRUE'])"
   ]
  },
  {
   "cell_type": "code",
   "execution_count": null,
   "metadata": {},
   "outputs": [],
   "source": [
    "model_scores.loc['Dummy_Exceptions'] = get_scores(dc_e,features_test_scaled,target_test_E,dc_predictions)[:-1]"
   ]
  },
  {
   "cell_type": "code",
   "execution_count": null,
   "metadata": {},
   "outputs": [],
   "source": [
    "dc_e_importances = DataFrame([[1/len(features_train_scaled.columns) for _ in range(len(features_train_scaled.columns))]],columns=list(features_train_scaled.columns),index=['Dummy_Exceptions']).T"
   ]
  },
  {
   "cell_type": "markdown",
   "metadata": {},
   "source": [
    "#### Summary"
   ]
  },
  {
   "cell_type": "code",
   "execution_count": null,
   "metadata": {},
   "outputs": [],
   "source": [
    "dc_s = DummyClassifier(random_state=random_state,strategy='most_frequent')\n",
    "dc_s.fit(features_train_scaled,target_train_S)"
   ]
  },
  {
   "cell_type": "code",
   "execution_count": null,
   "metadata": {},
   "outputs": [],
   "source": [
    "dc_predictions = dc_s.predict(features_test_scaled)"
   ]
  },
  {
   "cell_type": "code",
   "execution_count": null,
   "metadata": {},
   "outputs": [],
   "source": [
    "full_score_report_binary_class(dc_s,features_test_scaled,target_test_S,dc_predictions,'Model_Analysis/Summary/Dummy_Summary_ROC_Recall_Precision_Curves')"
   ]
  },
  {
   "cell_type": "code",
   "execution_count": null,
   "metadata": {},
   "outputs": [],
   "source": [
    "dc_s_confusion_matrix = DataFrame(confusion_matrix(target_test_S,dc_predictions,labels=[0,1]),columns=['Predicted_x','Predicted_claim'],index=['Actual_x','Actual_claim'])"
   ]
  },
  {
   "cell_type": "code",
   "execution_count": null,
   "metadata": {},
   "outputs": [],
   "source": [
    "model_scores.loc['Dummy_Summary'] = get_scores(dc_s,features_test_scaled,target_test_S,dc_predictions)[:-1]"
   ]
  },
  {
   "cell_type": "code",
   "execution_count": null,
   "metadata": {},
   "outputs": [],
   "source": [
    "dc_s_importances = DataFrame([[1/len(features_train_scaled.columns) for _ in range(len(features_train_scaled.columns))]],columns=list(features_train_scaled.columns),index=['Dummy_Summary']).T"
   ]
  },
  {
   "cell_type": "markdown",
   "metadata": {},
   "source": [
    "### Decision Tree"
   ]
  },
  {
   "cell_type": "markdown",
   "metadata": {},
   "source": [
    "#### Exceptions"
   ]
  },
  {
   "cell_type": "code",
   "execution_count": null,
   "metadata": {},
   "outputs": [],
   "source": [
    "subject = 'Starting DecisionTreeClassifier Exceptions'\n",
    "body = f\"\"\"\n",
    "    \"\"\"\n",
    "send_email_to_self(subject,body)"
   ]
  },
  {
   "cell_type": "code",
   "execution_count": null,
   "metadata": {},
   "outputs": [],
   "source": [
    "dt_e_parameters = {\n",
    "    'random_state':[random_state],\n",
    "    'max_depth':[2,3,4,5,6,7,8],\n",
    "    'splitter':['best','random']\n",
    "}"
   ]
  },
  {
   "cell_type": "raw",
   "metadata": {
    "vscode": {
     "languageId": "raw"
    }
   },
   "source": [
    "# To store results\n",
    "results = []\n",
    "subsets = []\n",
    "\n",
    "for i in range(n_subsets):\n",
    "    # Randomly select 50 features\n",
    "    subset_features = np.random.choice(features_train_scaled.columns, n_features, replace=False)\n",
    "    subsets.append(list(subset_features))\n",
    "    features_train_subset = features_train_scaled[subset_features]\n",
    "    features_test_subset = features_test_scaled[subset_features]\n",
    "    \n",
    "    # Train the model (RandomForestClassifier in this example)\n",
    "    dt = DecisionTreeClassifier(random_state=random_state,max_depth=None)\n",
    "    dt.fit(features_train_subset, target_train)\n",
    "    \n",
    "    # Make predictions and evaluate the model\n",
    "    dt_predictions = dt.predict(features_test_subset)\n",
    "    accuracy = accuracy_score(target_test, dt_predictions)\n",
    "    \n",
    "    # Store the results\n",
    "    results.append(get_scores(dt,features_test_subset,target_test,dt_predictions)[:-1])\n",
    "    print(f\"Iteration {i+1}/{n_subsets}, Accuracy: {accuracy}\")\n",
    "detailed_results = DataFrame(results,columns=['Accuracy','Recall','Precision','F1','ROC_OVR','ROC_OVO'])"
   ]
  },
  {
   "cell_type": "code",
   "execution_count": null,
   "metadata": {},
   "outputs": [],
   "source": [
    "dt_e = DecisionTreeClassifier(random_state=random_state,max_depth=None)\n",
    "dt_e =GridSearchCV(DecisionTreeClassifier(),dt_e_parameters,verbose=10,cv=5,refit=True,error_score='raise',return_train_score=True)"
   ]
  },
  {
   "cell_type": "code",
   "execution_count": null,
   "metadata": {},
   "outputs": [],
   "source": [
    "# dt_best = DecisionTreeClassifier(**dt.best_params_)\n",
    "# dt_best.fit(features_train_scaled,target_train)\n",
    "dt_e.fit(features_train_scaled,target_train_E)"
   ]
  },
  {
   "cell_type": "code",
   "execution_count": null,
   "metadata": {},
   "outputs": [],
   "source": [
    "dt_e.best_params_"
   ]
  },
  {
   "cell_type": "code",
   "execution_count": null,
   "metadata": {},
   "outputs": [],
   "source": [
    "dt_e_best = DecisionTreeClassifier(**dt_e.best_params_)\n",
    "dt_e_best.fit(features_train_scaled,target_train_E)"
   ]
  },
  {
   "cell_type": "code",
   "execution_count": null,
   "metadata": {},
   "outputs": [],
   "source": [
    "# dt_predictions = dt_best.predict(features_test_scaled)\n",
    "dt_e_predictions = dt_e.predict(features_test_scaled)"
   ]
  },
  {
   "cell_type": "code",
   "execution_count": null,
   "metadata": {},
   "outputs": [],
   "source": [
    "full_score_report_binary_class(dt_e,features_test_scaled,target_test_E,dt_e_predictions,'Model_Analysis/Exceptions/Decision_Tree_Exceptions_ROC_Recall_Precision_Curves')"
   ]
  },
  {
   "cell_type": "code",
   "execution_count": null,
   "metadata": {},
   "outputs": [],
   "source": [
    "plot_tree(dt_e_best)"
   ]
  },
  {
   "cell_type": "code",
   "execution_count": null,
   "metadata": {},
   "outputs": [],
   "source": [
    "dt_e_confusion_matrix = DataFrame(confusion_matrix(target_test_E,dt_e_predictions,labels=[0,1]),columns=['Predicted_x','Predicted_TRUE'],index=['Actual_x','Actual_TRUE'])"
   ]
  },
  {
   "cell_type": "code",
   "execution_count": null,
   "metadata": {},
   "outputs": [],
   "source": [
    "model_scores.loc['Decision_Tree_Exceptions'] = get_scores(dt_e,features_test_scaled,target_test_E,dt_e_predictions)[:-1]"
   ]
  },
  {
   "cell_type": "code",
   "execution_count": null,
   "metadata": {},
   "outputs": [],
   "source": [
    "dt_e_importances = DataFrame([dt_e_best.feature_importances_],columns=features_train_scaled.columns,index=['Decision_Tree_Exceptions']).T"
   ]
  },
  {
   "cell_type": "markdown",
   "metadata": {},
   "source": [
    "#### Summary"
   ]
  },
  {
   "cell_type": "code",
   "execution_count": null,
   "metadata": {},
   "outputs": [],
   "source": [
    "subject = 'Starting DecisionTreeClassifier Summary'\n",
    "body = f\"\"\"\n",
    "    \"\"\"\n",
    "send_email_to_self(subject,body)"
   ]
  },
  {
   "cell_type": "code",
   "execution_count": null,
   "metadata": {},
   "outputs": [],
   "source": [
    "dt_s_parameters = {\n",
    "    'random_state':[random_state],\n",
    "    'max_depth':[2,3,4,5,6,7,8],\n",
    "    'splitter':['best','random']\n",
    "}"
   ]
  },
  {
   "cell_type": "raw",
   "metadata": {
    "vscode": {
     "languageId": "raw"
    }
   },
   "source": [
    "# To store results\n",
    "results = []\n",
    "subsets = []\n",
    "\n",
    "for i in range(n_subsets):\n",
    "    # Randomly select 50 features\n",
    "    subset_features = np.random.choice(features_train_scaled.columns, n_features, replace=False)\n",
    "    subsets.append(list(subset_features))\n",
    "    features_train_subset = features_train_scaled[subset_features]\n",
    "    features_test_subset = features_test_scaled[subset_features]\n",
    "    \n",
    "    # Train the model (RandomForestClassifier in this example)\n",
    "    dt = DecisionTreeClassifier(random_state=random_state,max_depth=None)\n",
    "    dt.fit(features_train_subset, target_train)\n",
    "    \n",
    "    # Make predictions and evaluate the model\n",
    "    dt_predictions = dt.predict(features_test_subset)\n",
    "    accuracy = accuracy_score(target_test, dt_predictions)\n",
    "    \n",
    "    # Store the results\n",
    "    results.append(get_scores(dt,features_test_subset,target_test,dt_predictions)[:-1])\n",
    "    print(f\"Iteration {i+1}/{n_subsets}, Accuracy: {accuracy}\")\n",
    "detailed_results = DataFrame(results,columns=['Accuracy','Recall','Precision','F1','ROC_OVR','ROC_OVO'])"
   ]
  },
  {
   "cell_type": "code",
   "execution_count": null,
   "metadata": {},
   "outputs": [],
   "source": [
    "dt_s = DecisionTreeClassifier(random_state=random_state,max_depth=None)\n",
    "dt_s =GridSearchCV(DecisionTreeClassifier(),dt_s_parameters,verbose=10,cv=5,refit=True,error_score='raise',return_train_score=True)"
   ]
  },
  {
   "cell_type": "code",
   "execution_count": null,
   "metadata": {},
   "outputs": [],
   "source": [
    "# dt_best = DecisionTreeClassifier(**dt.best_params_)\n",
    "# dt_best.fit(features_train_scaled,target_train)\n",
    "dt_s.fit(features_train_scaled,target_train_S)"
   ]
  },
  {
   "cell_type": "code",
   "execution_count": null,
   "metadata": {},
   "outputs": [],
   "source": [
    "dt_s.best_params_"
   ]
  },
  {
   "cell_type": "code",
   "execution_count": null,
   "metadata": {},
   "outputs": [],
   "source": [
    "dt_s_best = DecisionTreeClassifier(**dt_s.best_params_)\n",
    "dt_s_best.fit(features_train_scaled,target_train_S)"
   ]
  },
  {
   "cell_type": "code",
   "execution_count": null,
   "metadata": {},
   "outputs": [],
   "source": [
    "# dt_predictions = dt_best.predict(features_test_scaled)\n",
    "dt_s_predictions = dt_e.predict(features_test_scaled)"
   ]
  },
  {
   "cell_type": "code",
   "execution_count": null,
   "metadata": {},
   "outputs": [],
   "source": [
    "full_score_report_binary_class(dt_s,features_test_scaled,target_test_S,dt_s_predictions,'Model_Analysis/Summary/Decision_Tree_Summary_ROC_Recall_Precision_Curves')"
   ]
  },
  {
   "cell_type": "code",
   "execution_count": null,
   "metadata": {},
   "outputs": [],
   "source": [
    "plot_tree(dt_s_best)"
   ]
  },
  {
   "cell_type": "code",
   "execution_count": null,
   "metadata": {},
   "outputs": [],
   "source": [
    "dt_s_confusion_matrix = DataFrame(confusion_matrix(target_test_S,dt_s_predictions,labels=[0,1]),columns=['Predicted_x','Predicted_claim'],index=['Actual_x','Actual_claim'])"
   ]
  },
  {
   "cell_type": "code",
   "execution_count": null,
   "metadata": {},
   "outputs": [],
   "source": [
    "model_scores.loc['Decision_Tree_Summary'] = get_scores(dt_s,features_test_scaled,target_test_S,dt_s_predictions)[:-1]"
   ]
  },
  {
   "cell_type": "code",
   "execution_count": null,
   "metadata": {},
   "outputs": [],
   "source": [
    "dt_s_importances = DataFrame([dt_s_best.feature_importances_],columns=features_train_scaled.columns,index=['Decision_Tree_Summary']).T"
   ]
  },
  {
   "cell_type": "markdown",
   "metadata": {},
   "source": [
    "### Random Forest"
   ]
  },
  {
   "cell_type": "markdown",
   "metadata": {},
   "source": [
    "#### Exceptions"
   ]
  },
  {
   "cell_type": "code",
   "execution_count": null,
   "metadata": {},
   "outputs": [],
   "source": [
    "subject = 'Starting RandomForestClassifier Exceptions'\n",
    "body = f\"\"\"\n",
    "    \"\"\"\n",
    "send_email_to_self(subject,body)"
   ]
  },
  {
   "cell_type": "code",
   "execution_count": null,
   "metadata": {},
   "outputs": [],
   "source": [
    "rf_e_parameters = {\n",
    "    'random_state':[random_state],\n",
    "    'max_depth':[5],#[2,3,5],\n",
    "    'n_estimators':[50],#[50,100,150,200],\n",
    "    'max_features':[None],\n",
    "    'warm_start':[True]\n",
    "}"
   ]
  },
  {
   "cell_type": "code",
   "execution_count": null,
   "metadata": {},
   "outputs": [],
   "source": [
    "rf_e = RandomForestClassifier(n_estimators=500,random_state=random_state,warm_start=True,max_depth=None,verbose=10)\n",
    "rf_e = GridSearchCV(RandomForestClassifier(),rf_e_parameters,verbose=10,cv=2,refit=True,error_score='raise',return_train_score=True)"
   ]
  },
  {
   "cell_type": "code",
   "execution_count": null,
   "metadata": {},
   "outputs": [],
   "source": [
    "# rf_best = RandomForestClassifier(**rf.best_params_)\n",
    "# rf_best.fit(features_train_scaled,target_train)\n",
    "rf_e.fit(features_train_scaled,target_train_E)"
   ]
  },
  {
   "cell_type": "code",
   "execution_count": null,
   "metadata": {},
   "outputs": [],
   "source": [
    "rf_e_best = RandomForestClassifier(**rf_e.best_params_)"
   ]
  },
  {
   "cell_type": "code",
   "execution_count": null,
   "metadata": {},
   "outputs": [],
   "source": [
    "rf_e_best.fit(features_train_scaled,target_train_E)"
   ]
  },
  {
   "cell_type": "code",
   "execution_count": null,
   "metadata": {},
   "outputs": [],
   "source": [
    "# rf_predictions = rf_best.predict(features_test_scaled)\n",
    "rf_e_predictions = rf_e.predict(features_test_scaled)"
   ]
  },
  {
   "cell_type": "code",
   "execution_count": null,
   "metadata": {},
   "outputs": [],
   "source": [
    "full_score_report_binary_class(rf_e_best,features_test_scaled,target_test_E,rf_e_predictions,'Model_Analysis/Exceptions/Random_Forest_Exceptions_ROC_Recall_Precision_Curves')"
   ]
  },
  {
   "cell_type": "code",
   "execution_count": null,
   "metadata": {},
   "outputs": [],
   "source": [
    "rf_e_confusion_matrix = DataFrame(confusion_matrix(target_test_E,rf_e_predictions,labels=[0,1]),columns=['Predicted_x','Predicted_TRUE'],index=['Actual_x','Actual_TRUE'])"
   ]
  },
  {
   "cell_type": "code",
   "execution_count": null,
   "metadata": {},
   "outputs": [],
   "source": [
    "model_scores.loc['Random_Forest_Exceptions'] = get_scores(rf_e_best,features_test_scaled,target_test_E,rf_e_predictions)[:-1]"
   ]
  },
  {
   "cell_type": "code",
   "execution_count": null,
   "metadata": {},
   "outputs": [],
   "source": [
    "rf_e_importances = DataFrame([rf_e_best.feature_importances_],columns=features_train_scaled.columns,index=['Random_Forest_Exceptions']).T"
   ]
  },
  {
   "cell_type": "markdown",
   "metadata": {},
   "source": [
    "#### Summary"
   ]
  },
  {
   "cell_type": "code",
   "execution_count": null,
   "metadata": {},
   "outputs": [],
   "source": [
    "subject = 'Starting RandomForestClassifier Summary'\n",
    "body = f\"\"\"\n",
    "    \"\"\"\n",
    "send_email_to_self(subject,body)"
   ]
  },
  {
   "cell_type": "code",
   "execution_count": null,
   "metadata": {},
   "outputs": [],
   "source": [
    "rf_s_parameters = {\n",
    "    'random_state':[random_state],\n",
    "    'max_depth':[5],#[2,3,5],\n",
    "    'n_estimators':[50],#[50,100,150,200],\n",
    "    'max_features':[None],\n",
    "    'warm_start':[True]\n",
    "}"
   ]
  },
  {
   "cell_type": "code",
   "execution_count": null,
   "metadata": {},
   "outputs": [],
   "source": [
    "rf_s = RandomForestClassifier(n_estimators=500,random_state=random_state,warm_start=True,max_depth=None,verbose=10)\n",
    "rf_s = GridSearchCV(RandomForestClassifier(),rf_s_parameters,verbose=10,cv=2,refit=True,error_score='raise',return_train_score=True)"
   ]
  },
  {
   "cell_type": "code",
   "execution_count": null,
   "metadata": {},
   "outputs": [],
   "source": [
    "# rf_best = RandomForestClassifier(**rf.best_params_)\n",
    "# rf_best.fit(features_train_scaled,target_train)\n",
    "rf_s.fit(features_train_scaled,target_train_S)"
   ]
  },
  {
   "cell_type": "code",
   "execution_count": null,
   "metadata": {},
   "outputs": [],
   "source": [
    "rf_s_best = RandomForestClassifier(**rf_s.best_params_)"
   ]
  },
  {
   "cell_type": "code",
   "execution_count": null,
   "metadata": {},
   "outputs": [],
   "source": [
    "rf_s_best.fit(features_train_scaled,target_train_S)"
   ]
  },
  {
   "cell_type": "code",
   "execution_count": null,
   "metadata": {},
   "outputs": [],
   "source": [
    "# rf_predictions = rf_best.predict(features_test_scaled)\n",
    "rf_s_predictions = rf_s.predict(features_test_scaled)"
   ]
  },
  {
   "cell_type": "code",
   "execution_count": null,
   "metadata": {},
   "outputs": [],
   "source": [
    "full_score_report_binary_class(rf_s_best,features_test_scaled,target_test_S,rf_s_predictions,'Model_Analysis/Summary/Random_Forest_Summary_ROC_Recall_Precision_Curves')"
   ]
  },
  {
   "cell_type": "code",
   "execution_count": null,
   "metadata": {},
   "outputs": [],
   "source": [
    "rf_s_confusion_matrix = DataFrame(confusion_matrix(target_test_S,rf_s_predictions,labels=[0,1]),columns=['Predicted_x','Predicted_claim'],index=['Actual_x','Actual_claim'])"
   ]
  },
  {
   "cell_type": "code",
   "execution_count": null,
   "metadata": {},
   "outputs": [],
   "source": [
    "model_scores.loc['Random_Forest_Summary'] = get_scores(rf_s_best,features_test_scaled,target_test_S,rf_s_predictions)[:-1]"
   ]
  },
  {
   "cell_type": "code",
   "execution_count": null,
   "metadata": {},
   "outputs": [],
   "source": [
    "rf_s_importances = DataFrame([rf_s_best.feature_importances_],columns=features_train_scaled.columns,index=['Random_Forest_Summary']).T"
   ]
  },
  {
   "cell_type": "markdown",
   "metadata": {},
   "source": [
    "### XGBoost"
   ]
  },
  {
   "cell_type": "markdown",
   "metadata": {},
   "source": [
    "#### Exceptions"
   ]
  },
  {
   "cell_type": "code",
   "execution_count": null,
   "metadata": {},
   "outputs": [],
   "source": [
    "subject = 'Starting XGBoost Exceptions'\n",
    "body = f\"\"\"\n",
    "    \"\"\"\n",
    "send_email_to_self(subject,body)"
   ]
  },
  {
   "cell_type": "code",
   "execution_count": null,
   "metadata": {},
   "outputs": [],
   "source": [
    "xgb_e_parameters = {\n",
    "    'random_state':[random_state],\n",
    "    'n_estimators':[50,100,150,200,250]\n",
    "}"
   ]
  },
  {
   "cell_type": "code",
   "execution_count": null,
   "metadata": {},
   "outputs": [],
   "source": [
    "xgb_e = XGBClassifier(verbosity=3,n_estimators=200)\n",
    "xgb_e = GridSearchCV(XGBClassifier(),xgb_e_parameters,verbose=10,cv=5,refit=True,error_score='raise',return_train_score=True)"
   ]
  },
  {
   "cell_type": "code",
   "execution_count": null,
   "metadata": {},
   "outputs": [],
   "source": [
    "xgb_e.fit(features_train_scaled,target_train_E)"
   ]
  },
  {
   "cell_type": "code",
   "execution_count": null,
   "metadata": {},
   "outputs": [],
   "source": [
    "xgb_e_best = XGBClassifier(**xgb_e.best_params_)"
   ]
  },
  {
   "cell_type": "code",
   "execution_count": null,
   "metadata": {},
   "outputs": [],
   "source": [
    "xgb_e_best.fit(features_train_scaled,target_train_E)"
   ]
  },
  {
   "cell_type": "code",
   "execution_count": null,
   "metadata": {},
   "outputs": [],
   "source": [
    "xgb_e_predictions = xgb_e_best.predict(features_test_scaled)"
   ]
  },
  {
   "cell_type": "code",
   "execution_count": null,
   "metadata": {},
   "outputs": [],
   "source": [
    "full_score_report_binary_class(xgb_e_best,features_test_scaled,target_test_E,xgb_e_predictions,'Model_Analysis/Exceptions/Gradient_Boost_Exceptions_ROC_Recall_Precision_Curves')"
   ]
  },
  {
   "cell_type": "code",
   "execution_count": null,
   "metadata": {},
   "outputs": [],
   "source": [
    "xgb_e_confusion_matrix = DataFrame(confusion_matrix(target_test_E,xgb_e_predictions,labels=[0,1]),columns=['Predicted_x','Predicted_TRUE'],index=['Actual_x','Actual_TRUE'])"
   ]
  },
  {
   "cell_type": "code",
   "execution_count": null,
   "metadata": {},
   "outputs": [],
   "source": [
    "model_scores.loc['XGBoost_Exceptions'] = get_scores(xgb_e_best,features_test_scaled,target_test_E,xgb_e_predictions)[:-1]"
   ]
  },
  {
   "cell_type": "code",
   "execution_count": null,
   "metadata": {},
   "outputs": [],
   "source": [
    "xgb_e_importances = DataFrame([xgb_e_best.feature_importances_],columns=features_train_scaled.columns,index=['XGBoost_Exceptions']).T"
   ]
  },
  {
   "cell_type": "markdown",
   "metadata": {},
   "source": [
    "#### Summary"
   ]
  },
  {
   "cell_type": "code",
   "execution_count": null,
   "metadata": {},
   "outputs": [],
   "source": [
    "subject = 'Starting XGBoost Summary'\n",
    "body = f\"\"\"\n",
    "    \"\"\"\n",
    "send_email_to_self(subject,body)"
   ]
  },
  {
   "cell_type": "code",
   "execution_count": null,
   "metadata": {},
   "outputs": [],
   "source": [
    "xgb_s_parameters = {\n",
    "    'random_state':[random_state],\n",
    "    'n_estimators':[50,100,150,200,250]\n",
    "}"
   ]
  },
  {
   "cell_type": "code",
   "execution_count": null,
   "metadata": {},
   "outputs": [],
   "source": [
    "xgb_s = XGBClassifier(verbosity=3,n_estimators=200)\n",
    "xgb_s = GridSearchCV(XGBClassifier(),xgb_s_parameters,verbose=10,cv=5,refit=True,error_score='raise',return_train_score=True)"
   ]
  },
  {
   "cell_type": "code",
   "execution_count": null,
   "metadata": {},
   "outputs": [],
   "source": [
    "xgb_s.fit(features_train_scaled,target_train_S)"
   ]
  },
  {
   "cell_type": "code",
   "execution_count": null,
   "metadata": {},
   "outputs": [],
   "source": [
    "xgb_s_best = XGBClassifier(**xgb_s.best_params_)"
   ]
  },
  {
   "cell_type": "code",
   "execution_count": null,
   "metadata": {},
   "outputs": [],
   "source": [
    "xgb_s_best.fit(features_train_scaled,target_train_S)"
   ]
  },
  {
   "cell_type": "code",
   "execution_count": null,
   "metadata": {},
   "outputs": [],
   "source": [
    "xgb_s_predictions = xgb_s_best.predict(features_test_scaled)"
   ]
  },
  {
   "cell_type": "code",
   "execution_count": null,
   "metadata": {},
   "outputs": [],
   "source": [
    "full_score_report_binary_class(xgb_s_best,features_test_scaled,target_test_S,xgb_s_predictions,'Model_Analysis/Summary/XGBoostBoost_Summary_ROC_Recall_Precision_Curves')"
   ]
  },
  {
   "cell_type": "code",
   "execution_count": null,
   "metadata": {},
   "outputs": [],
   "source": [
    "xgb_s_confusion_matrix = DataFrame(confusion_matrix(target_test_S,xgb_s_predictions,labels=[0,1]),columns=['Predicted_x','Predicted_claim'],index=['Actual_x','Actual_claim'])"
   ]
  },
  {
   "cell_type": "code",
   "execution_count": null,
   "metadata": {},
   "outputs": [],
   "source": [
    "model_scores.loc['XGBoost_Summary'] = get_scores(xgb_s_best,features_test_scaled,target_test_S,xgb_s_predictions)[:-1]"
   ]
  },
  {
   "cell_type": "code",
   "execution_count": null,
   "metadata": {},
   "outputs": [],
   "source": [
    "xgb_s_importances = DataFrame([xgb_s_best.feature_importances_],columns=features_train_scaled.columns,index=['XGBoost_Summary']).T"
   ]
  },
  {
   "cell_type": "markdown",
   "metadata": {},
   "source": [
    "### Cat Boost"
   ]
  },
  {
   "cell_type": "markdown",
   "metadata": {},
   "source": [
    "#### Exceptions"
   ]
  },
  {
   "cell_type": "code",
   "execution_count": null,
   "metadata": {},
   "outputs": [],
   "source": [
    "subject = 'Starting CatBoost Exceptions'\n",
    "body = f\"\"\"\n",
    "    \"\"\"\n",
    "send_email_to_self(subject,body)"
   ]
  },
  {
   "cell_type": "code",
   "execution_count": null,
   "metadata": {},
   "outputs": [],
   "source": [
    "cb_e_parameters = {\n",
    "    'iterations':[1500],#[500,750,1000,1500],\n",
    "    'random_state':[random_state],\n",
    "    'learning_rate':[0.005],#[0.005,0.0075,0.01],\n",
    "    'depth':[5],#[2,5],\n",
    "    'verbose':[0],\n",
    "    'early_stopping_rounds':[3]#[3,5,10]\n",
    "}"
   ]
  },
  {
   "cell_type": "code",
   "execution_count": null,
   "metadata": {},
   "outputs": [],
   "source": [
    "cb_e = CatBoostClassifier(iterations=10000,learning_rate=0.0075,random_state=random_state,depth=7,verbose=10)\n",
    "cb_e = GridSearchCV(CatBoostClassifier(),param_grid=cb_e_parameters,verbose=10,refit=True,cv=2,error_score='raise',return_train_score=True)"
   ]
  },
  {
   "cell_type": "code",
   "execution_count": null,
   "metadata": {},
   "outputs": [],
   "source": [
    "cb_e.fit(features_train_scaled,target_train_E)"
   ]
  },
  {
   "cell_type": "code",
   "execution_count": null,
   "metadata": {},
   "outputs": [],
   "source": [
    "cb_e_best = CatBoostClassifier(**cb_e.best_params_)"
   ]
  },
  {
   "cell_type": "code",
   "execution_count": null,
   "metadata": {},
   "outputs": [],
   "source": [
    "cb_e.best_params_"
   ]
  },
  {
   "cell_type": "code",
   "execution_count": null,
   "metadata": {},
   "outputs": [],
   "source": [
    "cb_e_best.fit(features_train_scaled,target_train_E)"
   ]
  },
  {
   "cell_type": "code",
   "execution_count": null,
   "metadata": {},
   "outputs": [],
   "source": [
    "cb_e_predictions = cb_e_best.predict(features_test_scaled)"
   ]
  },
  {
   "cell_type": "code",
   "execution_count": null,
   "metadata": {},
   "outputs": [],
   "source": [
    "full_score_report_binary_class(cb_e_best,features_test_scaled,target_test_E,cb_e_predictions,'Model_Analysis/Exceptions/Cat_Boost_Exceptions_ROC_Recall_Precision_Curves')"
   ]
  },
  {
   "cell_type": "code",
   "execution_count": null,
   "metadata": {},
   "outputs": [],
   "source": [
    "cb_e_confusion_matrix = DataFrame(confusion_matrix(target_test_E,cb_e_predictions,labels=[0,1]),columns=['Predicted_x','Predicted_TRUE'],index=['Actual_x','Actual_TRUE'])"
   ]
  },
  {
   "cell_type": "code",
   "execution_count": null,
   "metadata": {},
   "outputs": [],
   "source": [
    "model_scores.loc['Cat_Boost_Exceptions'] = get_scores(cb_e_best,features_test_scaled,target_test_E,cb_e_predictions)[:-1]"
   ]
  },
  {
   "cell_type": "code",
   "execution_count": null,
   "metadata": {},
   "outputs": [],
   "source": [
    "cb_e_importances = DataFrame([cb_e_best.feature_importances_],columns=features_train_scaled.columns,index=['Cat_Boost_Exceptions']).T"
   ]
  },
  {
   "cell_type": "code",
   "execution_count": null,
   "metadata": {},
   "outputs": [],
   "source": [
    "cb_e_importances['Cat_Boost_Exceptions'] = cb_e_importances['Cat_Boost_Exceptions']/100"
   ]
  },
  {
   "cell_type": "markdown",
   "metadata": {},
   "source": [
    "#### Summary"
   ]
  },
  {
   "cell_type": "code",
   "execution_count": null,
   "metadata": {},
   "outputs": [],
   "source": [
    "subject = 'Starting CatBoost Summary'\n",
    "body = f\"\"\"\n",
    "    \"\"\"\n",
    "send_email_to_self(subject,body)"
   ]
  },
  {
   "cell_type": "code",
   "execution_count": null,
   "metadata": {},
   "outputs": [],
   "source": [
    "cb_s_parameters = {\n",
    "    'iterations':[1500],#[500,750,1000,1500],\n",
    "    'random_state':[random_state],\n",
    "    'learning_rate':[0.005],#[0.005,0.0075,0.01],\n",
    "    'depth':[4],#[2,5],\n",
    "    'verbose':[0],\n",
    "    'early_stopping_rounds':[5]#[3,5,10]\n",
    "}"
   ]
  },
  {
   "cell_type": "code",
   "execution_count": null,
   "metadata": {},
   "outputs": [],
   "source": [
    "cb_s = CatBoostClassifier(iterations=10000,learning_rate=0.0075,random_state=random_state,depth=7,verbose=10)\n",
    "cb_s = GridSearchCV(CatBoostClassifier(),param_grid=cb_s_parameters,verbose=10,refit=True,cv=2,error_score='raise',return_train_score=True)"
   ]
  },
  {
   "cell_type": "code",
   "execution_count": null,
   "metadata": {},
   "outputs": [],
   "source": [
    "cb_s.fit(features_train_scaled,target_train_S)"
   ]
  },
  {
   "cell_type": "code",
   "execution_count": null,
   "metadata": {},
   "outputs": [],
   "source": [
    "cb_s_best = CatBoostClassifier(**cb_s.best_params_)"
   ]
  },
  {
   "cell_type": "code",
   "execution_count": null,
   "metadata": {},
   "outputs": [],
   "source": [
    "cb_s.best_params_"
   ]
  },
  {
   "cell_type": "code",
   "execution_count": null,
   "metadata": {},
   "outputs": [],
   "source": [
    "cb_s_best.fit(features_train_scaled,target_train_S)"
   ]
  },
  {
   "cell_type": "code",
   "execution_count": null,
   "metadata": {},
   "outputs": [],
   "source": [
    "cb_s_predictions = cb_s_best.predict(features_test_scaled)"
   ]
  },
  {
   "cell_type": "code",
   "execution_count": null,
   "metadata": {},
   "outputs": [],
   "source": [
    "full_score_report_binary_class(cb_s_best,features_test_scaled,target_test_S,cb_s_predictions,'Model_Analysis/Summary/Cat_Boost_Summary_ROC_Recall_Precision_Curves')"
   ]
  },
  {
   "cell_type": "code",
   "execution_count": null,
   "metadata": {},
   "outputs": [],
   "source": [
    "cb_s_confusion_matrix = DataFrame(confusion_matrix(target_test_S,cb_s_predictions,labels=[0,1]),columns=['Predicted_x','Predicted_claim'],index=['Actual_x','Actual_claim'])"
   ]
  },
  {
   "cell_type": "code",
   "execution_count": null,
   "metadata": {},
   "outputs": [],
   "source": [
    "model_scores.loc['Cat_Boost_Summary'] = get_scores(cb_s_best,features_test_scaled,target_test_S,cb_s_predictions)[:-1]"
   ]
  },
  {
   "cell_type": "code",
   "execution_count": null,
   "metadata": {},
   "outputs": [],
   "source": [
    "cb_s_importances = DataFrame([cb_s_best.feature_importances_],columns=features_train_scaled.columns,index=['Cat_Boost_Summary']).T"
   ]
  },
  {
   "cell_type": "code",
   "execution_count": null,
   "metadata": {},
   "outputs": [],
   "source": [
    "cb_s_importances['Cat_Boost_Summary'] = cb_s_importances['Cat_Boost_Summary']/100"
   ]
  },
  {
   "cell_type": "markdown",
   "metadata": {},
   "source": [
    "### K-Nearest Neighbors"
   ]
  },
  {
   "cell_type": "markdown",
   "metadata": {},
   "source": [
    "#### Exceptions"
   ]
  },
  {
   "cell_type": "code",
   "execution_count": null,
   "metadata": {},
   "outputs": [],
   "source": [
    "subject = 'Starting K-NearestNeighbors'\n",
    "body = f\"\"\"\n",
    "    \"\"\"\n",
    "send_email_to_self(subject,body)"
   ]
  },
  {
   "cell_type": "code",
   "execution_count": null,
   "metadata": {},
   "outputs": [],
   "source": [
    "knc_e,knn_e_predictions = build_knc(random_state=random_state,train=features_train_scaled,target=target_train_E,n_neighbors=3,test=features_test_scaled)"
   ]
  },
  {
   "cell_type": "code",
   "execution_count": null,
   "metadata": {},
   "outputs": [],
   "source": [
    "full_score_report_binary_class(model=knc_e,features=features_test_scaled,target=target_test_E,predictions=knn_e_predictions,image_name='Model_Analysis/Exceptions/KNN_Exceptions_ROC_Recall_Precision_Curves')"
   ]
  },
  {
   "cell_type": "code",
   "execution_count": null,
   "metadata": {},
   "outputs": [],
   "source": [
    "knn_e_confusion_matrix = DataFrame(confusion_matrix(target_test_E,knn_e_predictions,labels=[0,1]),columns=['Predicted_x','Predicted_TRUE'],index=['Actual_x','Actual_TRUE'])"
   ]
  },
  {
   "cell_type": "code",
   "execution_count": null,
   "metadata": {},
   "outputs": [],
   "source": [
    "model_scores.loc['K_Neighors_Exceptions'] = get_scores(knc_e,features_test_scaled,target_test_E,knn_e_predictions)[:-1]"
   ]
  },
  {
   "cell_type": "markdown",
   "metadata": {},
   "source": [
    "#### Summary"
   ]
  },
  {
   "cell_type": "code",
   "execution_count": null,
   "metadata": {},
   "outputs": [],
   "source": [
    "knc_s,knn_s_predictions = build_knc(random_state=random_state,train=features_train_scaled,target=target_train_S,n_neighbors=3,test=features_test_scaled)"
   ]
  },
  {
   "cell_type": "code",
   "execution_count": null,
   "metadata": {},
   "outputs": [],
   "source": [
    "full_score_report_binary_class(model=knc_s,features=features_test_scaled,target=target_test_S,predictions=knn_s_predictions,image_name='Model_Analysis/Summary/KNN_Summary_ROC_Recall_Precision_Curves')"
   ]
  },
  {
   "cell_type": "code",
   "execution_count": null,
   "metadata": {},
   "outputs": [],
   "source": [
    "knn_s_confusion_matrix = DataFrame(confusion_matrix(target_test_S,knn_s_predictions,labels=[0,1]),columns=['Predicted_x','Predicted_claim'],index=['Actual_x','Actual_claim'])"
   ]
  },
  {
   "cell_type": "code",
   "execution_count": null,
   "metadata": {},
   "outputs": [],
   "source": [
    "model_scores.loc['K_Neighors_Summary'] = get_scores(knc_s,features_test_scaled,target_test_S,knn_s_predictions)[:-1]"
   ]
  },
  {
   "cell_type": "markdown",
   "metadata": {},
   "source": [
    "## Model Analysis"
   ]
  },
  {
   "cell_type": "markdown",
   "metadata": {},
   "source": [
    "### Exceptions"
   ]
  },
  {
   "cell_type": "code",
   "execution_count": null,
   "metadata": {},
   "outputs": [],
   "source": [
    "subject = 'Analyzing Models'\n",
    "body = f\"\"\"\n",
    "    \"\"\"\n",
    "send_email_to_self(subject,body)"
   ]
  },
  {
   "cell_type": "code",
   "execution_count": null,
   "metadata": {},
   "outputs": [],
   "source": [
    "# List of dataframes\n",
    "confusion_e_matrices = [dc_e_confusion_matrix, dt_e_confusion_matrix, rf_e_confusion_matrix, xgb_e_confusion_matrix, cb_e_confusion_matrix, knn_e_confusion_matrix]\n",
    "titles_e = ['Dummy_Exceptions', 'Decision_Tree_Exceptions', 'Random_Forest_Exceptions', 'XGBoost_Exceptions', 'Cat_Boost_Exceptions','K_Neighbors_Exceptions']\n",
    "\n",
    "table_e_rows = [len(tbl) for tbl in confusion_e_matrices]\n",
    "\n",
    "# Create a figure and a set of subplots\n",
    "fig_e, axs_e = subplots(ncols=1, nrows=6,gridspec_kw={'height_ratios': table_e_rows},figsize=(6,8))\n",
    "\n",
    "# Iterate through dataframes and plot them\n",
    "for ax, dfs, title in zip(axs_e, confusion_e_matrices, titles_e):\n",
    "    # Hide the axes\n",
    "    # ax.axis('tight')\n",
    "    df_with_index_e = dfs.copy()\n",
    "    df_with_index_e.insert(0, '', dfs.index)\n",
    "    ax.axis('off')\n",
    "    # Create the table\n",
    "    table = ax.table(cellText=df_with_index_e.values, colLabels=df_with_index_e.columns, cellLoc='center', loc='center')\n",
    "    # Add title\n",
    "    ax.set_title(title)\n",
    "\n",
    "tight_layout()\n",
    "savefig('Model_Analysis/Exceptions/Confused_Matrices_Exceptions.pdf',format='pdf')\n",
    "savefig('Discrepancies/All_Features/Exceptions/Confused_Matrices_Exceptions.pdf',format='pdf')\n",
    "close()\n",
    "# show()"
   ]
  },
  {
   "cell_type": "code",
   "execution_count": null,
   "metadata": {},
   "outputs": [],
   "source": [
    "model_scores.iloc[[0,2,4,6,8,10]]"
   ]
  },
  {
   "cell_type": "code",
   "execution_count": null,
   "metadata": {},
   "outputs": [],
   "source": [
    "model_scores.iloc[[0,2,4,6,8,10]].to_csv('Model_Analysis/Exceptions/All_Model_Scores_Exceptions.csv')\n",
    "model_scores.iloc[[0,2,4,6,8,10]].to_html('Model_Analysis/Exceptions/All_Model_Scores_Exceptions.html')"
   ]
  },
  {
   "cell_type": "code",
   "execution_count": null,
   "metadata": {},
   "outputs": [],
   "source": [
    "combined_importances_e = concat([dc_e_importances,dt_e_importances,rf_e_importances,xgb_e_importances,cb_e_importances],axis=1)\n",
    "combined_importances_e['SUM_Exceptions'] = combined_importances_e['Dummy_Exceptions']+combined_importances_e['Decision_Tree_Exceptions']+combined_importances_e['Random_Forest_Exceptions']+combined_importances_e['XGBoost_Exceptions']+combined_importances_e['Cat_Boost_Exceptions']"
   ]
  },
  {
   "cell_type": "code",
   "execution_count": null,
   "metadata": {},
   "outputs": [],
   "source": [
    "combined_importances_e.to_csv('Model_Analysis/Exceptions/Feature_Importance_Exceptions_All_Models.csv')"
   ]
  },
  {
   "cell_type": "code",
   "execution_count": null,
   "metadata": {},
   "outputs": [],
   "source": [
    "combined_importances_e.to_html('Model_Analysis/Exceptions/Feature_Importance_Exceptions_All_Models.html')"
   ]
  },
  {
   "cell_type": "code",
   "execution_count": null,
   "metadata": {},
   "outputs": [],
   "source": [
    "combined_importances_e.sort_values('SUM_Exceptions',ascending=False).to_html('Model_Analysis/Exceptions/Feature_Importance_Exceptions_All_Models_Sort_By_SUM.html')"
   ]
  },
  {
   "cell_type": "code",
   "execution_count": null,
   "metadata": {},
   "outputs": [],
   "source": [
    "combined_importances_e.sort_values('XGBoost_Exceptions',ascending=False).to_html('Model_Analysis/Exceptions/Feature_Importance_Exceptions_All_Models_Sort_By_Best_Model.html')"
   ]
  },
  {
   "cell_type": "markdown",
   "metadata": {},
   "source": [
    "### Summary"
   ]
  },
  {
   "cell_type": "code",
   "execution_count": null,
   "metadata": {},
   "outputs": [],
   "source": [
    "# List of dataframes\n",
    "confusion_s_matrices = [dc_s_confusion_matrix, dt_s_confusion_matrix, rf_s_confusion_matrix, xgb_s_confusion_matrix, cb_s_confusion_matrix, knn_s_confusion_matrix]\n",
    "titles_s = ['Dummy_Summary', 'Decision_Tree_Summary', 'Random_Forest_Summary', 'XGBoost_Summary', 'Cat_Boost_Summary','K_Neighbors_Summary']\n",
    "\n",
    "table_s_rows = [len(tbl) for tbl in confusion_s_matrices]\n",
    "\n",
    "# Create a figure and a set of subplots\n",
    "fig_s, axs_s = subplots(ncols=1, nrows=6,gridspec_kw={'height_ratios': table_s_rows},figsize=(6,8))\n",
    "\n",
    "# Iterate through dataframes and plot them\n",
    "for ax, dfs, title in zip(axs_s, confusion_s_matrices, titles_s):\n",
    "    # Hide the axes\n",
    "    # ax.axis('tight')\n",
    "    df_with_index_s = dfs.copy()\n",
    "    df_with_index_s.insert(0, '', dfs.index)\n",
    "    ax.axis('off')\n",
    "    # Create the table\n",
    "    table = ax.table(cellText=df_with_index_s.values, colLabels=df_with_index_s.columns, cellLoc='center', loc='center')\n",
    "    # Add title\n",
    "    ax.set_title(title)\n",
    "\n",
    "tight_layout()\n",
    "savefig('Model_Analysis/Summary/Confused_Matrices_Summary.pdf',format='pdf')\n",
    "savefig('Discrepancies/All_Features/Summary/Confused_Matrices_Summary.pdf',format='pdf')\n",
    "close()\n",
    "# show()"
   ]
  },
  {
   "cell_type": "code",
   "execution_count": null,
   "metadata": {},
   "outputs": [],
   "source": [
    "model_scores.iloc[[1,3,5,7,9,11]]"
   ]
  },
  {
   "cell_type": "code",
   "execution_count": null,
   "metadata": {},
   "outputs": [],
   "source": [
    "model_scores.iloc[[1,3,5,7,9,11]].to_csv('Model_Analysis/Summary/All_Model_Scores_Summary.csv')\n",
    "model_scores.iloc[[1,3,5,7,9,11]].to_html('Model_Analysis/Summary/All_Model_Scores_Summary.html')"
   ]
  },
  {
   "cell_type": "code",
   "execution_count": null,
   "metadata": {},
   "outputs": [],
   "source": [
    "combined_importances_s = concat([dc_s_importances,dt_s_importances,rf_s_importances,xgb_s_importances,cb_s_importances],axis=1)\n",
    "combined_importances_s['SUM_Summary'] = combined_importances_s['Dummy_Summary']+combined_importances_s['Decision_Tree_Summary']+combined_importances_s['Random_Forest_Summary']+combined_importances_s['XGBoost_Summary']+combined_importances_s['Cat_Boost_Summary']"
   ]
  },
  {
   "cell_type": "code",
   "execution_count": null,
   "metadata": {},
   "outputs": [],
   "source": [
    "combined_importances_s.to_csv('Model_Analysis/Summary/Feature_Importance_Summary_All_Models.csv')"
   ]
  },
  {
   "cell_type": "code",
   "execution_count": null,
   "metadata": {},
   "outputs": [],
   "source": [
    "combined_importances_s.to_html('Model_Analysis/Summary/Feature_Importance_Summary_All_Models.html')"
   ]
  },
  {
   "cell_type": "code",
   "execution_count": null,
   "metadata": {},
   "outputs": [],
   "source": [
    "combined_importances_s.sort_values('SUM_Summary',ascending=False).to_html('Model_Analysis/Summary/Feature_Importance_Summary_All_Models_Sort_By_SUM.html')"
   ]
  },
  {
   "cell_type": "code",
   "execution_count": null,
   "metadata": {},
   "outputs": [],
   "source": [
    "combined_importances_s.sort_values('XGBoost_Summary',ascending=False).to_html('Model_Analysis/Summary/Feature_Importance_Summary_All_Models_Sort_By_Best_Model.html')"
   ]
  },
  {
   "cell_type": "code",
   "execution_count": null,
   "metadata": {},
   "outputs": [],
   "source": [
    "subject = 'Analysis Complete'\n",
    "body = f\"\"\"\\\n",
    "        Summary Scores:\\n{model_scores.iloc[[1,3,5,7,9,11]]}\\n\n",
    "        Exceptions Scores:\\n{model_scores.iloc[[0,2,4,6,8,10]]}\n",
    "    \"\"\"\n",
    "send_email_to_self(subject,body)"
   ]
  },
  {
   "cell_type": "markdown",
   "metadata": {},
   "source": [
    "## Most Similar Neighboring Data Discrepancies"
   ]
  },
  {
   "cell_type": "markdown",
   "metadata": {},
   "source": [
    "### K-Nearest Neighbor Without Excluded Features"
   ]
  },
  {
   "cell_type": "raw",
   "metadata": {
    "vscode": {
     "languageId": "raw"
    }
   },
   "source": [
    "feature_names = list(features.columns)\n",
    "\n",
    "transformer_mas = MaxAbsScaler().fit(features[feature_names].to_numpy())\n",
    "\n",
    "df_scaled = features.copy()\n",
    "df_scaled.loc[:, feature_names] = transformer_mas.transform(features[feature_names].to_numpy())"
   ]
  },
  {
   "cell_type": "raw",
   "metadata": {
    "vscode": {
     "languageId": "raw"
    }
   },
   "source": [
    "discrepancy_neighboring_rows = {}\n",
    "for index in df_scaled.index[:501]:\n",
    "    if(int(index)%100==0):\n",
    "        clear_output(wait=False)\n",
    "        print(f\"Rows Read: {index:,}\\nRows Left: {int(df_scaled.index[-1])-int(index):,}\")\n",
    "        print(f\"Number of rows with nearest neighbors of different checked values: {len(discrepancy_neighboring_rows.keys()):,}\")\n",
    "    euclidean_nearest_neighbors = get_knn(df_scaled,n=index,k=5,metric='euclidean',feature_names=list(features.columns))\n",
    "    euclidean_nearest_neighbors['checked'] = target.copy()\n",
    "    if(euclidean_nearest_neighbors['checked'].nunique()>1):\n",
    "        discrepancy_neighboring_rows[df.loc[euclidean_nearest_neighbors.index]['ATG_Ref'][euclidean_nearest_neighbors.index[0]]] = df.loc[euclidean_nearest_neighbors.index]"
   ]
  },
  {
   "cell_type": "raw",
   "metadata": {
    "vscode": {
     "languageId": "raw"
    }
   },
   "source": [
    "# print(f\"Number of rows with nearest neighbors of different checked values: {len(discrepancy_neighboring_rows.keys()):,}\")\n",
    "for key,item in discrepancy_neighboring_rows.items():\n",
    "    item.to_csv(f\"C:/Code/Python/Machine_Learning_AI/Discrepancies/Nearest_Neighbors/Euclidean/No_Excluded_Features/ATG_Ref_{key}_Neighbor_Discrepancies_SELECT_FEATURES.csv\")\n",
    "    item.to_html(f\"C:/Code/Python/Machine_Learning_AI/Discrepancies/Nearest_Neighbors/Euclidean/No_Excluded_Features/ATG_Ref_{key}_Neighbor_Discrepancies_SELECT_FEATURES.html\")\n",
    "    # print(f\"ATG_Ref {key}: {item[['ATG_Ref','checked']].values.tolist()}\")"
   ]
  },
  {
   "cell_type": "raw",
   "metadata": {
    "vscode": {
     "languageId": "raw"
    }
   },
   "source": [
    "manhattan_nearest_neighbors = get_knn(df_scaled,n=5,k=5,metric='manhattan',feature_names=list(features.columns))\n",
    "manhattan_nearest_neighbors['checked'] = target.copy()\n",
    "# manhattan_nearest_neighbors"
   ]
  },
  {
   "cell_type": "markdown",
   "metadata": {},
   "source": [
    "### K-Nearest Neighbor WITH Excluded Features"
   ]
  },
  {
   "cell_type": "raw",
   "metadata": {
    "vscode": {
     "languageId": "raw"
    }
   },
   "source": [
    "hasher = FeatureHasher(n_features=10,input_type='string')\n",
    "feature_names = list(df_numerical_categories.columns)"
   ]
  },
  {
   "cell_type": "raw",
   "metadata": {
    "vscode": {
     "languageId": "raw"
    }
   },
   "source": [
    "raw_X = df_numerical_categories[['VndrInvNbr','ItemDescription','PORemarks','Contact','DealVendorName','PurVndrName',\n",
    "                                                            'BuyrName','AP_CheckNbr','APVndrName','DQ_Reason_ATG']].values.tolist()\n",
    "hashed_features = hasher.transform(raw_X)"
   ]
  },
  {
   "cell_type": "raw",
   "metadata": {
    "vscode": {
     "languageId": "raw"
    }
   },
   "source": [
    "hashed_df = DataFrame(hashed_features.toarray(), columns=[f'hashed_{i+1}' for i in range(hashed_features.shape[1])])\n",
    "X = concat([df_numerical_categories.drop(columns=['VndrInvNbr','ItemDescription','PORemarks','Contact','DealVendorName','PurVndrName',\n",
    "                                                        'BuyrName','AP_CheckNbr','APVndrName','DQ_Reason_ATG']), hashed_df], axis=1)"
   ]
  },
  {
   "cell_type": "raw",
   "metadata": {
    "vscode": {
     "languageId": "raw"
    }
   },
   "source": [
    "scaler = StandardScaler()\n",
    "X[['BatchNbr','PODate','ReceivingDate','InvoicedDate','OIDue_ATG','BBDue_ATG','ClaimType','Shoulder_ATG','DtMatch_ATG','ItemNbr',\n",
    "   'ItemShipPack','PoNbr','DealNbr','ATG_IR','OrdStartDate_ATG','OrdEndDate_ATG','DateStartArrival_ATG','DateEndArrival_ATG','AddDate',\n",
    "   'DLAmtOI','DLAmtBB','TurnRatio_ATG','OrdQty','PdQty_ATG','PdNetSB_ATG','PdNet_ATG','PdOI_ATG','PdBB_ATG','PdGross_ATG','ListcostAtStart',\n",
    "   'ListCostSB_ATG','BestOI_ATG','BestBB_ATG','ClaimedAmt','AR_AdjTyp','AR_Amount','AR_InvNbr','AR_InvNbr2','UPCNbr','UPCUnit',\n",
    "   'TurnQty_ATG','TruckSize_ATG','PdUpDn_ATG','BalFlag_ATG','OOB_ATG','MiscAdj_ATG','DLVendorNbr','PurVndrNbr','Facility','ReceiptNbr',\n",
    "   'ReceiptSfx','TotWght','AP_VndNbr','BuyrNbr','AP_CheckDate','AP_GrossAmt','AP_DiscAmt','VendorCmmnt','TTLVendorCmmnt_ATG','MultiDeal_ATG',\n",
    "   'DealOrigin_ATG','AbsDays_ATG','ATG_Ref','ATG_DL_Ref','ATG_LI_Ref','ATG_HDR_Ref','DedBBInd','checked','CATEGORY_ATG','TrnCde_ATG','Dept',\n",
    "   'DLPctOI','DLPctBB','DLIncvPctOI','DLIncvPctBB']] = scaler.fit_transform(X[['BatchNbr','PODate','ReceivingDate','InvoicedDate','OIDue_ATG',\n",
    "                                                                               'BBDue_ATG','ClaimType','Shoulder_ATG','DtMatch_ATG','ItemNbr',\n",
    "   'ItemShipPack','PoNbr','DealNbr','ATG_IR','OrdStartDate_ATG','OrdEndDate_ATG','DateStartArrival_ATG','DateEndArrival_ATG','AddDate',\n",
    "   'DLAmtOI','DLAmtBB','TurnRatio_ATG','OrdQty','PdQty_ATG','PdNetSB_ATG','PdNet_ATG','PdOI_ATG','PdBB_ATG','PdGross_ATG','ListcostAtStart',\n",
    "   'ListCostSB_ATG','BestOI_ATG','BestBB_ATG','ClaimedAmt','AR_AdjTyp','AR_Amount','AR_InvNbr','AR_InvNbr2','UPCNbr','UPCUnit',\n",
    "   'TurnQty_ATG','TruckSize_ATG','PdUpDn_ATG','BalFlag_ATG','OOB_ATG','MiscAdj_ATG','DLVendorNbr','PurVndrNbr','Facility','ReceiptNbr',\n",
    "   'ReceiptSfx','TotWght','AP_VndNbr','BuyrNbr','AP_CheckDate','AP_GrossAmt','AP_DiscAmt','VendorCmmnt','TTLVendorCmmnt_ATG','MultiDeal_ATG',\n",
    "   'DealOrigin_ATG','AbsDays_ATG','ATG_Ref','ATG_DL_Ref','ATG_LI_Ref','ATG_HDR_Ref','DedBBInd','checked','CATEGORY_ATG','TrnCde_ATG','Dept',\n",
    "   'DLPctOI','DLPctBB','DLIncvPctOI','DLIncvPctBB']])"
   ]
  },
  {
   "cell_type": "raw",
   "metadata": {
    "vscode": {
     "languageId": "raw"
    }
   },
   "source": [
    "transformer_mas = MaxAbsScaler().fit(X[list(X.columns)].to_numpy())\n",
    "df_scaled = X.copy()\n",
    "df_scaled.loc[:, feature_names] = transformer_mas.transform(X[list(X.columns)].to_numpy())"
   ]
  },
  {
   "cell_type": "raw",
   "metadata": {
    "vscode": {
     "languageId": "raw"
    }
   },
   "source": [
    "discrepancy_neighboring_rows = {}\n",
    "for index in df_scaled.index[:501]:\n",
    "    if(int(index)%100==0):\n",
    "        clear_output(wait=False)\n",
    "        print(f\"Rows Read: {index:,}\\nRows Left: {int(df_scaled.index[-1])-int(index):,}\")\n",
    "    euclidean_nearest_neighbors = get_knn(df_scaled,n=index,k=5,metric='euclidean',feature_names=list(features.columns))\n",
    "    euclidean_nearest_neighbors['checked'] = target.copy()\n",
    "    if(euclidean_nearest_neighbors['checked'].nunique()>1):\n",
    "        discrepancy_neighboring_rows[df.loc[euclidean_nearest_neighbors.index]['ATG_Ref'][euclidean_nearest_neighbors.index[0]]] = df.loc[euclidean_nearest_neighbors.index]"
   ]
  },
  {
   "cell_type": "raw",
   "metadata": {
    "vscode": {
     "languageId": "raw"
    }
   },
   "source": [
    "# print(f\"Number of rows with nearest neighbors of different checked values: {len(discrepancy_neighboring_rows.keys()):,}\")\n",
    "for key,item in discrepancy_neighboring_rows.items():\n",
    "    item.to_csv(f\"C:/Code/Python/Machine_Learning_AI/Discrepancies/Nearest_Neighbors/Euclidean/All_Features/ATG_Ref_{key}_Neighbor_Discrepancies_ALL_FEATURES.csv\")\n",
    "    item.to_html(f\"C:/Code/Python/Machine_Learning_AI/Discrepancies/Nearest_Neighbors/Euclidean/All_Features/ATG_Ref_{key}_Neighbor_Discrepancies_ALL_FEATURES.html\")\n",
    "    # print(f\"ATG_Ref {key}: {item[['ATG_Ref','checked']].values.tolist()}\")"
   ]
  },
  {
   "cell_type": "markdown",
   "metadata": {},
   "source": [
    "## Reconstruct Original Data"
   ]
  },
  {
   "cell_type": "code",
   "execution_count": null,
   "metadata": {},
   "outputs": [],
   "source": [
    "subject = 'Reconstructing Original Data'\n",
    "body = f\"\"\"\n",
    "    \"\"\"\n",
    "send_email_to_self(subject,body)"
   ]
  },
  {
   "cell_type": "code",
   "execution_count": null,
   "metadata": {},
   "outputs": [],
   "source": [
    "options.display.float_format = '{:.2f}'.format"
   ]
  },
  {
   "cell_type": "code",
   "execution_count": null,
   "metadata": {},
   "outputs": [],
   "source": [
    "# features_test_scaled = DataFrame(scaler.inverse_transform(features_test_scaled),columns=features_test_scaled.columns)"
   ]
  },
  {
   "cell_type": "code",
   "execution_count": null,
   "metadata": {},
   "outputs": [],
   "source": [
    "for col in list(empty_col)+list(excluded_features.columns):\n",
    "    print(f\"{col}\",end='\\n')"
   ]
  },
  {
   "cell_type": "code",
   "execution_count": null,
   "metadata": {},
   "outputs": [],
   "source": [
    "features_test_with_excluded_features = DataFrame(features_test_scaled.copy(),columns=features_test_scaled.columns)\n",
    "features_test_with_excluded_features[list(excluded_features.columns)] = excluded_features.loc[features_test_scaled.index]"
   ]
  },
  {
   "cell_type": "code",
   "execution_count": null,
   "metadata": {},
   "outputs": [],
   "source": [
    "if True:\n",
    "    df_with_discrepancies = DataFrame(features_test_with_excluded_features,columns=features_test_with_excluded_features.columns).reset_index(drop=True)\n",
    "    df_with_discrepancies['E_checked'] = Series(target_test_E).reset_index(drop=True).replace({0:'x',1:'TRUE'})\n",
    "    df_with_discrepancies['DecisionTree_E_checked'] = Series(dt_e_predictions.reshape(-1)).reset_index(drop=True).replace({0:'x',1:'TRUE'})\n",
    "    df_with_discrepancies['RandomForest_E_checked'] = Series(rf_e_predictions.reshape(-1)).reset_index(drop=True).replace({0:'x',1:'TRUE'})\n",
    "    df_with_discrepancies['XGBoost_E_checked'] = Series(xgb_e_predictions.reshape(-1)).reset_index(drop=True).replace({0:'x',1:'TRUE'})\n",
    "    df_with_discrepancies['CatBoost_E_checked'] = Series(cb_e_predictions.reshape(-1)).reset_index(drop=True).replace({0:'x',1:'TRUE'})\n",
    "    df_with_discrepancies['KNeighbors_E_checked'] = Series(knn_e_predictions.reshape(-1)).reset_index(drop=True).replace({0:'x',1:'TRUE'})\n",
    "    df_with_discrepancies['E_OrdStartDate_ATG'] = to_datetime(df_with_discrepancies['E_OrdStartDate_ATG'])\n",
    "    df_with_discrepancies['E_OrdEndDate_ATG'] = to_datetime(df_with_discrepancies['E_OrdEndDate_ATG'])\n",
    "    df_with_discrepancies['E_ReceivingDate'] = to_datetime(df_with_discrepancies['E_ReceivingDate'])\n",
    "    df_with_discrepancies['E_InvoicedDate'] = to_datetime(df_with_discrepancies['E_InvoicedDate'])\n",
    "    df_with_discrepancies['E_DateStartArrival_ATG'] = to_datetime(df_with_discrepancies['E_DateStartArrival_ATG'])\n",
    "    df_with_discrepancies['E_DateEndArrival_ATG'] = to_datetime(df_with_discrepancies['E_DateEndArrival_ATG'])\n",
    "    df_with_discrepancies['E_AddDate'] = to_datetime(df_with_discrepancies['E_AddDate'])\n",
    "    df_with_discrepancies['E_PODate'] = to_datetime(df_with_discrepancies['E_PODate'])\n",
    "    df_with_discrepancies['E_AP_CheckDate'] = to_datetime(df_with_discrepancies['E_AP_CheckDate'])\n",
    "    df_with_discrepancies['E_Dept'] = df_with_discrepancies['E_Dept'].astype(int)"
   ]
  },
  {
   "cell_type": "code",
   "execution_count": null,
   "metadata": {},
   "outputs": [],
   "source": [
    "if True:\n",
    "    df_with_discrepancies['S_checked'] = Series(target_test_E).reset_index(drop=True).replace({0:'x',1:'claim'})\n",
    "    df_with_discrepancies['DecisionTree_S_checked'] = Series(dt_s_predictions.reshape(-1)).reset_index(drop=True).replace({0:'x',1:'claim'})\n",
    "    df_with_discrepancies['RandomForest_S_checked'] = Series(rf_s_predictions.reshape(-1)).reset_index(drop=True).replace({0:'x',1:'claim'})\n",
    "    df_with_discrepancies['XGBoost_S_checked'] = Series(xgb_s_predictions.reshape(-1)).reset_index(drop=True).replace({0:'x',1:'claim'})\n",
    "    df_with_discrepancies['CatBoost_S_checked'] = Series(cb_s_predictions.reshape(-1)).reset_index(drop=True).replace({0:'x',1:'claim'})\n",
    "    df_with_discrepancies['KNeighbors_S_checked'] = Series(knn_s_predictions.reshape(-1)).reset_index(drop=True).replace({0:'x',1:'claim'})\n",
    "    df_with_discrepancies['S_OrdStartDate_ATG'] = to_datetime(df_with_discrepancies['S_OrdStartDate_ATG'])\n",
    "    df_with_discrepancies['S_OrdEndDate_ATG'] = to_datetime(df_with_discrepancies['S_OrdEndDate_ATG'])\n",
    "    df_with_discrepancies['S_DateStartArrival_ATG'] = to_datetime(df_with_discrepancies['S_DateStartArrival_ATG'])\n",
    "    df_with_discrepancies['S_DateEndArrival_ATG'] = to_datetime(df_with_discrepancies['S_DateEndArrival_ATG'])\n",
    "    df_with_discrepancies['S_AddDate'] = to_datetime(df_with_discrepancies['S_AddDate'])\n",
    "    df_with_discrepancies['S_ClaimDate'] = to_datetime(df_with_discrepancies['S_ClaimDate'])\n",
    "    df_with_discrepancies['S_PromoStartDate_ATG'] = to_datetime(df_with_discrepancies['S_PromoStartDate_ATG'])\n",
    "    df_with_discrepancies['S_PromoEndDate_ATG'] = to_datetime(df_with_discrepancies['S_PromoEndDate_ATG'])"
   ]
  },
  {
   "cell_type": "code",
   "execution_count": null,
   "metadata": {},
   "outputs": [],
   "source": [
    "df_with_discrepancies[~(df_with_discrepancies['E_checked']==df_with_discrepancies['CatBoost_E_checked'])|\n",
    "                      ~(df_with_discrepancies['S_checked']==df_with_discrepancies['CatBoost_S_checked'])].head()"
   ]
  },
  {
   "cell_type": "markdown",
   "metadata": {},
   "source": [
    "## Showing Discrepancies"
   ]
  },
  {
   "cell_type": "markdown",
   "metadata": {},
   "source": [
    "#### ATG_Refs Only"
   ]
  },
  {
   "cell_type": "code",
   "execution_count": null,
   "metadata": {},
   "outputs": [],
   "source": [
    "subject = 'Posting Discrepancies'\n",
    "body = f\"\"\"\n",
    "    \"\"\"\n",
    "send_email_to_self(subject,body)"
   ]
  },
  {
   "cell_type": "code",
   "execution_count": null,
   "metadata": {},
   "outputs": [],
   "source": [
    "df_with_discrepancies[~(df_with_discrepancies['E_checked'].values==df_with_discrepancies['CatBoost_E_checked'].values)|\n",
    "                      ~(df_with_discrepancies['E_checked'].values==df_with_discrepancies['XGBoost_E_checked'].values)|\n",
    "                      ~(df_with_discrepancies['E_checked'].values==df_with_discrepancies['RandomForest_E_checked'].values)|\n",
    "                      ~(df_with_discrepancies['E_checked'].values==df_with_discrepancies['DecisionTree_E_checked'].values)|\n",
    "                      ~(df_with_discrepancies['E_checked'].values==df_with_discrepancies['KNeighbors_E_checked'].values)|\n",
    "                      ~(df_with_discrepancies['S_checked'].values==df_with_discrepancies['CatBoost_S_checked'].values)|\n",
    "                      ~(df_with_discrepancies['S_checked'].values==df_with_discrepancies['XGBoost_S_checked'].values)|\n",
    "                      ~(df_with_discrepancies['S_checked'].values==df_with_discrepancies['RandomForest_S_checked'].values)|\n",
    "                      ~(df_with_discrepancies['S_checked'].values==df_with_discrepancies['DecisionTree_S_checked'].values)|\n",
    "                      ~(df_with_discrepancies['S_checked'].values==df_with_discrepancies['KNeighbors_S_checked'].values)\n",
    "                      ][\n",
    "    ['S_ATG_Ref','E_ATG_Ref','E_checked','DecisionTree_E_checked','RandomForest_E_checked',\n",
    "    'XGBoost_E_checked','CatBoost_E_checked','KNeighbors_E_checked',\n",
    "    'S_checked','DecisionTree_S_checked','RandomForest_S_checked',\n",
    "    'XGBoost_S_checked','CatBoost_S_checked','KNeighbors_S_checked']].reset_index(drop=True).to_csv('Discrepancies/ATG_Refs_Only/Discrepancies_Between_Original_All_Checked_and_Model_Predictions.csv',index=False)"
   ]
  },
  {
   "cell_type": "code",
   "execution_count": null,
   "metadata": {},
   "outputs": [],
   "source": [
    "df_with_discrepancies[~(df_with_discrepancies['E_checked'].values==df_with_discrepancies['CatBoost_E_checked'].values)|\n",
    "                      ~(df_with_discrepancies['E_checked'].values==df_with_discrepancies['XGBoost_E_checked'].values)|\n",
    "                      ~(df_with_discrepancies['E_checked'].values==df_with_discrepancies['RandomForest_E_checked'].values)|\n",
    "                      ~(df_with_discrepancies['E_checked'].values==df_with_discrepancies['DecisionTree_E_checked'].values)#|\n",
    "                      #~(df_with_discrepancies['E_checked'].values==df_with_discrepancies['KNeighbors_E_checked'].values)\n",
    "                      ][\n",
    "    ['S_ATG_Ref','E_ATG_Ref','E_checked','DecisionTree_E_checked','RandomForest_E_checked',\n",
    "    'XGBoost_E_checked','CatBoost_E_checked','KNeighbors_E_checked']].reset_index(drop=True).to_csv('Discrepancies/ATG_Refs_Only/Exceptions/Discrepancies_Between_Original_E_Checked_and_Model_Predictions.csv',index=False)"
   ]
  },
  {
   "cell_type": "code",
   "execution_count": null,
   "metadata": {},
   "outputs": [],
   "source": [
    "df_with_discrepancies[~(df_with_discrepancies['S_checked'].values==df_with_discrepancies['CatBoost_S_checked'].values)|\n",
    "                      ~(df_with_discrepancies['S_checked'].values==df_with_discrepancies['XGBoost_S_checked'].values)|\n",
    "                      ~(df_with_discrepancies['S_checked'].values==df_with_discrepancies['RandomForest_S_checked'].values)|\n",
    "                      ~(df_with_discrepancies['S_checked'].values==df_with_discrepancies['DecisionTree_S_checked'].values)#|\n",
    "                      #~(df_with_discrepancies['S_checked'].values==df_with_discrepancies['KNeighbors_S_checked'].values)\n",
    "                      ][\n",
    "    ['S_ATG_Ref','E_ATG_Ref','S_checked','DecisionTree_S_checked','RandomForest_S_checked',\n",
    "    'XGBoost_S_checked','CatBoost_S_checked','KNeighbors_S_checked']].reset_index(drop=True).to_csv('Discrepancies/ATG_Refs_Only/Summary/Discrepancies_Between_Original_S_Checked_and_Model_Predictions.csv',index=False)"
   ]
  },
  {
   "cell_type": "code",
   "execution_count": null,
   "metadata": {},
   "outputs": [],
   "source": [
    "df_with_discrepancies[~(df_with_discrepancies['E_checked'].values==df_with_discrepancies['CatBoost_E_checked'].values)|\n",
    "                      ~(df_with_discrepancies['E_checked'].values==df_with_discrepancies['XGBoost_E_checked'].values)|\n",
    "                      ~(df_with_discrepancies['E_checked'].values==df_with_discrepancies['RandomForest_E_checked'].values)|\n",
    "                      ~(df_with_discrepancies['E_checked'].values==df_with_discrepancies['DecisionTree_E_checked'].values)#|\n",
    "                      #~(df_with_discrepancies['E_checked'].values==df_with_discrepancies['KNeighbors_E_checked'].values)\n",
    "                      ][\n",
    "    ['S_ATG_Ref','E_ATG_Ref','E_checked','DecisionTree_E_checked','RandomForest_E_checked',\n",
    "    'XGBoost_E_checked','CatBoost_E_checked','KNeighbors_E_checked']].reset_index(drop=True).to_html('Discrepancies/ATG_Refs_Only/Exceptions/Discrepancies_Between_Original_E_Checked_and_Model_Predictions.html',index=False)"
   ]
  },
  {
   "cell_type": "code",
   "execution_count": null,
   "metadata": {},
   "outputs": [],
   "source": [
    "df_with_discrepancies[~(df_with_discrepancies['S_checked'].values==df_with_discrepancies['CatBoost_S_checked'].values)|\n",
    "                      ~(df_with_discrepancies['S_checked'].values==df_with_discrepancies['XGBoost_S_checked'].values)|\n",
    "                      ~(df_with_discrepancies['S_checked'].values==df_with_discrepancies['RandomForest_S_checked'].values)|\n",
    "                      ~(df_with_discrepancies['S_checked'].values==df_with_discrepancies['DecisionTree_S_checked'].values)#|\n",
    "                      #~(df_with_discrepancies['S_checked'].values==df_with_discrepancies['KNeighbors_S_checked'].values)\n",
    "                      ][\n",
    "    ['S_ATG_Ref','E_ATG_Ref','S_checked','DecisionTree_S_checked','RandomForest_S_checked',\n",
    "    'XGBoost_S_checked','CatBoost_S_checked','KNeighbors_S_checked']].reset_index(drop=True).to_html('Discrepancies/ATG_Refs_Only/Summary/Discrepancies_Between_Original_S_Checked_and_Model_Predictions.html',index=False)"
   ]
  },
  {
   "cell_type": "markdown",
   "metadata": {},
   "source": [
    "### Most Important Features"
   ]
  },
  {
   "cell_type": "markdown",
   "metadata": {},
   "source": [
    "#### All Values of checked"
   ]
  },
  {
   "cell_type": "code",
   "execution_count": null,
   "metadata": {},
   "outputs": [],
   "source": [
    "df_with_discrepancies[~(df_with_discrepancies['E_checked'].values==df_with_discrepancies['CatBoost_E_checked'].values)|\n",
    "                      ~(df_with_discrepancies['E_checked'].values==df_with_discrepancies['XGBoost_E_checked'].values)|\n",
    "                      ~(df_with_discrepancies['E_checked'].values==df_with_discrepancies['RandomForest_E_checked'].values)|\n",
    "                      ~(df_with_discrepancies['E_checked'].values==df_with_discrepancies['DecisionTree_E_checked'].values)#|\n",
    "                      #~(df_with_discrepancies['E_checked'].values==df_with_discrepancies['KNeighbors_E_checked'].values)\n",
    "                      ][\n",
    "    list(excluded_features)+list(combined_importances_e.sort_values('SUM_Exceptions',ascending=False).index[:15])+[\n",
    "    'E_checked','DecisionTree_E_checked','RandomForest_E_checked',\n",
    "    'XGBoost_E_checked','CatBoost_E_checked','KNeighbors_E_checked']].reset_index(drop=True).to_csv('Discrepancies/Most_Important_Features_Only/Exceptions/Discrepancies_Between_Original_E_Checked_and_Model_Predictions.csv',index=False)"
   ]
  },
  {
   "cell_type": "code",
   "execution_count": null,
   "metadata": {},
   "outputs": [],
   "source": [
    "df_with_discrepancies[~(df_with_discrepancies['S_checked'].values==df_with_discrepancies['CatBoost_S_checked'].values)|\n",
    "                      ~(df_with_discrepancies['S_checked'].values==df_with_discrepancies['XGBoost_S_checked'].values)|\n",
    "                      ~(df_with_discrepancies['S_checked'].values==df_with_discrepancies['RandomForest_S_checked'].values)|\n",
    "                      ~(df_with_discrepancies['S_checked'].values==df_with_discrepancies['DecisionTree_S_checked'].values)#|\n",
    "                      #~(df_with_discrepancies['S_checked'].values==df_with_discrepancies['KNeighbors_S_checked'].values)\n",
    "                      ][\n",
    "    list(excluded_features)+list(combined_importances_s.sort_values('SUM_Summary',ascending=False).index[:15])+[\n",
    "    'S_checked','DecisionTree_S_checked','RandomForest_S_checked',\n",
    "    'XGBoost_S_checked','CatBoost_S_checked','KNeighbors_S_checked']].reset_index(drop=True).to_csv('Discrepancies/Most_Important_Features_Only/Summary/Discrepancies_Between_Original_S_Checked_and_Model_Predictions.csv',index=False)"
   ]
  },
  {
   "cell_type": "code",
   "execution_count": null,
   "metadata": {},
   "outputs": [],
   "source": [
    "df_with_discrepancies[~(df_with_discrepancies['E_checked'].values==df_with_discrepancies['CatBoost_E_checked'].values)|\n",
    "                      ~(df_with_discrepancies['E_checked'].values==df_with_discrepancies['XGBoost_E_checked'].values)|\n",
    "                      ~(df_with_discrepancies['E_checked'].values==df_with_discrepancies['RandomForest_E_checked'].values)|\n",
    "                      ~(df_with_discrepancies['E_checked'].values==df_with_discrepancies['DecisionTree_E_checked'].values)#|\n",
    "                      #~(df_with_discrepancies['E_checked'].values==df_with_discrepancies['KNeighbors_E_checked'].values)\n",
    "                      ][\n",
    "    list(excluded_features)+list(combined_importances_e.sort_values('SUM_Exceptions',ascending=False).index[:15])+[\n",
    "    'E_checked','DecisionTree_E_checked','RandomForest_E_checked',\n",
    "    'XGBoost_E_checked','CatBoost_E_checked','KNeighbors_E_checked']].reset_index(drop=True).to_html('Discrepancies/Most_Important_Features_Only/Exceptions/Discrepancies_Between_Original_E_Checked_and_Model_Predictions.html',index=False)"
   ]
  },
  {
   "cell_type": "code",
   "execution_count": null,
   "metadata": {},
   "outputs": [],
   "source": [
    "df_with_discrepancies[~(df_with_discrepancies['S_checked'].values==df_with_discrepancies['CatBoost_S_checked'].values)|\n",
    "                      ~(df_with_discrepancies['S_checked'].values==df_with_discrepancies['XGBoost_S_checked'].values)|\n",
    "                      ~(df_with_discrepancies['S_checked'].values==df_with_discrepancies['RandomForest_S_checked'].values)|\n",
    "                      ~(df_with_discrepancies['S_checked'].values==df_with_discrepancies['DecisionTree_S_checked'].values)#|\n",
    "                      #~(df_with_discrepancies['S_checked'].values==df_with_discrepancies['KNeighbors_S_checked'].values)\n",
    "                      ][\n",
    "    list(excluded_features)+list(combined_importances_s.sort_values('SUM_Summary',ascending=False).index[:15])+[\n",
    "    'S_checked','DecisionTree_S_checked','RandomForest_S_checked',\n",
    "    'XGBoost_S_checked','CatBoost_S_checked','KNeighbors_S_checked']].reset_index(drop=True).to_html('Discrepancies/Most_Important_Features_Only/Summary/Discrepancies_Between_Original_S_Checked_and_Model_Predictions.html',index=False)"
   ]
  },
  {
   "cell_type": "markdown",
   "metadata": {},
   "source": [
    "#### Checked Equals 'x'"
   ]
  },
  {
   "cell_type": "code",
   "execution_count": null,
   "metadata": {},
   "outputs": [],
   "source": [
    "df_with_discrepancies[(df_with_discrepancies['E_checked']=='x')&\n",
    "                      ~(df_with_discrepancies['E_checked'].values==df_with_discrepancies['CatBoost_E_checked'].values)|\n",
    "                      ~(df_with_discrepancies['E_checked'].values==df_with_discrepancies['XGBoost_E_checked'].values)|\n",
    "                      ~(df_with_discrepancies['E_checked'].values==df_with_discrepancies['RandomForest_E_checked'].values)|\n",
    "                      ~(df_with_discrepancies['E_checked'].values==df_with_discrepancies['DecisionTree_E_checked'].values)|\n",
    "                      ~(df_with_discrepancies['E_checked'].values==df_with_discrepancies['KNeighbors_E_checked'].values)][\n",
    "    list(excluded_features)+list(combined_importances_e.sort_values('SUM_Exceptions',ascending=False).index[:15])+[\n",
    "    'E_checked','DecisionTree_E_checked','RandomForest_E_checked',\n",
    "    'XGBoost_E_checked','CatBoost_E_checked','KNeighbors_E_checked']].reset_index(drop=True).to_csv('Discrepancies/Most_Important_Features_Only/Exceptions/x_Discrepancies_Between_Original_E_Checked_and_Model_Predictions.csv',index=False)"
   ]
  },
  {
   "cell_type": "code",
   "execution_count": null,
   "metadata": {},
   "outputs": [],
   "source": [
    "df_with_discrepancies[(df_with_discrepancies['S_checked']=='x')&\n",
    "                      ~(df_with_discrepancies['S_checked'].values==df_with_discrepancies['CatBoost_S_checked'].values)|\n",
    "                      ~(df_with_discrepancies['S_checked'].values==df_with_discrepancies['XGBoost_S_checked'].values)|\n",
    "                      ~(df_with_discrepancies['S_checked'].values==df_with_discrepancies['RandomForest_S_checked'].values)|\n",
    "                      ~(df_with_discrepancies['S_checked'].values==df_with_discrepancies['DecisionTree_S_checked'].values)|\n",
    "                      ~(df_with_discrepancies['S_checked'].values==df_with_discrepancies['KNeighbors_S_checked'].values)][\n",
    "    list(excluded_features)+list(combined_importances_s.sort_values('SUM_Summary',ascending=False).index[:15])+[\n",
    "    'S_checked','DecisionTree_S_checked','RandomForest_S_checked',\n",
    "    'XGBoost_S_checked','CatBoost_S_checked','KNeighbors_S_checked']].reset_index(drop=True).to_csv('Discrepancies/Most_Important_Features_Only/Summary/x_Discrepancies_Between_Original_S_Checked_and_Model_Predictions.csv',index=False)"
   ]
  },
  {
   "cell_type": "code",
   "execution_count": null,
   "metadata": {},
   "outputs": [],
   "source": [
    "df_with_discrepancies[(df_with_discrepancies['E_checked']=='x')&\n",
    "                      ~(df_with_discrepancies['E_checked'].values==df_with_discrepancies['CatBoost_E_checked'].values)|\n",
    "                      ~(df_with_discrepancies['E_checked'].values==df_with_discrepancies['XGBoost_E_checked'].values)|\n",
    "                      ~(df_with_discrepancies['E_checked'].values==df_with_discrepancies['RandomForest_E_checked'].values)|\n",
    "                      ~(df_with_discrepancies['E_checked'].values==df_with_discrepancies['DecisionTree_E_checked'].values)|\n",
    "                      ~(df_with_discrepancies['E_checked'].values==df_with_discrepancies['KNeighbors_E_checked'].values)][\n",
    "    list(excluded_features)+list(combined_importances_e.sort_values('SUM_Exceptions',ascending=False).index[:15])+[\n",
    "    'E_checked','DecisionTree_E_checked','RandomForest_E_checked',\n",
    "    'XGBoost_E_checked','CatBoost_E_checked','KNeighbors_E_checked']].reset_index(drop=True).to_html('Discrepancies/Most_Important_Features_Only/Exceptions/x_Discrepancies_Between_Original_E_Checked_and_Model_Predictions.html',index=False)"
   ]
  },
  {
   "cell_type": "code",
   "execution_count": null,
   "metadata": {},
   "outputs": [],
   "source": [
    "df_with_discrepancies[(df_with_discrepancies['S_checked']=='x')&\n",
    "                      ~(df_with_discrepancies['S_checked'].values==df_with_discrepancies['CatBoost_S_checked'].values)|\n",
    "                      ~(df_with_discrepancies['S_checked'].values==df_with_discrepancies['XGBoost_S_checked'].values)|\n",
    "                      ~(df_with_discrepancies['S_checked'].values==df_with_discrepancies['RandomForest_S_checked'].values)|\n",
    "                      ~(df_with_discrepancies['S_checked'].values==df_with_discrepancies['DecisionTree_S_checked'].values)|\n",
    "                      ~(df_with_discrepancies['S_checked'].values==df_with_discrepancies['KNeighbors_S_checked'].values)][\n",
    "    list(excluded_features)+list(combined_importances_s.sort_values('SUM_Summary',ascending=False).index[:15])+[\n",
    "    'S_checked','DecisionTree_S_checked','RandomForest_S_checked',\n",
    "    'XGBoost_S_checked','CatBoost_S_checked','KNeighbors_S_checked']].reset_index(drop=True).to_html('Discrepancies/Most_Important_Features_Only/Summary/x_Discrepancies_Between_Original_S_Checked_and_Model_Predictions.html',index=False)"
   ]
  },
  {
   "cell_type": "code",
   "execution_count": null,
   "metadata": {},
   "outputs": [],
   "source": [
    "df_with_discrepancies[(df_with_discrepancies['E_checked']=='x')&(df_with_discrepancies['S_checked']=='x')\n",
    "                      &\n",
    "                      (\n",
    "                        ~(df_with_discrepancies['E_checked'].values==df_with_discrepancies['CatBoost_E_checked'].values)|\n",
    "                        ~(df_with_discrepancies['E_checked'].values==df_with_discrepancies['XGBoost_E_checked'].values)|\n",
    "                        ~(df_with_discrepancies['E_checked'].values==df_with_discrepancies['RandomForest_E_checked'].values)|\n",
    "                        ~(df_with_discrepancies['E_checked'].values==df_with_discrepancies['DecisionTree_E_checked'].values)|\n",
    "                        ~(df_with_discrepancies['E_checked'].values==df_with_discrepancies['KNeighbors_E_checked'].values)\n",
    "                      )\n",
    "                      &\n",
    "                      (\n",
    "                        ~(df_with_discrepancies['S_checked'].values==df_with_discrepancies['CatBoost_S_checked'].values)|\n",
    "                        ~(df_with_discrepancies['S_checked'].values==df_with_discrepancies['XGBoost_S_checked'].values)|\n",
    "                        ~(df_with_discrepancies['S_checked'].values==df_with_discrepancies['RandomForest_S_checked'].values)|\n",
    "                        ~(df_with_discrepancies['S_checked'].values==df_with_discrepancies['DecisionTree_S_checked'].values)|\n",
    "                        ~(df_with_discrepancies['S_checked'].values==df_with_discrepancies['KNeighbors_S_checked'].values)\n",
    "                      )][\n",
    "    list(excluded_features)+list(combined_importances_e.sort_values('SUM_Exceptions',ascending=False).index[:15])+[\n",
    "    'E_checked','DecisionTree_E_checked','RandomForest_E_checked',\n",
    "    'XGBoost_E_checked','CatBoost_E_checked','KNeighbors_E_checked',\n",
    "    'S_checked','DecisionTree_S_checked','RandomForest_S_checked',\n",
    "    'XGBoost_S_checked','CatBoost_S_checked','KNeighbors_S_checked']].reset_index(drop=True).to_csv('Discrepancies/Most_Important_Features_Only/x_Discrepancies_Between_Original_BOTH_Checked_and_Model_Predictions.csv',index=False)"
   ]
  },
  {
   "cell_type": "code",
   "execution_count": null,
   "metadata": {},
   "outputs": [],
   "source": [
    "df_with_discrepancies[(df_with_discrepancies['E_checked']=='x')&(df_with_discrepancies['S_checked']=='x')\n",
    "                      &\n",
    "                      (\n",
    "                        ~(df_with_discrepancies['E_checked'].values==df_with_discrepancies['CatBoost_E_checked'].values)|\n",
    "                        ~(df_with_discrepancies['E_checked'].values==df_with_discrepancies['XGBoost_E_checked'].values)|\n",
    "                        ~(df_with_discrepancies['E_checked'].values==df_with_discrepancies['RandomForest_E_checked'].values)|\n",
    "                        ~(df_with_discrepancies['E_checked'].values==df_with_discrepancies['DecisionTree_E_checked'].values)|\n",
    "                        ~(df_with_discrepancies['E_checked'].values==df_with_discrepancies['KNeighbors_E_checked'].values)\n",
    "                      )\n",
    "                      &\n",
    "                      (\n",
    "                        ~(df_with_discrepancies['S_checked'].values==df_with_discrepancies['CatBoost_S_checked'].values)|\n",
    "                        ~(df_with_discrepancies['S_checked'].values==df_with_discrepancies['XGBoost_S_checked'].values)|\n",
    "                        ~(df_with_discrepancies['S_checked'].values==df_with_discrepancies['RandomForest_S_checked'].values)|\n",
    "                        ~(df_with_discrepancies['S_checked'].values==df_with_discrepancies['DecisionTree_S_checked'].values)|\n",
    "                        ~(df_with_discrepancies['S_checked'].values==df_with_discrepancies['KNeighbors_S_checked'].values)\n",
    "                      )][\n",
    "    list(excluded_features)+list(combined_importances_e.sort_values('SUM_Exceptions',ascending=False).index[:15])+[\n",
    "    'E_checked','DecisionTree_E_checked','RandomForest_E_checked',\n",
    "    'XGBoost_E_checked','CatBoost_E_checked','KNeighbors_E_checked',\n",
    "    'S_checked','DecisionTree_S_checked','RandomForest_S_checked',\n",
    "    'XGBoost_S_checked','CatBoost_S_checked','KNeighbors_S_checked']].reset_index(drop=True).to_html('Discrepancies/Most_Important_Features_Only/x_Discrepancies_Between_Original_BOTH_Checked_and_Model_Predictions.html',index=False)"
   ]
  },
  {
   "cell_type": "markdown",
   "metadata": {},
   "source": [
    "#### S_checked Equals 'claim'"
   ]
  },
  {
   "cell_type": "code",
   "execution_count": null,
   "metadata": {},
   "outputs": [],
   "source": [
    "df_with_discrepancies[(df_with_discrepancies['S_checked']=='claim')&\n",
    "                      ~(df_with_discrepancies['S_checked'].values==df_with_discrepancies['CatBoost_S_checked'].values)|\n",
    "                      ~(df_with_discrepancies['S_checked'].values==df_with_discrepancies['XGBoost_S_checked'].values)|\n",
    "                      ~(df_with_discrepancies['S_checked'].values==df_with_discrepancies['RandomForest_S_checked'].values)|\n",
    "                      ~(df_with_discrepancies['S_checked'].values==df_with_discrepancies['DecisionTree_S_checked'].values)|\n",
    "                      ~(df_with_discrepancies['S_checked'].values==df_with_discrepancies['KNeighbors_S_checked'].values)][\n",
    "    list(excluded_features)+list(combined_importances_s.sort_values('SUM_Summary',ascending=False).index[:15])+[\n",
    "    'S_checked','DecisionTree_S_checked','RandomForest_S_checked',\n",
    "    'XGBoost_S_checked','CatBoost_S_checked','KNeighbors_S_checked']].reset_index(drop=True).to_csv('Discrepancies/Most_Important_Features_Only/Summary/Claim_Discrepancies_Between_Original_S_Checked_and_Model_Predictions.csv',index=False)"
   ]
  },
  {
   "cell_type": "code",
   "execution_count": null,
   "metadata": {},
   "outputs": [],
   "source": [
    "df_with_discrepancies[(df_with_discrepancies['S_checked']=='claim')&\n",
    "                      ~(df_with_discrepancies['S_checked'].values==df_with_discrepancies['CatBoost_S_checked'].values)|\n",
    "                      ~(df_with_discrepancies['S_checked'].values==df_with_discrepancies['XGBoost_S_checked'].values)|\n",
    "                      ~(df_with_discrepancies['S_checked'].values==df_with_discrepancies['RandomForest_S_checked'].values)|\n",
    "                      ~(df_with_discrepancies['S_checked'].values==df_with_discrepancies['DecisionTree_S_checked'].values)|\n",
    "                      ~(df_with_discrepancies['S_checked'].values==df_with_discrepancies['KNeighbors_S_checked'].values)][\n",
    "    list(excluded_features)+list(combined_importances_s.sort_values('SUM_Summary',ascending=False).index[:15])+[\n",
    "    'S_checked','DecisionTree_S_checked','RandomForest_S_checked',\n",
    "    'XGBoost_S_checked','CatBoost_S_checked','KNeighbors_S_checked']].reset_index(drop=True).to_html('Discrepancies/Most_Important_Features_Only/Summary/Claim_Discrepancies_Between_Original_S_Checked_and_Model_Predictions.html',index=False)"
   ]
  },
  {
   "cell_type": "markdown",
   "metadata": {},
   "source": [
    "#### E_checked equals 'TRUE'"
   ]
  },
  {
   "cell_type": "code",
   "execution_count": null,
   "metadata": {},
   "outputs": [],
   "source": [
    "df_with_discrepancies[(df_with_discrepancies['E_checked']=='TRUE')&\n",
    "                      ~(df_with_discrepancies['E_checked'].values==df_with_discrepancies['CatBoost_E_checked'].values)|\n",
    "                      ~(df_with_discrepancies['E_checked'].values==df_with_discrepancies['XGBoost_E_checked'].values)|\n",
    "                      ~(df_with_discrepancies['E_checked'].values==df_with_discrepancies['RandomForest_E_checked'].values)|\n",
    "                      ~(df_with_discrepancies['E_checked'].values==df_with_discrepancies['DecisionTree_E_checked'].values)|\n",
    "                      ~(df_with_discrepancies['E_checked'].values==df_with_discrepancies['KNeighbors_E_checked'].values)][\n",
    "    list(excluded_features)+list(combined_importances_e.sort_values('SUM_Exceptions',ascending=False).index[:15])+[\n",
    "    'E_checked','DecisionTree_E_checked','RandomForest_E_checked',\n",
    "    'XGBoost_E_checked','CatBoost_E_checked','KNeighbors_E_checked']].reset_index(drop=True).to_csv('Discrepancies/Most_Important_Features_Only/Exceptions/True_Discrepancies_Between_Original_E_Checked_and_Model_Predictions.csv',index=False)"
   ]
  },
  {
   "cell_type": "code",
   "execution_count": null,
   "metadata": {},
   "outputs": [],
   "source": [
    "df_with_discrepancies[(df_with_discrepancies['E_checked']=='TRUE')&\n",
    "                      ~(df_with_discrepancies['E_checked'].values==df_with_discrepancies['CatBoost_E_checked'].values)|\n",
    "                      ~(df_with_discrepancies['E_checked'].values==df_with_discrepancies['XGBoost_E_checked'].values)|\n",
    "                      ~(df_with_discrepancies['E_checked'].values==df_with_discrepancies['RandomForest_E_checked'].values)|\n",
    "                      ~(df_with_discrepancies['E_checked'].values==df_with_discrepancies['DecisionTree_E_checked'].values)|\n",
    "                      ~(df_with_discrepancies['E_checked'].values==df_with_discrepancies['KNeighbors_E_checked'].values)][\n",
    "    list(excluded_features)+list(combined_importances_e.sort_values('SUM_Exceptions',ascending=False).index[:15])+[\n",
    "    'E_checked','DecisionTree_E_checked','RandomForest_E_checked',\n",
    "    'XGBoost_E_checked','CatBoost_E_checked','KNeighbors_E_checked']].reset_index(drop=True).to_html('Discrepancies/Most_Important_Features_Only/Exceptions/True_Discrepancies_Between_Original_E_Checked_and_Model_Predictions.html',index=False)"
   ]
  },
  {
   "cell_type": "markdown",
   "metadata": {},
   "source": [
    "### All Features"
   ]
  },
  {
   "cell_type": "code",
   "execution_count": null,
   "metadata": {},
   "outputs": [],
   "source": [
    "df_with_discrepancies[~(df_with_discrepancies['E_checked'].values==df_with_discrepancies['CatBoost_E_checked'].values)|\n",
    "                      ~(df_with_discrepancies['E_checked'].values==df_with_discrepancies['XGBoost_E_checked'].values)|\n",
    "                      ~(df_with_discrepancies['E_checked'].values==df_with_discrepancies['RandomForest_E_checked'].values)|\n",
    "                      ~(df_with_discrepancies['E_checked'].values==df_with_discrepancies['DecisionTree_E_checked'].values)#|\n",
    "                      #~(df_with_discrepancies['E_checked'].values==df_with_discrepancies['KNeighbors_E_checked'].values)\n",
    "                      ].reset_index(drop=True).to_csv('Discrepancies/All_Features/Exceptions/Discrepancies_Between_Original_E_Checked_and_Model_Predictions_ALL_FEATURES.csv',index=False)"
   ]
  },
  {
   "cell_type": "code",
   "execution_count": null,
   "metadata": {},
   "outputs": [],
   "source": [
    "df_with_discrepancies[~(df_with_discrepancies['E_checked'].values==df_with_discrepancies['CatBoost_E_checked'].values)|\n",
    "                      ~(df_with_discrepancies['E_checked'].values==df_with_discrepancies['XGBoost_E_checked'].values)|\n",
    "                      ~(df_with_discrepancies['E_checked'].values==df_with_discrepancies['RandomForest_E_checked'].values)|\n",
    "                      ~(df_with_discrepancies['E_checked'].values==df_with_discrepancies['DecisionTree_E_checked'].values)#|\n",
    "                      #~(df_with_discrepancies['E_checked'].values==df_with_discrepancies['KNeighbors_E_checked'].values)\n",
    "                      ].reset_index(drop=True).to_html('Discrepancies/All_Features/Exceptions/Discrepancies_Between_Original_E_Checked_and_Model_Predictions_ALL_FEATURES.html',index=False)"
   ]
  },
  {
   "cell_type": "code",
   "execution_count": null,
   "metadata": {},
   "outputs": [],
   "source": [
    "df_with_discrepancies[~(df_with_discrepancies['S_checked'].values==df_with_discrepancies['CatBoost_S_checked'].values)|\n",
    "                      ~(df_with_discrepancies['S_checked'].values==df_with_discrepancies['XGBoost_S_checked'].values)|\n",
    "                      ~(df_with_discrepancies['S_checked'].values==df_with_discrepancies['RandomForest_S_checked'].values)|\n",
    "                      ~(df_with_discrepancies['S_checked'].values==df_with_discrepancies['DecisionTree_S_checked'].values)#|\n",
    "                      #~(df_with_discrepancies['S_checked'].values==df_with_discrepancies['KNeighbors_S_checked'].values)\n",
    "                      ].reset_index(drop=True).to_csv('Discrepancies/All_Features/Summary/Discrepancies_Between_Original_S_Checked_and_Model_Predictions_ALL_FEATURES.csv',index=False)"
   ]
  },
  {
   "cell_type": "code",
   "execution_count": null,
   "metadata": {},
   "outputs": [],
   "source": [
    "df_with_discrepancies[~(df_with_discrepancies['S_checked'].values==df_with_discrepancies['CatBoost_S_checked'].values)|\n",
    "                      ~(df_with_discrepancies['S_checked'].values==df_with_discrepancies['XGBoost_S_checked'].values)|\n",
    "                      ~(df_with_discrepancies['S_checked'].values==df_with_discrepancies['RandomForest_S_checked'].values)|\n",
    "                      ~(df_with_discrepancies['S_checked'].values==df_with_discrepancies['DecisionTree_S_checked'].values)#|\n",
    "                      #~(df_with_discrepancies['S_checked'].values==df_with_discrepancies['KNeighbors_S_checked'].values)\n",
    "                      ].reset_index(drop=True).to_html('Discrepancies/All_Features/Summary/Discrepancies_Between_Original_S_Checked_and_Model_Predictions_ALL_FEATURES.html',index=False)"
   ]
  },
  {
   "cell_type": "code",
   "execution_count": null,
   "metadata": {},
   "outputs": [],
   "source": [
    "port = 465  # For SSL\n",
    "smtp_server = \"smtp.gmail.com\"\n",
    "sender_email = \"micpowers98@gmail.com\"  # Enter your address\n",
    "receiver_email = \"micpowers98@gmail.com\"  # Enter receiver address\n",
    "password = 'efex cwhv gppq ueob'\n",
    "message = \"\"\"\\\n",
    "Subject: Test Run Complete\n",
    "\n",
    "GET BACK TO WORK NOW!!!!!!\"\"\"\n",
    "\n",
    "context = create_default_context()\n",
    "with SMTP_SSL(smtp_server, port, context=context) as server:\n",
    "    server.login(sender_email, password)\n",
    "    server.sendmail(sender_email, receiver_email, message)"
   ]
  },
  {
   "cell_type": "raw",
   "metadata": {
    "vscode": {
     "languageId": "raw"
    }
   },
   "source": [
    "df_with_discrepancies[(df_with_discrepancies['checked']=='x')&\n",
    "                      (~(df_with_discrepancies['checked'].values==df_with_discrepancies['CatBoost_checked'].values)|\n",
    "                      ~(df_with_discrepancies['checked'].values==df_with_discrepancies['XGBoost_checked'].values)|\n",
    "                      ~(df_with_discrepancies['checked'].values==df_with_discrepancies['RandomForest_checked'].values)|\n",
    "                      ~(df_with_discrepancies['checked'].values==df_with_discrepancies['DecisionTree_checked'].values)|\n",
    "                      ~(df_with_discrepancies['checked'].values==df_with_discrepancies['KNeighbors_checked'].values))].reset_index(drop=True).to_html('Discrepancies/All_Features/x_Discrepancies_Between_Original_Checked_and_Model_Predictions_ALL_FEATURES.html',index=False)"
   ]
  },
  {
   "cell_type": "raw",
   "metadata": {
    "vscode": {
     "languageId": "raw"
    }
   },
   "source": [
    "df_with_discrepancies[(df_with_discrepancies['checked']=='x')&\n",
    "                      (~(df_with_discrepancies['checked'].values==df_with_discrepancies['CatBoost_checked'].values)|\n",
    "                      ~(df_with_discrepancies['checked'].values==df_with_discrepancies['XGBoost_checked'].values)|\n",
    "                      ~(df_with_discrepancies['checked'].values==df_with_discrepancies['RandomForest_checked'].values)|\n",
    "                      ~(df_with_discrepancies['checked'].values==df_with_discrepancies['DecisionTree_checked'].values)|\n",
    "                      ~(df_with_discrepancies['checked'].values==df_with_discrepancies['KNeighbors_checked'].values))].reset_index(drop=True).to_csv('Discrepancies/All_Features/x_Discrepancies_Between_Original_Checked_x_and_Model_Predictions_ALL_FEATURES.csv',index=False)"
   ]
  },
  {
   "cell_type": "raw",
   "metadata": {
    "vscode": {
     "languageId": "raw"
    }
   },
   "source": [
    "df_with_discrepancies[(df_with_discrepancies['checked']=='excp')&\n",
    "                      (~(df_with_discrepancies['checked'].values==df_with_discrepancies['CatBoost_checked'].values)|\n",
    "                      ~(df_with_discrepancies['checked'].values==df_with_discrepancies['XGBoost_checked'].values)|\n",
    "                      ~(df_with_discrepancies['checked'].values==df_with_discrepancies['RandomForest_checked'].values)|\n",
    "                      ~(df_with_discrepancies['checked'].values==df_with_discrepancies['DecisionTree_checked'].values)|\n",
    "                      ~(df_with_discrepancies['checked'].values==df_with_discrepancies['KNeighbors_checked'].values))].reset_index(drop=True).to_html('Discrepancies/All_Features/excp_Discrepancies_Between_Original_Checked_and_Model_Predictions_ALL_FEATURES.html',index=False)"
   ]
  },
  {
   "cell_type": "raw",
   "metadata": {
    "vscode": {
     "languageId": "raw"
    }
   },
   "source": [
    "df_with_discrepancies[(df_with_discrepancies['checked']=='excp')&\n",
    "                      (~(df_with_discrepancies['checked'].values==df_with_discrepancies['CatBoost_checked'].values)|\n",
    "                      ~(df_with_discrepancies['checked'].values==df_with_discrepancies['XGBoost_checked'].values)|\n",
    "                      ~(df_with_discrepancies['checked'].values==df_with_discrepancies['RandomForest_checked'].values)|\n",
    "                      ~(df_with_discrepancies['checked'].values==df_with_discrepancies['DecisionTree_checked'].values)|\n",
    "                      ~(df_with_discrepancies['checked'].values==df_with_discrepancies['KNeighbors_checked'].values))].reset_index(drop=True).to_csv('Discrepancies/All_Features/excp_Discrepancies_Between_Original_Checked_x_and_Model_Predictions_ALL_FEATURES.csv',index=False)"
   ]
  },
  {
   "cell_type": "raw",
   "metadata": {
    "vscode": {
     "languageId": "raw"
    }
   },
   "source": [
    "df_with_discrepancies[(df_with_discrepancies['checked']=='FALSE')&\n",
    "                      (~(df_with_discrepancies['checked'].values==df_with_discrepancies['CatBoost_checked'].values)|\n",
    "                      ~(df_with_discrepancies['checked'].values==df_with_discrepancies['XGBoost_checked'].values)|\n",
    "                      ~(df_with_discrepancies['checked'].values==df_with_discrepancies['RandomForest_checked'].values)|\n",
    "                      ~(df_with_discrepancies['checked'].values==df_with_discrepancies['DecisionTree_checked'].values)|\n",
    "                      ~(df_with_discrepancies['checked'].values==df_with_discrepancies['KNeighbors_checked'].values))].reset_index(drop=True).to_html('Discrepancies/All_Features/FALSE_Discrepancies_Between_Original_Checked_and_Model_Predictions_ALL_FEATURES.html',index=False)"
   ]
  },
  {
   "cell_type": "raw",
   "metadata": {
    "vscode": {
     "languageId": "raw"
    }
   },
   "source": [
    "df_with_discrepancies[(df_with_discrepancies['checked']=='FALSE')&\n",
    "                      (~(df_with_discrepancies['checked'].values==df_with_discrepancies['CatBoost_checked'].values)|\n",
    "                      ~(df_with_discrepancies['checked'].values==df_with_discrepancies['XGBoost_checked'].values)|\n",
    "                      ~(df_with_discrepancies['checked'].values==df_with_discrepancies['RandomForest_checked'].values)|\n",
    "                      ~(df_with_discrepancies['checked'].values==df_with_discrepancies['DecisionTree_checked'].values)|\n",
    "                      ~(df_with_discrepancies['checked'].values==df_with_discrepancies['KNeighbors_checked'].values))].reset_index(drop=True).to_csv('Discrepancies/All_Features/FALSE_Discrepancies_Between_Original_Checked_x_and_Model_Predictions_ALL_FEATURES.csv',index=False)"
   ]
  },
  {
   "cell_type": "raw",
   "metadata": {
    "vscode": {
     "languageId": "raw"
    }
   },
   "source": [
    "df_with_discrepancies[(df_with_discrepancies['checked']=='TRUE')&\n",
    "                      (~(df_with_discrepancies['checked'].values==df_with_discrepancies['CatBoost_checked'].values)|\n",
    "                      ~(df_with_discrepancies['checked'].values==df_with_discrepancies['XGBoost_checked'].values)|\n",
    "                      ~(df_with_discrepancies['checked'].values==df_with_discrepancies['RandomForest_checked'].values)|\n",
    "                      ~(df_with_discrepancies['checked'].values==df_with_discrepancies['DecisionTree_checked'].values)|\n",
    "                      ~(df_with_discrepancies['checked'].values==df_with_discrepancies['KNeighbors_checked'].values))].reset_index(drop=True).to_html('Discrepancies/All_Features/TRUE_Discrepancies_Between_Original_Checked_and_Model_Predictions_ALL_FEATURES.html',index=False)"
   ]
  },
  {
   "cell_type": "raw",
   "metadata": {
    "vscode": {
     "languageId": "raw"
    }
   },
   "source": [
    "df_with_discrepancies[(df_with_discrepancies['checked']=='TRUE')&\n",
    "                      (~(df_with_discrepancies['checked'].values==df_with_discrepancies['CatBoost_checked'].values)|\n",
    "                      ~(df_with_discrepancies['checked'].values==df_with_discrepancies['XGBoost_checked'].values)|\n",
    "                      ~(df_with_discrepancies['checked'].values==df_with_discrepancies['RandomForest_checked'].values)|\n",
    "                      ~(df_with_discrepancies['checked'].values==df_with_discrepancies['DecisionTree_checked'].values)|\n",
    "                      ~(df_with_discrepancies['checked'].values==df_with_discrepancies['KNeighbors_checked'].values))].reset_index(drop=True).to_csv('Discrepancies/All_Features/TRUE_Discrepancies_Between_Original_Checked_x_and_Model_Predictions_ALL_FEATURES.csv',index=False)"
   ]
  },
  {
   "cell_type": "markdown",
   "metadata": {},
   "source": [
    "## Export Discrepancies to SQL"
   ]
  },
  {
   "cell_type": "code",
   "execution_count": null,
   "metadata": {},
   "outputs": [],
   "source": [
    "server = 'barney'\n",
    "database = 'sandbox_mp'\n",
    "connectionString = f'DRIVER={{ODBC Driver 17 for SQL Server}};SERVER={server};DATABASE={database};Integrated Security={True};Autocommit={True};Trusted_Connection=yes;'\n",
    "conn = connect(connectionString)\n",
    "cursor_2 = conn.cursor()"
   ]
  },
  {
   "cell_type": "code",
   "execution_count": null,
   "metadata": {},
   "outputs": [],
   "source": [
    "insert_sql = \"\"\"\n",
    "        INSERT INTO Weis_Market_Claim_Discrepancies (\n",
    "            ATG_Deal_Summary_ATG_Ref,\n",
    "            ATG_DealLI_Exceptions_ATG_Ref,\n",
    "            ATG_Deal_Summary_Original_checked,\n",
    "            DecisionTree_Model_Predictions_ATG_Deal_Summary_checked,\n",
    "            RandomForest_Model_Predictions_ATG_Deal_Summary_checked,\n",
    "            XGBoost_Model_Predictions_ATG_Deal_Summary_checked,\n",
    "            CatBoost_Model_Predictions_ATG_Deal_Summary_checked,\n",
    "            KNeighbors_Model_Predictions_ATG_Deal_Summary_checked,\n",
    "            ATG_DealLI_Exceptions_Original_checked,\n",
    "            DecisionTree_Model_Predictions_ATG_DealLI_Exceptions_checked,\n",
    "            RandomForest_Model_Predictions_ATG_DealLI_Exceptions_checked,\n",
    "            XGBoost_Model_Predictions_ATG_DealLI_Exceptions_checked,\n",
    "            CatBoost_Model_Predictions_ATG_DealLI_Exceptions_checked,\n",
    "            KNeighbors_Model_Predictions_ATG_DealLI_Exceptions_checked\n",
    "        ) VALUES (?, ?, ?, ?, ?, ?, ?, ?, ?, ?, ?, ?, ?, ?);\n",
    "    \"\"\""
   ]
  },
  {
   "cell_type": "code",
   "execution_count": null,
   "metadata": {},
   "outputs": [],
   "source": [
    "data = df_with_discrepancies[~(df_with_discrepancies['E_checked'].values==df_with_discrepancies['CatBoost_E_checked'].values)|\n",
    "                      ~(df_with_discrepancies['E_checked'].values==df_with_discrepancies['XGBoost_E_checked'].values)|\n",
    "                      ~(df_with_discrepancies['E_checked'].values==df_with_discrepancies['RandomForest_E_checked'].values)|\n",
    "                      ~(df_with_discrepancies['E_checked'].values==df_with_discrepancies['DecisionTree_E_checked'].values)|\n",
    "                      ~(df_with_discrepancies['E_checked'].values==df_with_discrepancies['KNeighbors_E_checked'].values)|\n",
    "                      ~(df_with_discrepancies['S_checked'].values==df_with_discrepancies['CatBoost_S_checked'].values)|\n",
    "                      ~(df_with_discrepancies['S_checked'].values==df_with_discrepancies['XGBoost_S_checked'].values)|\n",
    "                      ~(df_with_discrepancies['S_checked'].values==df_with_discrepancies['RandomForest_S_checked'].values)|\n",
    "                      ~(df_with_discrepancies['S_checked'].values==df_with_discrepancies['DecisionTree_S_checked'].values)|\n",
    "                      ~(df_with_discrepancies['S_checked'].values==df_with_discrepancies['KNeighbors_S_checked'].values)\n",
    "                      ][\n",
    "    ['S_ATG_Ref','E_ATG_Ref','S_checked','DecisionTree_S_checked','RandomForest_S_checked',\n",
    "    'XGBoost_S_checked','CatBoost_S_checked','KNeighbors_S_checked',\n",
    "    'E_checked','DecisionTree_E_checked','RandomForest_E_checked',\n",
    "    'XGBoost_E_checked','CatBoost_E_checked','KNeighbors_E_checked']].reset_index(drop=True)"
   ]
  },
  {
   "cell_type": "code",
   "execution_count": null,
   "metadata": {},
   "outputs": [],
   "source": [
    "for row in data.index:\n",
    "    current_row = list(data.iloc[int(row)])\n",
    "    current_row[0] = int(current_row[0])\n",
    "    current_row[1] = int(current_row[1])\n",
    "    cursor_2.execute(insert_sql, current_row)\n",
    "\n",
    "conn.commit()"
   ]
  }
 ],
 "metadata": {
  "kernelspec": {
   "display_name": "Python 3",
   "language": "python",
   "name": "python3"
  },
  "language_info": {
   "codemirror_mode": {
    "name": "ipython",
    "version": 3
   },
   "file_extension": ".py",
   "mimetype": "text/x-python",
   "name": "python",
   "nbconvert_exporter": "python",
   "pygments_lexer": "ipython3",
   "version": "3.10.10"
  }
 },
 "nbformat": 4,
 "nbformat_minor": 2
}
